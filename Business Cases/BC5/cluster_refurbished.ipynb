{
 "cells": [
  {
   "cell_type": "code",
   "execution_count": 1,
   "metadata": {},
   "outputs": [],
   "source": [
    "import pandas as pd\n",
    "import seaborn as sns\n",
    "import matplotlib.pyplot as plt\n",
    "import statsmodels.api as statsm\n",
    "import numpy as np\n",
    "import sklearn.covariance as cov\n",
    "import scipy.stats as stats\n",
    "import sklearn.neighbors as neighb\n",
    "import sklearn.preprocessing as prep\n",
    "import matplotlib.gridspec as gspec\n",
    "from sklearn.ensemble import IsolationForest\n",
    "from sklearn.cluster import DBSCAN, KMeans, AgglomerativeClustering\n",
    "from sklearn.base import clone\n",
    "from sklearn.metrics import pairwise_distances\n",
    "from scipy.cluster.hierarchy import dendrogram\n",
    "from sklearn.manifold import TSNE\n",
    "from sklearn.tree import DecisionTreeClassifier, export_graphviz\n",
    "from sklearn.model_selection import train_test_split\n",
    "from sklearn.preprocessing import OneHotEncoder\n",
    "from sklearn.preprocessing import LabelEncoder\n",
    "import graphviz\n",
    "from yellowbrick.cluster import KElbowVisualizer\n",
    "from yellowbrick.cluster.elbow import kelbow_visualizer\n",
    "from sklearn.preprocessing import MinMaxScaler\n",
    "from math import ceil\n",
    "import plotly.express as px"
   ]
  },
  {
   "cell_type": "code",
   "execution_count": 2,
   "metadata": {},
   "outputs": [],
   "source": [
    "# Functions to be used later\n",
    "\n",
    "def get_ss(df):\n",
    "    \n",
    "    ss = np.sum(df.var() * (df.count() - 1))\n",
    "    \n",
    "    return ss\n",
    "\n",
    "def rsq(df,list_of_columns):\n",
    "\n",
    "    sst = get_ss(df[list_of_columns])\n",
    "    ssw_labels = df[list_of_columns + [\"cluster\"]].groupby(by='cluster').apply(get_ss)\n",
    "    ssb = sst - np.sum(ssw_labels)\n",
    "    r2 = ssb / sst\n",
    "\n",
    "    display('rsq is:', r2)\n",
    "\n",
    "def get_r2_hc(df, link, max_nclus, min_nclus=1, dist=\"euclidean\"):\n",
    "    \"\"\"\n",
    "    This function calculates the R2 for a set of cluster solutions given by the application of a hierarchical method.\n",
    "    The R2 is a measure of the homogenity of a cluster solution. It is based on the fact that the Sum of squares (SSt) of all the data\n",
    "    can be decomposed into the sum of SS within clusters (SSw) and SS between clusters (SSb): SSt = SSw + SSb. The R2 is the ratio between\n",
    "    SSb and SSt: R2 = SSb/SSt. The higher the R2 the better the solution since SSw will be close to 0 which indicated perfect homogeneous\n",
    "    clusters.\n",
    "    \"\"\"\n",
    "\n",
    "    def get_ss(matrix):\n",
    "        mc = matrix - matrix.mean(axis=0)\n",
    "        return (mc.T@mc).trace() #return sum of squares of matrix\n",
    "    \n",
    "    matrix = df.values\n",
    "    ncols = matrix.shape[1]\n",
    "    sst = get_ss(matrix) #get total sum of squares\n",
    "    \n",
    "    r2 = np.array([]) #where we will store the R2 metrics\n",
    "    \n",
    "    for i in range(min_nclus, max_nclus+1):\n",
    "        Hclustering = AgglomerativeClustering(n_clusters=i, affinity=dist, linkage=link)\n",
    "        hclabels = Hclustering.fit_predict(matrix) #get cluster labels\n",
    "        concat = np.concatenate((matrix, np.expand_dims(hclabels,1)), axis=1)\n",
    "        ssw = np.array([get_ss(concat[concat[:,ncols]==j, :ncols]) for j in range(i)]).sum() #calculate ssw for a given cluster solution\n",
    "        r2 = np.append(r2, (sst-ssw)/sst) #save the R2 of the given cluster solution\n",
    "        \n",
    "    return r2\n",
    "\n",
    "    \n",
    "def kelbowplots(clus_estim, data):\n",
    "    \"\"\"\n",
    "    This function produces the k-elbow plot for a given clustering estimator according to 3 different clustering quality measures: \"Distortion\", \"Silhouette\" and \"Calinski Harabasz\".\n",
    "    \"\"\"\n",
    "    sns.set()\n",
    "    fig, axes = plt.subplots(1, 3, figsize=(20,7))\n",
    "\n",
    "    # Plot the data\n",
    "    metrics = [\"distortion\", \"silhouette\", \"calinski_harabasz\"]\n",
    "    ylabels = [\"Distortion measure\", \"Silhouette measure\", \"Calinski Harabasz measure\"]\n",
    "    titles = [\"Distortion measure plot\", \"Silhouette measure plot\", \"Calinski Harabasz measure plot\"]\n",
    "    for ax, m, yl, tl in zip(axes.flatten(), metrics, ylabels, titles):\n",
    "        # KElbowVisualizer produces the elbow plot for several quality measures\n",
    "        KElbowVisualizer(clus_estim, metric=m, timings=False, locate_elbow=True, ax=ax).fit(data)\n",
    "        ax.invert_xaxis()\n",
    "        ax.set_ylabel(yl, fontsize=13)\n",
    "        ax.set_xlabel(\"Number of clusters\", fontsize=13)\n",
    "        ax.set_title(tl, fontsize=13)\n",
    "\n",
    "    # Set figure\n",
    "    plt.suptitle(\"K-Elbow Plots\", fontsize=23)\n",
    "\n",
    "    plt.show()"
   ]
  },
  {
   "cell_type": "code",
   "execution_count": 3,
   "metadata": {},
   "outputs": [],
   "source": [
    "df = pd.read_csv('final_data_for_bi_dwct.csv')"
   ]
  },
  {
   "cell_type": "code",
   "execution_count": 4,
   "metadata": {},
   "outputs": [
    {
     "data": {
      "text/html": [
       "<div>\n",
       "<style scoped>\n",
       "    .dataframe tbody tr th:only-of-type {\n",
       "        vertical-align: middle;\n",
       "    }\n",
       "\n",
       "    .dataframe tbody tr th {\n",
       "        vertical-align: top;\n",
       "    }\n",
       "\n",
       "    .dataframe thead th {\n",
       "        text-align: right;\n",
       "    }\n",
       "</style>\n",
       "<table border=\"1\" class=\"dataframe\">\n",
       "  <thead>\n",
       "    <tr style=\"text-align: right;\">\n",
       "      <th></th>\n",
       "      <th>Unnamed: 0</th>\n",
       "      <th>Quarter</th>\n",
       "      <th>POS_ID</th>\n",
       "      <th>ProductPackSKU_ID</th>\n",
       "      <th>Total_Value</th>\n",
       "      <th>Total_Units</th>\n",
       "      <th>Purchased_Units</th>\n",
       "      <th>ProductFamily_ID</th>\n",
       "      <th>ProductCategory_ID</th>\n",
       "      <th>ProductBrand_ID</th>\n",
       "      <th>ProductName_ID</th>\n",
       "    </tr>\n",
       "  </thead>\n",
       "  <tbody>\n",
       "    <tr>\n",
       "      <th>0</th>\n",
       "      <td>0</td>\n",
       "      <td>2016Q1</td>\n",
       "      <td>359</td>\n",
       "      <td>4835</td>\n",
       "      <td>379062.0</td>\n",
       "      <td>599</td>\n",
       "      <td>112</td>\n",
       "      <td>15</td>\n",
       "      <td>3</td>\n",
       "      <td>828</td>\n",
       "      <td>1581</td>\n",
       "    </tr>\n",
       "    <tr>\n",
       "      <th>1</th>\n",
       "      <td>1</td>\n",
       "      <td>2016Q1</td>\n",
       "      <td>410</td>\n",
       "      <td>754</td>\n",
       "      <td>228068.0</td>\n",
       "      <td>490</td>\n",
       "      <td>106</td>\n",
       "      <td>9</td>\n",
       "      <td>178</td>\n",
       "      <td>127</td>\n",
       "      <td>231</td>\n",
       "    </tr>\n",
       "    <tr>\n",
       "      <th>2</th>\n",
       "      <td>2</td>\n",
       "      <td>2016Q1</td>\n",
       "      <td>208</td>\n",
       "      <td>4835</td>\n",
       "      <td>217423.0</td>\n",
       "      <td>311</td>\n",
       "      <td>102</td>\n",
       "      <td>15</td>\n",
       "      <td>3</td>\n",
       "      <td>828</td>\n",
       "      <td>1581</td>\n",
       "    </tr>\n",
       "    <tr>\n",
       "      <th>3</th>\n",
       "      <td>3</td>\n",
       "      <td>2016Q1</td>\n",
       "      <td>355</td>\n",
       "      <td>4835</td>\n",
       "      <td>191877.0</td>\n",
       "      <td>283</td>\n",
       "      <td>101</td>\n",
       "      <td>15</td>\n",
       "      <td>3</td>\n",
       "      <td>828</td>\n",
       "      <td>1581</td>\n",
       "    </tr>\n",
       "    <tr>\n",
       "      <th>4</th>\n",
       "      <td>4</td>\n",
       "      <td>2016Q1</td>\n",
       "      <td>239</td>\n",
       "      <td>755</td>\n",
       "      <td>295200.0</td>\n",
       "      <td>675</td>\n",
       "      <td>100</td>\n",
       "      <td>9</td>\n",
       "      <td>178</td>\n",
       "      <td>127</td>\n",
       "      <td>231</td>\n",
       "    </tr>\n",
       "    <tr>\n",
       "      <th>...</th>\n",
       "      <td>...</td>\n",
       "      <td>...</td>\n",
       "      <td>...</td>\n",
       "      <td>...</td>\n",
       "      <td>...</td>\n",
       "      <td>...</td>\n",
       "      <td>...</td>\n",
       "      <td>...</td>\n",
       "      <td>...</td>\n",
       "      <td>...</td>\n",
       "      <td>...</td>\n",
       "    </tr>\n",
       "    <tr>\n",
       "      <th>8067680</th>\n",
       "      <td>8067680</td>\n",
       "      <td>2019Q4</td>\n",
       "      <td>311</td>\n",
       "      <td>30</td>\n",
       "      <td>19130.0</td>\n",
       "      <td>2</td>\n",
       "      <td>1</td>\n",
       "      <td>21</td>\n",
       "      <td>109</td>\n",
       "      <td>638</td>\n",
       "      <td>9</td>\n",
       "    </tr>\n",
       "    <tr>\n",
       "      <th>8067681</th>\n",
       "      <td>8067681</td>\n",
       "      <td>2019Q4</td>\n",
       "      <td>194</td>\n",
       "      <td>6795</td>\n",
       "      <td>1147.0</td>\n",
       "      <td>1</td>\n",
       "      <td>1</td>\n",
       "      <td>9</td>\n",
       "      <td>178</td>\n",
       "      <td>1179</td>\n",
       "      <td>2217</td>\n",
       "    </tr>\n",
       "    <tr>\n",
       "      <th>8067682</th>\n",
       "      <td>8067682</td>\n",
       "      <td>2019Q4</td>\n",
       "      <td>64</td>\n",
       "      <td>2471</td>\n",
       "      <td>1075.0</td>\n",
       "      <td>1</td>\n",
       "      <td>1</td>\n",
       "      <td>21</td>\n",
       "      <td>78</td>\n",
       "      <td>427</td>\n",
       "      <td>826</td>\n",
       "    </tr>\n",
       "    <tr>\n",
       "      <th>8067683</th>\n",
       "      <td>8067683</td>\n",
       "      <td>2019Q4</td>\n",
       "      <td>311</td>\n",
       "      <td>46</td>\n",
       "      <td>1655.0</td>\n",
       "      <td>1</td>\n",
       "      <td>1</td>\n",
       "      <td>21</td>\n",
       "      <td>39</td>\n",
       "      <td>4</td>\n",
       "      <td>18</td>\n",
       "    </tr>\n",
       "    <tr>\n",
       "      <th>8067684</th>\n",
       "      <td>8067684</td>\n",
       "      <td>2019Q4</td>\n",
       "      <td>194</td>\n",
       "      <td>6776</td>\n",
       "      <td>1647.0</td>\n",
       "      <td>1</td>\n",
       "      <td>1</td>\n",
       "      <td>9</td>\n",
       "      <td>178</td>\n",
       "      <td>1174</td>\n",
       "      <td>2212</td>\n",
       "    </tr>\n",
       "  </tbody>\n",
       "</table>\n",
       "<p>8067685 rows × 11 columns</p>\n",
       "</div>"
      ],
      "text/plain": [
       "         Unnamed: 0 Quarter  POS_ID  ProductPackSKU_ID  Total_Value  \\\n",
       "0                 0  2016Q1     359               4835     379062.0   \n",
       "1                 1  2016Q1     410                754     228068.0   \n",
       "2                 2  2016Q1     208               4835     217423.0   \n",
       "3                 3  2016Q1     355               4835     191877.0   \n",
       "4                 4  2016Q1     239                755     295200.0   \n",
       "...             ...     ...     ...                ...          ...   \n",
       "8067680     8067680  2019Q4     311                 30      19130.0   \n",
       "8067681     8067681  2019Q4     194               6795       1147.0   \n",
       "8067682     8067682  2019Q4      64               2471       1075.0   \n",
       "8067683     8067683  2019Q4     311                 46       1655.0   \n",
       "8067684     8067684  2019Q4     194               6776       1647.0   \n",
       "\n",
       "         Total_Units  Purchased_Units  ProductFamily_ID  ProductCategory_ID  \\\n",
       "0                599              112                15                   3   \n",
       "1                490              106                 9                 178   \n",
       "2                311              102                15                   3   \n",
       "3                283              101                15                   3   \n",
       "4                675              100                 9                 178   \n",
       "...              ...              ...               ...                 ...   \n",
       "8067680            2                1                21                 109   \n",
       "8067681            1                1                 9                 178   \n",
       "8067682            1                1                21                  78   \n",
       "8067683            1                1                21                  39   \n",
       "8067684            1                1                 9                 178   \n",
       "\n",
       "         ProductBrand_ID  ProductName_ID  \n",
       "0                    828            1581  \n",
       "1                    127             231  \n",
       "2                    828            1581  \n",
       "3                    828            1581  \n",
       "4                    127             231  \n",
       "...                  ...             ...  \n",
       "8067680              638               9  \n",
       "8067681             1179            2217  \n",
       "8067682              427             826  \n",
       "8067683                4              18  \n",
       "8067684             1174            2212  \n",
       "\n",
       "[8067685 rows x 11 columns]"
      ]
     },
     "execution_count": 4,
     "metadata": {},
     "output_type": "execute_result"
    }
   ],
   "source": [
    "df"
   ]
  },
  {
   "cell_type": "code",
   "execution_count": 5,
   "metadata": {},
   "outputs": [
    {
     "data": {
      "text/html": [
       "<div>\n",
       "<style scoped>\n",
       "    .dataframe tbody tr th:only-of-type {\n",
       "        vertical-align: middle;\n",
       "    }\n",
       "\n",
       "    .dataframe tbody tr th {\n",
       "        vertical-align: top;\n",
       "    }\n",
       "\n",
       "    .dataframe thead th {\n",
       "        text-align: right;\n",
       "    }\n",
       "</style>\n",
       "<table border=\"1\" class=\"dataframe\">\n",
       "  <thead>\n",
       "    <tr style=\"text-align: right;\">\n",
       "      <th></th>\n",
       "      <th>Total_Value</th>\n",
       "      <th>Total_Units</th>\n",
       "      <th>Purchased_Units</th>\n",
       "    </tr>\n",
       "    <tr>\n",
       "      <th>POS_ID</th>\n",
       "      <th></th>\n",
       "      <th></th>\n",
       "      <th></th>\n",
       "    </tr>\n",
       "  </thead>\n",
       "  <tbody>\n",
       "    <tr>\n",
       "      <th>1</th>\n",
       "      <td>9.786703e+08</td>\n",
       "      <td>609151</td>\n",
       "      <td>190460</td>\n",
       "    </tr>\n",
       "    <tr>\n",
       "      <th>2</th>\n",
       "      <td>6.355349e+08</td>\n",
       "      <td>390484</td>\n",
       "      <td>179902</td>\n",
       "    </tr>\n",
       "    <tr>\n",
       "      <th>3</th>\n",
       "      <td>1.048120e+09</td>\n",
       "      <td>602120</td>\n",
       "      <td>274824</td>\n",
       "    </tr>\n",
       "    <tr>\n",
       "      <th>4</th>\n",
       "      <td>1.261300e+09</td>\n",
       "      <td>797480</td>\n",
       "      <td>384828</td>\n",
       "    </tr>\n",
       "    <tr>\n",
       "      <th>5</th>\n",
       "      <td>6.681779e+08</td>\n",
       "      <td>423022</td>\n",
       "      <td>231715</td>\n",
       "    </tr>\n",
       "    <tr>\n",
       "      <th>...</th>\n",
       "      <td>...</td>\n",
       "      <td>...</td>\n",
       "      <td>...</td>\n",
       "    </tr>\n",
       "    <tr>\n",
       "      <th>406</th>\n",
       "      <td>7.867554e+08</td>\n",
       "      <td>494233</td>\n",
       "      <td>196190</td>\n",
       "    </tr>\n",
       "    <tr>\n",
       "      <th>407</th>\n",
       "      <td>1.264067e+09</td>\n",
       "      <td>784910</td>\n",
       "      <td>282026</td>\n",
       "    </tr>\n",
       "    <tr>\n",
       "      <th>408</th>\n",
       "      <td>7.078634e+08</td>\n",
       "      <td>456295</td>\n",
       "      <td>185697</td>\n",
       "    </tr>\n",
       "    <tr>\n",
       "      <th>409</th>\n",
       "      <td>7.192561e+08</td>\n",
       "      <td>445346</td>\n",
       "      <td>183822</td>\n",
       "    </tr>\n",
       "    <tr>\n",
       "      <th>410</th>\n",
       "      <td>1.362467e+09</td>\n",
       "      <td>868698</td>\n",
       "      <td>273597</td>\n",
       "    </tr>\n",
       "  </tbody>\n",
       "</table>\n",
       "<p>410 rows × 3 columns</p>\n",
       "</div>"
      ],
      "text/plain": [
       "         Total_Value  Total_Units  Purchased_Units\n",
       "POS_ID                                            \n",
       "1       9.786703e+08       609151           190460\n",
       "2       6.355349e+08       390484           179902\n",
       "3       1.048120e+09       602120           274824\n",
       "4       1.261300e+09       797480           384828\n",
       "5       6.681779e+08       423022           231715\n",
       "...              ...          ...              ...\n",
       "406     7.867554e+08       494233           196190\n",
       "407     1.264067e+09       784910           282026\n",
       "408     7.078634e+08       456295           185697\n",
       "409     7.192561e+08       445346           183822\n",
       "410     1.362467e+09       868698           273597\n",
       "\n",
       "[410 rows x 3 columns]"
      ]
     },
     "execution_count": 5,
     "metadata": {},
     "output_type": "execute_result"
    }
   ],
   "source": [
    "clus = df.groupby(['POS_ID']).agg({'Total_Value': 'sum','Total_Units':'sum','Purchased_Units':'sum'})\n",
    "clus"
   ]
  },
  {
   "cell_type": "code",
   "execution_count": 6,
   "metadata": {},
   "outputs": [
    {
     "data": {
      "text/html": [
       "<div>\n",
       "<style scoped>\n",
       "    .dataframe tbody tr th:only-of-type {\n",
       "        vertical-align: middle;\n",
       "    }\n",
       "\n",
       "    .dataframe tbody tr th {\n",
       "        vertical-align: top;\n",
       "    }\n",
       "\n",
       "    .dataframe thead th {\n",
       "        text-align: right;\n",
       "    }\n",
       "</style>\n",
       "<table border=\"1\" class=\"dataframe\">\n",
       "  <thead>\n",
       "    <tr style=\"text-align: right;\">\n",
       "      <th></th>\n",
       "      <th>Total_Value</th>\n",
       "      <th>Total_Units</th>\n",
       "      <th>Purchased_Units</th>\n",
       "    </tr>\n",
       "  </thead>\n",
       "  <tbody>\n",
       "    <tr>\n",
       "      <th>0</th>\n",
       "      <td>0.373938</td>\n",
       "      <td>0.386954</td>\n",
       "      <td>0.294253</td>\n",
       "    </tr>\n",
       "    <tr>\n",
       "      <th>1</th>\n",
       "      <td>0.219563</td>\n",
       "      <td>0.223465</td>\n",
       "      <td>0.269177</td>\n",
       "    </tr>\n",
       "    <tr>\n",
       "      <th>2</th>\n",
       "      <td>0.405183</td>\n",
       "      <td>0.381698</td>\n",
       "      <td>0.494622</td>\n",
       "    </tr>\n",
       "    <tr>\n",
       "      <th>3</th>\n",
       "      <td>0.501091</td>\n",
       "      <td>0.527761</td>\n",
       "      <td>0.755887</td>\n",
       "    </tr>\n",
       "    <tr>\n",
       "      <th>4</th>\n",
       "      <td>0.234249</td>\n",
       "      <td>0.247793</td>\n",
       "      <td>0.392235</td>\n",
       "    </tr>\n",
       "    <tr>\n",
       "      <th>...</th>\n",
       "      <td>...</td>\n",
       "      <td>...</td>\n",
       "      <td>...</td>\n",
       "    </tr>\n",
       "    <tr>\n",
       "      <th>405</th>\n",
       "      <td>0.287596</td>\n",
       "      <td>0.301035</td>\n",
       "      <td>0.307862</td>\n",
       "    </tr>\n",
       "    <tr>\n",
       "      <th>406</th>\n",
       "      <td>0.502336</td>\n",
       "      <td>0.518363</td>\n",
       "      <td>0.511727</td>\n",
       "    </tr>\n",
       "    <tr>\n",
       "      <th>407</th>\n",
       "      <td>0.252103</td>\n",
       "      <td>0.272670</td>\n",
       "      <td>0.282940</td>\n",
       "    </tr>\n",
       "    <tr>\n",
       "      <th>408</th>\n",
       "      <td>0.257229</td>\n",
       "      <td>0.264484</td>\n",
       "      <td>0.278487</td>\n",
       "    </tr>\n",
       "    <tr>\n",
       "      <th>409</th>\n",
       "      <td>0.546606</td>\n",
       "      <td>0.581008</td>\n",
       "      <td>0.491707</td>\n",
       "    </tr>\n",
       "  </tbody>\n",
       "</table>\n",
       "<p>410 rows × 3 columns</p>\n",
       "</div>"
      ],
      "text/plain": [
       "     Total_Value  Total_Units  Purchased_Units\n",
       "0       0.373938     0.386954         0.294253\n",
       "1       0.219563     0.223465         0.269177\n",
       "2       0.405183     0.381698         0.494622\n",
       "3       0.501091     0.527761         0.755887\n",
       "4       0.234249     0.247793         0.392235\n",
       "..           ...          ...              ...\n",
       "405     0.287596     0.301035         0.307862\n",
       "406     0.502336     0.518363         0.511727\n",
       "407     0.252103     0.272670         0.282940\n",
       "408     0.257229     0.264484         0.278487\n",
       "409     0.546606     0.581008         0.491707\n",
       "\n",
       "[410 rows x 3 columns]"
      ]
     },
     "execution_count": 6,
     "metadata": {},
     "output_type": "execute_result"
    }
   ],
   "source": [
    "scaler = MinMaxScaler()\n",
    "df_scaled = pd.DataFrame(scaler.fit_transform(clus),columns = clus.columns)\n",
    "df_scaled"
   ]
  },
  {
   "cell_type": "code",
   "execution_count": 7,
   "metadata": {},
   "outputs": [
    {
     "data": {
      "image/png": "[encoded data removed]",
      "text/plain": [
       "<Figure size 1440x504 with 3 Axes>"
      ]
     },
     "metadata": {},
     "output_type": "display_data"
    }
   ],
   "source": [
    "# Instantiate a scikit-learn K-Means model for taste_prof variables\n",
    "clus_estim = KMeans(random_state=1)\n",
    "# K-elbow plots\n",
    "#kelbowplots(clus_estim, df_rec_sca[vc_custo_alt+vc_taste_alt])\n",
    "kelbowplots(clus_estim, df_scaled)"
   ]
  },
  {
   "cell_type": "code",
   "execution_count": 7,
   "metadata": {},
   "outputs": [],
   "source": [
    "def kmeans_clustering(df,nclusters):\n",
    "    \n",
    "    # Clustering\n",
    "    clustering = KMeans(n_clusters=nclusters, init='k-means++', n_init=15, random_state=1)\n",
    "    clustering.fit(df)\n",
    "    df['cluster'] = clustering.labels_\n",
    "    \n",
    "    return df"
   ]
  },
  {
   "cell_type": "code",
   "execution_count": 8,
   "metadata": {},
   "outputs": [],
   "source": [
    "df_clustered_value = kmeans_clustering(df_scaled,3)"
   ]
  },
  {
   "cell_type": "code",
   "execution_count": 9,
   "metadata": {},
   "outputs": [
    {
     "data": {
      "text/html": [
       "<div>\n",
       "<style scoped>\n",
       "    .dataframe tbody tr th:only-of-type {\n",
       "        vertical-align: middle;\n",
       "    }\n",
       "\n",
       "    .dataframe tbody tr th {\n",
       "        vertical-align: top;\n",
       "    }\n",
       "\n",
       "    .dataframe thead th {\n",
       "        text-align: right;\n",
       "    }\n",
       "</style>\n",
       "<table border=\"1\" class=\"dataframe\">\n",
       "  <thead>\n",
       "    <tr style=\"text-align: right;\">\n",
       "      <th></th>\n",
       "      <th>Total_Value</th>\n",
       "      <th>Total_Units</th>\n",
       "      <th>Purchased_Units</th>\n",
       "      <th>cluster</th>\n",
       "    </tr>\n",
       "  </thead>\n",
       "  <tbody>\n",
       "    <tr>\n",
       "      <th>0</th>\n",
       "      <td>0.373938</td>\n",
       "      <td>0.386954</td>\n",
       "      <td>0.294253</td>\n",
       "      <td>0</td>\n",
       "    </tr>\n",
       "    <tr>\n",
       "      <th>1</th>\n",
       "      <td>0.219563</td>\n",
       "      <td>0.223465</td>\n",
       "      <td>0.269177</td>\n",
       "      <td>1</td>\n",
       "    </tr>\n",
       "    <tr>\n",
       "      <th>2</th>\n",
       "      <td>0.405183</td>\n",
       "      <td>0.381698</td>\n",
       "      <td>0.494622</td>\n",
       "      <td>0</td>\n",
       "    </tr>\n",
       "    <tr>\n",
       "      <th>3</th>\n",
       "      <td>0.501091</td>\n",
       "      <td>0.527761</td>\n",
       "      <td>0.755887</td>\n",
       "      <td>2</td>\n",
       "    </tr>\n",
       "    <tr>\n",
       "      <th>4</th>\n",
       "      <td>0.234249</td>\n",
       "      <td>0.247793</td>\n",
       "      <td>0.392235</td>\n",
       "      <td>0</td>\n",
       "    </tr>\n",
       "    <tr>\n",
       "      <th>...</th>\n",
       "      <td>...</td>\n",
       "      <td>...</td>\n",
       "      <td>...</td>\n",
       "      <td>...</td>\n",
       "    </tr>\n",
       "    <tr>\n",
       "      <th>405</th>\n",
       "      <td>0.287596</td>\n",
       "      <td>0.301035</td>\n",
       "      <td>0.307862</td>\n",
       "      <td>0</td>\n",
       "    </tr>\n",
       "    <tr>\n",
       "      <th>406</th>\n",
       "      <td>0.502336</td>\n",
       "      <td>0.518363</td>\n",
       "      <td>0.511727</td>\n",
       "      <td>2</td>\n",
       "    </tr>\n",
       "    <tr>\n",
       "      <th>407</th>\n",
       "      <td>0.252103</td>\n",
       "      <td>0.272670</td>\n",
       "      <td>0.282940</td>\n",
       "      <td>1</td>\n",
       "    </tr>\n",
       "    <tr>\n",
       "      <th>408</th>\n",
       "      <td>0.257229</td>\n",
       "      <td>0.264484</td>\n",
       "      <td>0.278487</td>\n",
       "      <td>1</td>\n",
       "    </tr>\n",
       "    <tr>\n",
       "      <th>409</th>\n",
       "      <td>0.546606</td>\n",
       "      <td>0.581008</td>\n",
       "      <td>0.491707</td>\n",
       "      <td>2</td>\n",
       "    </tr>\n",
       "  </tbody>\n",
       "</table>\n",
       "<p>410 rows × 4 columns</p>\n",
       "</div>"
      ],
      "text/plain": [
       "     Total_Value  Total_Units  Purchased_Units  cluster\n",
       "0       0.373938     0.386954         0.294253        0\n",
       "1       0.219563     0.223465         0.269177        1\n",
       "2       0.405183     0.381698         0.494622        0\n",
       "3       0.501091     0.527761         0.755887        2\n",
       "4       0.234249     0.247793         0.392235        0\n",
       "..           ...          ...              ...      ...\n",
       "405     0.287596     0.301035         0.307862        0\n",
       "406     0.502336     0.518363         0.511727        2\n",
       "407     0.252103     0.272670         0.282940        1\n",
       "408     0.257229     0.264484         0.278487        1\n",
       "409     0.546606     0.581008         0.491707        2\n",
       "\n",
       "[410 rows x 4 columns]"
      ]
     },
     "execution_count": 9,
     "metadata": {},
     "output_type": "execute_result"
    }
   ],
   "source": [
    "df_clustered_value"
   ]
  },
  {
   "cell_type": "code",
   "execution_count": 10,
   "metadata": {},
   "outputs": [
    {
     "data": {
      "text/html": [
       "<div>\n",
       "<style scoped>\n",
       "    .dataframe tbody tr th:only-of-type {\n",
       "        vertical-align: middle;\n",
       "    }\n",
       "\n",
       "    .dataframe tbody tr th {\n",
       "        vertical-align: top;\n",
       "    }\n",
       "\n",
       "    .dataframe thead th {\n",
       "        text-align: right;\n",
       "    }\n",
       "</style>\n",
       "<table border=\"1\" class=\"dataframe\">\n",
       "  <thead>\n",
       "    <tr style=\"text-align: right;\">\n",
       "      <th></th>\n",
       "      <th>Total_Value</th>\n",
       "      <th>Total_Units</th>\n",
       "      <th>Purchased_Units</th>\n",
       "    </tr>\n",
       "    <tr>\n",
       "      <th>cluster</th>\n",
       "      <th></th>\n",
       "      <th></th>\n",
       "      <th></th>\n",
       "    </tr>\n",
       "  </thead>\n",
       "  <tbody>\n",
       "    <tr>\n",
       "      <th>0</th>\n",
       "      <td>0.325519</td>\n",
       "      <td>0.336399</td>\n",
       "      <td>0.432593</td>\n",
       "    </tr>\n",
       "    <tr>\n",
       "      <th>1</th>\n",
       "      <td>0.157069</td>\n",
       "      <td>0.160987</td>\n",
       "      <td>0.212965</td>\n",
       "    </tr>\n",
       "    <tr>\n",
       "      <th>2</th>\n",
       "      <td>0.549779</td>\n",
       "      <td>0.564369</td>\n",
       "      <td>0.659615</td>\n",
       "    </tr>\n",
       "  </tbody>\n",
       "</table>\n",
       "</div>"
      ],
      "text/plain": [
       "         Total_Value  Total_Units  Purchased_Units\n",
       "cluster                                           \n",
       "0           0.325519     0.336399         0.432593\n",
       "1           0.157069     0.160987         0.212965\n",
       "2           0.549779     0.564369         0.659615"
      ]
     },
     "execution_count": 10,
     "metadata": {},
     "output_type": "execute_result"
    }
   ],
   "source": [
    "df_clustered_value.groupby(df_clustered_value['cluster']).mean()"
   ]
  },
  {
   "cell_type": "code",
   "execution_count": 11,
   "metadata": {},
   "outputs": [
    {
     "data": {
      "text/plain": [
       "cluster\n",
       "0    159\n",
       "1    185\n",
       "2     66\n",
       "Name: Total_Value, dtype: int64"
      ]
     },
     "execution_count": 11,
     "metadata": {},
     "output_type": "execute_result"
    }
   ],
   "source": [
    "df_clustered_value['Total_Value'].groupby(df_clustered_value['cluster']).count()"
   ]
  },
  {
   "cell_type": "code",
   "execution_count": 12,
   "metadata": {},
   "outputs": [
    {
     "data": {
      "text/html": [
       "<div>\n",
       "<style scoped>\n",
       "    .dataframe tbody tr th:only-of-type {\n",
       "        vertical-align: middle;\n",
       "    }\n",
       "\n",
       "    .dataframe tbody tr th {\n",
       "        vertical-align: top;\n",
       "    }\n",
       "\n",
       "    .dataframe thead th {\n",
       "        text-align: right;\n",
       "    }\n",
       "</style>\n",
       "<table border=\"1\" class=\"dataframe\">\n",
       "  <thead>\n",
       "    <tr style=\"text-align: right;\">\n",
       "      <th></th>\n",
       "      <th>ProductFamily_ID</th>\n",
       "      <th>POS_ID</th>\n",
       "    </tr>\n",
       "  </thead>\n",
       "  <tbody>\n",
       "    <tr>\n",
       "      <th>0</th>\n",
       "      <td>15</td>\n",
       "      <td>359</td>\n",
       "    </tr>\n",
       "    <tr>\n",
       "      <th>1</th>\n",
       "      <td>9</td>\n",
       "      <td>410</td>\n",
       "    </tr>\n",
       "    <tr>\n",
       "      <th>2</th>\n",
       "      <td>15</td>\n",
       "      <td>208</td>\n",
       "    </tr>\n",
       "    <tr>\n",
       "      <th>3</th>\n",
       "      <td>15</td>\n",
       "      <td>355</td>\n",
       "    </tr>\n",
       "    <tr>\n",
       "      <th>4</th>\n",
       "      <td>9</td>\n",
       "      <td>239</td>\n",
       "    </tr>\n",
       "  </tbody>\n",
       "</table>\n",
       "</div>"
      ],
      "text/plain": [
       "   ProductFamily_ID  POS_ID\n",
       "0                15     359\n",
       "1                 9     410\n",
       "2                15     208\n",
       "3                15     355\n",
       "4                 9     239"
      ]
     },
     "execution_count": 12,
     "metadata": {},
     "output_type": "execute_result"
    }
   ],
   "source": [
    "df_prod=df[['ProductFamily_ID','POS_ID']]\n",
    "df_prod.head()"
   ]
  },
  {
   "cell_type": "code",
   "execution_count": 13,
   "metadata": {},
   "outputs": [
    {
     "data": {
      "text/html": [
       "<div>\n",
       "<style scoped>\n",
       "    .dataframe tbody tr th:only-of-type {\n",
       "        vertical-align: middle;\n",
       "    }\n",
       "\n",
       "    .dataframe tbody tr th {\n",
       "        vertical-align: top;\n",
       "    }\n",
       "\n",
       "    .dataframe thead th {\n",
       "        text-align: right;\n",
       "    }\n",
       "</style>\n",
       "<table border=\"1\" class=\"dataframe\">\n",
       "  <thead>\n",
       "    <tr style=\"text-align: right;\">\n",
       "      <th></th>\n",
       "      <th>1</th>\n",
       "      <th>2</th>\n",
       "      <th>3</th>\n",
       "      <th>4</th>\n",
       "      <th>5</th>\n",
       "      <th>6</th>\n",
       "      <th>7</th>\n",
       "      <th>8</th>\n",
       "      <th>9</th>\n",
       "      <th>10</th>\n",
       "      <th>...</th>\n",
       "      <th>12</th>\n",
       "      <th>13</th>\n",
       "      <th>14</th>\n",
       "      <th>15</th>\n",
       "      <th>16</th>\n",
       "      <th>17</th>\n",
       "      <th>18</th>\n",
       "      <th>19</th>\n",
       "      <th>20</th>\n",
       "      <th>21</th>\n",
       "    </tr>\n",
       "  </thead>\n",
       "  <tbody>\n",
       "    <tr>\n",
       "      <th>0</th>\n",
       "      <td>0</td>\n",
       "      <td>0</td>\n",
       "      <td>0</td>\n",
       "      <td>0</td>\n",
       "      <td>0</td>\n",
       "      <td>0</td>\n",
       "      <td>0</td>\n",
       "      <td>0</td>\n",
       "      <td>0</td>\n",
       "      <td>0</td>\n",
       "      <td>...</td>\n",
       "      <td>0</td>\n",
       "      <td>0</td>\n",
       "      <td>0</td>\n",
       "      <td>1</td>\n",
       "      <td>0</td>\n",
       "      <td>0</td>\n",
       "      <td>0</td>\n",
       "      <td>0</td>\n",
       "      <td>0</td>\n",
       "      <td>0</td>\n",
       "    </tr>\n",
       "    <tr>\n",
       "      <th>1</th>\n",
       "      <td>0</td>\n",
       "      <td>0</td>\n",
       "      <td>0</td>\n",
       "      <td>0</td>\n",
       "      <td>0</td>\n",
       "      <td>0</td>\n",
       "      <td>0</td>\n",
       "      <td>0</td>\n",
       "      <td>1</td>\n",
       "      <td>0</td>\n",
       "      <td>...</td>\n",
       "      <td>0</td>\n",
       "      <td>0</td>\n",
       "      <td>0</td>\n",
       "      <td>0</td>\n",
       "      <td>0</td>\n",
       "      <td>0</td>\n",
       "      <td>0</td>\n",
       "      <td>0</td>\n",
       "      <td>0</td>\n",
       "      <td>0</td>\n",
       "    </tr>\n",
       "    <tr>\n",
       "      <th>2</th>\n",
       "      <td>0</td>\n",
       "      <td>0</td>\n",
       "      <td>0</td>\n",
       "      <td>0</td>\n",
       "      <td>0</td>\n",
       "      <td>0</td>\n",
       "      <td>0</td>\n",
       "      <td>0</td>\n",
       "      <td>0</td>\n",
       "      <td>0</td>\n",
       "      <td>...</td>\n",
       "      <td>0</td>\n",
       "      <td>0</td>\n",
       "      <td>0</td>\n",
       "      <td>1</td>\n",
       "      <td>0</td>\n",
       "      <td>0</td>\n",
       "      <td>0</td>\n",
       "      <td>0</td>\n",
       "      <td>0</td>\n",
       "      <td>0</td>\n",
       "    </tr>\n",
       "    <tr>\n",
       "      <th>3</th>\n",
       "      <td>0</td>\n",
       "      <td>0</td>\n",
       "      <td>0</td>\n",
       "      <td>0</td>\n",
       "      <td>0</td>\n",
       "      <td>0</td>\n",
       "      <td>0</td>\n",
       "      <td>0</td>\n",
       "      <td>0</td>\n",
       "      <td>0</td>\n",
       "      <td>...</td>\n",
       "      <td>0</td>\n",
       "      <td>0</td>\n",
       "      <td>0</td>\n",
       "      <td>1</td>\n",
       "      <td>0</td>\n",
       "      <td>0</td>\n",
       "      <td>0</td>\n",
       "      <td>0</td>\n",
       "      <td>0</td>\n",
       "      <td>0</td>\n",
       "    </tr>\n",
       "    <tr>\n",
       "      <th>4</th>\n",
       "      <td>0</td>\n",
       "      <td>0</td>\n",
       "      <td>0</td>\n",
       "      <td>0</td>\n",
       "      <td>0</td>\n",
       "      <td>0</td>\n",
       "      <td>0</td>\n",
       "      <td>0</td>\n",
       "      <td>1</td>\n",
       "      <td>0</td>\n",
       "      <td>...</td>\n",
       "      <td>0</td>\n",
       "      <td>0</td>\n",
       "      <td>0</td>\n",
       "      <td>0</td>\n",
       "      <td>0</td>\n",
       "      <td>0</td>\n",
       "      <td>0</td>\n",
       "      <td>0</td>\n",
       "      <td>0</td>\n",
       "      <td>0</td>\n",
       "    </tr>\n",
       "    <tr>\n",
       "      <th>...</th>\n",
       "      <td>...</td>\n",
       "      <td>...</td>\n",
       "      <td>...</td>\n",
       "      <td>...</td>\n",
       "      <td>...</td>\n",
       "      <td>...</td>\n",
       "      <td>...</td>\n",
       "      <td>...</td>\n",
       "      <td>...</td>\n",
       "      <td>...</td>\n",
       "      <td>...</td>\n",
       "      <td>...</td>\n",
       "      <td>...</td>\n",
       "      <td>...</td>\n",
       "      <td>...</td>\n",
       "      <td>...</td>\n",
       "      <td>...</td>\n",
       "      <td>...</td>\n",
       "      <td>...</td>\n",
       "      <td>...</td>\n",
       "      <td>...</td>\n",
       "    </tr>\n",
       "    <tr>\n",
       "      <th>8067680</th>\n",
       "      <td>0</td>\n",
       "      <td>0</td>\n",
       "      <td>0</td>\n",
       "      <td>0</td>\n",
       "      <td>0</td>\n",
       "      <td>0</td>\n",
       "      <td>0</td>\n",
       "      <td>0</td>\n",
       "      <td>0</td>\n",
       "      <td>0</td>\n",
       "      <td>...</td>\n",
       "      <td>0</td>\n",
       "      <td>0</td>\n",
       "      <td>0</td>\n",
       "      <td>0</td>\n",
       "      <td>0</td>\n",
       "      <td>0</td>\n",
       "      <td>0</td>\n",
       "      <td>0</td>\n",
       "      <td>0</td>\n",
       "      <td>1</td>\n",
       "    </tr>\n",
       "    <tr>\n",
       "      <th>8067681</th>\n",
       "      <td>0</td>\n",
       "      <td>0</td>\n",
       "      <td>0</td>\n",
       "      <td>0</td>\n",
       "      <td>0</td>\n",
       "      <td>0</td>\n",
       "      <td>0</td>\n",
       "      <td>0</td>\n",
       "      <td>1</td>\n",
       "      <td>0</td>\n",
       "      <td>...</td>\n",
       "      <td>0</td>\n",
       "      <td>0</td>\n",
       "      <td>0</td>\n",
       "      <td>0</td>\n",
       "      <td>0</td>\n",
       "      <td>0</td>\n",
       "      <td>0</td>\n",
       "      <td>0</td>\n",
       "      <td>0</td>\n",
       "      <td>0</td>\n",
       "    </tr>\n",
       "    <tr>\n",
       "      <th>8067682</th>\n",
       "      <td>0</td>\n",
       "      <td>0</td>\n",
       "      <td>0</td>\n",
       "      <td>0</td>\n",
       "      <td>0</td>\n",
       "      <td>0</td>\n",
       "      <td>0</td>\n",
       "      <td>0</td>\n",
       "      <td>0</td>\n",
       "      <td>0</td>\n",
       "      <td>...</td>\n",
       "      <td>0</td>\n",
       "      <td>0</td>\n",
       "      <td>0</td>\n",
       "      <td>0</td>\n",
       "      <td>0</td>\n",
       "      <td>0</td>\n",
       "      <td>0</td>\n",
       "      <td>0</td>\n",
       "      <td>0</td>\n",
       "      <td>1</td>\n",
       "    </tr>\n",
       "    <tr>\n",
       "      <th>8067683</th>\n",
       "      <td>0</td>\n",
       "      <td>0</td>\n",
       "      <td>0</td>\n",
       "      <td>0</td>\n",
       "      <td>0</td>\n",
       "      <td>0</td>\n",
       "      <td>0</td>\n",
       "      <td>0</td>\n",
       "      <td>0</td>\n",
       "      <td>0</td>\n",
       "      <td>...</td>\n",
       "      <td>0</td>\n",
       "      <td>0</td>\n",
       "      <td>0</td>\n",
       "      <td>0</td>\n",
       "      <td>0</td>\n",
       "      <td>0</td>\n",
       "      <td>0</td>\n",
       "      <td>0</td>\n",
       "      <td>0</td>\n",
       "      <td>1</td>\n",
       "    </tr>\n",
       "    <tr>\n",
       "      <th>8067684</th>\n",
       "      <td>0</td>\n",
       "      <td>0</td>\n",
       "      <td>0</td>\n",
       "      <td>0</td>\n",
       "      <td>0</td>\n",
       "      <td>0</td>\n",
       "      <td>0</td>\n",
       "      <td>0</td>\n",
       "      <td>1</td>\n",
       "      <td>0</td>\n",
       "      <td>...</td>\n",
       "      <td>0</td>\n",
       "      <td>0</td>\n",
       "      <td>0</td>\n",
       "      <td>0</td>\n",
       "      <td>0</td>\n",
       "      <td>0</td>\n",
       "      <td>0</td>\n",
       "      <td>0</td>\n",
       "      <td>0</td>\n",
       "      <td>0</td>\n",
       "    </tr>\n",
       "  </tbody>\n",
       "</table>\n",
       "<p>8067685 rows × 21 columns</p>\n",
       "</div>"
      ],
      "text/plain": [
       "         1   2   3   4   5   6   7   8   9   10  ...  12  13  14  15  16  17  \\\n",
       "0         0   0   0   0   0   0   0   0   0   0  ...   0   0   0   1   0   0   \n",
       "1         0   0   0   0   0   0   0   0   1   0  ...   0   0   0   0   0   0   \n",
       "2         0   0   0   0   0   0   0   0   0   0  ...   0   0   0   1   0   0   \n",
       "3         0   0   0   0   0   0   0   0   0   0  ...   0   0   0   1   0   0   \n",
       "4         0   0   0   0   0   0   0   0   1   0  ...   0   0   0   0   0   0   \n",
       "...      ..  ..  ..  ..  ..  ..  ..  ..  ..  ..  ...  ..  ..  ..  ..  ..  ..   \n",
       "8067680   0   0   0   0   0   0   0   0   0   0  ...   0   0   0   0   0   0   \n",
       "8067681   0   0   0   0   0   0   0   0   1   0  ...   0   0   0   0   0   0   \n",
       "8067682   0   0   0   0   0   0   0   0   0   0  ...   0   0   0   0   0   0   \n",
       "8067683   0   0   0   0   0   0   0   0   0   0  ...   0   0   0   0   0   0   \n",
       "8067684   0   0   0   0   0   0   0   0   1   0  ...   0   0   0   0   0   0   \n",
       "\n",
       "         18  19  20  21  \n",
       "0         0   0   0   0  \n",
       "1         0   0   0   0  \n",
       "2         0   0   0   0  \n",
       "3         0   0   0   0  \n",
       "4         0   0   0   0  \n",
       "...      ..  ..  ..  ..  \n",
       "8067680   0   0   0   1  \n",
       "8067681   0   0   0   0  \n",
       "8067682   0   0   0   1  \n",
       "8067683   0   0   0   1  \n",
       "8067684   0   0   0   0  \n",
       "\n",
       "[8067685 rows x 21 columns]"
      ]
     },
     "execution_count": 13,
     "metadata": {},
     "output_type": "execute_result"
    }
   ],
   "source": [
    "# Turn my column into a dummy value\n",
    "dummy2 = pd.get_dummies(df_prod['ProductFamily_ID'])\n",
    "# Take a look\n",
    "dummy2"
   ]
  },
  {
   "cell_type": "code",
   "execution_count": 14,
   "metadata": {},
   "outputs": [],
   "source": [
    "df_prod= pd.concat ([dummy2,df_prod['POS_ID']],axis=1)"
   ]
  },
  {
   "cell_type": "code",
   "execution_count": 15,
   "metadata": {},
   "outputs": [
    {
     "data": {
      "text/html": [
       "<div>\n",
       "<style scoped>\n",
       "    .dataframe tbody tr th:only-of-type {\n",
       "        vertical-align: middle;\n",
       "    }\n",
       "\n",
       "    .dataframe tbody tr th {\n",
       "        vertical-align: top;\n",
       "    }\n",
       "\n",
       "    .dataframe thead th {\n",
       "        text-align: right;\n",
       "    }\n",
       "</style>\n",
       "<table border=\"1\" class=\"dataframe\">\n",
       "  <thead>\n",
       "    <tr style=\"text-align: right;\">\n",
       "      <th></th>\n",
       "      <th>1</th>\n",
       "      <th>2</th>\n",
       "      <th>3</th>\n",
       "      <th>4</th>\n",
       "      <th>5</th>\n",
       "      <th>6</th>\n",
       "      <th>7</th>\n",
       "      <th>8</th>\n",
       "      <th>9</th>\n",
       "      <th>10</th>\n",
       "      <th>...</th>\n",
       "      <th>13</th>\n",
       "      <th>14</th>\n",
       "      <th>15</th>\n",
       "      <th>16</th>\n",
       "      <th>17</th>\n",
       "      <th>18</th>\n",
       "      <th>19</th>\n",
       "      <th>20</th>\n",
       "      <th>21</th>\n",
       "      <th>POS_ID</th>\n",
       "    </tr>\n",
       "  </thead>\n",
       "  <tbody>\n",
       "    <tr>\n",
       "      <th>0</th>\n",
       "      <td>0</td>\n",
       "      <td>0</td>\n",
       "      <td>0</td>\n",
       "      <td>0</td>\n",
       "      <td>0</td>\n",
       "      <td>0</td>\n",
       "      <td>0</td>\n",
       "      <td>0</td>\n",
       "      <td>0</td>\n",
       "      <td>0</td>\n",
       "      <td>...</td>\n",
       "      <td>0</td>\n",
       "      <td>0</td>\n",
       "      <td>1</td>\n",
       "      <td>0</td>\n",
       "      <td>0</td>\n",
       "      <td>0</td>\n",
       "      <td>0</td>\n",
       "      <td>0</td>\n",
       "      <td>0</td>\n",
       "      <td>359</td>\n",
       "    </tr>\n",
       "    <tr>\n",
       "      <th>1</th>\n",
       "      <td>0</td>\n",
       "      <td>0</td>\n",
       "      <td>0</td>\n",
       "      <td>0</td>\n",
       "      <td>0</td>\n",
       "      <td>0</td>\n",
       "      <td>0</td>\n",
       "      <td>0</td>\n",
       "      <td>1</td>\n",
       "      <td>0</td>\n",
       "      <td>...</td>\n",
       "      <td>0</td>\n",
       "      <td>0</td>\n",
       "      <td>0</td>\n",
       "      <td>0</td>\n",
       "      <td>0</td>\n",
       "      <td>0</td>\n",
       "      <td>0</td>\n",
       "      <td>0</td>\n",
       "      <td>0</td>\n",
       "      <td>410</td>\n",
       "    </tr>\n",
       "    <tr>\n",
       "      <th>2</th>\n",
       "      <td>0</td>\n",
       "      <td>0</td>\n",
       "      <td>0</td>\n",
       "      <td>0</td>\n",
       "      <td>0</td>\n",
       "      <td>0</td>\n",
       "      <td>0</td>\n",
       "      <td>0</td>\n",
       "      <td>0</td>\n",
       "      <td>0</td>\n",
       "      <td>...</td>\n",
       "      <td>0</td>\n",
       "      <td>0</td>\n",
       "      <td>1</td>\n",
       "      <td>0</td>\n",
       "      <td>0</td>\n",
       "      <td>0</td>\n",
       "      <td>0</td>\n",
       "      <td>0</td>\n",
       "      <td>0</td>\n",
       "      <td>208</td>\n",
       "    </tr>\n",
       "    <tr>\n",
       "      <th>3</th>\n",
       "      <td>0</td>\n",
       "      <td>0</td>\n",
       "      <td>0</td>\n",
       "      <td>0</td>\n",
       "      <td>0</td>\n",
       "      <td>0</td>\n",
       "      <td>0</td>\n",
       "      <td>0</td>\n",
       "      <td>0</td>\n",
       "      <td>0</td>\n",
       "      <td>...</td>\n",
       "      <td>0</td>\n",
       "      <td>0</td>\n",
       "      <td>1</td>\n",
       "      <td>0</td>\n",
       "      <td>0</td>\n",
       "      <td>0</td>\n",
       "      <td>0</td>\n",
       "      <td>0</td>\n",
       "      <td>0</td>\n",
       "      <td>355</td>\n",
       "    </tr>\n",
       "    <tr>\n",
       "      <th>4</th>\n",
       "      <td>0</td>\n",
       "      <td>0</td>\n",
       "      <td>0</td>\n",
       "      <td>0</td>\n",
       "      <td>0</td>\n",
       "      <td>0</td>\n",
       "      <td>0</td>\n",
       "      <td>0</td>\n",
       "      <td>1</td>\n",
       "      <td>0</td>\n",
       "      <td>...</td>\n",
       "      <td>0</td>\n",
       "      <td>0</td>\n",
       "      <td>0</td>\n",
       "      <td>0</td>\n",
       "      <td>0</td>\n",
       "      <td>0</td>\n",
       "      <td>0</td>\n",
       "      <td>0</td>\n",
       "      <td>0</td>\n",
       "      <td>239</td>\n",
       "    </tr>\n",
       "    <tr>\n",
       "      <th>...</th>\n",
       "      <td>...</td>\n",
       "      <td>...</td>\n",
       "      <td>...</td>\n",
       "      <td>...</td>\n",
       "      <td>...</td>\n",
       "      <td>...</td>\n",
       "      <td>...</td>\n",
       "      <td>...</td>\n",
       "      <td>...</td>\n",
       "      <td>...</td>\n",
       "      <td>...</td>\n",
       "      <td>...</td>\n",
       "      <td>...</td>\n",
       "      <td>...</td>\n",
       "      <td>...</td>\n",
       "      <td>...</td>\n",
       "      <td>...</td>\n",
       "      <td>...</td>\n",
       "      <td>...</td>\n",
       "      <td>...</td>\n",
       "      <td>...</td>\n",
       "    </tr>\n",
       "    <tr>\n",
       "      <th>8067680</th>\n",
       "      <td>0</td>\n",
       "      <td>0</td>\n",
       "      <td>0</td>\n",
       "      <td>0</td>\n",
       "      <td>0</td>\n",
       "      <td>0</td>\n",
       "      <td>0</td>\n",
       "      <td>0</td>\n",
       "      <td>0</td>\n",
       "      <td>0</td>\n",
       "      <td>...</td>\n",
       "      <td>0</td>\n",
       "      <td>0</td>\n",
       "      <td>0</td>\n",
       "      <td>0</td>\n",
       "      <td>0</td>\n",
       "      <td>0</td>\n",
       "      <td>0</td>\n",
       "      <td>0</td>\n",
       "      <td>1</td>\n",
       "      <td>311</td>\n",
       "    </tr>\n",
       "    <tr>\n",
       "      <th>8067681</th>\n",
       "      <td>0</td>\n",
       "      <td>0</td>\n",
       "      <td>0</td>\n",
       "      <td>0</td>\n",
       "      <td>0</td>\n",
       "      <td>0</td>\n",
       "      <td>0</td>\n",
       "      <td>0</td>\n",
       "      <td>1</td>\n",
       "      <td>0</td>\n",
       "      <td>...</td>\n",
       "      <td>0</td>\n",
       "      <td>0</td>\n",
       "      <td>0</td>\n",
       "      <td>0</td>\n",
       "      <td>0</td>\n",
       "      <td>0</td>\n",
       "      <td>0</td>\n",
       "      <td>0</td>\n",
       "      <td>0</td>\n",
       "      <td>194</td>\n",
       "    </tr>\n",
       "    <tr>\n",
       "      <th>8067682</th>\n",
       "      <td>0</td>\n",
       "      <td>0</td>\n",
       "      <td>0</td>\n",
       "      <td>0</td>\n",
       "      <td>0</td>\n",
       "      <td>0</td>\n",
       "      <td>0</td>\n",
       "      <td>0</td>\n",
       "      <td>0</td>\n",
       "      <td>0</td>\n",
       "      <td>...</td>\n",
       "      <td>0</td>\n",
       "      <td>0</td>\n",
       "      <td>0</td>\n",
       "      <td>0</td>\n",
       "      <td>0</td>\n",
       "      <td>0</td>\n",
       "      <td>0</td>\n",
       "      <td>0</td>\n",
       "      <td>1</td>\n",
       "      <td>64</td>\n",
       "    </tr>\n",
       "    <tr>\n",
       "      <th>8067683</th>\n",
       "      <td>0</td>\n",
       "      <td>0</td>\n",
       "      <td>0</td>\n",
       "      <td>0</td>\n",
       "      <td>0</td>\n",
       "      <td>0</td>\n",
       "      <td>0</td>\n",
       "      <td>0</td>\n",
       "      <td>0</td>\n",
       "      <td>0</td>\n",
       "      <td>...</td>\n",
       "      <td>0</td>\n",
       "      <td>0</td>\n",
       "      <td>0</td>\n",
       "      <td>0</td>\n",
       "      <td>0</td>\n",
       "      <td>0</td>\n",
       "      <td>0</td>\n",
       "      <td>0</td>\n",
       "      <td>1</td>\n",
       "      <td>311</td>\n",
       "    </tr>\n",
       "    <tr>\n",
       "      <th>8067684</th>\n",
       "      <td>0</td>\n",
       "      <td>0</td>\n",
       "      <td>0</td>\n",
       "      <td>0</td>\n",
       "      <td>0</td>\n",
       "      <td>0</td>\n",
       "      <td>0</td>\n",
       "      <td>0</td>\n",
       "      <td>1</td>\n",
       "      <td>0</td>\n",
       "      <td>...</td>\n",
       "      <td>0</td>\n",
       "      <td>0</td>\n",
       "      <td>0</td>\n",
       "      <td>0</td>\n",
       "      <td>0</td>\n",
       "      <td>0</td>\n",
       "      <td>0</td>\n",
       "      <td>0</td>\n",
       "      <td>0</td>\n",
       "      <td>194</td>\n",
       "    </tr>\n",
       "  </tbody>\n",
       "</table>\n",
       "<p>8067685 rows × 22 columns</p>\n",
       "</div>"
      ],
      "text/plain": [
       "         1  2  3  4  5  6  7  8  9  10  ...  13  14  15  16  17  18  19  20  \\\n",
       "0        0  0  0  0  0  0  0  0  0   0  ...   0   0   1   0   0   0   0   0   \n",
       "1        0  0  0  0  0  0  0  0  1   0  ...   0   0   0   0   0   0   0   0   \n",
       "2        0  0  0  0  0  0  0  0  0   0  ...   0   0   1   0   0   0   0   0   \n",
       "3        0  0  0  0  0  0  0  0  0   0  ...   0   0   1   0   0   0   0   0   \n",
       "4        0  0  0  0  0  0  0  0  1   0  ...   0   0   0   0   0   0   0   0   \n",
       "...     .. .. .. .. .. .. .. .. ..  ..  ...  ..  ..  ..  ..  ..  ..  ..  ..   \n",
       "8067680  0  0  0  0  0  0  0  0  0   0  ...   0   0   0   0   0   0   0   0   \n",
       "8067681  0  0  0  0  0  0  0  0  1   0  ...   0   0   0   0   0   0   0   0   \n",
       "8067682  0  0  0  0  0  0  0  0  0   0  ...   0   0   0   0   0   0   0   0   \n",
       "8067683  0  0  0  0  0  0  0  0  0   0  ...   0   0   0   0   0   0   0   0   \n",
       "8067684  0  0  0  0  0  0  0  0  1   0  ...   0   0   0   0   0   0   0   0   \n",
       "\n",
       "         21  POS_ID  \n",
       "0         0     359  \n",
       "1         0     410  \n",
       "2         0     208  \n",
       "3         0     355  \n",
       "4         0     239  \n",
       "...      ..     ...  \n",
       "8067680   1     311  \n",
       "8067681   0     194  \n",
       "8067682   1      64  \n",
       "8067683   1     311  \n",
       "8067684   0     194  \n",
       "\n",
       "[8067685 rows x 22 columns]"
      ]
     },
     "execution_count": 15,
     "metadata": {},
     "output_type": "execute_result"
    }
   ],
   "source": [
    "df_prod"
   ]
  },
  {
   "cell_type": "code",
   "execution_count": 16,
   "metadata": {},
   "outputs": [
    {
     "data": {
      "text/html": [
       "<div>\n",
       "<style scoped>\n",
       "    .dataframe tbody tr th:only-of-type {\n",
       "        vertical-align: middle;\n",
       "    }\n",
       "\n",
       "    .dataframe tbody tr th {\n",
       "        vertical-align: top;\n",
       "    }\n",
       "\n",
       "    .dataframe thead th {\n",
       "        text-align: right;\n",
       "    }\n",
       "</style>\n",
       "<table border=\"1\" class=\"dataframe\">\n",
       "  <thead>\n",
       "    <tr style=\"text-align: right;\">\n",
       "      <th></th>\n",
       "      <th>1</th>\n",
       "      <th>2</th>\n",
       "      <th>3</th>\n",
       "      <th>4</th>\n",
       "      <th>5</th>\n",
       "      <th>6</th>\n",
       "      <th>7</th>\n",
       "      <th>8</th>\n",
       "      <th>9</th>\n",
       "      <th>10</th>\n",
       "      <th>...</th>\n",
       "      <th>12</th>\n",
       "      <th>13</th>\n",
       "      <th>14</th>\n",
       "      <th>15</th>\n",
       "      <th>16</th>\n",
       "      <th>17</th>\n",
       "      <th>18</th>\n",
       "      <th>19</th>\n",
       "      <th>20</th>\n",
       "      <th>21</th>\n",
       "    </tr>\n",
       "    <tr>\n",
       "      <th>POS_ID</th>\n",
       "      <th></th>\n",
       "      <th></th>\n",
       "      <th></th>\n",
       "      <th></th>\n",
       "      <th></th>\n",
       "      <th></th>\n",
       "      <th></th>\n",
       "      <th></th>\n",
       "      <th></th>\n",
       "      <th></th>\n",
       "      <th></th>\n",
       "      <th></th>\n",
       "      <th></th>\n",
       "      <th></th>\n",
       "      <th></th>\n",
       "      <th></th>\n",
       "      <th></th>\n",
       "      <th></th>\n",
       "      <th></th>\n",
       "      <th></th>\n",
       "      <th></th>\n",
       "    </tr>\n",
       "  </thead>\n",
       "  <tbody>\n",
       "    <tr>\n",
       "      <th>1</th>\n",
       "      <td>0.153262</td>\n",
       "      <td>0.025060</td>\n",
       "      <td>0.004856</td>\n",
       "      <td>0.001005</td>\n",
       "      <td>0.002121</td>\n",
       "      <td>0.011944</td>\n",
       "      <td>0.002679</td>\n",
       "      <td>0.007088</td>\n",
       "      <td>0.164369</td>\n",
       "      <td>0.007200</td>\n",
       "      <td>...</td>\n",
       "      <td>0.212089</td>\n",
       "      <td>0.002679</td>\n",
       "      <td>0.006418</td>\n",
       "      <td>0.043813</td>\n",
       "      <td>0.010214</td>\n",
       "      <td>0.000837</td>\n",
       "      <td>0.017135</td>\n",
       "      <td>0.000447</td>\n",
       "      <td>0.001060</td>\n",
       "      <td>0.323827</td>\n",
       "    </tr>\n",
       "    <tr>\n",
       "      <th>2</th>\n",
       "      <td>0.163561</td>\n",
       "      <td>0.028771</td>\n",
       "      <td>0.005513</td>\n",
       "      <td>0.001141</td>\n",
       "      <td>0.002091</td>\n",
       "      <td>0.011597</td>\n",
       "      <td>0.002155</td>\n",
       "      <td>0.007541</td>\n",
       "      <td>0.190558</td>\n",
       "      <td>0.008302</td>\n",
       "      <td>...</td>\n",
       "      <td>0.247402</td>\n",
       "      <td>0.002788</td>\n",
       "      <td>0.007161</td>\n",
       "      <td>0.047719</td>\n",
       "      <td>0.011090</td>\n",
       "      <td>0.000760</td>\n",
       "      <td>0.019645</td>\n",
       "      <td>0.000507</td>\n",
       "      <td>0.001204</td>\n",
       "      <td>0.237896</td>\n",
       "    </tr>\n",
       "    <tr>\n",
       "      <th>3</th>\n",
       "      <td>0.154999</td>\n",
       "      <td>0.023801</td>\n",
       "      <td>0.004336</td>\n",
       "      <td>0.001638</td>\n",
       "      <td>0.001686</td>\n",
       "      <td>0.011419</td>\n",
       "      <td>0.002602</td>\n",
       "      <td>0.006649</td>\n",
       "      <td>0.171525</td>\n",
       "      <td>0.006119</td>\n",
       "      <td>...</td>\n",
       "      <td>0.212238</td>\n",
       "      <td>0.002072</td>\n",
       "      <td>0.005974</td>\n",
       "      <td>0.043845</td>\n",
       "      <td>0.010118</td>\n",
       "      <td>0.001060</td>\n",
       "      <td>0.015707</td>\n",
       "      <td>0.000385</td>\n",
       "      <td>0.000723</td>\n",
       "      <td>0.320694</td>\n",
       "    </tr>\n",
       "    <tr>\n",
       "      <th>4</th>\n",
       "      <td>0.139153</td>\n",
       "      <td>0.018454</td>\n",
       "      <td>0.003399</td>\n",
       "      <td>0.000672</td>\n",
       "      <td>0.001606</td>\n",
       "      <td>0.011170</td>\n",
       "      <td>0.001905</td>\n",
       "      <td>0.005529</td>\n",
       "      <td>0.142590</td>\n",
       "      <td>0.005155</td>\n",
       "      <td>...</td>\n",
       "      <td>0.188277</td>\n",
       "      <td>0.001793</td>\n",
       "      <td>0.004856</td>\n",
       "      <td>0.031230</td>\n",
       "      <td>0.007471</td>\n",
       "      <td>0.001083</td>\n",
       "      <td>0.012776</td>\n",
       "      <td>0.000336</td>\n",
       "      <td>0.001121</td>\n",
       "      <td>0.419552</td>\n",
       "    </tr>\n",
       "    <tr>\n",
       "      <th>5</th>\n",
       "      <td>0.159962</td>\n",
       "      <td>0.026084</td>\n",
       "      <td>0.005081</td>\n",
       "      <td>0.000838</td>\n",
       "      <td>0.002357</td>\n",
       "      <td>0.012675</td>\n",
       "      <td>0.002567</td>\n",
       "      <td>0.007019</td>\n",
       "      <td>0.183794</td>\n",
       "      <td>0.006966</td>\n",
       "      <td>...</td>\n",
       "      <td>0.231196</td>\n",
       "      <td>0.002462</td>\n",
       "      <td>0.006233</td>\n",
       "      <td>0.044417</td>\n",
       "      <td>0.010842</td>\n",
       "      <td>0.001100</td>\n",
       "      <td>0.016394</td>\n",
       "      <td>0.000419</td>\n",
       "      <td>0.001205</td>\n",
       "      <td>0.275875</td>\n",
       "    </tr>\n",
       "    <tr>\n",
       "      <th>...</th>\n",
       "      <td>...</td>\n",
       "      <td>...</td>\n",
       "      <td>...</td>\n",
       "      <td>...</td>\n",
       "      <td>...</td>\n",
       "      <td>...</td>\n",
       "      <td>...</td>\n",
       "      <td>...</td>\n",
       "      <td>...</td>\n",
       "      <td>...</td>\n",
       "      <td>...</td>\n",
       "      <td>...</td>\n",
       "      <td>...</td>\n",
       "      <td>...</td>\n",
       "      <td>...</td>\n",
       "      <td>...</td>\n",
       "      <td>...</td>\n",
       "      <td>...</td>\n",
       "      <td>...</td>\n",
       "      <td>...</td>\n",
       "      <td>...</td>\n",
       "    </tr>\n",
       "    <tr>\n",
       "      <th>406</th>\n",
       "      <td>0.122111</td>\n",
       "      <td>0.033610</td>\n",
       "      <td>0.005707</td>\n",
       "      <td>0.001339</td>\n",
       "      <td>0.002325</td>\n",
       "      <td>0.011979</td>\n",
       "      <td>0.003171</td>\n",
       "      <td>0.007328</td>\n",
       "      <td>0.145434</td>\n",
       "      <td>0.007046</td>\n",
       "      <td>...</td>\n",
       "      <td>0.187218</td>\n",
       "      <td>0.003100</td>\n",
       "      <td>0.007751</td>\n",
       "      <td>0.052072</td>\n",
       "      <td>0.013388</td>\n",
       "      <td>0.001762</td>\n",
       "      <td>0.020786</td>\n",
       "      <td>0.000493</td>\n",
       "      <td>0.001973</td>\n",
       "      <td>0.367742</td>\n",
       "    </tr>\n",
       "    <tr>\n",
       "      <th>407</th>\n",
       "      <td>0.122799</td>\n",
       "      <td>0.026160</td>\n",
       "      <td>0.004746</td>\n",
       "      <td>0.001269</td>\n",
       "      <td>0.001821</td>\n",
       "      <td>0.009382</td>\n",
       "      <td>0.002649</td>\n",
       "      <td>0.005685</td>\n",
       "      <td>0.136873</td>\n",
       "      <td>0.006181</td>\n",
       "      <td>...</td>\n",
       "      <td>0.185993</td>\n",
       "      <td>0.002649</td>\n",
       "      <td>0.006623</td>\n",
       "      <td>0.041172</td>\n",
       "      <td>0.010597</td>\n",
       "      <td>0.001435</td>\n",
       "      <td>0.017495</td>\n",
       "      <td>0.000442</td>\n",
       "      <td>0.001490</td>\n",
       "      <td>0.411667</td>\n",
       "    </tr>\n",
       "    <tr>\n",
       "      <th>408</th>\n",
       "      <td>0.138067</td>\n",
       "      <td>0.033016</td>\n",
       "      <td>0.005857</td>\n",
       "      <td>0.001757</td>\n",
       "      <td>0.002343</td>\n",
       "      <td>0.009297</td>\n",
       "      <td>0.003367</td>\n",
       "      <td>0.007101</td>\n",
       "      <td>0.142753</td>\n",
       "      <td>0.008565</td>\n",
       "      <td>...</td>\n",
       "      <td>0.205344</td>\n",
       "      <td>0.003221</td>\n",
       "      <td>0.008638</td>\n",
       "      <td>0.051391</td>\n",
       "      <td>0.013104</td>\n",
       "      <td>0.001611</td>\n",
       "      <td>0.020278</td>\n",
       "      <td>0.001098</td>\n",
       "      <td>0.001318</td>\n",
       "      <td>0.338433</td>\n",
       "    </tr>\n",
       "    <tr>\n",
       "      <th>409</th>\n",
       "      <td>0.135775</td>\n",
       "      <td>0.031848</td>\n",
       "      <td>0.006546</td>\n",
       "      <td>0.001397</td>\n",
       "      <td>0.002354</td>\n",
       "      <td>0.009415</td>\n",
       "      <td>0.003383</td>\n",
       "      <td>0.006914</td>\n",
       "      <td>0.147985</td>\n",
       "      <td>0.008385</td>\n",
       "      <td>...</td>\n",
       "      <td>0.201824</td>\n",
       "      <td>0.003530</td>\n",
       "      <td>0.008605</td>\n",
       "      <td>0.048617</td>\n",
       "      <td>0.013754</td>\n",
       "      <td>0.001030</td>\n",
       "      <td>0.019712</td>\n",
       "      <td>0.007649</td>\n",
       "      <td>0.001471</td>\n",
       "      <td>0.336496</td>\n",
       "    </tr>\n",
       "    <tr>\n",
       "      <th>410</th>\n",
       "      <td>0.122309</td>\n",
       "      <td>0.023669</td>\n",
       "      <td>0.004605</td>\n",
       "      <td>0.001178</td>\n",
       "      <td>0.001714</td>\n",
       "      <td>0.008675</td>\n",
       "      <td>0.002624</td>\n",
       "      <td>0.005409</td>\n",
       "      <td>0.125308</td>\n",
       "      <td>0.005944</td>\n",
       "      <td>...</td>\n",
       "      <td>0.175217</td>\n",
       "      <td>0.002570</td>\n",
       "      <td>0.006212</td>\n",
       "      <td>0.036414</td>\n",
       "      <td>0.008675</td>\n",
       "      <td>0.001125</td>\n",
       "      <td>0.016601</td>\n",
       "      <td>0.000428</td>\n",
       "      <td>0.001660</td>\n",
       "      <td>0.447146</td>\n",
       "    </tr>\n",
       "  </tbody>\n",
       "</table>\n",
       "<p>410 rows × 21 columns</p>\n",
       "</div>"
      ],
      "text/plain": [
       "              1         2         3         4         5         6         7   \\\n",
       "POS_ID                                                                         \n",
       "1       0.153262  0.025060  0.004856  0.001005  0.002121  0.011944  0.002679   \n",
       "2       0.163561  0.028771  0.005513  0.001141  0.002091  0.011597  0.002155   \n",
       "3       0.154999  0.023801  0.004336  0.001638  0.001686  0.011419  0.002602   \n",
       "4       0.139153  0.018454  0.003399  0.000672  0.001606  0.011170  0.001905   \n",
       "5       0.159962  0.026084  0.005081  0.000838  0.002357  0.012675  0.002567   \n",
       "...          ...       ...       ...       ...       ...       ...       ...   \n",
       "406     0.122111  0.033610  0.005707  0.001339  0.002325  0.011979  0.003171   \n",
       "407     0.122799  0.026160  0.004746  0.001269  0.001821  0.009382  0.002649   \n",
       "408     0.138067  0.033016  0.005857  0.001757  0.002343  0.009297  0.003367   \n",
       "409     0.135775  0.031848  0.006546  0.001397  0.002354  0.009415  0.003383   \n",
       "410     0.122309  0.023669  0.004605  0.001178  0.001714  0.008675  0.002624   \n",
       "\n",
       "              8         9         10  ...        12        13        14  \\\n",
       "POS_ID                                ...                                 \n",
       "1       0.007088  0.164369  0.007200  ...  0.212089  0.002679  0.006418   \n",
       "2       0.007541  0.190558  0.008302  ...  0.247402  0.002788  0.007161   \n",
       "3       0.006649  0.171525  0.006119  ...  0.212238  0.002072  0.005974   \n",
       "4       0.005529  0.142590  0.005155  ...  0.188277  0.001793  0.004856   \n",
       "5       0.007019  0.183794  0.006966  ...  0.231196  0.002462  0.006233   \n",
       "...          ...       ...       ...  ...       ...       ...       ...   \n",
       "406     0.007328  0.145434  0.007046  ...  0.187218  0.003100  0.007751   \n",
       "407     0.005685  0.136873  0.006181  ...  0.185993  0.002649  0.006623   \n",
       "408     0.007101  0.142753  0.008565  ...  0.205344  0.003221  0.008638   \n",
       "409     0.006914  0.147985  0.008385  ...  0.201824  0.003530  0.008605   \n",
       "410     0.005409  0.125308  0.005944  ...  0.175217  0.002570  0.006212   \n",
       "\n",
       "              15        16        17        18        19        20        21  \n",
       "POS_ID                                                                        \n",
       "1       0.043813  0.010214  0.000837  0.017135  0.000447  0.001060  0.323827  \n",
       "2       0.047719  0.011090  0.000760  0.019645  0.000507  0.001204  0.237896  \n",
       "3       0.043845  0.010118  0.001060  0.015707  0.000385  0.000723  0.320694  \n",
       "4       0.031230  0.007471  0.001083  0.012776  0.000336  0.001121  0.419552  \n",
       "5       0.044417  0.010842  0.001100  0.016394  0.000419  0.001205  0.275875  \n",
       "...          ...       ...       ...       ...       ...       ...       ...  \n",
       "406     0.052072  0.013388  0.001762  0.020786  0.000493  0.001973  0.367742  \n",
       "407     0.041172  0.010597  0.001435  0.017495  0.000442  0.001490  0.411667  \n",
       "408     0.051391  0.013104  0.001611  0.020278  0.001098  0.001318  0.338433  \n",
       "409     0.048617  0.013754  0.001030  0.019712  0.007649  0.001471  0.336496  \n",
       "410     0.036414  0.008675  0.001125  0.016601  0.000428  0.001660  0.447146  \n",
       "\n",
       "[410 rows x 21 columns]"
      ]
     },
     "execution_count": 16,
     "metadata": {},
     "output_type": "execute_result"
    }
   ],
   "source": [
    "clus = df_prod.groupby(['POS_ID']).agg('mean')\n",
    "clus"
   ]
  },
  {
   "cell_type": "code",
   "execution_count": 74,
   "metadata": {},
   "outputs": [],
   "source": [
    "clus=clus[[1,9,12,21]]"
   ]
  },
  {
   "cell_type": "code",
   "execution_count": 17,
   "metadata": {},
   "outputs": [
    {
     "data": {
      "text/plain": [
       "POS_ID\n",
       "1      1.0\n",
       "2      1.0\n",
       "3      1.0\n",
       "4      1.0\n",
       "5      1.0\n",
       "      ... \n",
       "406    1.0\n",
       "407    1.0\n",
       "408    1.0\n",
       "409    1.0\n",
       "410    1.0\n",
       "Length: 410, dtype: float64"
      ]
     },
     "execution_count": 17,
     "metadata": {},
     "output_type": "execute_result"
    }
   ],
   "source": [
    "clus.sum(axis=1)"
   ]
  },
  {
   "cell_type": "code",
   "execution_count": 76,
   "metadata": {},
   "outputs": [
    {
     "data": {
      "image/png": "[encoded data removed]",
      "text/plain": [
       "<Figure size 1440x504 with 3 Axes>"
      ]
     },
     "metadata": {},
     "output_type": "display_data"
    }
   ],
   "source": [
    "# Instantiate a scikit-learn K-Means model for taste_prof variables\n",
    "clus_estim = KMeans(random_state=1)\n",
    "# K-elbow plots\n",
    "#kelbowplots(clus_estim, df_rec_sca[vc_custo_alt+vc_taste_alt])\n",
    "kelbowplots(clus_estim, df_scaled)"
   ]
  },
  {
   "cell_type": "code",
   "execution_count": 20,
   "metadata": {},
   "outputs": [
    {
     "data": {
      "text/html": [
       "<div>\n",
       "<style scoped>\n",
       "    .dataframe tbody tr th:only-of-type {\n",
       "        vertical-align: middle;\n",
       "    }\n",
       "\n",
       "    .dataframe tbody tr th {\n",
       "        vertical-align: top;\n",
       "    }\n",
       "\n",
       "    .dataframe thead th {\n",
       "        text-align: right;\n",
       "    }\n",
       "</style>\n",
       "<table border=\"1\" class=\"dataframe\">\n",
       "  <thead>\n",
       "    <tr style=\"text-align: right;\">\n",
       "      <th></th>\n",
       "      <th>1</th>\n",
       "      <th>2</th>\n",
       "      <th>3</th>\n",
       "      <th>4</th>\n",
       "      <th>5</th>\n",
       "      <th>6</th>\n",
       "      <th>7</th>\n",
       "      <th>8</th>\n",
       "      <th>9</th>\n",
       "      <th>10</th>\n",
       "      <th>...</th>\n",
       "      <th>13</th>\n",
       "      <th>14</th>\n",
       "      <th>15</th>\n",
       "      <th>16</th>\n",
       "      <th>17</th>\n",
       "      <th>18</th>\n",
       "      <th>19</th>\n",
       "      <th>20</th>\n",
       "      <th>21</th>\n",
       "      <th>cluster</th>\n",
       "    </tr>\n",
       "  </thead>\n",
       "  <tbody>\n",
       "    <tr>\n",
       "      <th>0</th>\n",
       "      <td>0.612466</td>\n",
       "      <td>0.362150</td>\n",
       "      <td>0.433331</td>\n",
       "      <td>0.215970</td>\n",
       "      <td>0.395605</td>\n",
       "      <td>0.547665</td>\n",
       "      <td>0.310351</td>\n",
       "      <td>0.329977</td>\n",
       "      <td>0.552801</td>\n",
       "      <td>0.313964</td>\n",
       "      <td>...</td>\n",
       "      <td>0.345249</td>\n",
       "      <td>0.280037</td>\n",
       "      <td>0.474451</td>\n",
       "      <td>0.476189</td>\n",
       "      <td>0.213420</td>\n",
       "      <td>0.319169</td>\n",
       "      <td>0.026262</td>\n",
       "      <td>0.135007</td>\n",
       "      <td>0.408209</td>\n",
       "      <td>1.0</td>\n",
       "    </tr>\n",
       "    <tr>\n",
       "      <th>1</th>\n",
       "      <td>0.715460</td>\n",
       "      <td>0.483074</td>\n",
       "      <td>0.564385</td>\n",
       "      <td>0.288683</td>\n",
       "      <td>0.384211</td>\n",
       "      <td>0.512775</td>\n",
       "      <td>0.170725</td>\n",
       "      <td>0.389373</td>\n",
       "      <td>0.755558</td>\n",
       "      <td>0.442325</td>\n",
       "      <td>...</td>\n",
       "      <td>0.376776</td>\n",
       "      <td>0.362915</td>\n",
       "      <td>0.573464</td>\n",
       "      <td>0.575224</td>\n",
       "      <td>0.181137</td>\n",
       "      <td>0.464095</td>\n",
       "      <td>0.034437</td>\n",
       "      <td>0.192058</td>\n",
       "      <td>0.220705</td>\n",
       "      <td>0.0</td>\n",
       "    </tr>\n",
       "    <tr>\n",
       "      <th>2</th>\n",
       "      <td>0.629832</td>\n",
       "      <td>0.321137</td>\n",
       "      <td>0.329813</td>\n",
       "      <td>0.554557</td>\n",
       "      <td>0.228535</td>\n",
       "      <td>0.494876</td>\n",
       "      <td>0.289786</td>\n",
       "      <td>0.272380</td>\n",
       "      <td>0.608204</td>\n",
       "      <td>0.188040</td>\n",
       "      <td>...</td>\n",
       "      <td>0.170132</td>\n",
       "      <td>0.230475</td>\n",
       "      <td>0.475255</td>\n",
       "      <td>0.465370</td>\n",
       "      <td>0.307149</td>\n",
       "      <td>0.236764</td>\n",
       "      <td>0.018009</td>\n",
       "      <td>0.000840</td>\n",
       "      <td>0.401374</td>\n",
       "      <td>1.0</td>\n",
       "    </tr>\n",
       "    <tr>\n",
       "      <th>3</th>\n",
       "      <td>0.471377</td>\n",
       "      <td>0.146875</td>\n",
       "      <td>0.143103</td>\n",
       "      <td>0.038420</td>\n",
       "      <td>0.197776</td>\n",
       "      <td>0.469811</td>\n",
       "      <td>0.104310</td>\n",
       "      <td>0.125486</td>\n",
       "      <td>0.384187</td>\n",
       "      <td>0.075756</td>\n",
       "      <td>...</td>\n",
       "      <td>0.089767</td>\n",
       "      <td>0.105669</td>\n",
       "      <td>0.155444</td>\n",
       "      <td>0.166224</td>\n",
       "      <td>0.316975</td>\n",
       "      <td>0.067563</td>\n",
       "      <td>0.011352</td>\n",
       "      <td>0.158943</td>\n",
       "      <td>0.617088</td>\n",
       "      <td>0.5</td>\n",
       "    </tr>\n",
       "    <tr>\n",
       "      <th>4</th>\n",
       "      <td>0.679467</td>\n",
       "      <td>0.395529</td>\n",
       "      <td>0.478161</td>\n",
       "      <td>0.126939</td>\n",
       "      <td>0.486384</td>\n",
       "      <td>0.621213</td>\n",
       "      <td>0.280397</td>\n",
       "      <td>0.320851</td>\n",
       "      <td>0.703195</td>\n",
       "      <td>0.286749</td>\n",
       "      <td>...</td>\n",
       "      <td>0.282596</td>\n",
       "      <td>0.259330</td>\n",
       "      <td>0.489748</td>\n",
       "      <td>0.547222</td>\n",
       "      <td>0.323957</td>\n",
       "      <td>0.276437</td>\n",
       "      <td>0.022547</td>\n",
       "      <td>0.192311</td>\n",
       "      <td>0.303576</td>\n",
       "      <td>0.0</td>\n",
       "    </tr>\n",
       "    <tr>\n",
       "      <th>...</th>\n",
       "      <td>...</td>\n",
       "      <td>...</td>\n",
       "      <td>...</td>\n",
       "      <td>...</td>\n",
       "      <td>...</td>\n",
       "      <td>...</td>\n",
       "      <td>...</td>\n",
       "      <td>...</td>\n",
       "      <td>...</td>\n",
       "      <td>...</td>\n",
       "      <td>...</td>\n",
       "      <td>...</td>\n",
       "      <td>...</td>\n",
       "      <td>...</td>\n",
       "      <td>...</td>\n",
       "      <td>...</td>\n",
       "      <td>...</td>\n",
       "      <td>...</td>\n",
       "      <td>...</td>\n",
       "      <td>...</td>\n",
       "      <td>...</td>\n",
       "    </tr>\n",
       "    <tr>\n",
       "      <th>405</th>\n",
       "      <td>0.300950</td>\n",
       "      <td>0.640800</td>\n",
       "      <td>0.603075</td>\n",
       "      <td>0.394556</td>\n",
       "      <td>0.474175</td>\n",
       "      <td>0.551145</td>\n",
       "      <td>0.441293</td>\n",
       "      <td>0.361426</td>\n",
       "      <td>0.406203</td>\n",
       "      <td>0.296064</td>\n",
       "      <td>...</td>\n",
       "      <td>0.466752</td>\n",
       "      <td>0.428759</td>\n",
       "      <td>0.683821</td>\n",
       "      <td>0.834938</td>\n",
       "      <td>0.602300</td>\n",
       "      <td>0.529975</td>\n",
       "      <td>0.032580</td>\n",
       "      <td>0.497507</td>\n",
       "      <td>0.504036</td>\n",
       "      <td>1.0</td>\n",
       "    </tr>\n",
       "    <tr>\n",
       "      <th>406</th>\n",
       "      <td>0.307832</td>\n",
       "      <td>0.398011</td>\n",
       "      <td>0.411543</td>\n",
       "      <td>0.357467</td>\n",
       "      <td>0.280419</td>\n",
       "      <td>0.290117</td>\n",
       "      <td>0.302399</td>\n",
       "      <td>0.145923</td>\n",
       "      <td>0.339921</td>\n",
       "      <td>0.195304</td>\n",
       "      <td>...</td>\n",
       "      <td>0.336636</td>\n",
       "      <td>0.302853</td>\n",
       "      <td>0.407498</td>\n",
       "      <td>0.519460</td>\n",
       "      <td>0.464900</td>\n",
       "      <td>0.340002</td>\n",
       "      <td>0.025589</td>\n",
       "      <td>0.305711</td>\n",
       "      <td>0.599882</td>\n",
       "      <td>0.5</td>\n",
       "    </tr>\n",
       "    <tr>\n",
       "      <th>407</th>\n",
       "      <td>0.460515</td>\n",
       "      <td>0.621430</td>\n",
       "      <td>0.632785</td>\n",
       "      <td>0.618047</td>\n",
       "      <td>0.480847</td>\n",
       "      <td>0.281551</td>\n",
       "      <td>0.493666</td>\n",
       "      <td>0.331654</td>\n",
       "      <td>0.385443</td>\n",
       "      <td>0.473024</td>\n",
       "      <td>...</td>\n",
       "      <td>0.501574</td>\n",
       "      <td>0.527826</td>\n",
       "      <td>0.666565</td>\n",
       "      <td>0.802854</td>\n",
       "      <td>0.538768</td>\n",
       "      <td>0.500640</td>\n",
       "      <td>0.114350</td>\n",
       "      <td>0.237210</td>\n",
       "      <td>0.440082</td>\n",
       "      <td>1.0</td>\n",
       "    </tr>\n",
       "    <tr>\n",
       "      <th>408</th>\n",
       "      <td>0.437593</td>\n",
       "      <td>0.583350</td>\n",
       "      <td>0.770205</td>\n",
       "      <td>0.425921</td>\n",
       "      <td>0.485086</td>\n",
       "      <td>0.293346</td>\n",
       "      <td>0.497887</td>\n",
       "      <td>0.307103</td>\n",
       "      <td>0.425951</td>\n",
       "      <td>0.452014</td>\n",
       "      <td>...</td>\n",
       "      <td>0.590791</td>\n",
       "      <td>0.524155</td>\n",
       "      <td>0.596246</td>\n",
       "      <td>0.876331</td>\n",
       "      <td>0.294414</td>\n",
       "      <td>0.467938</td>\n",
       "      <td>1.000000</td>\n",
       "      <td>0.298113</td>\n",
       "      <td>0.435855</td>\n",
       "      <td>1.0</td>\n",
       "    </tr>\n",
       "    <tr>\n",
       "      <th>409</th>\n",
       "      <td>0.302930</td>\n",
       "      <td>0.316828</td>\n",
       "      <td>0.383429</td>\n",
       "      <td>0.308684</td>\n",
       "      <td>0.239020</td>\n",
       "      <td>0.219007</td>\n",
       "      <td>0.295693</td>\n",
       "      <td>0.109725</td>\n",
       "      <td>0.250383</td>\n",
       "      <td>0.167662</td>\n",
       "      <td>...</td>\n",
       "      <td>0.313930</td>\n",
       "      <td>0.256972</td>\n",
       "      <td>0.286873</td>\n",
       "      <td>0.302288</td>\n",
       "      <td>0.334315</td>\n",
       "      <td>0.288347</td>\n",
       "      <td>0.023815</td>\n",
       "      <td>0.373211</td>\n",
       "      <td>0.677298</td>\n",
       "      <td>0.5</td>\n",
       "    </tr>\n",
       "  </tbody>\n",
       "</table>\n",
       "<p>410 rows × 22 columns</p>\n",
       "</div>"
      ],
      "text/plain": [
       "            1         2         3         4         5         6         7  \\\n",
       "0    0.612466  0.362150  0.433331  0.215970  0.395605  0.547665  0.310351   \n",
       "1    0.715460  0.483074  0.564385  0.288683  0.384211  0.512775  0.170725   \n",
       "2    0.629832  0.321137  0.329813  0.554557  0.228535  0.494876  0.289786   \n",
       "3    0.471377  0.146875  0.143103  0.038420  0.197776  0.469811  0.104310   \n",
       "4    0.679467  0.395529  0.478161  0.126939  0.486384  0.621213  0.280397   \n",
       "..        ...       ...       ...       ...       ...       ...       ...   \n",
       "405  0.300950  0.640800  0.603075  0.394556  0.474175  0.551145  0.441293   \n",
       "406  0.307832  0.398011  0.411543  0.357467  0.280419  0.290117  0.302399   \n",
       "407  0.460515  0.621430  0.632785  0.618047  0.480847  0.281551  0.493666   \n",
       "408  0.437593  0.583350  0.770205  0.425921  0.485086  0.293346  0.497887   \n",
       "409  0.302930  0.316828  0.383429  0.308684  0.239020  0.219007  0.295693   \n",
       "\n",
       "            8         9        10  ...        13        14        15  \\\n",
       "0    0.329977  0.552801  0.313964  ...  0.345249  0.280037  0.474451   \n",
       "1    0.389373  0.755558  0.442325  ...  0.376776  0.362915  0.573464   \n",
       "2    0.272380  0.608204  0.188040  ...  0.170132  0.230475  0.475255   \n",
       "3    0.125486  0.384187  0.075756  ...  0.089767  0.105669  0.155444   \n",
       "4    0.320851  0.703195  0.286749  ...  0.282596  0.259330  0.489748   \n",
       "..        ...       ...       ...  ...       ...       ...       ...   \n",
       "405  0.361426  0.406203  0.296064  ...  0.466752  0.428759  0.683821   \n",
       "406  0.145923  0.339921  0.195304  ...  0.336636  0.302853  0.407498   \n",
       "407  0.331654  0.385443  0.473024  ...  0.501574  0.527826  0.666565   \n",
       "408  0.307103  0.425951  0.452014  ...  0.590791  0.524155  0.596246   \n",
       "409  0.109725  0.250383  0.167662  ...  0.313930  0.256972  0.286873   \n",
       "\n",
       "           16        17        18        19        20        21  cluster  \n",
       "0    0.476189  0.213420  0.319169  0.026262  0.135007  0.408209      1.0  \n",
       "1    0.575224  0.181137  0.464095  0.034437  0.192058  0.220705      0.0  \n",
       "2    0.465370  0.307149  0.236764  0.018009  0.000840  0.401374      1.0  \n",
       "3    0.166224  0.316975  0.067563  0.011352  0.158943  0.617088      0.5  \n",
       "4    0.547222  0.323957  0.276437  0.022547  0.192311  0.303576      0.0  \n",
       "..        ...       ...       ...       ...       ...       ...      ...  \n",
       "405  0.834938  0.602300  0.529975  0.032580  0.497507  0.504036      1.0  \n",
       "406  0.519460  0.464900  0.340002  0.025589  0.305711  0.599882      0.5  \n",
       "407  0.802854  0.538768  0.500640  0.114350  0.237210  0.440082      1.0  \n",
       "408  0.876331  0.294414  0.467938  1.000000  0.298113  0.435855      1.0  \n",
       "409  0.302288  0.334315  0.288347  0.023815  0.373211  0.677298      0.5  \n",
       "\n",
       "[410 rows x 22 columns]"
      ]
     },
     "execution_count": 20,
     "metadata": {},
     "output_type": "execute_result"
    }
   ],
   "source": [
    "scaler_fam = MinMaxScaler()\n",
    "df_scaled_fam = pd.DataFrame(scaler_fam.fit_transform(clus),columns = clus.columns)\n",
    "df_scaled_fam"
   ]
  },
  {
   "cell_type": "code",
   "execution_count": 21,
   "metadata": {},
   "outputs": [],
   "source": [
    "df_clustered_prod = kmeans_clustering(df_scaled_fam,3)"
   ]
  },
  {
   "cell_type": "code",
   "execution_count": 22,
   "metadata": {},
   "outputs": [
    {
     "data": {
      "text/html": [
       "<div>\n",
       "<style scoped>\n",
       "    .dataframe tbody tr th:only-of-type {\n",
       "        vertical-align: middle;\n",
       "    }\n",
       "\n",
       "    .dataframe tbody tr th {\n",
       "        vertical-align: top;\n",
       "    }\n",
       "\n",
       "    .dataframe thead th {\n",
       "        text-align: right;\n",
       "    }\n",
       "</style>\n",
       "<table border=\"1\" class=\"dataframe\">\n",
       "  <thead>\n",
       "    <tr style=\"text-align: right;\">\n",
       "      <th></th>\n",
       "      <th>1</th>\n",
       "      <th>2</th>\n",
       "      <th>3</th>\n",
       "      <th>4</th>\n",
       "      <th>5</th>\n",
       "      <th>6</th>\n",
       "      <th>7</th>\n",
       "      <th>8</th>\n",
       "      <th>9</th>\n",
       "      <th>10</th>\n",
       "      <th>...</th>\n",
       "      <th>12</th>\n",
       "      <th>13</th>\n",
       "      <th>14</th>\n",
       "      <th>15</th>\n",
       "      <th>16</th>\n",
       "      <th>17</th>\n",
       "      <th>18</th>\n",
       "      <th>19</th>\n",
       "      <th>20</th>\n",
       "      <th>21</th>\n",
       "    </tr>\n",
       "    <tr>\n",
       "      <th>cluster</th>\n",
       "      <th></th>\n",
       "      <th></th>\n",
       "      <th></th>\n",
       "      <th></th>\n",
       "      <th></th>\n",
       "      <th></th>\n",
       "      <th></th>\n",
       "      <th></th>\n",
       "      <th></th>\n",
       "      <th></th>\n",
       "      <th></th>\n",
       "      <th></th>\n",
       "      <th></th>\n",
       "      <th></th>\n",
       "      <th></th>\n",
       "      <th></th>\n",
       "      <th></th>\n",
       "      <th></th>\n",
       "      <th></th>\n",
       "      <th></th>\n",
       "      <th></th>\n",
       "    </tr>\n",
       "  </thead>\n",
       "  <tbody>\n",
       "    <tr>\n",
       "      <th>0</th>\n",
       "      <td>0.705290</td>\n",
       "      <td>0.541951</td>\n",
       "      <td>0.512791</td>\n",
       "      <td>0.360675</td>\n",
       "      <td>0.502844</td>\n",
       "      <td>0.576633</td>\n",
       "      <td>0.441423</td>\n",
       "      <td>0.487388</td>\n",
       "      <td>0.635281</td>\n",
       "      <td>0.472075</td>\n",
       "      <td>...</td>\n",
       "      <td>0.732708</td>\n",
       "      <td>0.444192</td>\n",
       "      <td>0.422585</td>\n",
       "      <td>0.553558</td>\n",
       "      <td>0.497744</td>\n",
       "      <td>0.409314</td>\n",
       "      <td>0.538044</td>\n",
       "      <td>0.043310</td>\n",
       "      <td>0.367090</td>\n",
       "      <td>0.271904</td>\n",
       "    </tr>\n",
       "    <tr>\n",
       "      <th>1</th>\n",
       "      <td>0.344966</td>\n",
       "      <td>0.194023</td>\n",
       "      <td>0.189016</td>\n",
       "      <td>0.168110</td>\n",
       "      <td>0.191259</td>\n",
       "      <td>0.367030</td>\n",
       "      <td>0.197412</td>\n",
       "      <td>0.168238</td>\n",
       "      <td>0.277610</td>\n",
       "      <td>0.174223</td>\n",
       "      <td>...</td>\n",
       "      <td>0.346796</td>\n",
       "      <td>0.148001</td>\n",
       "      <td>0.135713</td>\n",
       "      <td>0.203110</td>\n",
       "      <td>0.192965</td>\n",
       "      <td>0.414658</td>\n",
       "      <td>0.171338</td>\n",
       "      <td>0.019814</td>\n",
       "      <td>0.249472</td>\n",
       "      <td>0.686063</td>\n",
       "    </tr>\n",
       "    <tr>\n",
       "      <th>2</th>\n",
       "      <td>0.556859</td>\n",
       "      <td>0.341551</td>\n",
       "      <td>0.336029</td>\n",
       "      <td>0.242285</td>\n",
       "      <td>0.313121</td>\n",
       "      <td>0.514563</td>\n",
       "      <td>0.294419</td>\n",
       "      <td>0.291656</td>\n",
       "      <td>0.472637</td>\n",
       "      <td>0.307091</td>\n",
       "      <td>...</td>\n",
       "      <td>0.534514</td>\n",
       "      <td>0.257174</td>\n",
       "      <td>0.249359</td>\n",
       "      <td>0.379431</td>\n",
       "      <td>0.337654</td>\n",
       "      <td>0.425625</td>\n",
       "      <td>0.319380</td>\n",
       "      <td>0.031320</td>\n",
       "      <td>0.292584</td>\n",
       "      <td>0.474073</td>\n",
       "    </tr>\n",
       "  </tbody>\n",
       "</table>\n",
       "<p>3 rows × 21 columns</p>\n",
       "</div>"
      ],
      "text/plain": [
       "               1         2         3         4         5         6         7   \\\n",
       "cluster                                                                         \n",
       "0        0.705290  0.541951  0.512791  0.360675  0.502844  0.576633  0.441423   \n",
       "1        0.344966  0.194023  0.189016  0.168110  0.191259  0.367030  0.197412   \n",
       "2        0.556859  0.341551  0.336029  0.242285  0.313121  0.514563  0.294419   \n",
       "\n",
       "               8         9         10  ...        12        13        14  \\\n",
       "cluster                                ...                                 \n",
       "0        0.487388  0.635281  0.472075  ...  0.732708  0.444192  0.422585   \n",
       "1        0.168238  0.277610  0.174223  ...  0.346796  0.148001  0.135713   \n",
       "2        0.291656  0.472637  0.307091  ...  0.534514  0.257174  0.249359   \n",
       "\n",
       "               15        16        17        18        19        20        21  \n",
       "cluster                                                                        \n",
       "0        0.553558  0.497744  0.409314  0.538044  0.043310  0.367090  0.271904  \n",
       "1        0.203110  0.192965  0.414658  0.171338  0.019814  0.249472  0.686063  \n",
       "2        0.379431  0.337654  0.425625  0.319380  0.031320  0.292584  0.474073  \n",
       "\n",
       "[3 rows x 21 columns]"
      ]
     },
     "execution_count": 22,
     "metadata": {},
     "output_type": "execute_result"
    }
   ],
   "source": [
    "df_clustered_prod.groupby(df_clustered_prod['cluster']).mean()"
   ]
  },
  {
   "cell_type": "code",
   "execution_count": 18,
   "metadata": {},
   "outputs": [],
   "source": [
    "df_clustered_prod = kmeans_clustering(clus,3)"
   ]
  },
  {
   "cell_type": "code",
   "execution_count": 19,
   "metadata": {
    "scrolled": true
   },
   "outputs": [
    {
     "data": {
      "text/html": [
       "<div>\n",
       "<style scoped>\n",
       "    .dataframe tbody tr th:only-of-type {\n",
       "        vertical-align: middle;\n",
       "    }\n",
       "\n",
       "    .dataframe tbody tr th {\n",
       "        vertical-align: top;\n",
       "    }\n",
       "\n",
       "    .dataframe thead th {\n",
       "        text-align: right;\n",
       "    }\n",
       "</style>\n",
       "<table border=\"1\" class=\"dataframe\">\n",
       "  <thead>\n",
       "    <tr style=\"text-align: right;\">\n",
       "      <th></th>\n",
       "      <th>1</th>\n",
       "      <th>2</th>\n",
       "      <th>3</th>\n",
       "      <th>4</th>\n",
       "      <th>5</th>\n",
       "      <th>6</th>\n",
       "      <th>7</th>\n",
       "      <th>8</th>\n",
       "      <th>9</th>\n",
       "      <th>10</th>\n",
       "      <th>...</th>\n",
       "      <th>12</th>\n",
       "      <th>13</th>\n",
       "      <th>14</th>\n",
       "      <th>15</th>\n",
       "      <th>16</th>\n",
       "      <th>17</th>\n",
       "      <th>18</th>\n",
       "      <th>19</th>\n",
       "      <th>20</th>\n",
       "      <th>21</th>\n",
       "    </tr>\n",
       "    <tr>\n",
       "      <th>cluster</th>\n",
       "      <th></th>\n",
       "      <th></th>\n",
       "      <th></th>\n",
       "      <th></th>\n",
       "      <th></th>\n",
       "      <th></th>\n",
       "      <th></th>\n",
       "      <th></th>\n",
       "      <th></th>\n",
       "      <th></th>\n",
       "      <th></th>\n",
       "      <th></th>\n",
       "      <th></th>\n",
       "      <th></th>\n",
       "      <th></th>\n",
       "      <th></th>\n",
       "      <th></th>\n",
       "      <th></th>\n",
       "      <th></th>\n",
       "      <th></th>\n",
       "      <th></th>\n",
       "    </tr>\n",
       "  </thead>\n",
       "  <tbody>\n",
       "    <tr>\n",
       "      <th>0</th>\n",
       "      <td>0.162545</td>\n",
       "      <td>0.030577</td>\n",
       "      <td>0.005254</td>\n",
       "      <td>0.001275</td>\n",
       "      <td>0.002400</td>\n",
       "      <td>0.012232</td>\n",
       "      <td>0.003171</td>\n",
       "      <td>0.008289</td>\n",
       "      <td>0.175022</td>\n",
       "      <td>0.008557</td>\n",
       "      <td>...</td>\n",
       "      <td>0.233859</td>\n",
       "      <td>0.003022</td>\n",
       "      <td>0.007696</td>\n",
       "      <td>0.046933</td>\n",
       "      <td>0.010404</td>\n",
       "      <td>0.001303</td>\n",
       "      <td>0.020926</td>\n",
       "      <td>0.000573</td>\n",
       "      <td>0.001645</td>\n",
       "      <td>0.261360</td>\n",
       "    </tr>\n",
       "    <tr>\n",
       "      <th>1</th>\n",
       "      <td>0.126508</td>\n",
       "      <td>0.019964</td>\n",
       "      <td>0.003646</td>\n",
       "      <td>0.000919</td>\n",
       "      <td>0.001598</td>\n",
       "      <td>0.010135</td>\n",
       "      <td>0.002267</td>\n",
       "      <td>0.005896</td>\n",
       "      <td>0.128689</td>\n",
       "      <td>0.006037</td>\n",
       "      <td>...</td>\n",
       "      <td>0.175394</td>\n",
       "      <td>0.002009</td>\n",
       "      <td>0.005157</td>\n",
       "      <td>0.033207</td>\n",
       "      <td>0.007745</td>\n",
       "      <td>0.001309</td>\n",
       "      <td>0.014615</td>\n",
       "      <td>0.000402</td>\n",
       "      <td>0.001361</td>\n",
       "      <td>0.450921</td>\n",
       "    </tr>\n",
       "    <tr>\n",
       "      <th>2</th>\n",
       "      <td>0.147833</td>\n",
       "      <td>0.024409</td>\n",
       "      <td>0.004360</td>\n",
       "      <td>0.001052</td>\n",
       "      <td>0.001902</td>\n",
       "      <td>0.011633</td>\n",
       "      <td>0.002612</td>\n",
       "      <td>0.006771</td>\n",
       "      <td>0.154267</td>\n",
       "      <td>0.007121</td>\n",
       "      <td>...</td>\n",
       "      <td>0.204042</td>\n",
       "      <td>0.002365</td>\n",
       "      <td>0.006126</td>\n",
       "      <td>0.040036</td>\n",
       "      <td>0.008969</td>\n",
       "      <td>0.001347</td>\n",
       "      <td>0.017123</td>\n",
       "      <td>0.000482</td>\n",
       "      <td>0.001449</td>\n",
       "      <td>0.353605</td>\n",
       "    </tr>\n",
       "  </tbody>\n",
       "</table>\n",
       "<p>3 rows × 21 columns</p>\n",
       "</div>"
      ],
      "text/plain": [
       "               1         2         3         4         5         6         7   \\\n",
       "cluster                                                                         \n",
       "0        0.162545  0.030577  0.005254  0.001275  0.002400  0.012232  0.003171   \n",
       "1        0.126508  0.019964  0.003646  0.000919  0.001598  0.010135  0.002267   \n",
       "2        0.147833  0.024409  0.004360  0.001052  0.001902  0.011633  0.002612   \n",
       "\n",
       "               8         9         10  ...        12        13        14  \\\n",
       "cluster                                ...                                 \n",
       "0        0.008289  0.175022  0.008557  ...  0.233859  0.003022  0.007696   \n",
       "1        0.005896  0.128689  0.006037  ...  0.175394  0.002009  0.005157   \n",
       "2        0.006771  0.154267  0.007121  ...  0.204042  0.002365  0.006126   \n",
       "\n",
       "               15        16        17        18        19        20        21  \n",
       "cluster                                                                        \n",
       "0        0.046933  0.010404  0.001303  0.020926  0.000573  0.001645  0.261360  \n",
       "1        0.033207  0.007745  0.001309  0.014615  0.000402  0.001361  0.450921  \n",
       "2        0.040036  0.008969  0.001347  0.017123  0.000482  0.001449  0.353605  \n",
       "\n",
       "[3 rows x 21 columns]"
      ]
     },
     "execution_count": 19,
     "metadata": {},
     "output_type": "execute_result"
    }
   ],
   "source": [
    "df_clustered_prod.groupby(df_clustered_prod['cluster']).mean()"
   ]
  },
  {
   "cell_type": "code",
   "execution_count": 24,
   "metadata": {},
   "outputs": [
    {
     "data": {
      "text/html": [
       "<div>\n",
       "<style scoped>\n",
       "    .dataframe tbody tr th:only-of-type {\n",
       "        vertical-align: middle;\n",
       "    }\n",
       "\n",
       "    .dataframe tbody tr th {\n",
       "        vertical-align: top;\n",
       "    }\n",
       "\n",
       "    .dataframe thead th {\n",
       "        text-align: right;\n",
       "    }\n",
       "</style>\n",
       "<table border=\"1\" class=\"dataframe\">\n",
       "  <thead>\n",
       "    <tr style=\"text-align: right;\">\n",
       "      <th></th>\n",
       "      <th>1</th>\n",
       "      <th>2</th>\n",
       "      <th>3</th>\n",
       "      <th>4</th>\n",
       "      <th>5</th>\n",
       "      <th>6</th>\n",
       "      <th>7</th>\n",
       "      <th>8</th>\n",
       "      <th>9</th>\n",
       "      <th>10</th>\n",
       "      <th>...</th>\n",
       "      <th>12</th>\n",
       "      <th>13</th>\n",
       "      <th>14</th>\n",
       "      <th>15</th>\n",
       "      <th>16</th>\n",
       "      <th>17</th>\n",
       "      <th>18</th>\n",
       "      <th>19</th>\n",
       "      <th>20</th>\n",
       "      <th>21</th>\n",
       "    </tr>\n",
       "    <tr>\n",
       "      <th>cluster</th>\n",
       "      <th></th>\n",
       "      <th></th>\n",
       "      <th></th>\n",
       "      <th></th>\n",
       "      <th></th>\n",
       "      <th></th>\n",
       "      <th></th>\n",
       "      <th></th>\n",
       "      <th></th>\n",
       "      <th></th>\n",
       "      <th></th>\n",
       "      <th></th>\n",
       "      <th></th>\n",
       "      <th></th>\n",
       "      <th></th>\n",
       "      <th></th>\n",
       "      <th></th>\n",
       "      <th></th>\n",
       "      <th></th>\n",
       "      <th></th>\n",
       "      <th></th>\n",
       "    </tr>\n",
       "  </thead>\n",
       "  <tbody>\n",
       "    <tr>\n",
       "      <th>0</th>\n",
       "      <td>121</td>\n",
       "      <td>121</td>\n",
       "      <td>121</td>\n",
       "      <td>121</td>\n",
       "      <td>121</td>\n",
       "      <td>121</td>\n",
       "      <td>121</td>\n",
       "      <td>121</td>\n",
       "      <td>121</td>\n",
       "      <td>121</td>\n",
       "      <td>...</td>\n",
       "      <td>121</td>\n",
       "      <td>121</td>\n",
       "      <td>121</td>\n",
       "      <td>121</td>\n",
       "      <td>121</td>\n",
       "      <td>121</td>\n",
       "      <td>121</td>\n",
       "      <td>121</td>\n",
       "      <td>121</td>\n",
       "      <td>121</td>\n",
       "    </tr>\n",
       "    <tr>\n",
       "      <th>1</th>\n",
       "      <td>122</td>\n",
       "      <td>122</td>\n",
       "      <td>122</td>\n",
       "      <td>122</td>\n",
       "      <td>122</td>\n",
       "      <td>122</td>\n",
       "      <td>122</td>\n",
       "      <td>122</td>\n",
       "      <td>122</td>\n",
       "      <td>122</td>\n",
       "      <td>...</td>\n",
       "      <td>122</td>\n",
       "      <td>122</td>\n",
       "      <td>122</td>\n",
       "      <td>122</td>\n",
       "      <td>122</td>\n",
       "      <td>122</td>\n",
       "      <td>122</td>\n",
       "      <td>122</td>\n",
       "      <td>122</td>\n",
       "      <td>122</td>\n",
       "    </tr>\n",
       "    <tr>\n",
       "      <th>2</th>\n",
       "      <td>167</td>\n",
       "      <td>167</td>\n",
       "      <td>167</td>\n",
       "      <td>167</td>\n",
       "      <td>167</td>\n",
       "      <td>167</td>\n",
       "      <td>167</td>\n",
       "      <td>167</td>\n",
       "      <td>167</td>\n",
       "      <td>167</td>\n",
       "      <td>...</td>\n",
       "      <td>167</td>\n",
       "      <td>167</td>\n",
       "      <td>167</td>\n",
       "      <td>167</td>\n",
       "      <td>167</td>\n",
       "      <td>167</td>\n",
       "      <td>167</td>\n",
       "      <td>167</td>\n",
       "      <td>167</td>\n",
       "      <td>167</td>\n",
       "    </tr>\n",
       "  </tbody>\n",
       "</table>\n",
       "<p>3 rows × 21 columns</p>\n",
       "</div>"
      ],
      "text/plain": [
       "          1    2    3    4    5    6    7    8    9    10  ...   12   13   14  \\\n",
       "cluster                                                    ...                  \n",
       "0        121  121  121  121  121  121  121  121  121  121  ...  121  121  121   \n",
       "1        122  122  122  122  122  122  122  122  122  122  ...  122  122  122   \n",
       "2        167  167  167  167  167  167  167  167  167  167  ...  167  167  167   \n",
       "\n",
       "          15   16   17   18   19   20   21  \n",
       "cluster                                     \n",
       "0        121  121  121  121  121  121  121  \n",
       "1        122  122  122  122  122  122  122  \n",
       "2        167  167  167  167  167  167  167  \n",
       "\n",
       "[3 rows x 21 columns]"
      ]
     },
     "execution_count": 24,
     "metadata": {},
     "output_type": "execute_result"
    }
   ],
   "source": [
    "df_3=df_clustered_prod.groupby(df_clustered_prod['cluster']).count()\n",
    "df_3"
   ]
  },
  {
   "cell_type": "code",
   "execution_count": 25,
   "metadata": {},
   "outputs": [
    {
     "name": "stderr",
     "output_type": "stream",
     "text": [
      "<ipython-input-25-f7218b16b6a3>:4: SettingWithCopyWarning: \n",
      "A value is trying to be set on a copy of a slice from a DataFrame.\n",
      "Try using .loc[row_indexer,col_indexer] = value instead\n",
      "\n",
      "See the caveats in the documentation: https://pandas.pydata.org/pandas-docs/stable/user_guide/indexing.html#returning-a-view-versus-a-copy\n",
      "  df_clustered_final['cluster_prod']=df_clustered_prod['cluster']\n",
      "<ipython-input-25-f7218b16b6a3>:8: SettingWithCopyWarning: \n",
      "A value is trying to be set on a copy of a slice from a DataFrame\n",
      "\n",
      "See the caveats in the documentation: https://pandas.pydata.org/pandas-docs/stable/user_guide/indexing.html#returning-a-view-versus-a-copy\n",
      "  df_clustered_final['POS_ID'][i]=i+1\n"
     ]
    },
    {
     "data": {
      "text/html": [
       "<div>\n",
       "<style scoped>\n",
       "    .dataframe tbody tr th:only-of-type {\n",
       "        vertical-align: middle;\n",
       "    }\n",
       "\n",
       "    .dataframe tbody tr th {\n",
       "        vertical-align: top;\n",
       "    }\n",
       "\n",
       "    .dataframe thead th {\n",
       "        text-align: right;\n",
       "    }\n",
       "</style>\n",
       "<table border=\"1\" class=\"dataframe\">\n",
       "  <thead>\n",
       "    <tr style=\"text-align: right;\">\n",
       "      <th></th>\n",
       "      <th>Total_Value</th>\n",
       "      <th>cluster</th>\n",
       "      <th>cluster_prod</th>\n",
       "      <th>cluster_merge</th>\n",
       "      <th>POS_ID</th>\n",
       "    </tr>\n",
       "  </thead>\n",
       "  <tbody>\n",
       "    <tr>\n",
       "      <th>0</th>\n",
       "      <td>0.373938</td>\n",
       "      <td>0</td>\n",
       "      <td>2</td>\n",
       "      <td>02</td>\n",
       "      <td>1</td>\n",
       "    </tr>\n",
       "    <tr>\n",
       "      <th>1</th>\n",
       "      <td>0.219563</td>\n",
       "      <td>1</td>\n",
       "      <td>0</td>\n",
       "      <td>10</td>\n",
       "      <td>2</td>\n",
       "    </tr>\n",
       "    <tr>\n",
       "      <th>2</th>\n",
       "      <td>0.405183</td>\n",
       "      <td>0</td>\n",
       "      <td>2</td>\n",
       "      <td>02</td>\n",
       "      <td>3</td>\n",
       "    </tr>\n",
       "    <tr>\n",
       "      <th>3</th>\n",
       "      <td>0.501091</td>\n",
       "      <td>2</td>\n",
       "      <td>1</td>\n",
       "      <td>21</td>\n",
       "      <td>4</td>\n",
       "    </tr>\n",
       "    <tr>\n",
       "      <th>4</th>\n",
       "      <td>0.234249</td>\n",
       "      <td>0</td>\n",
       "      <td>0</td>\n",
       "      <td>00</td>\n",
       "      <td>5</td>\n",
       "    </tr>\n",
       "    <tr>\n",
       "      <th>...</th>\n",
       "      <td>...</td>\n",
       "      <td>...</td>\n",
       "      <td>...</td>\n",
       "      <td>...</td>\n",
       "      <td>...</td>\n",
       "    </tr>\n",
       "    <tr>\n",
       "      <th>405</th>\n",
       "      <td>0.287596</td>\n",
       "      <td>0</td>\n",
       "      <td>2</td>\n",
       "      <td>02</td>\n",
       "      <td>406</td>\n",
       "    </tr>\n",
       "    <tr>\n",
       "      <th>406</th>\n",
       "      <td>0.502336</td>\n",
       "      <td>2</td>\n",
       "      <td>1</td>\n",
       "      <td>21</td>\n",
       "      <td>407</td>\n",
       "    </tr>\n",
       "    <tr>\n",
       "      <th>407</th>\n",
       "      <td>0.252103</td>\n",
       "      <td>1</td>\n",
       "      <td>2</td>\n",
       "      <td>12</td>\n",
       "      <td>408</td>\n",
       "    </tr>\n",
       "    <tr>\n",
       "      <th>408</th>\n",
       "      <td>0.257229</td>\n",
       "      <td>1</td>\n",
       "      <td>2</td>\n",
       "      <td>12</td>\n",
       "      <td>409</td>\n",
       "    </tr>\n",
       "    <tr>\n",
       "      <th>409</th>\n",
       "      <td>0.546606</td>\n",
       "      <td>2</td>\n",
       "      <td>1</td>\n",
       "      <td>21</td>\n",
       "      <td>410</td>\n",
       "    </tr>\n",
       "  </tbody>\n",
       "</table>\n",
       "<p>410 rows × 5 columns</p>\n",
       "</div>"
      ],
      "text/plain": [
       "     Total_Value  cluster  cluster_prod cluster_merge  POS_ID\n",
       "0       0.373938        0             2            02       1\n",
       "1       0.219563        1             0            10       2\n",
       "2       0.405183        0             2            02       3\n",
       "3       0.501091        2             1            21       4\n",
       "4       0.234249        0             0            00       5\n",
       "..           ...      ...           ...           ...     ...\n",
       "405     0.287596        0             2            02     406\n",
       "406     0.502336        2             1            21     407\n",
       "407     0.252103        1             2            12     408\n",
       "408     0.257229        1             2            12     409\n",
       "409     0.546606        2             1            21     410\n",
       "\n",
       "[410 rows x 5 columns]"
      ]
     },
     "execution_count": 25,
     "metadata": {},
     "output_type": "execute_result"
    }
   ],
   "source": [
    "df_clustered_prod=df_clustered_prod.reset_index()\n",
    "df_clustered_final= df_clustered_value[['Total_Value','cluster']]\n",
    "#df_clustered_final['cluster_value']=df_clustered_value['cluster']\n",
    "df_clustered_final['cluster_prod']=df_clustered_prod['cluster']\n",
    "df_clustered_final['cluster_merge']=df_clustered_final['cluster'].astype(str)+df_clustered_final['cluster_prod'].astype(str)\n",
    "df_clustered_final['POS_ID']=0\n",
    "for i in range(len(df_clustered_final)):\n",
    "    df_clustered_final['POS_ID'][i]=i+1\n",
    "df_clustered_final"
   ]
  },
  {
   "cell_type": "code",
   "execution_count": 26,
   "metadata": {},
   "outputs": [
    {
     "data": {
      "text/html": [
       "<div>\n",
       "<style scoped>\n",
       "    .dataframe tbody tr th:only-of-type {\n",
       "        vertical-align: middle;\n",
       "    }\n",
       "\n",
       "    .dataframe tbody tr th {\n",
       "        vertical-align: top;\n",
       "    }\n",
       "\n",
       "    .dataframe thead th {\n",
       "        text-align: right;\n",
       "    }\n",
       "</style>\n",
       "<table border=\"1\" class=\"dataframe\">\n",
       "  <thead>\n",
       "    <tr style=\"text-align: right;\">\n",
       "      <th></th>\n",
       "      <th>Total_Value</th>\n",
       "      <th>cluster</th>\n",
       "      <th>cluster_prod</th>\n",
       "      <th>POS_ID</th>\n",
       "    </tr>\n",
       "    <tr>\n",
       "      <th>cluster_merge</th>\n",
       "      <th></th>\n",
       "      <th></th>\n",
       "      <th></th>\n",
       "      <th></th>\n",
       "    </tr>\n",
       "  </thead>\n",
       "  <tbody>\n",
       "    <tr>\n",
       "      <th>00</th>\n",
       "      <td>19</td>\n",
       "      <td>19</td>\n",
       "      <td>19</td>\n",
       "      <td>19</td>\n",
       "    </tr>\n",
       "    <tr>\n",
       "      <th>01</th>\n",
       "      <td>45</td>\n",
       "      <td>45</td>\n",
       "      <td>45</td>\n",
       "      <td>45</td>\n",
       "    </tr>\n",
       "    <tr>\n",
       "      <th>02</th>\n",
       "      <td>95</td>\n",
       "      <td>95</td>\n",
       "      <td>95</td>\n",
       "      <td>95</td>\n",
       "    </tr>\n",
       "    <tr>\n",
       "      <th>10</th>\n",
       "      <td>102</td>\n",
       "      <td>102</td>\n",
       "      <td>102</td>\n",
       "      <td>102</td>\n",
       "    </tr>\n",
       "    <tr>\n",
       "      <th>11</th>\n",
       "      <td>30</td>\n",
       "      <td>30</td>\n",
       "      <td>30</td>\n",
       "      <td>30</td>\n",
       "    </tr>\n",
       "    <tr>\n",
       "      <th>12</th>\n",
       "      <td>53</td>\n",
       "      <td>53</td>\n",
       "      <td>53</td>\n",
       "      <td>53</td>\n",
       "    </tr>\n",
       "    <tr>\n",
       "      <th>21</th>\n",
       "      <td>47</td>\n",
       "      <td>47</td>\n",
       "      <td>47</td>\n",
       "      <td>47</td>\n",
       "    </tr>\n",
       "    <tr>\n",
       "      <th>22</th>\n",
       "      <td>19</td>\n",
       "      <td>19</td>\n",
       "      <td>19</td>\n",
       "      <td>19</td>\n",
       "    </tr>\n",
       "  </tbody>\n",
       "</table>\n",
       "</div>"
      ],
      "text/plain": [
       "               Total_Value  cluster  cluster_prod  POS_ID\n",
       "cluster_merge                                            \n",
       "00                      19       19            19      19\n",
       "01                      45       45            45      45\n",
       "02                      95       95            95      95\n",
       "10                     102      102           102     102\n",
       "11                      30       30            30      30\n",
       "12                      53       53            53      53\n",
       "21                      47       47            47      47\n",
       "22                      19       19            19      19"
      ]
     },
     "execution_count": 26,
     "metadata": {},
     "output_type": "execute_result"
    }
   ],
   "source": [
    "df_clustered_final.groupby(df_clustered_final['cluster_merge']).count()"
   ]
  },
  {
   "cell_type": "code",
   "execution_count": 28,
   "metadata": {},
   "outputs": [],
   "source": [
    "melted_cust_broad = pd.melt(df_clustered_prod.groupby(df_clustered_prod['cluster']).mean().reset_index(),\\\n",
    "#id_vars= ['cluster'], value_vars= [1,2,3,4,5,6,7,8,9,10,11,12,13,14,15,16,17,17,18,19,20,21])\n",
    "id_vars= ['cluster'], value_vars= [1,2,3,4,5,6,7,8,9,10,11,12,13,14,15,16,17,17,18,19,20,21])#[1,9,12,21]"
   ]
  },
  {
   "cell_type": "code",
   "execution_count": 82,
   "metadata": {},
   "outputs": [
    {
     "name": "stderr",
     "output_type": "stream",
     "text": [
      "<ipython-input-82-d6f1928ee12b>:3: SettingWithCopyWarning:\n",
      "\n",
      "\n",
      "A value is trying to be set on a copy of a slice from a DataFrame\n",
      "\n",
      "See the caveats in the documentation: https://pandas.pydata.org/pandas-docs/stable/user_guide/indexing.html#returning-a-view-versus-a-copy\n",
      "\n"
     ]
    },
    {
     "data": {
      "text/html": [
       "<div>\n",
       "<style scoped>\n",
       "    .dataframe tbody tr th:only-of-type {\n",
       "        vertical-align: middle;\n",
       "    }\n",
       "\n",
       "    .dataframe tbody tr th {\n",
       "        vertical-align: top;\n",
       "    }\n",
       "\n",
       "    .dataframe thead th {\n",
       "        text-align: right;\n",
       "    }\n",
       "</style>\n",
       "<table border=\"1\" class=\"dataframe\">\n",
       "  <thead>\n",
       "    <tr style=\"text-align: right;\">\n",
       "      <th></th>\n",
       "      <th>cluster</th>\n",
       "      <th>variable</th>\n",
       "      <th>value</th>\n",
       "    </tr>\n",
       "  </thead>\n",
       "  <tbody>\n",
       "    <tr>\n",
       "      <th>0</th>\n",
       "      <td>0</td>\n",
       "      <td>1</td>\n",
       "      <td>0.088164</td>\n",
       "    </tr>\n",
       "    <tr>\n",
       "      <th>1</th>\n",
       "      <td>1</td>\n",
       "      <td>1</td>\n",
       "      <td>0.202581</td>\n",
       "    </tr>\n",
       "    <tr>\n",
       "      <th>2</th>\n",
       "      <td>2</td>\n",
       "      <td>1</td>\n",
       "      <td>0.252752</td>\n",
       "    </tr>\n",
       "    <tr>\n",
       "      <th>3</th>\n",
       "      <td>0</td>\n",
       "      <td>9</td>\n",
       "      <td>0.277154</td>\n",
       "    </tr>\n",
       "    <tr>\n",
       "      <th>4</th>\n",
       "      <td>1</td>\n",
       "      <td>9</td>\n",
       "      <td>0.217095</td>\n",
       "    </tr>\n",
       "    <tr>\n",
       "      <th>5</th>\n",
       "      <td>2</td>\n",
       "      <td>9</td>\n",
       "      <td>0.261675</td>\n",
       "    </tr>\n",
       "    <tr>\n",
       "      <th>6</th>\n",
       "      <td>0</td>\n",
       "      <td>12</td>\n",
       "      <td>0.375195</td>\n",
       "    </tr>\n",
       "    <tr>\n",
       "      <th>7</th>\n",
       "      <td>1</td>\n",
       "      <td>12</td>\n",
       "      <td>0.290389</td>\n",
       "    </tr>\n",
       "    <tr>\n",
       "      <th>8</th>\n",
       "      <td>2</td>\n",
       "      <td>12</td>\n",
       "      <td>0.347335</td>\n",
       "    </tr>\n",
       "    <tr>\n",
       "      <th>9</th>\n",
       "      <td>0</td>\n",
       "      <td>21</td>\n",
       "      <td>1.000000</td>\n",
       "    </tr>\n",
       "    <tr>\n",
       "      <th>10</th>\n",
       "      <td>1</td>\n",
       "      <td>21</td>\n",
       "      <td>0.555674</td>\n",
       "    </tr>\n",
       "    <tr>\n",
       "      <th>11</th>\n",
       "      <td>2</td>\n",
       "      <td>21</td>\n",
       "      <td>1.000000</td>\n",
       "    </tr>\n",
       "  </tbody>\n",
       "</table>\n",
       "</div>"
      ],
      "text/plain": [
       "    cluster variable     value\n",
       "0         0        1  0.088164\n",
       "1         1        1  0.202581\n",
       "2         2        1  0.252752\n",
       "3         0        9  0.277154\n",
       "4         1        9  0.217095\n",
       "5         2        9  0.261675\n",
       "6         0       12  0.375195\n",
       "7         1       12  0.290389\n",
       "8         2       12  0.347335\n",
       "9         0       21  1.000000\n",
       "10        1       21  0.555674\n",
       "11        2       21  1.000000"
      ]
     },
     "execution_count": 82,
     "metadata": {},
     "output_type": "execute_result"
    }
   ],
   "source": [
    "melted_cust_broad['value'].min()\n",
    "for i in range(len(melted_cust_broad)):\n",
    "    melted_cust_broad['value'][i]=(melted_cust_broad['value'][i]-melted_cust_broad['value'].min())/(melted_cust_broad['value'].max()-melted_cust_broad['value'].min())\n",
    "melted_cust_broad"
   ]
  },
  {
   "cell_type": "code",
   "execution_count": 37,
   "metadata": {
    "scrolled": false
   },
   "outputs": [
    {
     "data": {
      "application/vnd.plotly.v1+json": {
       "config": {
        "plotlyServerURL": "https://plot.ly"
       },
       "data": [
        {
         "hovertemplate": "cluster=0<br>variable=%{x}<br>value=%{y}<extra></extra>",
         "legendgroup": "0",
         "line": {
          "color": "#636efa",
          "dash": "solid"
         },
         "mode": "lines+markers",
         "name": "0",
         "orientation": "v",
         "showlegend": true,
         "type": "scatter",
         "x": [
          1,
          2,
          3,
          4,
          5,
          6,
          7,
          8,
          9,
          10,
          11,
          12,
          13,
          14,
          15,
          16,
          17,
          17,
          18,
          19,
          20,
          21
         ],
         "xaxis": "x",
         "y": [
          0.7052904373773257,
          0.5419509948549969,
          0.5127912116948327,
          0.3606746309788702,
          0.5028438930412009,
          0.5766327055329824,
          0.44142305800260556,
          0.4873884259570397,
          0.6352813507337016,
          0.4720747929094223,
          0.46935786998860707,
          0.7327075054541465,
          0.444191624150621,
          0.422585294631506,
          0.5535581924428111,
          0.4977435511241061,
          0.4093142784139894,
          0.4093142784139894,
          0.5380438386831836,
          0.0433103840560278,
          0.3670900539129654,
          0.2719035831770881
         ],
         "yaxis": "y"
        },
        {
         "hovertemplate": "cluster=1<br>variable=%{x}<br>value=%{y}<extra></extra>",
         "legendgroup": "1",
         "line": {
          "color": "#EF553B",
          "dash": "solid"
         },
         "mode": "lines+markers",
         "name": "1",
         "orientation": "v",
         "showlegend": true,
         "type": "scatter",
         "x": [
          1,
          2,
          3,
          4,
          5,
          6,
          7,
          8,
          9,
          10,
          11,
          12,
          13,
          14,
          15,
          16,
          17,
          17,
          18,
          19,
          20,
          21
         ],
         "xaxis": "x",
         "y": [
          0.3449661410457466,
          0.19402316354396684,
          0.189016475616413,
          0.16811033481518403,
          0.1912593430195708,
          0.3670299588751138,
          0.19741198512903899,
          0.1682381616386931,
          0.27761015358478713,
          0.17422336748939815,
          0.1969530642157359,
          0.34679649255537515,
          0.14800108902095618,
          0.13571264241557002,
          0.20311033936715794,
          0.19296546741577694,
          0.4146579277045912,
          0.4146579277045912,
          0.17133798110389303,
          0.01981414564534936,
          0.24947213433347196,
          0.6860625707004715
         ],
         "yaxis": "y"
        },
        {
         "hovertemplate": "cluster=2<br>variable=%{x}<br>value=%{y}<extra></extra>",
         "legendgroup": "2",
         "line": {
          "color": "#00cc96",
          "dash": "solid"
         },
         "mode": "lines+markers",
         "name": "2",
         "orientation": "v",
         "showlegend": true,
         "type": "scatter",
         "x": [
          1,
          2,
          3,
          4,
          5,
          6,
          7,
          8,
          9,
          10,
          11,
          12,
          13,
          14,
          15,
          16,
          17,
          17,
          18,
          19,
          20,
          21
         ],
         "xaxis": "x",
         "y": [
          0.5568592731988875,
          0.3415507628198624,
          0.3360291267928367,
          0.24228484098385708,
          0.31312140400719307,
          0.5145627603928887,
          0.29441859793082603,
          0.29165557217608923,
          0.4726367885886803,
          0.3070908273145593,
          0.30564108183548944,
          0.5345141804466993,
          0.2571738211297792,
          0.2493587886216131,
          0.3794311830440484,
          0.3376537329368042,
          0.42562525323582207,
          0.42562525323582207,
          0.3193797685556636,
          0.03131995027974431,
          0.29258429661287805,
          0.47407269411987496
         ],
         "yaxis": "y"
        }
       ],
       "layout": {
        "height": 600,
        "legend": {
         "title": {
          "text": "cluster"
         },
         "tracegroupgap": 0
        },
        "template": {
         "data": {
          "bar": [
           {
            "error_x": {
             "color": "#2a3f5f"
            },
            "error_y": {
             "color": "#2a3f5f"
            },
            "marker": {
             "line": {
              "color": "#E5ECF6",
              "width": 0.5
             }
            },
            "type": "bar"
           }
          ],
          "barpolar": [
           {
            "marker": {
             "line": {
              "color": "#E5ECF6",
              "width": 0.5
             }
            },
            "type": "barpolar"
           }
          ],
          "carpet": [
           {
            "aaxis": {
             "endlinecolor": "#2a3f5f",
             "gridcolor": "white",
             "linecolor": "white",
             "minorgridcolor": "white",
             "startlinecolor": "#2a3f5f"
            },
            "baxis": {
             "endlinecolor": "#2a3f5f",
             "gridcolor": "white",
             "linecolor": "white",
             "minorgridcolor": "white",
             "startlinecolor": "#2a3f5f"
            },
            "type": "carpet"
           }
          ],
          "choropleth": [
           {
            "colorbar": {
             "outlinewidth": 0,
             "ticks": ""
            },
            "type": "choropleth"
           }
          ],
          "contour": [
           {
            "colorbar": {
             "outlinewidth": 0,
             "ticks": ""
            },
            "colorscale": [
             [
              0,
              "#0d0887"
             ],
             [
              0.1111111111111111,
              "#46039f"
             ],
             [
              0.2222222222222222,
              "#7201a8"
             ],
             [
              0.3333333333333333,
              "#9c179e"
             ],
             [
              0.4444444444444444,
              "#bd3786"
             ],
             [
              0.5555555555555556,
              "#d8576b"
             ],
             [
              0.6666666666666666,
              "#ed7953"
             ],
             [
              0.7777777777777778,
              "#fb9f3a"
             ],
             [
              0.8888888888888888,
              "#fdca26"
             ],
             [
              1,
              "#f0f921"
             ]
            ],
            "type": "contour"
           }
          ],
          "contourcarpet": [
           {
            "colorbar": {
             "outlinewidth": 0,
             "ticks": ""
            },
            "type": "contourcarpet"
           }
          ],
          "heatmap": [
           {
            "colorbar": {
             "outlinewidth": 0,
             "ticks": ""
            },
            "colorscale": [
             [
              0,
              "#0d0887"
             ],
             [
              0.1111111111111111,
              "#46039f"
             ],
             [
              0.2222222222222222,
              "#7201a8"
             ],
             [
              0.3333333333333333,
              "#9c179e"
             ],
             [
              0.4444444444444444,
              "#bd3786"
             ],
             [
              0.5555555555555556,
              "#d8576b"
             ],
             [
              0.6666666666666666,
              "#ed7953"
             ],
             [
              0.7777777777777778,
              "#fb9f3a"
             ],
             [
              0.8888888888888888,
              "#fdca26"
             ],
             [
              1,
              "#f0f921"
             ]
            ],
            "type": "heatmap"
           }
          ],
          "heatmapgl": [
           {
            "colorbar": {
             "outlinewidth": 0,
             "ticks": ""
            },
            "colorscale": [
             [
              0,
              "#0d0887"
             ],
             [
              0.1111111111111111,
              "#46039f"
             ],
             [
              0.2222222222222222,
              "#7201a8"
             ],
             [
              0.3333333333333333,
              "#9c179e"
             ],
             [
              0.4444444444444444,
              "#bd3786"
             ],
             [
              0.5555555555555556,
              "#d8576b"
             ],
             [
              0.6666666666666666,
              "#ed7953"
             ],
             [
              0.7777777777777778,
              "#fb9f3a"
             ],
             [
              0.8888888888888888,
              "#fdca26"
             ],
             [
              1,
              "#f0f921"
             ]
            ],
            "type": "heatmapgl"
           }
          ],
          "histogram": [
           {
            "marker": {
             "colorbar": {
              "outlinewidth": 0,
              "ticks": ""
             }
            },
            "type": "histogram"
           }
          ],
          "histogram2d": [
           {
            "colorbar": {
             "outlinewidth": 0,
             "ticks": ""
            },
            "colorscale": [
             [
              0,
              "#0d0887"
             ],
             [
              0.1111111111111111,
              "#46039f"
             ],
             [
              0.2222222222222222,
              "#7201a8"
             ],
             [
              0.3333333333333333,
              "#9c179e"
             ],
             [
              0.4444444444444444,
              "#bd3786"
             ],
             [
              0.5555555555555556,
              "#d8576b"
             ],
             [
              0.6666666666666666,
              "#ed7953"
             ],
             [
              0.7777777777777778,
              "#fb9f3a"
             ],
             [
              0.8888888888888888,
              "#fdca26"
             ],
             [
              1,
              "#f0f921"
             ]
            ],
            "type": "histogram2d"
           }
          ],
          "histogram2dcontour": [
           {
            "colorbar": {
             "outlinewidth": 0,
             "ticks": ""
            },
            "colorscale": [
             [
              0,
              "#0d0887"
             ],
             [
              0.1111111111111111,
              "#46039f"
             ],
             [
              0.2222222222222222,
              "#7201a8"
             ],
             [
              0.3333333333333333,
              "#9c179e"
             ],
             [
              0.4444444444444444,
              "#bd3786"
             ],
             [
              0.5555555555555556,
              "#d8576b"
             ],
             [
              0.6666666666666666,
              "#ed7953"
             ],
             [
              0.7777777777777778,
              "#fb9f3a"
             ],
             [
              0.8888888888888888,
              "#fdca26"
             ],
             [
              1,
              "#f0f921"
             ]
            ],
            "type": "histogram2dcontour"
           }
          ],
          "mesh3d": [
           {
            "colorbar": {
             "outlinewidth": 0,
             "ticks": ""
            },
            "type": "mesh3d"
           }
          ],
          "parcoords": [
           {
            "line": {
             "colorbar": {
              "outlinewidth": 0,
              "ticks": ""
             }
            },
            "type": "parcoords"
           }
          ],
          "pie": [
           {
            "automargin": true,
            "type": "pie"
           }
          ],
          "scatter": [
           {
            "marker": {
             "colorbar": {
              "outlinewidth": 0,
              "ticks": ""
             }
            },
            "type": "scatter"
           }
          ],
          "scatter3d": [
           {
            "line": {
             "colorbar": {
              "outlinewidth": 0,
              "ticks": ""
             }
            },
            "marker": {
             "colorbar": {
              "outlinewidth": 0,
              "ticks": ""
             }
            },
            "type": "scatter3d"
           }
          ],
          "scattercarpet": [
           {
            "marker": {
             "colorbar": {
              "outlinewidth": 0,
              "ticks": ""
             }
            },
            "type": "scattercarpet"
           }
          ],
          "scattergeo": [
           {
            "marker": {
             "colorbar": {
              "outlinewidth": 0,
              "ticks": ""
             }
            },
            "type": "scattergeo"
           }
          ],
          "scattergl": [
           {
            "marker": {
             "colorbar": {
              "outlinewidth": 0,
              "ticks": ""
             }
            },
            "type": "scattergl"
           }
          ],
          "scattermapbox": [
           {
            "marker": {
             "colorbar": {
              "outlinewidth": 0,
              "ticks": ""
             }
            },
            "type": "scattermapbox"
           }
          ],
          "scatterpolar": [
           {
            "marker": {
             "colorbar": {
              "outlinewidth": 0,
              "ticks": ""
             }
            },
            "type": "scatterpolar"
           }
          ],
          "scatterpolargl": [
           {
            "marker": {
             "colorbar": {
              "outlinewidth": 0,
              "ticks": ""
             }
            },
            "type": "scatterpolargl"
           }
          ],
          "scatterternary": [
           {
            "marker": {
             "colorbar": {
              "outlinewidth": 0,
              "ticks": ""
             }
            },
            "type": "scatterternary"
           }
          ],
          "surface": [
           {
            "colorbar": {
             "outlinewidth": 0,
             "ticks": ""
            },
            "colorscale": [
             [
              0,
              "#0d0887"
             ],
             [
              0.1111111111111111,
              "#46039f"
             ],
             [
              0.2222222222222222,
              "#7201a8"
             ],
             [
              0.3333333333333333,
              "#9c179e"
             ],
             [
              0.4444444444444444,
              "#bd3786"
             ],
             [
              0.5555555555555556,
              "#d8576b"
             ],
             [
              0.6666666666666666,
              "#ed7953"
             ],
             [
              0.7777777777777778,
              "#fb9f3a"
             ],
             [
              0.8888888888888888,
              "#fdca26"
             ],
             [
              1,
              "#f0f921"
             ]
            ],
            "type": "surface"
           }
          ],
          "table": [
           {
            "cells": {
             "fill": {
              "color": "#EBF0F8"
             },
             "line": {
              "color": "white"
             }
            },
            "header": {
             "fill": {
              "color": "#C8D4E3"
             },
             "line": {
              "color": "white"
             }
            },
            "type": "table"
           }
          ]
         },
         "layout": {
          "annotationdefaults": {
           "arrowcolor": "#2a3f5f",
           "arrowhead": 0,
           "arrowwidth": 1
          },
          "autotypenumbers": "strict",
          "coloraxis": {
           "colorbar": {
            "outlinewidth": 0,
            "ticks": ""
           }
          },
          "colorscale": {
           "diverging": [
            [
             0,
             "#8e0152"
            ],
            [
             0.1,
             "#c51b7d"
            ],
            [
             0.2,
             "#de77ae"
            ],
            [
             0.3,
             "#f1b6da"
            ],
            [
             0.4,
             "#fde0ef"
            ],
            [
             0.5,
             "#f7f7f7"
            ],
            [
             0.6,
             "#e6f5d0"
            ],
            [
             0.7,
             "#b8e186"
            ],
            [
             0.8,
             "#7fbc41"
            ],
            [
             0.9,
             "#4d9221"
            ],
            [
             1,
             "#276419"
            ]
           ],
           "sequential": [
            [
             0,
             "#0d0887"
            ],
            [
             0.1111111111111111,
             "#46039f"
            ],
            [
             0.2222222222222222,
             "#7201a8"
            ],
            [
             0.3333333333333333,
             "#9c179e"
            ],
            [
             0.4444444444444444,
             "#bd3786"
            ],
            [
             0.5555555555555556,
             "#d8576b"
            ],
            [
             0.6666666666666666,
             "#ed7953"
            ],
            [
             0.7777777777777778,
             "#fb9f3a"
            ],
            [
             0.8888888888888888,
             "#fdca26"
            ],
            [
             1,
             "#f0f921"
            ]
           ],
           "sequentialminus": [
            [
             0,
             "#0d0887"
            ],
            [
             0.1111111111111111,
             "#46039f"
            ],
            [
             0.2222222222222222,
             "#7201a8"
            ],
            [
             0.3333333333333333,
             "#9c179e"
            ],
            [
             0.4444444444444444,
             "#bd3786"
            ],
            [
             0.5555555555555556,
             "#d8576b"
            ],
            [
             0.6666666666666666,
             "#ed7953"
            ],
            [
             0.7777777777777778,
             "#fb9f3a"
            ],
            [
             0.8888888888888888,
             "#fdca26"
            ],
            [
             1,
             "#f0f921"
            ]
           ]
          },
          "colorway": [
           "#636efa",
           "#EF553B",
           "#00cc96",
           "#ab63fa",
           "#FFA15A",
           "#19d3f3",
           "#FF6692",
           "#B6E880",
           "#FF97FF",
           "#FECB52"
          ],
          "font": {
           "color": "#2a3f5f"
          },
          "geo": {
           "bgcolor": "white",
           "lakecolor": "white",
           "landcolor": "#E5ECF6",
           "showlakes": true,
           "showland": true,
           "subunitcolor": "white"
          },
          "hoverlabel": {
           "align": "left"
          },
          "hovermode": "closest",
          "mapbox": {
           "style": "light"
          },
          "paper_bgcolor": "white",
          "plot_bgcolor": "#E5ECF6",
          "polar": {
           "angularaxis": {
            "gridcolor": "white",
            "linecolor": "white",
            "ticks": ""
           },
           "bgcolor": "#E5ECF6",
           "radialaxis": {
            "gridcolor": "white",
            "linecolor": "white",
            "ticks": ""
           }
          },
          "scene": {
           "xaxis": {
            "backgroundcolor": "#E5ECF6",
            "gridcolor": "white",
            "gridwidth": 2,
            "linecolor": "white",
            "showbackground": true,
            "ticks": "",
            "zerolinecolor": "white"
           },
           "yaxis": {
            "backgroundcolor": "#E5ECF6",
            "gridcolor": "white",
            "gridwidth": 2,
            "linecolor": "white",
            "showbackground": true,
            "ticks": "",
            "zerolinecolor": "white"
           },
           "zaxis": {
            "backgroundcolor": "#E5ECF6",
            "gridcolor": "white",
            "gridwidth": 2,
            "linecolor": "white",
            "showbackground": true,
            "ticks": "",
            "zerolinecolor": "white"
           }
          },
          "shapedefaults": {
           "line": {
            "color": "#2a3f5f"
           }
          },
          "ternary": {
           "aaxis": {
            "gridcolor": "white",
            "linecolor": "white",
            "ticks": ""
           },
           "baxis": {
            "gridcolor": "white",
            "linecolor": "white",
            "ticks": ""
           },
           "bgcolor": "#E5ECF6",
           "caxis": {
            "gridcolor": "white",
            "linecolor": "white",
            "ticks": ""
           }
          },
          "title": {
           "x": 0.05
          },
          "xaxis": {
           "automargin": true,
           "gridcolor": "white",
           "linecolor": "white",
           "ticks": "",
           "title": {
            "standoff": 15
           },
           "zerolinecolor": "white",
           "zerolinewidth": 2
          },
          "yaxis": {
           "automargin": true,
           "gridcolor": "white",
           "linecolor": "white",
           "ticks": "",
           "title": {
            "standoff": 15
           },
           "zerolinecolor": "white",
           "zerolinewidth": 2
          }
         }
        },
        "title": {
         "text": "Product families percentage of presence in orders of clusters"
        },
        "width": 900,
        "xaxis": {
         "anchor": "y",
         "domain": [
          0,
          1
         ],
         "title": {
          "text": "variable"
         }
        },
        "yaxis": {
         "anchor": "x",
         "domain": [
          0,
          1
         ],
         "title": {
          "text": "value"
         }
        }
       }
      },
      "text/html": [
       "<div>                            <div id=\"12c6db9c-0627-41d2-8dc1-4cea1f7e359a\" class=\"plotly-graph-div\" style=\"height:600px; width:900px;\"></div>            <script type=\"text/javascript\">                require([\"plotly\"], function(Plotly) {                    window.PLOTLYENV=window.PLOTLYENV || {};                                    if (document.getElementById(\"12c6db9c-0627-41d2-8dc1-4cea1f7e359a\")) {                    Plotly.newPlot(                        \"12c6db9c-0627-41d2-8dc1-4cea1f7e359a\",                        [{\"hovertemplate\": \"cluster=0<br>variable=%{x}<br>value=%{y}<extra></extra>\", \"legendgroup\": \"0\", \"line\": {\"color\": \"#636efa\", \"dash\": \"solid\"}, \"mode\": \"lines+markers\", \"name\": \"0\", \"orientation\": \"v\", \"showlegend\": true, \"type\": \"scatter\", \"x\": [1, 2, 3, 4, 5, 6, 7, 8, 9, 10, 11, 12, 13, 14, 15, 16, 17, 17, 18, 19, 20, 21], \"xaxis\": \"x\", \"y\": [0.7052904373773257, 0.5419509948549969, 0.5127912116948327, 0.3606746309788702, 0.5028438930412009, 0.5766327055329824, 0.44142305800260556, 0.4873884259570397, 0.6352813507337016, 0.4720747929094223, 0.46935786998860707, 0.7327075054541465, 0.444191624150621, 0.422585294631506, 0.5535581924428111, 0.4977435511241061, 0.4093142784139894, 0.4093142784139894, 0.5380438386831836, 0.0433103840560278, 0.3670900539129654, 0.2719035831770881], \"yaxis\": \"y\"}, {\"hovertemplate\": \"cluster=1<br>variable=%{x}<br>value=%{y}<extra></extra>\", \"legendgroup\": \"1\", \"line\": {\"color\": \"#EF553B\", \"dash\": \"solid\"}, \"mode\": \"lines+markers\", \"name\": \"1\", \"orientation\": \"v\", \"showlegend\": true, \"type\": \"scatter\", \"x\": [1, 2, 3, 4, 5, 6, 7, 8, 9, 10, 11, 12, 13, 14, 15, 16, 17, 17, 18, 19, 20, 21], \"xaxis\": \"x\", \"y\": [0.3449661410457466, 0.19402316354396684, 0.189016475616413, 0.16811033481518403, 0.1912593430195708, 0.3670299588751138, 0.19741198512903899, 0.1682381616386931, 0.27761015358478713, 0.17422336748939815, 0.1969530642157359, 0.34679649255537515, 0.14800108902095618, 0.13571264241557002, 0.20311033936715794, 0.19296546741577694, 0.4146579277045912, 0.4146579277045912, 0.17133798110389303, 0.01981414564534936, 0.24947213433347196, 0.6860625707004715], \"yaxis\": \"y\"}, {\"hovertemplate\": \"cluster=2<br>variable=%{x}<br>value=%{y}<extra></extra>\", \"legendgroup\": \"2\", \"line\": {\"color\": \"#00cc96\", \"dash\": \"solid\"}, \"mode\": \"lines+markers\", \"name\": \"2\", \"orientation\": \"v\", \"showlegend\": true, \"type\": \"scatter\", \"x\": [1, 2, 3, 4, 5, 6, 7, 8, 9, 10, 11, 12, 13, 14, 15, 16, 17, 17, 18, 19, 20, 21], \"xaxis\": \"x\", \"y\": [0.5568592731988875, 0.3415507628198624, 0.3360291267928367, 0.24228484098385708, 0.31312140400719307, 0.5145627603928887, 0.29441859793082603, 0.29165557217608923, 0.4726367885886803, 0.3070908273145593, 0.30564108183548944, 0.5345141804466993, 0.2571738211297792, 0.2493587886216131, 0.3794311830440484, 0.3376537329368042, 0.42562525323582207, 0.42562525323582207, 0.3193797685556636, 0.03131995027974431, 0.29258429661287805, 0.47407269411987496], \"yaxis\": \"y\"}],                        {\"height\": 600, \"legend\": {\"title\": {\"text\": \"cluster\"}, \"tracegroupgap\": 0}, \"template\": {\"data\": {\"bar\": [{\"error_x\": {\"color\": \"#2a3f5f\"}, \"error_y\": {\"color\": \"#2a3f5f\"}, \"marker\": {\"line\": {\"color\": \"#E5ECF6\", \"width\": 0.5}}, \"type\": \"bar\"}], \"barpolar\": [{\"marker\": {\"line\": {\"color\": \"#E5ECF6\", \"width\": 0.5}}, \"type\": \"barpolar\"}], \"carpet\": [{\"aaxis\": {\"endlinecolor\": \"#2a3f5f\", \"gridcolor\": \"white\", \"linecolor\": \"white\", \"minorgridcolor\": \"white\", \"startlinecolor\": \"#2a3f5f\"}, \"baxis\": {\"endlinecolor\": \"#2a3f5f\", \"gridcolor\": \"white\", \"linecolor\": \"white\", \"minorgridcolor\": \"white\", \"startlinecolor\": \"#2a3f5f\"}, \"type\": \"carpet\"}], \"choropleth\": [{\"colorbar\": {\"outlinewidth\": 0, \"ticks\": \"\"}, \"type\": \"choropleth\"}], \"contour\": [{\"colorbar\": {\"outlinewidth\": 0, \"ticks\": \"\"}, \"colorscale\": [[0.0, \"#0d0887\"], [0.1111111111111111, \"#46039f\"], [0.2222222222222222, \"#7201a8\"], [0.3333333333333333, \"#9c179e\"], [0.4444444444444444, \"#bd3786\"], [0.5555555555555556, \"#d8576b\"], [0.6666666666666666, \"#ed7953\"], [0.7777777777777778, \"#fb9f3a\"], [0.8888888888888888, \"#fdca26\"], [1.0, \"#f0f921\"]], \"type\": \"contour\"}], \"contourcarpet\": [{\"colorbar\": {\"outlinewidth\": 0, \"ticks\": \"\"}, \"type\": \"contourcarpet\"}], \"heatmap\": [{\"colorbar\": {\"outlinewidth\": 0, \"ticks\": \"\"}, \"colorscale\": [[0.0, \"#0d0887\"], [0.1111111111111111, \"#46039f\"], [0.2222222222222222, \"#7201a8\"], [0.3333333333333333, \"#9c179e\"], [0.4444444444444444, \"#bd3786\"], [0.5555555555555556, \"#d8576b\"], [0.6666666666666666, \"#ed7953\"], [0.7777777777777778, \"#fb9f3a\"], [0.8888888888888888, \"#fdca26\"], [1.0, \"#f0f921\"]], \"type\": \"heatmap\"}], \"heatmapgl\": [{\"colorbar\": {\"outlinewidth\": 0, \"ticks\": \"\"}, \"colorscale\": [[0.0, \"#0d0887\"], [0.1111111111111111, \"#46039f\"], [0.2222222222222222, \"#7201a8\"], [0.3333333333333333, \"#9c179e\"], [0.4444444444444444, \"#bd3786\"], [0.5555555555555556, \"#d8576b\"], [0.6666666666666666, \"#ed7953\"], [0.7777777777777778, \"#fb9f3a\"], [0.8888888888888888, \"#fdca26\"], [1.0, \"#f0f921\"]], \"type\": \"heatmapgl\"}], \"histogram\": [{\"marker\": {\"colorbar\": {\"outlinewidth\": 0, \"ticks\": \"\"}}, \"type\": \"histogram\"}], \"histogram2d\": [{\"colorbar\": {\"outlinewidth\": 0, \"ticks\": \"\"}, \"colorscale\": [[0.0, \"#0d0887\"], [0.1111111111111111, \"#46039f\"], [0.2222222222222222, \"#7201a8\"], [0.3333333333333333, \"#9c179e\"], [0.4444444444444444, \"#bd3786\"], [0.5555555555555556, \"#d8576b\"], [0.6666666666666666, \"#ed7953\"], [0.7777777777777778, \"#fb9f3a\"], [0.8888888888888888, \"#fdca26\"], [1.0, \"#f0f921\"]], \"type\": \"histogram2d\"}], \"histogram2dcontour\": [{\"colorbar\": {\"outlinewidth\": 0, \"ticks\": \"\"}, \"colorscale\": [[0.0, \"#0d0887\"], [0.1111111111111111, \"#46039f\"], [0.2222222222222222, \"#7201a8\"], [0.3333333333333333, \"#9c179e\"], [0.4444444444444444, \"#bd3786\"], [0.5555555555555556, \"#d8576b\"], [0.6666666666666666, \"#ed7953\"], [0.7777777777777778, \"#fb9f3a\"], [0.8888888888888888, \"#fdca26\"], [1.0, \"#f0f921\"]], \"type\": \"histogram2dcontour\"}], \"mesh3d\": [{\"colorbar\": {\"outlinewidth\": 0, \"ticks\": \"\"}, \"type\": \"mesh3d\"}], \"parcoords\": [{\"line\": {\"colorbar\": {\"outlinewidth\": 0, \"ticks\": \"\"}}, \"type\": \"parcoords\"}], \"pie\": [{\"automargin\": true, \"type\": \"pie\"}], \"scatter\": [{\"marker\": {\"colorbar\": {\"outlinewidth\": 0, \"ticks\": \"\"}}, \"type\": \"scatter\"}], \"scatter3d\": [{\"line\": {\"colorbar\": {\"outlinewidth\": 0, \"ticks\": \"\"}}, \"marker\": {\"colorbar\": {\"outlinewidth\": 0, \"ticks\": \"\"}}, \"type\": \"scatter3d\"}], \"scattercarpet\": [{\"marker\": {\"colorbar\": {\"outlinewidth\": 0, \"ticks\": \"\"}}, \"type\": \"scattercarpet\"}], \"scattergeo\": [{\"marker\": {\"colorbar\": {\"outlinewidth\": 0, \"ticks\": \"\"}}, \"type\": \"scattergeo\"}], \"scattergl\": [{\"marker\": {\"colorbar\": {\"outlinewidth\": 0, \"ticks\": \"\"}}, \"type\": \"scattergl\"}], \"scattermapbox\": [{\"marker\": {\"colorbar\": {\"outlinewidth\": 0, \"ticks\": \"\"}}, \"type\": \"scattermapbox\"}], \"scatterpolar\": [{\"marker\": {\"colorbar\": {\"outlinewidth\": 0, \"ticks\": \"\"}}, \"type\": \"scatterpolar\"}], \"scatterpolargl\": [{\"marker\": {\"colorbar\": {\"outlinewidth\": 0, \"ticks\": \"\"}}, \"type\": \"scatterpolargl\"}], \"scatterternary\": [{\"marker\": {\"colorbar\": {\"outlinewidth\": 0, \"ticks\": \"\"}}, \"type\": \"scatterternary\"}], \"surface\": [{\"colorbar\": {\"outlinewidth\": 0, \"ticks\": \"\"}, \"colorscale\": [[0.0, \"#0d0887\"], [0.1111111111111111, \"#46039f\"], [0.2222222222222222, \"#7201a8\"], [0.3333333333333333, \"#9c179e\"], [0.4444444444444444, \"#bd3786\"], [0.5555555555555556, \"#d8576b\"], [0.6666666666666666, \"#ed7953\"], [0.7777777777777778, \"#fb9f3a\"], [0.8888888888888888, \"#fdca26\"], [1.0, \"#f0f921\"]], \"type\": \"surface\"}], \"table\": [{\"cells\": {\"fill\": {\"color\": \"#EBF0F8\"}, \"line\": {\"color\": \"white\"}}, \"header\": {\"fill\": {\"color\": \"#C8D4E3\"}, \"line\": {\"color\": \"white\"}}, \"type\": \"table\"}]}, \"layout\": {\"annotationdefaults\": {\"arrowcolor\": \"#2a3f5f\", \"arrowhead\": 0, \"arrowwidth\": 1}, \"autotypenumbers\": \"strict\", \"coloraxis\": {\"colorbar\": {\"outlinewidth\": 0, \"ticks\": \"\"}}, \"colorscale\": {\"diverging\": [[0, \"#8e0152\"], [0.1, \"#c51b7d\"], [0.2, \"#de77ae\"], [0.3, \"#f1b6da\"], [0.4, \"#fde0ef\"], [0.5, \"#f7f7f7\"], [0.6, \"#e6f5d0\"], [0.7, \"#b8e186\"], [0.8, \"#7fbc41\"], [0.9, \"#4d9221\"], [1, \"#276419\"]], \"sequential\": [[0.0, \"#0d0887\"], [0.1111111111111111, \"#46039f\"], [0.2222222222222222, \"#7201a8\"], [0.3333333333333333, \"#9c179e\"], [0.4444444444444444, \"#bd3786\"], [0.5555555555555556, \"#d8576b\"], [0.6666666666666666, \"#ed7953\"], [0.7777777777777778, \"#fb9f3a\"], [0.8888888888888888, \"#fdca26\"], [1.0, \"#f0f921\"]], \"sequentialminus\": [[0.0, \"#0d0887\"], [0.1111111111111111, \"#46039f\"], [0.2222222222222222, \"#7201a8\"], [0.3333333333333333, \"#9c179e\"], [0.4444444444444444, \"#bd3786\"], [0.5555555555555556, \"#d8576b\"], [0.6666666666666666, \"#ed7953\"], [0.7777777777777778, \"#fb9f3a\"], [0.8888888888888888, \"#fdca26\"], [1.0, \"#f0f921\"]]}, \"colorway\": [\"#636efa\", \"#EF553B\", \"#00cc96\", \"#ab63fa\", \"#FFA15A\", \"#19d3f3\", \"#FF6692\", \"#B6E880\", \"#FF97FF\", \"#FECB52\"], \"font\": {\"color\": \"#2a3f5f\"}, \"geo\": {\"bgcolor\": \"white\", \"lakecolor\": \"white\", \"landcolor\": \"#E5ECF6\", \"showlakes\": true, \"showland\": true, \"subunitcolor\": \"white\"}, \"hoverlabel\": {\"align\": \"left\"}, \"hovermode\": \"closest\", \"mapbox\": {\"style\": \"light\"}, \"paper_bgcolor\": \"white\", \"plot_bgcolor\": \"#E5ECF6\", \"polar\": {\"angularaxis\": {\"gridcolor\": \"white\", \"linecolor\": \"white\", \"ticks\": \"\"}, \"bgcolor\": \"#E5ECF6\", \"radialaxis\": {\"gridcolor\": \"white\", \"linecolor\": \"white\", \"ticks\": \"\"}}, \"scene\": {\"xaxis\": {\"backgroundcolor\": \"#E5ECF6\", \"gridcolor\": \"white\", \"gridwidth\": 2, \"linecolor\": \"white\", \"showbackground\": true, \"ticks\": \"\", \"zerolinecolor\": \"white\"}, \"yaxis\": {\"backgroundcolor\": \"#E5ECF6\", \"gridcolor\": \"white\", \"gridwidth\": 2, \"linecolor\": \"white\", \"showbackground\": true, \"ticks\": \"\", \"zerolinecolor\": \"white\"}, \"zaxis\": {\"backgroundcolor\": \"#E5ECF6\", \"gridcolor\": \"white\", \"gridwidth\": 2, \"linecolor\": \"white\", \"showbackground\": true, \"ticks\": \"\", \"zerolinecolor\": \"white\"}}, \"shapedefaults\": {\"line\": {\"color\": \"#2a3f5f\"}}, \"ternary\": {\"aaxis\": {\"gridcolor\": \"white\", \"linecolor\": \"white\", \"ticks\": \"\"}, \"baxis\": {\"gridcolor\": \"white\", \"linecolor\": \"white\", \"ticks\": \"\"}, \"bgcolor\": \"#E5ECF6\", \"caxis\": {\"gridcolor\": \"white\", \"linecolor\": \"white\", \"ticks\": \"\"}}, \"title\": {\"x\": 0.05}, \"xaxis\": {\"automargin\": true, \"gridcolor\": \"white\", \"linecolor\": \"white\", \"ticks\": \"\", \"title\": {\"standoff\": 15}, \"zerolinecolor\": \"white\", \"zerolinewidth\": 2}, \"yaxis\": {\"automargin\": true, \"gridcolor\": \"white\", \"linecolor\": \"white\", \"ticks\": \"\", \"title\": {\"standoff\": 15}, \"zerolinecolor\": \"white\", \"zerolinewidth\": 2}}}, \"title\": {\"text\": \"Product families percentage of presence in orders of clusters\"}, \"width\": 900, \"xaxis\": {\"anchor\": \"y\", \"domain\": [0.0, 1.0], \"title\": {\"text\": \"variable\"}}, \"yaxis\": {\"anchor\": \"x\", \"domain\": [0.0, 1.0], \"title\": {\"text\": \"value\"}}},                        {\"responsive\": true}                    ).then(function(){\n",
       "                            \n",
       "var gd = document.getElementById('12c6db9c-0627-41d2-8dc1-4cea1f7e359a');\n",
       "var x = new MutationObserver(function (mutations, observer) {{\n",
       "        var display = window.getComputedStyle(gd).display;\n",
       "        if (!display || display === 'none') {{\n",
       "            console.log([gd, 'removed!']);\n",
       "            Plotly.purge(gd);\n",
       "            observer.disconnect();\n",
       "        }}\n",
       "}});\n",
       "\n",
       "// Listen for the removal of the full notebook cells\n",
       "var notebookContainer = gd.closest('#notebook-container');\n",
       "if (notebookContainer) {{\n",
       "    x.observe(notebookContainer, {childList: true});\n",
       "}}\n",
       "\n",
       "// Listen for the clearing of the current output cell\n",
       "var outputEl = gd.closest('.output');\n",
       "if (outputEl) {{\n",
       "    x.observe(outputEl, {childList: true});\n",
       "}}\n",
       "\n",
       "                        })                };                });            </script>        </div>"
      ]
     },
     "metadata": {},
     "output_type": "display_data"
    }
   ],
   "source": [
    "fig_cust = px.line(melted_cust_broad, x = \"variable\", y = \"value\", color = 'cluster', title='Product families percentage of presence in orders of clusters',\\\n",
    "                   height=600, width=900, ).update_traces(mode='lines+markers') #y_title = '% of orders with that Product Family (Unscaled)'\n",
    "fig_cust.show()"
   ]
  },
  {
   "cell_type": "code",
   "execution_count": 41,
   "metadata": {},
   "outputs": [],
   "source": [
    "df_clustered_value.rename({'Purchased_Units': 'Purchases_Made'}, axis=1, inplace=True)"
   ]
  },
  {
   "cell_type": "code",
   "execution_count": 42,
   "metadata": {
    "scrolled": true
   },
   "outputs": [
    {
     "data": {
      "text/html": [
       "<div>\n",
       "<style scoped>\n",
       "    .dataframe tbody tr th:only-of-type {\n",
       "        vertical-align: middle;\n",
       "    }\n",
       "\n",
       "    .dataframe tbody tr th {\n",
       "        vertical-align: top;\n",
       "    }\n",
       "\n",
       "    .dataframe thead th {\n",
       "        text-align: right;\n",
       "    }\n",
       "</style>\n",
       "<table border=\"1\" class=\"dataframe\">\n",
       "  <thead>\n",
       "    <tr style=\"text-align: right;\">\n",
       "      <th></th>\n",
       "      <th>Total_Value</th>\n",
       "      <th>Total_Units</th>\n",
       "      <th>Purchases_Made</th>\n",
       "    </tr>\n",
       "    <tr>\n",
       "      <th>cluster</th>\n",
       "      <th></th>\n",
       "      <th></th>\n",
       "      <th></th>\n",
       "    </tr>\n",
       "  </thead>\n",
       "  <tbody>\n",
       "    <tr>\n",
       "      <th>0</th>\n",
       "      <td>0.325519</td>\n",
       "      <td>0.336399</td>\n",
       "      <td>0.432593</td>\n",
       "    </tr>\n",
       "    <tr>\n",
       "      <th>1</th>\n",
       "      <td>0.157069</td>\n",
       "      <td>0.160987</td>\n",
       "      <td>0.212965</td>\n",
       "    </tr>\n",
       "    <tr>\n",
       "      <th>2</th>\n",
       "      <td>0.549779</td>\n",
       "      <td>0.564369</td>\n",
       "      <td>0.659615</td>\n",
       "    </tr>\n",
       "  </tbody>\n",
       "</table>\n",
       "</div>"
      ],
      "text/plain": [
       "         Total_Value  Total_Units  Purchases_Made\n",
       "cluster                                          \n",
       "0           0.325519     0.336399        0.432593\n",
       "1           0.157069     0.160987        0.212965\n",
       "2           0.549779     0.564369        0.659615"
      ]
     },
     "execution_count": 42,
     "metadata": {},
     "output_type": "execute_result"
    }
   ],
   "source": [
    "df_clustered_value.groupby(df_clustered_value['cluster']).mean()"
   ]
  },
  {
   "cell_type": "code",
   "execution_count": 43,
   "metadata": {},
   "outputs": [],
   "source": [
    "melted_numerical = pd.melt(df_clustered_value.groupby(df_clustered_value['cluster']).mean().reset_index(),\\\n",
    "#id_vars= ['cluster'], value_vars= [1,2,3,4,5,6,7,8,9,10,11,12,13,14,15,16,17,17,18,19,20,21])\n",
    "id_vars= ['cluster'], value_vars= ['Total_Value', 'Total_Units', 'Purchases_Made'])#[1,9,12,21]"
   ]
  },
  {
   "cell_type": "code",
   "execution_count": 44,
   "metadata": {},
   "outputs": [
    {
     "data": {
      "text/html": [
       "<div>\n",
       "<style scoped>\n",
       "    .dataframe tbody tr th:only-of-type {\n",
       "        vertical-align: middle;\n",
       "    }\n",
       "\n",
       "    .dataframe tbody tr th {\n",
       "        vertical-align: top;\n",
       "    }\n",
       "\n",
       "    .dataframe thead th {\n",
       "        text-align: right;\n",
       "    }\n",
       "</style>\n",
       "<table border=\"1\" class=\"dataframe\">\n",
       "  <thead>\n",
       "    <tr style=\"text-align: right;\">\n",
       "      <th></th>\n",
       "      <th>cluster</th>\n",
       "      <th>variable</th>\n",
       "      <th>value</th>\n",
       "    </tr>\n",
       "  </thead>\n",
       "  <tbody>\n",
       "    <tr>\n",
       "      <th>0</th>\n",
       "      <td>0</td>\n",
       "      <td>Total_Value</td>\n",
       "      <td>0.325519</td>\n",
       "    </tr>\n",
       "    <tr>\n",
       "      <th>1</th>\n",
       "      <td>1</td>\n",
       "      <td>Total_Value</td>\n",
       "      <td>0.157069</td>\n",
       "    </tr>\n",
       "    <tr>\n",
       "      <th>2</th>\n",
       "      <td>2</td>\n",
       "      <td>Total_Value</td>\n",
       "      <td>0.549779</td>\n",
       "    </tr>\n",
       "    <tr>\n",
       "      <th>3</th>\n",
       "      <td>0</td>\n",
       "      <td>Total_Units</td>\n",
       "      <td>0.336399</td>\n",
       "    </tr>\n",
       "    <tr>\n",
       "      <th>4</th>\n",
       "      <td>1</td>\n",
       "      <td>Total_Units</td>\n",
       "      <td>0.160987</td>\n",
       "    </tr>\n",
       "  </tbody>\n",
       "</table>\n",
       "</div>"
      ],
      "text/plain": [
       "   cluster     variable     value\n",
       "0        0  Total_Value  0.325519\n",
       "1        1  Total_Value  0.157069\n",
       "2        2  Total_Value  0.549779\n",
       "3        0  Total_Units  0.336399\n",
       "4        1  Total_Units  0.160987"
      ]
     },
     "execution_count": 44,
     "metadata": {},
     "output_type": "execute_result"
    }
   ],
   "source": [
    "melted_numerical.head()"
   ]
  },
  {
   "cell_type": "code",
   "execution_count": 45,
   "metadata": {},
   "outputs": [
    {
     "data": {
      "application/vnd.plotly.v1+json": {
       "config": {
        "plotlyServerURL": "https://plot.ly"
       },
       "data": [
        {
         "hovertemplate": "cluster=0<br>variable=%{x}<br>value=%{y}<extra></extra>",
         "legendgroup": "0",
         "line": {
          "color": "#636efa",
          "dash": "solid"
         },
         "mode": "lines+markers",
         "name": "0",
         "orientation": "v",
         "showlegend": true,
         "type": "scatter",
         "x": [
          "Total_Value",
          "Total_Units",
          "Purchases_Made"
         ],
         "xaxis": "x",
         "y": [
          0.3255188745376572,
          0.3363988832661028,
          0.43259308267368435
         ],
         "yaxis": "y"
        },
        {
         "hovertemplate": "cluster=1<br>variable=%{x}<br>value=%{y}<extra></extra>",
         "legendgroup": "1",
         "line": {
          "color": "#EF553B",
          "dash": "solid"
         },
         "mode": "lines+markers",
         "name": "1",
         "orientation": "v",
         "showlegend": true,
         "type": "scatter",
         "x": [
          "Total_Value",
          "Total_Units",
          "Purchases_Made"
         ],
         "xaxis": "x",
         "y": [
          0.15706903514323753,
          0.1609872683702161,
          0.2129645229148132
         ],
         "yaxis": "y"
        },
        {
         "hovertemplate": "cluster=2<br>variable=%{x}<br>value=%{y}<extra></extra>",
         "legendgroup": "2",
         "line": {
          "color": "#00cc96",
          "dash": "solid"
         },
         "mode": "lines+markers",
         "name": "2",
         "orientation": "v",
         "showlegend": true,
         "type": "scatter",
         "x": [
          "Total_Value",
          "Total_Units",
          "Purchases_Made"
         ],
         "xaxis": "x",
         "y": [
          0.5497786437101676,
          0.5643694449347678,
          0.659615202334117
         ],
         "yaxis": "y"
        }
       ],
       "layout": {
        "height": 600,
        "legend": {
         "title": {
          "text": "cluster"
         },
         "tracegroupgap": 0
        },
        "template": {
         "data": {
          "bar": [
           {
            "error_x": {
             "color": "#2a3f5f"
            },
            "error_y": {
             "color": "#2a3f5f"
            },
            "marker": {
             "line": {
              "color": "#E5ECF6",
              "width": 0.5
             }
            },
            "type": "bar"
           }
          ],
          "barpolar": [
           {
            "marker": {
             "line": {
              "color": "#E5ECF6",
              "width": 0.5
             }
            },
            "type": "barpolar"
           }
          ],
          "carpet": [
           {
            "aaxis": {
             "endlinecolor": "#2a3f5f",
             "gridcolor": "white",
             "linecolor": "white",
             "minorgridcolor": "white",
             "startlinecolor": "#2a3f5f"
            },
            "baxis": {
             "endlinecolor": "#2a3f5f",
             "gridcolor": "white",
             "linecolor": "white",
             "minorgridcolor": "white",
             "startlinecolor": "#2a3f5f"
            },
            "type": "carpet"
           }
          ],
          "choropleth": [
           {
            "colorbar": {
             "outlinewidth": 0,
             "ticks": ""
            },
            "type": "choropleth"
           }
          ],
          "contour": [
           {
            "colorbar": {
             "outlinewidth": 0,
             "ticks": ""
            },
            "colorscale": [
             [
              0,
              "#0d0887"
             ],
             [
              0.1111111111111111,
              "#46039f"
             ],
             [
              0.2222222222222222,
              "#7201a8"
             ],
             [
              0.3333333333333333,
              "#9c179e"
             ],
             [
              0.4444444444444444,
              "#bd3786"
             ],
             [
              0.5555555555555556,
              "#d8576b"
             ],
             [
              0.6666666666666666,
              "#ed7953"
             ],
             [
              0.7777777777777778,
              "#fb9f3a"
             ],
             [
              0.8888888888888888,
              "#fdca26"
             ],
             [
              1,
              "#f0f921"
             ]
            ],
            "type": "contour"
           }
          ],
          "contourcarpet": [
           {
            "colorbar": {
             "outlinewidth": 0,
             "ticks": ""
            },
            "type": "contourcarpet"
           }
          ],
          "heatmap": [
           {
            "colorbar": {
             "outlinewidth": 0,
             "ticks": ""
            },
            "colorscale": [
             [
              0,
              "#0d0887"
             ],
             [
              0.1111111111111111,
              "#46039f"
             ],
             [
              0.2222222222222222,
              "#7201a8"
             ],
             [
              0.3333333333333333,
              "#9c179e"
             ],
             [
              0.4444444444444444,
              "#bd3786"
             ],
             [
              0.5555555555555556,
              "#d8576b"
             ],
             [
              0.6666666666666666,
              "#ed7953"
             ],
             [
              0.7777777777777778,
              "#fb9f3a"
             ],
             [
              0.8888888888888888,
              "#fdca26"
             ],
             [
              1,
              "#f0f921"
             ]
            ],
            "type": "heatmap"
           }
          ],
          "heatmapgl": [
           {
            "colorbar": {
             "outlinewidth": 0,
             "ticks": ""
            },
            "colorscale": [
             [
              0,
              "#0d0887"
             ],
             [
              0.1111111111111111,
              "#46039f"
             ],
             [
              0.2222222222222222,
              "#7201a8"
             ],
             [
              0.3333333333333333,
              "#9c179e"
             ],
             [
              0.4444444444444444,
              "#bd3786"
             ],
             [
              0.5555555555555556,
              "#d8576b"
             ],
             [
              0.6666666666666666,
              "#ed7953"
             ],
             [
              0.7777777777777778,
              "#fb9f3a"
             ],
             [
              0.8888888888888888,
              "#fdca26"
             ],
             [
              1,
              "#f0f921"
             ]
            ],
            "type": "heatmapgl"
           }
          ],
          "histogram": [
           {
            "marker": {
             "colorbar": {
              "outlinewidth": 0,
              "ticks": ""
             }
            },
            "type": "histogram"
           }
          ],
          "histogram2d": [
           {
            "colorbar": {
             "outlinewidth": 0,
             "ticks": ""
            },
            "colorscale": [
             [
              0,
              "#0d0887"
             ],
             [
              0.1111111111111111,
              "#46039f"
             ],
             [
              0.2222222222222222,
              "#7201a8"
             ],
             [
              0.3333333333333333,
              "#9c179e"
             ],
             [
              0.4444444444444444,
              "#bd3786"
             ],
             [
              0.5555555555555556,
              "#d8576b"
             ],
             [
              0.6666666666666666,
              "#ed7953"
             ],
             [
              0.7777777777777778,
              "#fb9f3a"
             ],
             [
              0.8888888888888888,
              "#fdca26"
             ],
             [
              1,
              "#f0f921"
             ]
            ],
            "type": "histogram2d"
           }
          ],
          "histogram2dcontour": [
           {
            "colorbar": {
             "outlinewidth": 0,
             "ticks": ""
            },
            "colorscale": [
             [
              0,
              "#0d0887"
             ],
             [
              0.1111111111111111,
              "#46039f"
             ],
             [
              0.2222222222222222,
              "#7201a8"
             ],
             [
              0.3333333333333333,
              "#9c179e"
             ],
             [
              0.4444444444444444,
              "#bd3786"
             ],
             [
              0.5555555555555556,
              "#d8576b"
             ],
             [
              0.6666666666666666,
              "#ed7953"
             ],
             [
              0.7777777777777778,
              "#fb9f3a"
             ],
             [
              0.8888888888888888,
              "#fdca26"
             ],
             [
              1,
              "#f0f921"
             ]
            ],
            "type": "histogram2dcontour"
           }
          ],
          "mesh3d": [
           {
            "colorbar": {
             "outlinewidth": 0,
             "ticks": ""
            },
            "type": "mesh3d"
           }
          ],
          "parcoords": [
           {
            "line": {
             "colorbar": {
              "outlinewidth": 0,
              "ticks": ""
             }
            },
            "type": "parcoords"
           }
          ],
          "pie": [
           {
            "automargin": true,
            "type": "pie"
           }
          ],
          "scatter": [
           {
            "marker": {
             "colorbar": {
              "outlinewidth": 0,
              "ticks": ""
             }
            },
            "type": "scatter"
           }
          ],
          "scatter3d": [
           {
            "line": {
             "colorbar": {
              "outlinewidth": 0,
              "ticks": ""
             }
            },
            "marker": {
             "colorbar": {
              "outlinewidth": 0,
              "ticks": ""
             }
            },
            "type": "scatter3d"
           }
          ],
          "scattercarpet": [
           {
            "marker": {
             "colorbar": {
              "outlinewidth": 0,
              "ticks": ""
             }
            },
            "type": "scattercarpet"
           }
          ],
          "scattergeo": [
           {
            "marker": {
             "colorbar": {
              "outlinewidth": 0,
              "ticks": ""
             }
            },
            "type": "scattergeo"
           }
          ],
          "scattergl": [
           {
            "marker": {
             "colorbar": {
              "outlinewidth": 0,
              "ticks": ""
             }
            },
            "type": "scattergl"
           }
          ],
          "scattermapbox": [
           {
            "marker": {
             "colorbar": {
              "outlinewidth": 0,
              "ticks": ""
             }
            },
            "type": "scattermapbox"
           }
          ],
          "scatterpolar": [
           {
            "marker": {
             "colorbar": {
              "outlinewidth": 0,
              "ticks": ""
             }
            },
            "type": "scatterpolar"
           }
          ],
          "scatterpolargl": [
           {
            "marker": {
             "colorbar": {
              "outlinewidth": 0,
              "ticks": ""
             }
            },
            "type": "scatterpolargl"
           }
          ],
          "scatterternary": [
           {
            "marker": {
             "colorbar": {
              "outlinewidth": 0,
              "ticks": ""
             }
            },
            "type": "scatterternary"
           }
          ],
          "surface": [
           {
            "colorbar": {
             "outlinewidth": 0,
             "ticks": ""
            },
            "colorscale": [
             [
              0,
              "#0d0887"
             ],
             [
              0.1111111111111111,
              "#46039f"
             ],
             [
              0.2222222222222222,
              "#7201a8"
             ],
             [
              0.3333333333333333,
              "#9c179e"
             ],
             [
              0.4444444444444444,
              "#bd3786"
             ],
             [
              0.5555555555555556,
              "#d8576b"
             ],
             [
              0.6666666666666666,
              "#ed7953"
             ],
             [
              0.7777777777777778,
              "#fb9f3a"
             ],
             [
              0.8888888888888888,
              "#fdca26"
             ],
             [
              1,
              "#f0f921"
             ]
            ],
            "type": "surface"
           }
          ],
          "table": [
           {
            "cells": {
             "fill": {
              "color": "#EBF0F8"
             },
             "line": {
              "color": "white"
             }
            },
            "header": {
             "fill": {
              "color": "#C8D4E3"
             },
             "line": {
              "color": "white"
             }
            },
            "type": "table"
           }
          ]
         },
         "layout": {
          "annotationdefaults": {
           "arrowcolor": "#2a3f5f",
           "arrowhead": 0,
           "arrowwidth": 1
          },
          "autotypenumbers": "strict",
          "coloraxis": {
           "colorbar": {
            "outlinewidth": 0,
            "ticks": ""
           }
          },
          "colorscale": {
           "diverging": [
            [
             0,
             "#8e0152"
            ],
            [
             0.1,
             "#c51b7d"
            ],
            [
             0.2,
             "#de77ae"
            ],
            [
             0.3,
             "#f1b6da"
            ],
            [
             0.4,
             "#fde0ef"
            ],
            [
             0.5,
             "#f7f7f7"
            ],
            [
             0.6,
             "#e6f5d0"
            ],
            [
             0.7,
             "#b8e186"
            ],
            [
             0.8,
             "#7fbc41"
            ],
            [
             0.9,
             "#4d9221"
            ],
            [
             1,
             "#276419"
            ]
           ],
           "sequential": [
            [
             0,
             "#0d0887"
            ],
            [
             0.1111111111111111,
             "#46039f"
            ],
            [
             0.2222222222222222,
             "#7201a8"
            ],
            [
             0.3333333333333333,
             "#9c179e"
            ],
            [
             0.4444444444444444,
             "#bd3786"
            ],
            [
             0.5555555555555556,
             "#d8576b"
            ],
            [
             0.6666666666666666,
             "#ed7953"
            ],
            [
             0.7777777777777778,
             "#fb9f3a"
            ],
            [
             0.8888888888888888,
             "#fdca26"
            ],
            [
             1,
             "#f0f921"
            ]
           ],
           "sequentialminus": [
            [
             0,
             "#0d0887"
            ],
            [
             0.1111111111111111,
             "#46039f"
            ],
            [
             0.2222222222222222,
             "#7201a8"
            ],
            [
             0.3333333333333333,
             "#9c179e"
            ],
            [
             0.4444444444444444,
             "#bd3786"
            ],
            [
             0.5555555555555556,
             "#d8576b"
            ],
            [
             0.6666666666666666,
             "#ed7953"
            ],
            [
             0.7777777777777778,
             "#fb9f3a"
            ],
            [
             0.8888888888888888,
             "#fdca26"
            ],
            [
             1,
             "#f0f921"
            ]
           ]
          },
          "colorway": [
           "#636efa",
           "#EF553B",
           "#00cc96",
           "#ab63fa",
           "#FFA15A",
           "#19d3f3",
           "#FF6692",
           "#B6E880",
           "#FF97FF",
           "#FECB52"
          ],
          "font": {
           "color": "#2a3f5f"
          },
          "geo": {
           "bgcolor": "white",
           "lakecolor": "white",
           "landcolor": "#E5ECF6",
           "showlakes": true,
           "showland": true,
           "subunitcolor": "white"
          },
          "hoverlabel": {
           "align": "left"
          },
          "hovermode": "closest",
          "mapbox": {
           "style": "light"
          },
          "paper_bgcolor": "white",
          "plot_bgcolor": "#E5ECF6",
          "polar": {
           "angularaxis": {
            "gridcolor": "white",
            "linecolor": "white",
            "ticks": ""
           },
           "bgcolor": "#E5ECF6",
           "radialaxis": {
            "gridcolor": "white",
            "linecolor": "white",
            "ticks": ""
           }
          },
          "scene": {
           "xaxis": {
            "backgroundcolor": "#E5ECF6",
            "gridcolor": "white",
            "gridwidth": 2,
            "linecolor": "white",
            "showbackground": true,
            "ticks": "",
            "zerolinecolor": "white"
           },
           "yaxis": {
            "backgroundcolor": "#E5ECF6",
            "gridcolor": "white",
            "gridwidth": 2,
            "linecolor": "white",
            "showbackground": true,
            "ticks": "",
            "zerolinecolor": "white"
           },
           "zaxis": {
            "backgroundcolor": "#E5ECF6",
            "gridcolor": "white",
            "gridwidth": 2,
            "linecolor": "white",
            "showbackground": true,
            "ticks": "",
            "zerolinecolor": "white"
           }
          },
          "shapedefaults": {
           "line": {
            "color": "#2a3f5f"
           }
          },
          "ternary": {
           "aaxis": {
            "gridcolor": "white",
            "linecolor": "white",
            "ticks": ""
           },
           "baxis": {
            "gridcolor": "white",
            "linecolor": "white",
            "ticks": ""
           },
           "bgcolor": "#E5ECF6",
           "caxis": {
            "gridcolor": "white",
            "linecolor": "white",
            "ticks": ""
           }
          },
          "title": {
           "x": 0.05
          },
          "xaxis": {
           "automargin": true,
           "gridcolor": "white",
           "linecolor": "white",
           "ticks": "",
           "title": {
            "standoff": 15
           },
           "zerolinecolor": "white",
           "zerolinewidth": 2
          },
          "yaxis": {
           "automargin": true,
           "gridcolor": "white",
           "linecolor": "white",
           "ticks": "",
           "title": {
            "standoff": 15
           },
           "zerolinecolor": "white",
           "zerolinewidth": 2
          }
         }
        },
        "title": {
         "text": "Numerical Variables cluster analysis"
        },
        "width": 900,
        "xaxis": {
         "anchor": "y",
         "domain": [
          0,
          1
         ],
         "title": {
          "text": "variable"
         }
        },
        "yaxis": {
         "anchor": "x",
         "domain": [
          0,
          1
         ],
         "title": {
          "text": "value"
         }
        }
       }
      },
      "text/html": [
       "<div>                            <div id=\"70b8c7a2-3406-4f8d-b799-f3d0a19032df\" class=\"plotly-graph-div\" style=\"height:600px; width:900px;\"></div>            <script type=\"text/javascript\">                require([\"plotly\"], function(Plotly) {                    window.PLOTLYENV=window.PLOTLYENV || {};                                    if (document.getElementById(\"70b8c7a2-3406-4f8d-b799-f3d0a19032df\")) {                    Plotly.newPlot(                        \"70b8c7a2-3406-4f8d-b799-f3d0a19032df\",                        [{\"hovertemplate\": \"cluster=0<br>variable=%{x}<br>value=%{y}<extra></extra>\", \"legendgroup\": \"0\", \"line\": {\"color\": \"#636efa\", \"dash\": \"solid\"}, \"mode\": \"lines+markers\", \"name\": \"0\", \"orientation\": \"v\", \"showlegend\": true, \"type\": \"scatter\", \"x\": [\"Total_Value\", \"Total_Units\", \"Purchases_Made\"], \"xaxis\": \"x\", \"y\": [0.3255188745376572, 0.3363988832661028, 0.43259308267368435], \"yaxis\": \"y\"}, {\"hovertemplate\": \"cluster=1<br>variable=%{x}<br>value=%{y}<extra></extra>\", \"legendgroup\": \"1\", \"line\": {\"color\": \"#EF553B\", \"dash\": \"solid\"}, \"mode\": \"lines+markers\", \"name\": \"1\", \"orientation\": \"v\", \"showlegend\": true, \"type\": \"scatter\", \"x\": [\"Total_Value\", \"Total_Units\", \"Purchases_Made\"], \"xaxis\": \"x\", \"y\": [0.15706903514323753, 0.1609872683702161, 0.2129645229148132], \"yaxis\": \"y\"}, {\"hovertemplate\": \"cluster=2<br>variable=%{x}<br>value=%{y}<extra></extra>\", \"legendgroup\": \"2\", \"line\": {\"color\": \"#00cc96\", \"dash\": \"solid\"}, \"mode\": \"lines+markers\", \"name\": \"2\", \"orientation\": \"v\", \"showlegend\": true, \"type\": \"scatter\", \"x\": [\"Total_Value\", \"Total_Units\", \"Purchases_Made\"], \"xaxis\": \"x\", \"y\": [0.5497786437101676, 0.5643694449347678, 0.659615202334117], \"yaxis\": \"y\"}],                        {\"height\": 600, \"legend\": {\"title\": {\"text\": \"cluster\"}, \"tracegroupgap\": 0}, \"template\": {\"data\": {\"bar\": [{\"error_x\": {\"color\": \"#2a3f5f\"}, \"error_y\": {\"color\": \"#2a3f5f\"}, \"marker\": {\"line\": {\"color\": \"#E5ECF6\", \"width\": 0.5}}, \"type\": \"bar\"}], \"barpolar\": [{\"marker\": {\"line\": {\"color\": \"#E5ECF6\", \"width\": 0.5}}, \"type\": \"barpolar\"}], \"carpet\": [{\"aaxis\": {\"endlinecolor\": \"#2a3f5f\", \"gridcolor\": \"white\", \"linecolor\": \"white\", \"minorgridcolor\": \"white\", \"startlinecolor\": \"#2a3f5f\"}, \"baxis\": {\"endlinecolor\": \"#2a3f5f\", \"gridcolor\": \"white\", \"linecolor\": \"white\", \"minorgridcolor\": \"white\", \"startlinecolor\": \"#2a3f5f\"}, \"type\": \"carpet\"}], \"choropleth\": [{\"colorbar\": {\"outlinewidth\": 0, \"ticks\": \"\"}, \"type\": \"choropleth\"}], \"contour\": [{\"colorbar\": {\"outlinewidth\": 0, \"ticks\": \"\"}, \"colorscale\": [[0.0, \"#0d0887\"], [0.1111111111111111, \"#46039f\"], [0.2222222222222222, \"#7201a8\"], [0.3333333333333333, \"#9c179e\"], [0.4444444444444444, \"#bd3786\"], [0.5555555555555556, \"#d8576b\"], [0.6666666666666666, \"#ed7953\"], [0.7777777777777778, \"#fb9f3a\"], [0.8888888888888888, \"#fdca26\"], [1.0, \"#f0f921\"]], \"type\": \"contour\"}], \"contourcarpet\": [{\"colorbar\": {\"outlinewidth\": 0, \"ticks\": \"\"}, \"type\": \"contourcarpet\"}], \"heatmap\": [{\"colorbar\": {\"outlinewidth\": 0, \"ticks\": \"\"}, \"colorscale\": [[0.0, \"#0d0887\"], [0.1111111111111111, \"#46039f\"], [0.2222222222222222, \"#7201a8\"], [0.3333333333333333, \"#9c179e\"], [0.4444444444444444, \"#bd3786\"], [0.5555555555555556, \"#d8576b\"], [0.6666666666666666, \"#ed7953\"], [0.7777777777777778, \"#fb9f3a\"], [0.8888888888888888, \"#fdca26\"], [1.0, \"#f0f921\"]], \"type\": \"heatmap\"}], \"heatmapgl\": [{\"colorbar\": {\"outlinewidth\": 0, \"ticks\": \"\"}, \"colorscale\": [[0.0, \"#0d0887\"], [0.1111111111111111, \"#46039f\"], [0.2222222222222222, \"#7201a8\"], [0.3333333333333333, \"#9c179e\"], [0.4444444444444444, \"#bd3786\"], [0.5555555555555556, \"#d8576b\"], [0.6666666666666666, \"#ed7953\"], [0.7777777777777778, \"#fb9f3a\"], [0.8888888888888888, \"#fdca26\"], [1.0, \"#f0f921\"]], \"type\": \"heatmapgl\"}], \"histogram\": [{\"marker\": {\"colorbar\": {\"outlinewidth\": 0, \"ticks\": \"\"}}, \"type\": \"histogram\"}], \"histogram2d\": [{\"colorbar\": {\"outlinewidth\": 0, \"ticks\": \"\"}, \"colorscale\": [[0.0, \"#0d0887\"], [0.1111111111111111, \"#46039f\"], [0.2222222222222222, \"#7201a8\"], [0.3333333333333333, \"#9c179e\"], [0.4444444444444444, \"#bd3786\"], [0.5555555555555556, \"#d8576b\"], [0.6666666666666666, \"#ed7953\"], [0.7777777777777778, \"#fb9f3a\"], [0.8888888888888888, \"#fdca26\"], [1.0, \"#f0f921\"]], \"type\": \"histogram2d\"}], \"histogram2dcontour\": [{\"colorbar\": {\"outlinewidth\": 0, \"ticks\": \"\"}, \"colorscale\": [[0.0, \"#0d0887\"], [0.1111111111111111, \"#46039f\"], [0.2222222222222222, \"#7201a8\"], [0.3333333333333333, \"#9c179e\"], [0.4444444444444444, \"#bd3786\"], [0.5555555555555556, \"#d8576b\"], [0.6666666666666666, \"#ed7953\"], [0.7777777777777778, \"#fb9f3a\"], [0.8888888888888888, \"#fdca26\"], [1.0, \"#f0f921\"]], \"type\": \"histogram2dcontour\"}], \"mesh3d\": [{\"colorbar\": {\"outlinewidth\": 0, \"ticks\": \"\"}, \"type\": \"mesh3d\"}], \"parcoords\": [{\"line\": {\"colorbar\": {\"outlinewidth\": 0, \"ticks\": \"\"}}, \"type\": \"parcoords\"}], \"pie\": [{\"automargin\": true, \"type\": \"pie\"}], \"scatter\": [{\"marker\": {\"colorbar\": {\"outlinewidth\": 0, \"ticks\": \"\"}}, \"type\": \"scatter\"}], \"scatter3d\": [{\"line\": {\"colorbar\": {\"outlinewidth\": 0, \"ticks\": \"\"}}, \"marker\": {\"colorbar\": {\"outlinewidth\": 0, \"ticks\": \"\"}}, \"type\": \"scatter3d\"}], \"scattercarpet\": [{\"marker\": {\"colorbar\": {\"outlinewidth\": 0, \"ticks\": \"\"}}, \"type\": \"scattercarpet\"}], \"scattergeo\": [{\"marker\": {\"colorbar\": {\"outlinewidth\": 0, \"ticks\": \"\"}}, \"type\": \"scattergeo\"}], \"scattergl\": [{\"marker\": {\"colorbar\": {\"outlinewidth\": 0, \"ticks\": \"\"}}, \"type\": \"scattergl\"}], \"scattermapbox\": [{\"marker\": {\"colorbar\": {\"outlinewidth\": 0, \"ticks\": \"\"}}, \"type\": \"scattermapbox\"}], \"scatterpolar\": [{\"marker\": {\"colorbar\": {\"outlinewidth\": 0, \"ticks\": \"\"}}, \"type\": \"scatterpolar\"}], \"scatterpolargl\": [{\"marker\": {\"colorbar\": {\"outlinewidth\": 0, \"ticks\": \"\"}}, \"type\": \"scatterpolargl\"}], \"scatterternary\": [{\"marker\": {\"colorbar\": {\"outlinewidth\": 0, \"ticks\": \"\"}}, \"type\": \"scatterternary\"}], \"surface\": [{\"colorbar\": {\"outlinewidth\": 0, \"ticks\": \"\"}, \"colorscale\": [[0.0, \"#0d0887\"], [0.1111111111111111, \"#46039f\"], [0.2222222222222222, \"#7201a8\"], [0.3333333333333333, \"#9c179e\"], [0.4444444444444444, \"#bd3786\"], [0.5555555555555556, \"#d8576b\"], [0.6666666666666666, \"#ed7953\"], [0.7777777777777778, \"#fb9f3a\"], [0.8888888888888888, \"#fdca26\"], [1.0, \"#f0f921\"]], \"type\": \"surface\"}], \"table\": [{\"cells\": {\"fill\": {\"color\": \"#EBF0F8\"}, \"line\": {\"color\": \"white\"}}, \"header\": {\"fill\": {\"color\": \"#C8D4E3\"}, \"line\": {\"color\": \"white\"}}, \"type\": \"table\"}]}, \"layout\": {\"annotationdefaults\": {\"arrowcolor\": \"#2a3f5f\", \"arrowhead\": 0, \"arrowwidth\": 1}, \"autotypenumbers\": \"strict\", \"coloraxis\": {\"colorbar\": {\"outlinewidth\": 0, \"ticks\": \"\"}}, \"colorscale\": {\"diverging\": [[0, \"#8e0152\"], [0.1, \"#c51b7d\"], [0.2, \"#de77ae\"], [0.3, \"#f1b6da\"], [0.4, \"#fde0ef\"], [0.5, \"#f7f7f7\"], [0.6, \"#e6f5d0\"], [0.7, \"#b8e186\"], [0.8, \"#7fbc41\"], [0.9, \"#4d9221\"], [1, \"#276419\"]], \"sequential\": [[0.0, \"#0d0887\"], [0.1111111111111111, \"#46039f\"], [0.2222222222222222, \"#7201a8\"], [0.3333333333333333, \"#9c179e\"], [0.4444444444444444, \"#bd3786\"], [0.5555555555555556, \"#d8576b\"], [0.6666666666666666, \"#ed7953\"], [0.7777777777777778, \"#fb9f3a\"], [0.8888888888888888, \"#fdca26\"], [1.0, \"#f0f921\"]], \"sequentialminus\": [[0.0, \"#0d0887\"], [0.1111111111111111, \"#46039f\"], [0.2222222222222222, \"#7201a8\"], [0.3333333333333333, \"#9c179e\"], [0.4444444444444444, \"#bd3786\"], [0.5555555555555556, \"#d8576b\"], [0.6666666666666666, \"#ed7953\"], [0.7777777777777778, \"#fb9f3a\"], [0.8888888888888888, \"#fdca26\"], [1.0, \"#f0f921\"]]}, \"colorway\": [\"#636efa\", \"#EF553B\", \"#00cc96\", \"#ab63fa\", \"#FFA15A\", \"#19d3f3\", \"#FF6692\", \"#B6E880\", \"#FF97FF\", \"#FECB52\"], \"font\": {\"color\": \"#2a3f5f\"}, \"geo\": {\"bgcolor\": \"white\", \"lakecolor\": \"white\", \"landcolor\": \"#E5ECF6\", \"showlakes\": true, \"showland\": true, \"subunitcolor\": \"white\"}, \"hoverlabel\": {\"align\": \"left\"}, \"hovermode\": \"closest\", \"mapbox\": {\"style\": \"light\"}, \"paper_bgcolor\": \"white\", \"plot_bgcolor\": \"#E5ECF6\", \"polar\": {\"angularaxis\": {\"gridcolor\": \"white\", \"linecolor\": \"white\", \"ticks\": \"\"}, \"bgcolor\": \"#E5ECF6\", \"radialaxis\": {\"gridcolor\": \"white\", \"linecolor\": \"white\", \"ticks\": \"\"}}, \"scene\": {\"xaxis\": {\"backgroundcolor\": \"#E5ECF6\", \"gridcolor\": \"white\", \"gridwidth\": 2, \"linecolor\": \"white\", \"showbackground\": true, \"ticks\": \"\", \"zerolinecolor\": \"white\"}, \"yaxis\": {\"backgroundcolor\": \"#E5ECF6\", \"gridcolor\": \"white\", \"gridwidth\": 2, \"linecolor\": \"white\", \"showbackground\": true, \"ticks\": \"\", \"zerolinecolor\": \"white\"}, \"zaxis\": {\"backgroundcolor\": \"#E5ECF6\", \"gridcolor\": \"white\", \"gridwidth\": 2, \"linecolor\": \"white\", \"showbackground\": true, \"ticks\": \"\", \"zerolinecolor\": \"white\"}}, \"shapedefaults\": {\"line\": {\"color\": \"#2a3f5f\"}}, \"ternary\": {\"aaxis\": {\"gridcolor\": \"white\", \"linecolor\": \"white\", \"ticks\": \"\"}, \"baxis\": {\"gridcolor\": \"white\", \"linecolor\": \"white\", \"ticks\": \"\"}, \"bgcolor\": \"#E5ECF6\", \"caxis\": {\"gridcolor\": \"white\", \"linecolor\": \"white\", \"ticks\": \"\"}}, \"title\": {\"x\": 0.05}, \"xaxis\": {\"automargin\": true, \"gridcolor\": \"white\", \"linecolor\": \"white\", \"ticks\": \"\", \"title\": {\"standoff\": 15}, \"zerolinecolor\": \"white\", \"zerolinewidth\": 2}, \"yaxis\": {\"automargin\": true, \"gridcolor\": \"white\", \"linecolor\": \"white\", \"ticks\": \"\", \"title\": {\"standoff\": 15}, \"zerolinecolor\": \"white\", \"zerolinewidth\": 2}}}, \"title\": {\"text\": \"Numerical Variables cluster analysis\"}, \"width\": 900, \"xaxis\": {\"anchor\": \"y\", \"domain\": [0.0, 1.0], \"title\": {\"text\": \"variable\"}}, \"yaxis\": {\"anchor\": \"x\", \"domain\": [0.0, 1.0], \"title\": {\"text\": \"value\"}}},                        {\"responsive\": true}                    ).then(function(){\n",
       "                            \n",
       "var gd = document.getElementById('70b8c7a2-3406-4f8d-b799-f3d0a19032df');\n",
       "var x = new MutationObserver(function (mutations, observer) {{\n",
       "        var display = window.getComputedStyle(gd).display;\n",
       "        if (!display || display === 'none') {{\n",
       "            console.log([gd, 'removed!']);\n",
       "            Plotly.purge(gd);\n",
       "            observer.disconnect();\n",
       "        }}\n",
       "}});\n",
       "\n",
       "// Listen for the removal of the full notebook cells\n",
       "var notebookContainer = gd.closest('#notebook-container');\n",
       "if (notebookContainer) {{\n",
       "    x.observe(notebookContainer, {childList: true});\n",
       "}}\n",
       "\n",
       "// Listen for the clearing of the current output cell\n",
       "var outputEl = gd.closest('.output');\n",
       "if (outputEl) {{\n",
       "    x.observe(outputEl, {childList: true});\n",
       "}}\n",
       "\n",
       "                        })                };                });            </script>        </div>"
      ]
     },
     "metadata": {},
     "output_type": "display_data"
    }
   ],
   "source": [
    "fig_cust = px.line(melted_numerical, x = \"variable\", y = \"value\", color = 'cluster', title='Numerical Variables cluster analysis',\\\n",
    "                   height=600, width=900, ).update_traces(mode='lines+markers') #y_title = '% of orders with that Product Family (Unscaled)'\n",
    "fig_cust.show()"
   ]
  },
  {
   "cell_type": "code",
   "execution_count": null,
   "metadata": {},
   "outputs": [],
   "source": []
  }
 ],
 "metadata": {
  "kernelspec": {
   "display_name": "Python 3",
   "language": "python",
   "name": "python3"
  },
  "language_info": {
   "codemirror_mode": {
    "name": "ipython",
    "version": 3
   },
   "file_extension": ".py",
   "mimetype": "text/x-python",
   "name": "python",
   "nbconvert_exporter": "python",
   "pygments_lexer": "ipython3",
   "version": "3.8.3"
  }
 },
 "nbformat": 4,
 "nbformat_minor": 4
}
