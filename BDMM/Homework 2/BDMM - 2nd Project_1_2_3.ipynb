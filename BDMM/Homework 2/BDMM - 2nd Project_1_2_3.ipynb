{
 "cells": [
  {
   "cell_type": "code",
   "execution_count": 8,
   "id": "963397c0",
   "metadata": {},
   "outputs": [],
   "source": [
    "from pymongo import MongoClient\n",
    "host=\"rhea.isegi.unl.pt\"\n",
    "port=\"27017\"\n",
    "user=\"mongo_group_32\"\n",
    "password=\"bRG2XjRZhrRA9IfpmENyXxMlWQDUJdzL\"\n",
    "protocol=\"mongodb\"\n",
    "database = \"worldwideimporters\"\n",
    "client = MongoClient(f\"{protocol}://{user}:{password}@{host}:{port}/{database}\")"
   ]
  },
  {
   "cell_type": "code",
   "execution_count": 11,
   "id": "ad8eb412",
   "metadata": {},
   "outputs": [
    {
     "name": "stdout",
     "output_type": "stream",
     "text": [
      "Database info: Database(MongoClient(host=['rhea.isegi.unl.pt:27017'], document_class=dict, tz_aware=False, connect=True), 'worldwideimporters')\n",
      "\n"
     ]
    }
   ],
   "source": [
    "db = client.worldwideimporters\n",
    "print(f\"Database info: {db}\\n\")"
   ]
  },
  {
   "cell_type": "code",
   "execution_count": 13,
   "id": "09979c84",
   "metadata": {},
   "outputs": [
    {
     "name": "stdout",
     "output_type": "stream",
     "text": [
      "The database contains 3 collections\n",
      "Collections: ['customers', 'orders', 'people']\n"
     ]
    }
   ],
   "source": [
    "collection_list = db.list_collection_names()\n",
    "print(f\"The database contains {len(collection_list)} collections\")\n",
    "\n",
    "print(f\"Collections: {collection_list}\")"
   ]
  },
  {
   "cell_type": "markdown",
   "id": "6a3032eb",
   "metadata": {},
   "source": [
    "1. How many people records don’t have the UserPreferences field?"
   ]
  },
  {
   "cell_type": "code",
   "execution_count": 38,
   "id": "c658128a",
   "metadata": {},
   "outputs": [
    {
     "data": {
      "text/plain": [
       "929"
      ]
     },
     "execution_count": 38,
     "metadata": {},
     "output_type": "execute_result"
    }
   ],
   "source": [
    "from bson.objectid import ObjectId\n",
    "len(list(db.people.find({'UserPreferences': None}, {})))"
   ]
  },
  {
   "cell_type": "code",
   "execution_count": 34,
   "id": "52a51bfa",
   "metadata": {},
   "outputs": [
    {
     "data": {
      "text/plain": [
       "[{}, {}, {}, {}, {}]"
      ]
     },
     "execution_count": 34,
     "metadata": {},
     "output_type": "execute_result"
    }
   ],
   "source": [
    "from bson.objectid import ObjectId\n",
    "list(db.people.find({'UserPreferences': None}, {'UserPreferences':1, '_id':0}).limit(5))"
   ]
  },
  {
   "cell_type": "markdown",
   "id": "b58ee241",
   "metadata": {},
   "source": [
    "2. How many customer records are valid after November 2015?"
   ]
  },
  {
   "cell_type": "code",
   "execution_count": 40,
   "id": "d63778dd",
   "metadata": {},
   "outputs": [
    {
     "data": {
      "text/plain": [
       "663"
      ]
     },
     "execution_count": 40,
     "metadata": {},
     "output_type": "execute_result"
    }
   ],
   "source": [
    "import datetime\n",
    "len(list(db.customers.find({'ValidTo':{'$gt':datetime.datetime(2015,11,30,23,59,59)}}, {'ValidTo':1, '_id':0})))"
   ]
  },
  {
   "cell_type": "code",
   "execution_count": 39,
   "id": "26826bda",
   "metadata": {},
   "outputs": [
    {
     "data": {
      "text/plain": [
       "[{'ValidTo': datetime.datetime(9999, 12, 31, 23, 59, 59)},\n",
       " {'ValidTo': datetime.datetime(9999, 12, 31, 23, 59, 59)},\n",
       " {'ValidTo': datetime.datetime(9999, 12, 31, 23, 59, 59)},\n",
       " {'ValidTo': datetime.datetime(9999, 12, 31, 23, 59, 59)},\n",
       " {'ValidTo': datetime.datetime(9999, 12, 31, 23, 59, 59)}]"
      ]
     },
     "execution_count": 39,
     "metadata": {},
     "output_type": "execute_result"
    }
   ],
   "source": [
    "list(db.customers.find({'ValidTo':{'$gt':datetime.datetime(2015,11,30,23,59,59)}}, {'ValidTo':1, '_id':0}).limit(5))"
   ]
  },
  {
   "cell_type": "markdown",
   "id": "c5d85ef7",
   "metadata": {},
   "source": [
    "3. How many people have their Title equal to Team Member?"
   ]
  },
  {
   "cell_type": "code",
   "execution_count": 67,
   "id": "13121b85",
   "metadata": {},
   "outputs": [
    {
     "data": {
      "text/plain": [
       "13"
      ]
     },
     "execution_count": 67,
     "metadata": {},
     "output_type": "execute_result"
    }
   ],
   "source": [
    "len(list(db.people.find({'CustomFields.Title':'Team Member'}, {'id_':1})))"
   ]
  },
  {
   "cell_type": "code",
   "execution_count": 70,
   "id": "d3ca6ded",
   "metadata": {},
   "outputs": [
    {
     "data": {
      "text/plain": [
       "[{'_id': ObjectId('6091cbcf45ad05f8e5c847ba'),\n",
       "  'CustomFields': {'Title': 'Team Member'}},\n",
       " {'_id': ObjectId('6091cbcf45ad05f8e5c847bb'),\n",
       "  'CustomFields': {'Title': 'Team Member'}},\n",
       " {'_id': ObjectId('6091cbcf45ad05f8e5c847bc'),\n",
       "  'CustomFields': {'Title': 'Team Member'}},\n",
       " {'_id': ObjectId('6091cbcf45ad05f8e5c847bd'),\n",
       "  'CustomFields': {'Title': 'Team Member'}},\n",
       " {'_id': ObjectId('6091cbcf45ad05f8e5c847be'),\n",
       "  'CustomFields': {'Title': 'Team Member'}}]"
      ]
     },
     "execution_count": 70,
     "metadata": {},
     "output_type": "execute_result"
    }
   ],
   "source": [
    "list(db.people.find({'CustomFields.Title':'Team Member'}, {'CustomFields.Title':1}).limit(5))"
   ]
  }
 ],
 "metadata": {
  "kernelspec": {
   "display_name": "Python 3",
   "language": "python",
   "name": "python3"
  },
  "language_info": {
   "codemirror_mode": {
    "name": "ipython",
    "version": 3
   },
   "file_extension": ".py",
   "mimetype": "text/x-python",
   "name": "python",
   "nbconvert_exporter": "python",
   "pygments_lexer": "ipython3",
   "version": "3.9.4"
  }
 },
 "nbformat": 4,
 "nbformat_minor": 5
}
