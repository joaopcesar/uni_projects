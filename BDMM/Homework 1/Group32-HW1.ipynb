{
 "cells": [
  {
   "cell_type": "markdown",
   "metadata": {},
   "source": [
    "# Big Data Modeling and Management Assigment\n",
    "\n",
    "## Group 32\n",
    "- António Pinto\n",
    "- Davide Farinati\n",
    "- Henrique Vaz\n",
    "- João César\n",
    "- Philipp Metzger\n",
    "\n",
    "\n",
    "## 🍺 The Beer project  🍺 \n",
    "\n",
    "As it was shown in classes, graph databases are a natural way of navegating distinct types of data. For this first project we will be taking a graph database to analyse beer and breweries!   \n",
    "\n",
    "_For reference the dataset used for this project has been extracted from [kaggle](https://www.kaggle.com/ehallmar/beers-breweries-and-beer-reviews), released by Evan Hallmark. Even though the author does not present metada on the origin of the data it is probably a collection of open data from places like [beeradvocate](https://www.beeradvocate.com/)_ \n",
    "\n",
    "#### Problem description\n",
    "\n",
    "Explore the database via python neo4j connector and/or the graphical tool in the NEO4J webpage. Answer the questions. Submit the results by following the instructions\n",
    "\n",
    "#### Connection details to the neo4j database\n",
    "```\n",
    "Host: rhea.isegi.unl.pt:7474\n",
    "Username: neo4j  \n",
    "Password: F3cfcrnvBev57KZ8mcMk78L9wHgJVZuJ \n",
    "Connect URL : bolt://rhea.isegi.unl.pt:7687\n",
    "```\n",
    "\n",
    "\n",
    "#### Questions\n",
    "\n",
    "\n",
    "0. __Example Question__ _How many beers does the database contain?_\n",
    "1. How many different countries exist in the database?\n",
    "1. Most reviews:  \n",
    "    1. Which `Beer` has the most reviews?  \n",
    "    1. Which `Brewery` has the most reviews for its beers?\n",
    "    1. Which `Country` has the most reviews for its beers? \n",
    "1. Find the user/users that have the most shared reviews (reviews of the same beers) with the user CTJman?\n",
    "1. Which Portuguese brewery has the most beers?\n",
    "1. From those beers (the ones returned from the previous question), which has the most reviews?\n",
    "1. On average how many different beer styles does each brewery produce?\n",
    "1. Which brewery produces the strongest beers according to ABV?\n",
    "1. If I typically enjoy a beer due to its aroma and appearance, which beer style should I try?\n",
    "1. Using Graph Algorithms answer **two** of the following questions:\n",
    "    1. Which two Countries are most similiar when it comes to their **top 10** most produced Beer styles?\n",
    "    1. Which beer has the most similar reviews as the beer `Super Bock Stout`?\n",
    "    1. Which user is the most influential when it comes to reviews made?\n",
    "    1. Which beer styles are more central when it comes the amount of beers? \\\n",
    "    Note: In case of a tie for the top entity, in terms of metrics outputed from the algorithms, **simply output the first.**\n",
    "1. If you had to pick 3 beers to recommend using only this database, which would you pick and why?\n",
    "\n",
    "\n",
    " Questions 8 to 10 are somewhat open, which means we'll also be evaluating the reasoning behind your answer. So there aren't necessarily bad results there are only wrong criteria, explanations or execution. \n",
    " \n",
    "##### Groups  \n",
    "\n",
    "Groups should have 4 to 5 people  \n",
    "You should register your group on moodle. An email will be going out to everyone with the credentials for the database to use when storing the results.\n",
    "\n",
    "\n",
    "##### Submission      \n",
    "\n",
    "Submission of the query results to be done to the group's redis database (explained on the first class, credentials sent via email).  \n",
    "The following format is expected:\n",
    "```\n",
    "    >>> redis.set(\"0\", \"358873\")\n",
    "```\n",
    "\n",
    "This result should be the anwser of the group to question 0\n",
    "\n",
    "The code used to produce the results and respective explations should be uploaded to moodle. They should have a clear reference to the group, either on the file name or on the document itself. Preferably one Jupyter notebook per group.\n",
    "\n",
    "Delivery date: Until the **midnight of May 2nd**\n",
    "\n",
    "##### Evaluation   \n",
    "\n",
    "This will be 20% of the final grade.   \n",
    "Each solution will be evaluated on 2 components: correctness of results and simplicity of the solution.  \n",
    "All code will go through plagiarism automated checks. Groups with the same code will undergo investigation.\n",
    "\n",
    "**Note:**\n",
    "Remember the Neo4j is a shared database and when creating in-memory graphs please use your group's prefix.  \n",
    "Ex. Instead of `my-graph` as the name of your graph please use `group0-my-graph`."
   ]
  },
  {
   "cell_type": "markdown",
   "metadata": {},
   "source": [
    "# Connection"
   ]
  },
  {
   "cell_type": "code",
   "execution_count": 1,
   "metadata": {},
   "outputs": [],
   "source": [
    "import py2neo\n",
    "from pprint import pprint\n",
    "Host = 'rhea.isegi.unl.pt:7474'  \n",
    "Username = 'neo4j'  \n",
    "Password = 'F3cfcrnvBev57KZ8mcMk78L9wHgJVZuJ' \n",
    "beer_graph = py2neo.Graph(f\"http://{Username}:{Password}@{Host}\")\n",
    "#http://rhea.isegi.unl.pt:7474/browser/"
   ]
  },
  {
   "cell_type": "markdown",
   "metadata": {},
   "source": [
    "# Resolutions"
   ]
  },
  {
   "cell_type": "markdown",
   "metadata": {},
   "source": [
    "1. How many different countries exist in the database?"
   ]
  },
  {
   "cell_type": "code",
   "execution_count": 2,
   "metadata": {},
   "outputs": [
    {
     "name": "stdout",
     "output_type": "stream",
     "text": [
      "[{'Unique_countries': 200}]\n"
     ]
    }
   ],
   "source": [
    "# Query returns the amount of distinct countries in the database that produce beer\n",
    "result = beer_graph.run(\"\"\"\n",
    "        MATCH (c:Country)\n",
    "        RETURN COUNT(DISTINCT c) as Unique_countries\n",
    "\"\"\").data()\n",
    "pprint(result)"
   ]
  },
  {
   "cell_type": "markdown",
   "metadata": {},
   "source": [
    "2. Most reviews:  \n",
    "    1. Which `Beer` has the most reviews?"
   ]
  },
  {
   "cell_type": "code",
   "execution_count": 3,
   "metadata": {},
   "outputs": [
    {
     "name": "stdout",
     "output_type": "stream",
     "text": [
      "[{'b.name': 'IPA', 'no_beers': 31387}]\n"
     ]
    }
   ],
   "source": [
    "# Query returns the beer that has the most reviews, by ordering the count in a descending order \n",
    "# and retrieving the 1st element with ´limit´\n",
    "result = beer_graph.run(\n",
    "    \"\"\"\n",
    "    MATCH (r:Reviews)-[:ABOUT]->(b:Beers)\n",
    "    RETURN b.name, count(r) as no_beers\n",
    "    ORDER BY no_beers DESC\n",
    "    LIMIT 1\n",
    "    \"\"\"\n",
    ").data()\n",
    "pprint(result)"
   ]
  },
  {
   "cell_type": "markdown",
   "metadata": {},
   "source": [
    "2. Most reviews:\n",
    "    2. Which `Brewery` has the most reviews for its beers?"
   ]
  },
  {
   "cell_type": "code",
   "execution_count": 4,
   "metadata": {},
   "outputs": [
    {
     "name": "stdout",
     "output_type": "stream",
     "text": [
      "[{'brewery.name': 'Sierra Nevada Brewing Co.', 'count(r)': 175161}]\n"
     ]
    }
   ],
   "source": [
    "# Query returns the beer that has the most reviews, by matching all the reviews about the beers produced by the breweries\n",
    "# ordering the count in a descending order and retrieving the 1st element with ´limit´\n",
    "result = beer_graph.run(\n",
    "    \"\"\"\n",
    "    MATCH (r:Reviews)-[:ABOUT]->(:Beers)-[:BREWED_AT]->(brewery:Breweries)\n",
    "    RETURN brewery.name, count(r)\n",
    "    ORDER BY count(r) DESC\n",
    "    LIMIT 1\n",
    "    \"\"\"\n",
    ").data()\n",
    "pprint(result)"
   ]
  },
  {
   "cell_type": "markdown",
   "metadata": {},
   "source": [
    "2. Most reviews:\n",
    "    3. Which `Country` has the most reviews for its beers?"
   ]
  },
  {
   "cell_type": "code",
   "execution_count": 5,
   "metadata": {},
   "outputs": [
    {
     "name": "stdout",
     "output_type": "stream",
     "text": [
      "[{'count(r)': 7524410, 'country.country_digit': 'US'}]\n"
     ]
    }
   ],
   "source": [
    "# Query returns the beer that has the most reviews, by matching all the reviews about the beers produced by the breweries\n",
    "# from countries ordering the count in a descending order and retrieving the 1st element with ´limit´\n",
    "result = beer_graph.run(\n",
    "    \"\"\"\n",
    "    MATCH (r:Reviews)-[:ABOUT]->(:Beers)-[:BREWED_AT]->(:Breweries)-[:FROM]->(country:Country)\n",
    "    RETURN country.country_digit, count(r)\n",
    "    ORDER BY count(r) DESC\n",
    "    LIMIT 1\n",
    "    \"\"\"\n",
    ").data()\n",
    "pprint(result)"
   ]
  },
  {
   "cell_type": "markdown",
   "metadata": {},
   "source": [
    "3. Find the user/users that have the most shared reviews (reviews of the same beers) with the user CTJman?"
   ]
  },
  {
   "cell_type": "code",
   "execution_count": 6,
   "metadata": {},
   "outputs": [
    {
     "name": "stdout",
     "output_type": "stream",
     "text": [
      "[{'no_reviews': 1428, 'username': Node('Username', user_name='acurtis')}]\n"
     ]
    }
   ],
   "source": [
    "# To the user with most shared reviews with CTJman we first filter the reviews from CTJman, getting the beers CTJman reviewed \n",
    "# so that we can get all the reviews of those beers and aggregate them by user and ordering them by the amount each user wrote \n",
    "# (in a descending order)\n",
    "result = beer_graph.run(\"\"\"\n",
    "        MATCH (u1:Username{user_name: 'CTJman'})-[:MADE]->(:Reviews)-[:ABOUT]->(:Beers)<-[:ABOUT]-(r2:Reviews)<-[:MADE]-(u2:Username)\n",
    "        RETURN u2 as username, count(r2) as no_reviews\n",
    "        ORDER BY no_reviews DESC\n",
    "        LIMIT 1\n",
    "\"\"\").data()\n",
    "pprint(result)"
   ]
  },
  {
   "cell_type": "markdown",
   "metadata": {},
   "source": [
    "4. Which Portuguese brewery has the most beers?"
   ]
  },
  {
   "cell_type": "code",
   "execution_count": 7,
   "metadata": {},
   "outputs": [
    {
     "name": "stdout",
     "output_type": "stream",
     "text": [
      "[{'bwr.name': 'Dois Corvos Cervejeira', 'count(beer)': 40}]\n"
     ]
    }
   ],
   "source": [
    "# To get the Portuguese brewery with the most beers we first filter the countries to query just the breweries \n",
    "# from Portugal and aggregate them by brewery, counting the amount of beers\n",
    "result = beer_graph.run(\"\"\"\n",
    "        MATCH (:Country{country_digit:'PT'})<-[:FROM]-(bwr:Breweries)<-[:BREWED_AT]-(beer:Beers)\n",
    "        RETURN bwr.name, count(beer)\n",
    "        ORDER BY count(beer) DESC\n",
    "        LIMIT 1\n",
    "\"\"\").data()\n",
    "pprint(result)"
   ]
  },
  {
   "cell_type": "markdown",
   "metadata": {},
   "source": [
    "5. From those beers (the ones returned from the previous question), which has the most reviews?"
   ]
  },
  {
   "cell_type": "code",
   "execution_count": 8,
   "metadata": {},
   "outputs": [
    {
     "name": "stdout",
     "output_type": "stream",
     "text": [
      "[{'beer_name': 'Finisterra', 'review_count': 10}]\n"
     ]
    }
   ],
   "source": [
    "# To get the most famous beer from 'dois corvos cervejaria' we filter the brewery by name and count the amount of reviews\n",
    "result = beer_graph.run(\n",
    "    \"\"\"\n",
    "    MATCH (reviews:Reviews)-[a:ABOUT]->(beers:Beers)-[ba:BREWED_AT]->(breweries:Breweries{name: 'Dois Corvos Cervejeira'})\n",
    "    RETURN DISTINCT beers.name as beer_name, count(reviews) as review_count\n",
    "    ORDER BY review_count DESC\n",
    "    LIMIT 1\n",
    "    \"\"\"\n",
    ").data()\n",
    "pprint(result)"
   ]
  },
  {
   "cell_type": "markdown",
   "metadata": {},
   "source": [
    "6. On average how many different beer styles does each brewery produce?"
   ]
  },
  {
   "cell_type": "code",
   "execution_count": 9,
   "metadata": {},
   "outputs": [
    {
     "name": "stdout",
     "output_type": "stream",
     "text": [
      "[{'average_style_count_per_brewery': 10.669977315921768}]\n"
     ]
    }
   ],
   "source": [
    "# Retrieve the beer style count for each brewery (that produces at least one beer style)\n",
    "result = beer_graph.run(\n",
    "    \"\"\"\n",
    "    MATCH (style:Style)<-[:OF_TYPE]-(:Beers)-[:BREWED_AT]->(brewery:Breweries)\n",
    "    WITH DISTINCT brewery.name as names, count(DISTINCT style.name) as style_counts\n",
    "    RETURN AVG(style_counts) as average_style_count_per_brewery\n",
    "    \"\"\"\n",
    ").data()\n",
    "pprint(result)"
   ]
  },
  {
   "cell_type": "markdown",
   "metadata": {},
   "source": [
    "7. Which brewery produces the strongest beers according to ABV?"
   ]
  },
  {
   "cell_type": "code",
   "execution_count": 10,
   "metadata": {},
   "outputs": [
    {
     "name": "stdout",
     "output_type": "stream",
     "text": [
      "[{'average_abv': 25.111111111111114, 'brewery': '1648 Brewing Company Ltd'}]\n",
      "Strongest beers:\n",
      "[{'ABV': 100, 'brewery': '1648 Brewing Company Ltd'},\n",
      " {'ABV': 100, 'brewery': '1648 Brewing Company Ltd'},\n",
      " {'ABV': 100, 'brewery': 'Avondale Brewing Co.'},\n",
      " {'ABV': 80, 'brewery': 'Morgan Territory Brewing'},\n",
      " {'ABV': 67, 'brewery': 'Brewmeister'}]\n"
     ]
    }
   ],
   "source": [
    "# Returns the brewery that has the highest average of ABV, to justify that this brewery is actually the one that produces the \n",
    "# strongest beers and did not just produced one beer, we can see that in the top 5 strongest beers, this brewery has the first \n",
    "# and second place, making it a valid brewery (with an average ABV of 25). We had to remove the unknown values due to a computations\n",
    "# conflict\n",
    "result = beer_graph.run(\"\"\"\n",
    "            MATCH (b:Beers)-[:BREWED_AT]->(bwr:Breweries)\n",
    "            WHERE NOT b.abv CONTAINS 'Unknown'\n",
    "            RETURN bwr.name as brewery, avg(toInteger(b.abv)) as average_abv\n",
    "            ORDER BY average_abv DESC\n",
    "            LIMIT 1\n",
    "                \"\"\").data()\n",
    "pprint(result)\n",
    "\n",
    "print('Strongest beers:')\n",
    "result = beer_graph.run(\"\"\"\n",
    "            MATCH (b:Beers)-[:BREWED_AT]->(bwr:Breweries)\n",
    "            WHERE NOT b.abv CONTAINS 'Unknown'\n",
    "            RETURN bwr.name as brewery, toInteger(b.abv) as ABV\n",
    "            ORDER BY ABV DESC\n",
    "            LIMIT 5\n",
    "                \"\"\").data()\n",
    "pprint(result)"
   ]
  },
  {
   "cell_type": "markdown",
   "metadata": {},
   "source": [
    "8. If I typically enjoy a beer due to its aroma and appearance, which beer style should I try?"
   ]
  },
  {
   "cell_type": "code",
   "execution_count": 11,
   "metadata": {},
   "outputs": [
    {
     "name": "stdout",
     "output_type": "stream",
     "text": [
      "[{'look_avg': 4.383595613210904,\n",
      "  's': Node('Style', name='New England IPA'),\n",
      "  'taste_avg': 4.418206168244489}]\n"
     ]
    }
   ],
   "source": [
    "# The support of the recommendation is based on the fact that the properties of look and taste are the ones most appreciate, \n",
    "# so we average these 2 fields and recommend the top result. For this query we had to remove the Unknown results as they would \n",
    "# conflict with the computation of the average\n",
    "result = beer_graph.run(\"\"\"\n",
    "        MATCH (r:Reviews)-[:ABOUT]->(:Beers)-[:OF_TYPE]->(s:Style)\n",
    "        WHERE NOT r.look CONTAINS 'Unknown' AND NOT r.taste CONTAINS 'Unknown' \n",
    "        RETURN s, avg(toFloat(r.look)) as look_avg, avg(toFloat(r.taste)) as taste_avg\n",
    "        ORDER BY (look_avg + taste_avg) DESC\n",
    "        LIMIT 1\n",
    "\"\"\").data()\n",
    "pprint(result)"
   ]
  },
  {
   "cell_type": "markdown",
   "metadata": {},
   "source": [
    "9. Using Graph Algorithms answer two of the following questions:\n",
    "    3. Which user is the most influential when it comes to reviews made?"
   ]
  },
  {
   "cell_type": "code",
   "execution_count": 12,
   "metadata": {},
   "outputs": [
    {
     "data": {
      "text/plain": [
       "[{'username': 'Sammy', 'score': 1759.3712493896485}]"
      ]
     },
     "execution_count": 12,
     "metadata": {},
     "output_type": "execute_result"
    }
   ],
   "source": [
    "# Order users by their score regarding the review made, with graph betwen username and reviews (reverse orientation)\n",
    "\n",
    "data = beer_graph.run(\n",
    "    \"\"\"\n",
    "        CALL gds.graph.create(\n",
    "            'group32-9c ',\n",
    "            [\n",
    "                'Username',\n",
    "                'Reviews'\n",
    "            ],\n",
    "            {\n",
    "                MADE: {\n",
    "                    orientation: 'REVERSE'\n",
    "                }\n",
    "            }\n",
    "        )\n",
    "    \"\"\"\n",
    ").data()\n",
    "data\n",
    "\n",
    "data = beer_graph.run(\n",
    "    \"\"\"\n",
    "        CALL gds.pageRank.stream('group32-9c ') YIELD nodeId, score\n",
    "        RETURN gds.util.asNode(nodeId).user_name AS username, score\n",
    "        ORDER BY score DESC LIMIT 1\n",
    "    \"\"\"\n",
    ").data()\n",
    "data"
   ]
  },
  {
   "cell_type": "markdown",
   "metadata": {},
   "source": [
    "9. Using Graph Algorithms answer two of the following questions:\n",
    "    4. Which beer styles are more central when it comes the amount of beers?"
   ]
  },
  {
   "cell_type": "code",
   "execution_count": 13,
   "metadata": {},
   "outputs": [
    {
     "data": {
      "text/plain": [
       "[{'Style': 'American IPA', 'score': 5702.417230224609}]"
      ]
     },
     "execution_count": 13,
     "metadata": {},
     "output_type": "execute_result"
    }
   ],
   "source": [
    "# Order sytles by the amount of beers, with graph betwen style and beers (natural orientation)\n",
    "\n",
    "data = beer_graph.run(\n",
    "    \"\"\"\n",
    "        CALL gds.graph.create(\n",
    "            'group32-9D',\n",
    "            [\n",
    "                'Style',\n",
    "                'Beers'\n",
    "            ],\n",
    "            {\n",
    "                OF_TYPE: {\n",
    "                    orientation: 'NATURAL'\n",
    "                }\n",
    "            }\n",
    "        )\n",
    "    \"\"\"\n",
    ").data()\n",
    "\n",
    "data = beer_graph.run(\n",
    "    \"\"\"\n",
    "        CALL gds.pageRank.stream('group32-9D') YIELD nodeId, score\n",
    "        RETURN gds.util.asNode(nodeId).name AS Style, score\n",
    "        ORDER BY score DESC LIMIT 1\n",
    "    \"\"\"\n",
    ").data()\n",
    "data"
   ]
  },
  {
   "cell_type": "markdown",
   "metadata": {},
   "source": [
    "10. If you had to pick 3 beers to recommend using only this database, which would you pick and why?"
   ]
  },
  {
   "cell_type": "code",
   "execution_count": 14,
   "metadata": {},
   "outputs": [
    {
     "name": "stdout",
     "output_type": "stream",
     "text": [
      "[{'b.name': 'Barrel-Aged Abraxas',\n",
      "  'beer_score': 4.742700831024935,\n",
      "  'no_reviews': 1444},\n",
      " {'b.name': 'Marshmallow Handjee',\n",
      "  'beer_score': 4.735540457072266,\n",
      "  'no_reviews': 1619},\n",
      " {'b.name': \"Hunahpu's Imperial Stout - Double Barrel Aged\",\n",
      "  'beer_score': 4.728153067678674,\n",
      "  'no_reviews': 1581}]\n"
     ]
    }
   ],
   "source": [
    "# This recommendation is based on the average of the score of the beer. Since we would like to recommend a beer with \n",
    "# a sustainable reasoning, we decided to exclude beers that had few reviews, as these could be biased by a small group of \n",
    "# individuals that had odd tastes.\n",
    "result = beer_graph.run(\"\"\"\n",
    "        MATCH (r:Reviews)-[:ABOUT]->(b:Beers)\n",
    "        WHERE toFloat(r.score) IS NOT NULL AND b.retired =~ 'f'\n",
    "        WITH b, avg(toFloat(r.score)) as beer_score, COUNT(r) as no_reviews\n",
    "        WHERE no_reviews > 1000\n",
    "        RETURN b.name, beer_score, no_reviews\n",
    "        ORDER BY beer_score DESC\n",
    "        LIMIT 3\n",
    "\"\"\").data()\n",
    "pprint(result)"
   ]
  },
  {
   "cell_type": "markdown",
   "metadata": {},
   "source": [
    "# Answers"
   ]
  },
  {
   "cell_type": "code",
   "execution_count": 16,
   "metadata": {},
   "outputs": [
    {
     "data": {
      "text/plain": [
       "True"
      ]
     },
     "execution_count": 16,
     "metadata": {},
     "output_type": "execute_result"
    }
   ],
   "source": [
    "redis.set(\"0\", \"358873\")\n",
    "redis.set(\"1\", \"200\")\n",
    "redis.set(\"2A\", \"IPA\")\n",
    "redis.set(\"2B\", \"Sierra Nevada Brewing Co.\")\n",
    "redis.set(\"2C\", \"US\")\n",
    "redis.set(\"3\", \"acurtis\")\n",
    "redis.set(\"4\", \"Dois Corvos Cervejeira\")\n",
    "redis.set(\"5\", \"Finisterra\")\n",
    "redis.set(\"6\", \"10.7\")\n",
    "redis.set(\"7\", \"1648 Brewing Company Ltd\")\n",
    "redis.set(\"8\", \"New England IPA\")\n",
    "redis.set(\"9C\", \"Sammy\")\n",
    "redis.set(\"9D\", \"American IPA\")\n",
    "redis.set(\"10\", \"Barrel-Aged Abraxas, Marshmallow Handjee and hpu's Imperial Stout - Double Barrel Aged\")"
   ]
  }
 ],
 "metadata": {
  "kernelspec": {
   "display_name": "Python 3",
   "language": "python",
   "name": "python3"
  },
  "language_info": {
   "codemirror_mode": {
    "name": "ipython",
    "version": 3
   },
   "file_extension": ".py",
   "mimetype": "text/x-python",
   "name": "python",
   "nbconvert_exporter": "python",
   "pygments_lexer": "ipython3",
   "version": "3.8.8"
  }
 },
 "nbformat": 4,
 "nbformat_minor": 4
}
