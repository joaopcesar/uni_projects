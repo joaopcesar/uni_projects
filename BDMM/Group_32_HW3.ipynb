{
 "cells": [
  {
   "cell_type": "markdown",
   "metadata": {},
   "source": [
    "# Big Data Modeling and Management 2021\n",
    "\n",
    "\n",
    "## 🚚 BDMM Third Homework Assignment 🚚 \n",
    "\n",
    "_The Wide World Importers (WWI) is a wholesales novelty goods importer and distributor operating from the San Francisco bay area. In this assignment we will be working with their database._ \n",
    "You can get more information and details about the WWI database can be found in the following link: https://docs.microsoft.com/en-us/sql/samples/wide-world-importers-what-is?view=sql-server-ver15\n",
    "\n",
    "The focus of the third assignment is modelling. We will use the same data source that was used the previous assignment, the World Wide Importers database, and convert it to a document-based database. To that end, we will be  leveraging concepts like data denormalization, indexes, and mongodb design patterns. \n",
    "\n",
    "More information on the extended datamodel to be found here: </br>  \n",
    "https://docs.microsoft.com/en-us/sql/samples/wide-world-importers-oltp-database-catalog?view=sql-server-ver15"
   ]
  },
  {
   "cell_type": "markdown",
   "metadata": {},
   "source": [
    "## Problem Description\n",
    "\n",
    "Your team has just arrived at WWI (a leading company in logitics). Welcome!   <br>\n",
    "Even though business is striving, the IT department is going through a bad time.   <br>\n",
    "Digitalization was never a priority for the company and now the company operational and analytical requirements is starting to grow beyond the capabilities of their existing data architecture.   <br>\n",
    "\n",
    "WWI data is spread accross different systems. Namely, an old SQL database, data extracted through an API, and data stored in CSV files. <br>\n",
    "Currently, the costs to develop the necessary queries to collect data to answer questions asked by the different departments are too high. <br>\n",
    "Management concluded it is the right time to revise and revamp the data architecture, in order to speed up operations. \n",
    "\n",
    "In that context, your team was tasked with merging all the company data into a single and coherent Mongo database. <br>\n",
    "It is expected that, with your solution, WWI will have a better understanding of their business and that the different departments will be able to obtain efficiently the answers they desperatly need.\n",
    "\n",
    "The WWI team shared with you an ERD of their current datamodel:<br>\n",
    "![datamodel](WWI.png)\n",
    "\n",
    "Addtionally, the WWI team asked you the deliver the following outputs in **10 days**:\n",
    "- Understand and model the database.  \n",
    "- Migrate all data to the database\n",
    "- Answer the questions.  \n",
    "- Submit the results by following the instructions.  \n",
    "- Prepare a short oral presentation to explain your design choices and the results you obtained.\n",
    "\n",
    "With these deliveries, you will have created a prototype and allows the management to decide whether MongoDB is a good solution that meets their requirements.\n",
    "\n",
    "### Design Requirements\n",
    "\n",
    "You have been informed that the WWI has the following query requirements to the database.\n",
    "\n",
    "The web team needs:  \n",
    "- From which state province are our suppliers from?   \n",
    "- From which state province are the customers who have a higher credit limit?  \n",
    "\n",
    "\n",
    "The warehouse group needs:  \n",
    "- To know which items get ordered together the most?   \n",
    "- Which items get ordered the most in bulk (bigger amounts)?  \n",
    "- Which customers have delivery addresses under 10km of distance?  \n",
    "\n",
    "The CFO:  \n",
    "- Would like to know the monthly order count?  \n",
    "- Would like to know the average monthly sales prices?  \n",
    "- Would like to know the yearly expenditures with suppliers (per supplier name)?  \n",
    "\n",
    "Partnerships:  \n",
    "- Would like to know what's the most common payment type?  \n",
    "- Which supplier of `Novelty Goods Supplier` as the most transactions?  \n",
    "\n",
    "The marketing team:  \n",
    "- Want to make an appreciation post and needs the name of the sales person with the most invoices in 2013 (person who's customers brought the most money)?\n",
    "\n",
    "---\n",
    "\n",
    "Transform the SQL tables, API results and CSV files provided in the annex with this file and model a database following mongo's best practises.\n",
    "\n",
    "Write MongoDB queries to awnser the above mentioned queries\n",
    "\n",
    "Take advantage of database indexes to improve your query speeds\n",
    "\n",
    "### Deliverables\n",
    "\n",
    "1. Notebook with all DB creation operations and CRUD operations;\n",
    "2. Second notebook with all required 'queries to\n",
    "\n",
    "### Data Source Materials\n",
    "\n",
    "For the development of this assignment you will have access to the RDBMS/SQL database hosting the original WWI database. To connect to the database use the following credentials:\n",
    "```\n",
    "host:rhea.isegi.unl.pt\n",
    "user:wwi-read-only-user\n",
    "pass:jGp2GCqrss6nfTEu5ZawhW3mksLsQYQb\n",
    "database:WWI\n",
    "\n",
    "# !pip install mysql-connector-python\n",
    "import mysql.connector\n",
    "mydb = mysql.connector.connect(host={host}, user={user}, database={database}, port=3306, password={password})\n",
    "mycursor = mydb.cursor()\n",
    "\n",
    "mycursor.execute('SHOW TABLES;')\n",
    "print(f\"Tables: {mycursor.fetchall()}\")\n",
    "mycursor.execute('DESCRIBE Purchasing_PurchaseOrderLines;')\n",
    "print(f\"Purchasing_PurchaseOrderLines schema: {mycursor.fetchall()}\")\n",
    "```\n",
    "\n",
    "Additionally you have access to the following documents.\n",
    "\n",
    "CSV with Warehouse Data  \n",
    "**https://liveeduisegiunl-my.sharepoint.com/:f:/g/personal/fpinheiro_novaims_unl_pt/Eh8Mj-m6r4dOt84tPDGUnhUBd5oMC0CJKAeyJm3urNB-8g?e=JuPMuW**\n",
    "\n",
    "API with Application data  \n",
    "**http://rhea.isegi.unl.pt:8080/**"
   ]
  },
  {
   "cell_type": "markdown",
   "metadata": {},
   "source": [
    "## Additional Information\n",
    "\n",
    "#### Groups  \n",
    "\n",
    "This is a group activity. <br>\n",
    "Students should form groups of at least 4 and at most 5. <br>\n",
    "We will use the current defined groups that have been established during the previous assignments, and that are identified on Moodle.\n",
    "\n",
    "#### MongoDB database access  \n",
    "\n",
    "Each group will have access to its own mongodb instance.<br>\n",
    "Each group will receive an email with their access credentials. <br>\n",
    "You will use the database to store your results. <br>\n",
    "\n",
    "Connection details will have the following template:<br>\n",
    "```\n",
    "Host: rhea.isegi.unl.pt:27017  \n",
    "Username: {groups_username}  \n",
    "Password: {groups_password}  \n",
    "```\n",
    "Which then can be used as follows:\n",
    "```\n",
    "client = MongoClient(f\"{protocol}://{user}:{password}@{host}:{port}/\")\n",
    "```\n",
    "\n",
    "#### Submission  Deadline\n",
    "\n",
    "The submission must contain a notebook with the queries and their results, also indicate the name of the database that you created. <br>\n",
    "Upload the notebook on moodle before **23:59 of May 30nd**\n",
    "\n",
    "#### Evaluation   \n",
    "\n",
    "The third homework assignment counts 20% towards your final mark of the curricular unit. <br>\n",
    "The assignment will be scored from 0 to 20. <br>\n",
    "Your final task will be to present the owner of the company your database proposal and how would it make everyone satisfied. <br>\n",
    "\n",
    "Each group submission will be evaluated on two components:\n",
    "1. correctness of results;\n",
    "2. simplicity of the solution;\n",
    "\n",
    "50% -  Database design  \n",
    "50% -  Query results  \n",
    "*    25% - Correctness of queries   \n",
    "*    25% - Right results\n",
    "\n",
    "Please note that all code delivered in this assignment will go through plagiarism automated checks. <br>\n",
    "Groups high similarity levels in their code will undergo investigation.\n",
    "\n",
    "**Presentations**\n",
    "\n",
    "Presentations will be held between the 2nd and 3rd of June and you need to sign up your group in this calendly link:<br>\n",
    "https://calendly.com/d/m9sj-qwpk/presentations (Please try to avoid empty windows)"
   ]
  },
  {
   "cell_type": "markdown",
   "metadata": {},
   "source": [
    "## Imports"
   ]
  },
  {
   "cell_type": "code",
   "execution_count": 1,
   "metadata": {},
   "outputs": [],
   "source": [
    "import pandas as pd\n",
    "from tqdm.notebook import tqdm\n",
    "from pprint import pprint\n",
    "import numpy as np\n",
    "from pymongo import MongoClient"
   ]
  },
  {
   "cell_type": "markdown",
   "metadata": {},
   "source": [
    "## Connect to mongo database"
   ]
  },
  {
   "cell_type": "code",
   "execution_count": 2,
   "metadata": {},
   "outputs": [],
   "source": [
    "# Connect to Mongo server\n",
    "host=\"rhea.isegi.unl.pt\"\n",
    "port=\"27049\"\n",
    "user=\"GROUP_32\"\n",
    "password=\"bRG2XjRZhrRA9IfpmENyXxMlWQDUJdzL\"\n",
    "protocol=\"mongodb\"\n",
    "client = MongoClient(f\"{protocol}://{user}:{password}@{host}:{port}\")\n",
    "\n",
    "# Connect to mongo db\n",
    "db = client.denormalised"
   ]
  },
  {
   "cell_type": "code",
   "execution_count": 3,
   "metadata": {},
   "outputs": [
    {
     "data": {
      "text/plain": [
       "['Application_Countries',\n",
       " 'Warehouse_Colors',\n",
       " 'Sales_OrderLines',\n",
       " 'Warehouse_StockItemTransactions',\n",
       " 'Application_StateProvinces',\n",
       " 'Sales_Invoices',\n",
       " 'Sales_Orders',\n",
       " 'Purchasing_PurchaseOrders',\n",
       " 'customers_payments',\n",
       " 'Application_DeliveryMethods',\n",
       " 'Application_Cities',\n",
       " 'Application_TransactionTypes',\n",
       " 'Warehouse_StockItems',\n",
       " 'Sales_InvoiceLines',\n",
       " 'Warehouse_StockItemStockGroups',\n",
       " 'Purchasing_PurchaseOrderLines',\n",
       " 'Purchasing_SupplierCategories',\n",
       " 'Application_PaymentMethods',\n",
       " 'Sales_Customers',\n",
       " 'Sales_CustomerCategories',\n",
       " 'Purchasing_SupplierTransactions',\n",
       " 'Application_People',\n",
       " 'Warehouse_PackageTypes',\n",
       " 'Purchasing_Suppliers',\n",
       " 'reviews',\n",
       " 'Warehouse_StockGroups',\n",
       " 'Sales_CustomerTransactions']"
      ]
     },
     "execution_count": 3,
     "metadata": {},
     "output_type": "execute_result"
    }
   ],
   "source": [
    "# List collections of this db\n",
    "db.list_collection_names()"
   ]
  },
  {
   "cell_type": "markdown",
   "metadata": {},
   "source": [
    "The web team needs:  \n",
    "- From which state province are our suppliers from?   \n"
   ]
  },
  {
   "cell_type": "code",
   "execution_count": 4,
   "metadata": {},
   "outputs": [
    {
     "data": {
      "text/plain": [
       "[{'_id': 1, 'supplier': 'A Datum Corporation', 'state_province': 'Indiana'},\n",
       " {'_id': 2, 'supplier': 'Contoso, Ltd.', 'state_province': 'Washington'},\n",
       " {'_id': 3,\n",
       "  'supplier': 'Consolidated Messenger',\n",
       "  'state_province': 'California'},\n",
       " {'_id': 4, 'supplier': 'Fabrikam, Inc.', 'state_province': 'Kentucky'},\n",
       " {'_id': 5,\n",
       "  'supplier': 'Graphic Design Institute',\n",
       "  'state_province': 'Missouri'},\n",
       " {'_id': 6, 'supplier': 'Humongous Insurance', 'state_province': 'Tennessee'},\n",
       " {'_id': 7, 'supplier': 'Litware, Inc.', 'state_province': 'California'},\n",
       " {'_id': 8, 'supplier': 'Lucerne Publishing', 'state_province': 'Tennessee'},\n",
       " {'_id': 9, 'supplier': 'Nod Publishers', 'state_province': 'North Carolina'},\n",
       " {'_id': 10,\n",
       "  'supplier': 'Northwind Electric Cars',\n",
       "  'state_province': 'New Jersey'},\n",
       " {'_id': 11, 'supplier': 'Trey Research', 'state_province': 'South Dakota'},\n",
       " {'_id': 12, 'supplier': 'The Phone Company', 'state_province': 'Minnesota'},\n",
       " {'_id': 13, 'supplier': 'Woodgrove Bank', 'state_province': 'California'}]"
      ]
     },
     "execution_count": 4,
     "metadata": {},
     "output_type": "execute_result"
    }
   ],
   "source": [
    "query_1 = {\n",
    "    '$project':{\n",
    "                'supplier':'$SupplierName',\n",
    "                'state_province':'$DeliveryCity.StateProvince.StateProvinceName'\n",
    "    }\n",
    "}\n",
    "\n",
    "\n",
    "\n",
    "pipeline = [query_1]\n",
    "\n",
    "r = db.Purchasing_Suppliers.aggregate(pipeline)\n",
    "\n",
    "result = list(r)\n",
    "\n",
    "result"
   ]
  },
  {
   "cell_type": "markdown",
   "metadata": {},
   "source": [
    "- From which state province are the customers who have a higher credit limit? "
   ]
  },
  {
   "cell_type": "code",
   "execution_count": 5,
   "metadata": {},
   "outputs": [
    {
     "data": {
      "text/plain": [
       "'CreditLimit'"
      ]
     },
     "execution_count": 5,
     "metadata": {},
     "output_type": "execute_result"
    }
   ],
   "source": [
    "db.Sales_Customers.create_index(\n",
    "    [('CreditLimit', 1)],\n",
    "    name='CreditLimit', \n",
    ")"
   ]
  },
  {
   "cell_type": "code",
   "execution_count": 6,
   "metadata": {},
   "outputs": [
    {
     "data": {
      "text/plain": [
       "[{'_id': 492, 'credit_limit': 4630.5, 'state_province': 'Texas'},\n",
       " {'_id': 170, 'credit_limit': 4200.0, 'state_province': 'Tennessee'},\n",
       " {'_id': 605, 'credit_limit': 4095.0, 'state_province': 'North Carolina'},\n",
       " {'_id': 500, 'credit_limit': 4095.0, 'state_province': 'Wyoming'},\n",
       " {'_id': 613, 'credit_limit': 4000.0, 'state_province': 'Oregon'}]"
      ]
     },
     "execution_count": 6,
     "metadata": {},
     "output_type": "execute_result"
    }
   ],
   "source": [
    "#top 5 creditlimit customers's state provinces\n",
    "query_1 = {\n",
    "    '$match':{  'CreditLimit':  {\"$exists\": True}  }\n",
    "}\n",
    "\n",
    "\n",
    "query_2 = {'$project':\n",
    "          {'credit_limit':'$CreditLimit',\n",
    "          'state_province':'$DeliveryCity.StateProvince.StateProvinceName'}}\n",
    "\n",
    "query_3 = {'$sort':\n",
    "          {'credit_limit':-1}}\n",
    "\n",
    "query_4 = {'$limit':5}\n",
    "\n",
    "\n",
    "pipeline = [query_1, query_2, query_3, query_4]\n",
    "\n",
    "r = db.Sales_Customers.aggregate(pipeline)\n",
    "\n",
    "result = list(r)\n",
    "\n",
    "result"
   ]
  },
  {
   "cell_type": "code",
   "execution_count": 7,
   "metadata": {},
   "outputs": [
    {
     "data": {
      "text/plain": [
       "[{'_id': 'Tennessee', 'avg_creditLimit': 3157.5},\n",
       " {'_id': 'Arkansas', 'avg_creditLimit': 2883.125},\n",
       " {'_id': 'Indiana', 'avg_creditLimit': 2832.9166666666665},\n",
       " {'_id': 'Oregon', 'avg_creditLimit': 2823.75},\n",
       " {'_id': 'Wyoming', 'avg_creditLimit': 2799.1666666666665}]"
      ]
     },
     "execution_count": 7,
     "metadata": {},
     "output_type": "execute_result"
    }
   ],
   "source": [
    "#top 5 state provinces with higher average credit limit\n",
    "query_1 = {\n",
    "    '$match':{  'CreditLimit':  {\"$exists\": True}  }\n",
    "}\n",
    "\n",
    "\n",
    "query_2 = {'$project':\n",
    "          {'credit_limit':'$CreditLimit',\n",
    "          'state_province':'$DeliveryCity.StateProvince.StateProvinceName'}}\n",
    "\n",
    "query_3 = {'$group':\n",
    "          {'_id':'$state_province',\n",
    "          'avg_creditLimit':{'$avg':'$credit_limit'}}}\n",
    "\n",
    "\n",
    "query_4 = {'$sort':\n",
    "          {'avg_creditLimit':-1}}\n",
    "\n",
    "query_5 = {'$limit':5}\n",
    "\n",
    "\n",
    "pipeline = [query_1, query_2, query_3, query_4, query_5]\n",
    "\n",
    "r = db.Sales_Customers.aggregate(pipeline)\n",
    "\n",
    "result = list(r)\n",
    "\n",
    "result"
   ]
  },
  {
   "cell_type": "markdown",
   "metadata": {},
   "source": [
    "The warehouse group needs:  \n",
    "- To know which items get ordered together the most?   \n",
    "\n",
    "\n"
   ]
  },
  {
   "cell_type": "code",
   "execution_count": 8,
   "metadata": {},
   "outputs": [
    {
     "data": {
      "text/plain": [
       "'OrderID'"
      ]
     },
     "execution_count": 8,
     "metadata": {},
     "output_type": "execute_result"
    }
   ],
   "source": [
    "db.Sales_OrderLines.create_index(\n",
    "    [('OrderID', 1)],\n",
    "    name='OrderID', \n",
    ")"
   ]
  },
  {
   "cell_type": "code",
   "execution_count": 9,
   "metadata": {},
   "outputs": [
    {
     "data": {
      "text/plain": [
       "'Description'"
      ]
     },
     "execution_count": 9,
     "metadata": {},
     "output_type": "execute_result"
    }
   ],
   "source": [
    "db.Sales_OrderLines.create_index(\n",
    "    [('Description', 1)],\n",
    "    name='Description', \n",
    ")"
   ]
  },
  {
   "cell_type": "code",
   "execution_count": 10,
   "metadata": {},
   "outputs": [
    {
     "data": {
      "text/plain": [
       "[{'_id': {'ol1': 'DBA joke mug - I will get you in order (White)',\n",
       "   'ol2': 'Animal with big feet slippers (Brown) M'},\n",
       "  'count': 15},\n",
       " {'_id': {'ol1': 'Animal with big feet slippers (Brown) M',\n",
       "   'ol2': 'DBA joke mug - I will get you in order (White)'},\n",
       "  'count': 15},\n",
       " {'_id': {'ol1': 'Black and orange handle with care despatch tape  48mmx75m',\n",
       "   'ol2': 'DBA joke mug - two types of DBAs (Black)'},\n",
       "  'count': 14},\n",
       " {'_id': {'ol1': 'DBA joke mug - two types of DBAs (Black)',\n",
       "   'ol2': 'Black and orange handle with care despatch tape  48mmx75m'},\n",
       "  'count': 14},\n",
       " {'_id': {'ol1': 'DBA joke mug - you might be a DBA if (White)',\n",
       "   'ol2': 'RC vintage American toy coupe with remote control (Black) 1/50 scale'},\n",
       "  'count': 13},\n",
       " {'_id': {'ol1': '10 mm Anti static bubble wrap (Blue) 10m',\n",
       "   'ol2': 'Dinosaur battery-powered slippers (Green) M'},\n",
       "  'count': 13},\n",
       " {'_id': {'ol1': 'Superhero action jacket (Blue) 4XL',\n",
       "   'ol2': 'IT joke mug - that behavior is by design (White)'},\n",
       "  'count': 13},\n",
       " {'_id': {'ol1': 'Superhero action jacket (Blue) 3XL',\n",
       "   'ol2': '\"The Gu\" red shirt XML tag t-shirt (White) S'},\n",
       "  'count': 13},\n",
       " {'_id': {'ol1': '\"The Gu\" red shirt XML tag t-shirt (White) S',\n",
       "   'ol2': 'Superhero action jacket (Blue) 3XL'},\n",
       "  'count': 13},\n",
       " {'_id': {'ol1': 'Black and orange this way up despatch tape 48mmx75m',\n",
       "   'ol2': 'Animal with big feet slippers (Brown) M'},\n",
       "  'count': 13},\n",
       " {'_id': {'ol1': 'IT joke mug - that behavior is by design (White)',\n",
       "   'ol2': 'Superhero action jacket (Blue) 4XL'},\n",
       "  'count': 13},\n",
       " {'_id': {'ol1': 'USB rocket launcher (Gray)',\n",
       "   'ol2': '10 mm Double sided bubble wrap 20m'},\n",
       "  'count': 13},\n",
       " {'_id': {'ol1': 'Permanent marker red 5mm nib (Red) 5mm',\n",
       "   'ol2': '\"The Gu\" red shirt XML tag t-shirt (Black) 5XL'},\n",
       "  'count': 13},\n",
       " {'_id': {'ol1': 'Packing knife with metal insert blade (Yellow) 9mm',\n",
       "   'ol2': 'Small 9mm replacement blades 9mm'},\n",
       "  'count': 13},\n",
       " {'_id': {'ol1': 'Ride on toy sedan car (Pink) 1/12 scale',\n",
       "   'ol2': 'Clear packaging tape 48mmx75m'},\n",
       "  'count': 13},\n",
       " {'_id': {'ol1': '\"The Gu\" red shirt XML tag t-shirt (Black) S',\n",
       "   'ol2': 'Plush shark slippers (Gray) S'},\n",
       "  'count': 13},\n",
       " {'_id': {'ol1': '\"The Gu\" red shirt XML tag t-shirt (Black) 5XL',\n",
       "   'ol2': 'Permanent marker red 5mm nib (Red) 5mm'},\n",
       "  'count': 13},\n",
       " {'_id': {'ol1': 'RC vintage American toy coupe with remote control (Black) 1/50 scale',\n",
       "   'ol2': 'DBA joke mug - you might be a DBA if (White)'},\n",
       "  'count': 13},\n",
       " {'_id': {'ol1': 'USB food flash drive - pizza slice',\n",
       "   'ol2': 'RC toy sedan car with remote control (Red) 1/50 scale'},\n",
       "  'count': 13},\n",
       " {'_id': {'ol1': '20 mm Double sided bubble wrap 10m',\n",
       "   'ol2': 'IT joke mug - hardware: part of the computer that can be kicked (Black)'},\n",
       "  'count': 13},\n",
       " {'_id': {'ol1': 'Black and orange glass with care despatch tape  48mmx100m',\n",
       "   'ol2': 'Ride on toy sedan car (Yellow) 1/12 scale'},\n",
       "  'count': 13},\n",
       " {'_id': {'ol1': 'Superhero action jacket (Blue) M',\n",
       "   'ol2': '\"The Gu\" red shirt XML tag t-shirt (Black) 7XL'},\n",
       "  'count': 13},\n",
       " {'_id': {'ol1': 'Furry animal socks (Pink) M',\n",
       "   'ol2': '32 mm Anti static bubble wrap (Blue) 20m'},\n",
       "  'count': 13},\n",
       " {'_id': {'ol1': 'Alien officer hoodie (Black) XL',\n",
       "   'ol2': 'Furry animal socks (Pink) M'},\n",
       "  'count': 13},\n",
       " {'_id': {'ol1': 'Animal with big feet slippers (Brown) M',\n",
       "   'ol2': 'Black and orange this way up despatch tape 48mmx75m'},\n",
       "  'count': 13},\n",
       " {'_id': {'ol1': '\"The Gu\" red shirt XML tag t-shirt (Black) 7XL',\n",
       "   'ol2': 'Superhero action jacket (Blue) M'},\n",
       "  'count': 13},\n",
       " {'_id': {'ol1': 'IT joke mug - hardware: part of the computer that can be kicked (Black)',\n",
       "   'ol2': '20 mm Double sided bubble wrap 10m'},\n",
       "  'count': 13},\n",
       " {'_id': {'ol1': 'Halloween skull mask (Gray) L',\n",
       "   'ol2': 'Developer joke mug - old C developers never die (White)'},\n",
       "  'count': 13},\n",
       " {'_id': {'ol1': 'Ride on toy sedan car (Yellow) 1/12 scale',\n",
       "   'ol2': 'Black and orange glass with care despatch tape  48mmx100m'},\n",
       "  'count': 13},\n",
       " {'_id': {'ol1': 'RC toy sedan car with remote control (Red) 1/50 scale',\n",
       "   'ol2': 'USB food flash drive - pizza slice'},\n",
       "  'count': 13}]"
      ]
     },
     "execution_count": 10,
     "metadata": {},
     "output_type": "execute_result"
    }
   ],
   "source": [
    "query_1 =     {\n",
    "        '$lookup': {\n",
    "           \"from\": \"Sales_OrderLines\",\n",
    "           \"localField\": \"OrderID\",\n",
    "           \"foreignField\": \"OrderID\",\n",
    "           \"as\": \"joint_orders\"\n",
    "        }}\n",
    "\n",
    "\n",
    "\n",
    "query_2 = {\n",
    "    '$unwind': '$joint_orders'\n",
    "}\n",
    "\n",
    "query_3 = {\n",
    "    '$unwind': '$joint_orders.Description'\n",
    "}\n",
    "    \n",
    "\n",
    "\n",
    "\n",
    "\n",
    "query_4 = {'$project':\n",
    "          {'_id':False,\n",
    "          'ol1':'$Description',\n",
    "          'ol2':'$joint_orders.Description',\n",
    "           \"Eq\": {\"$eq\":[\"$Description\",\"$joint_orders.Description\"]}\n",
    "            }}\n",
    "\n",
    "query_5 = {'$match':\n",
    "            {\"Eq\": False}}\n",
    "\n",
    "\n",
    "query_6 = {'$group':\n",
    "          {'_id': \n",
    "           {'ol1':'$ol1',\n",
    "            'ol2':'$ol2'   },\n",
    "           'count': { '$sum': 1 }}}\n",
    "\n",
    "query_7 = {'$sort':{'count':-1}}\n",
    "\n",
    "query_8 = {'$limit': 30}\n",
    "\n",
    "\n",
    "pipeline = [query_1, query_2, query_3, query_4, query_5, query_6, query_7, query_8]\n",
    "\n",
    "r = db.Sales_OrderLines.aggregate(pipeline)\n",
    "\n",
    "result = list(r)\n",
    "\n",
    "result"
   ]
  },
  {
   "cell_type": "markdown",
   "metadata": {},
   "source": [
    "- Which items get ordered the most in bulk (bigger amounts)?  \n"
   ]
  },
  {
   "cell_type": "code",
   "execution_count": 11,
   "metadata": {},
   "outputs": [
    {
     "data": {
      "text/plain": [
       "[{'name': 'Black and orange fragile despatch tape 48mmx75m',\n",
       "  'Quantity': 198.8181818181818},\n",
       " {'name': 'Black and orange fragile despatch tape 48mmx100m',\n",
       "  'Quantity': 197.26182965299685},\n",
       " {'name': 'Shipping carton (Brown) 356x356x279mm',\n",
       "  'Quantity': 146.47058823529412}]"
      ]
     },
     "execution_count": 11,
     "metadata": {},
     "output_type": "execute_result"
    }
   ],
   "source": [
    "query_1={\n",
    "    '$group': {\n",
    "        '_id': {'Description' : '$Description'},\n",
    "        'average_quantity' : {'$avg' : '$Quantity'}\n",
    "    }\n",
    "}\n",
    "\n",
    "query_2 = {\n",
    "    '$sort' : { 'average_quantity' : -1 }\n",
    "}\n",
    "\n",
    "query_3 = {\n",
    "    '$limit': 3}\n",
    "\n",
    "query_4 = {\n",
    "    '$project': {\n",
    "        '_id' : False,\n",
    "        'name' : '$_id.Description',\n",
    "        'Quantity': '$average_quantity'}\n",
    "}\n",
    "\n",
    "pipeline = [query_1, query_2, query_3,query_4]\n",
    "\n",
    "r = db.Sales_OrderLines.aggregate(pipeline)\n",
    "\n",
    "result = list(r)\n",
    "\n",
    "result"
   ]
  },
  {
   "cell_type": "markdown",
   "metadata": {},
   "source": [
    "-Which customers have delivery addresses under 10km of distance to the customer with customerID 961?"
   ]
  },
  {
   "cell_type": "code",
   "execution_count": null,
   "metadata": {},
   "outputs": [],
   "source": [
    "query_1={\n",
    "    '$project': {\n",
    "        '_id': False,\n",
    "        'CostumerID' : '$CustomerID',\n",
    "        'location' : {'lat':'$DeliveryLocationLat', 'long':'$DeliveryLocationLong' }\n",
    "    }\n",
    "}\n",
    "\n",
    "query_2={\n",
    "    '$find': \n",
    "   {\n",
    "     '$location':\n",
    "       { '$near':\n",
    "          {\n",
    "            '$geometry': {'location': [ 41.4972, -102.62 ] },\n",
    "            '$minDistance': 0,\n",
    "            '$maxDistance': 10000\n",
    "          }\n",
    "       }\n",
    "   }\n",
    "}\n",
    "pipeline = [query_1,query_2]\n",
    "\n",
    "r = db.Sales_Customers.aggregate(pipeline)\n",
    "\n",
    "\n",
    "result = list(r)\n",
    "\n",
    "result"
   ]
  },
  {
   "cell_type": "markdown",
   "metadata": {},
   "source": [
    "The CFO:  \n",
    "- Would like to know the monthly order count?  \n"
   ]
  },
  {
   "cell_type": "code",
   "execution_count": 12,
   "metadata": {},
   "outputs": [
    {
     "data": {
      "text/plain": [
       "[{'ordercount': 1674, 'Month': '2013-01'},\n",
       " {'ordercount': 1139, 'Month': '2013-02'},\n",
       " {'ordercount': 1683, 'Month': '2013-03'},\n",
       " {'ordercount': 1696, 'Month': '2013-04'},\n",
       " {'ordercount': 1808, 'Month': '2013-05'},\n",
       " {'ordercount': 1675, 'Month': '2013-06'},\n",
       " {'ordercount': 1886, 'Month': '2013-07'},\n",
       " {'ordercount': 1537, 'Month': '2013-08'},\n",
       " {'ordercount': 1617, 'Month': '2013-09'},\n",
       " {'ordercount': 1618, 'Month': '2013-10'},\n",
       " {'ordercount': 1552, 'Month': '2013-11'},\n",
       " {'ordercount': 1565, 'Month': '2013-12'},\n",
       " {'ordercount': 1791, 'Month': '2014-01'},\n",
       " {'ordercount': 1538, 'Month': '2014-02'},\n",
       " {'ordercount': 1586, 'Month': '2014-03'},\n",
       " {'ordercount': 1739, 'Month': '2014-04'},\n",
       " {'ordercount': 1908, 'Month': '2014-05'},\n",
       " {'ordercount': 1887, 'Month': '2014-06'},\n",
       " {'ordercount': 2008, 'Month': '2014-07'},\n",
       " {'ordercount': 1642, 'Month': '2014-08'},\n",
       " {'ordercount': 1637, 'Month': '2014-09'},\n",
       " {'ordercount': 1921, 'Month': '2014-10'},\n",
       " {'ordercount': 1628, 'Month': '2014-11'},\n",
       " {'ordercount': 1914, 'Month': '2014-12'},\n",
       " {'ordercount': 1830, 'Month': '2015-01'},\n",
       " {'ordercount': 1732, 'Month': '2015-02'},\n",
       " {'ordercount': 1891, 'Month': '2015-03'},\n",
       " {'ordercount': 2111, 'Month': '2015-04'},\n",
       " {'ordercount': 1959, 'Month': '2015-05'},\n",
       " {'ordercount': 1989, 'Month': '2015-06'},\n",
       " {'ordercount': 2273, 'Month': '2015-07'},\n",
       " {'ordercount': 1729, 'Month': '2015-08'},\n",
       " {'ordercount': 2065, 'Month': '2015-09'},\n",
       " {'ordercount': 1965, 'Month': '2015-10'},\n",
       " {'ordercount': 1834, 'Month': '2015-11'},\n",
       " {'ordercount': 1951, 'Month': '2015-12'},\n",
       " {'ordercount': 1944, 'Month': '2016-01'},\n",
       " {'ordercount': 1706, 'Month': '2016-02'},\n",
       " {'ordercount': 1969, 'Month': '2016-03'},\n",
       " {'ordercount': 1951, 'Month': '2016-04'},\n",
       " {'ordercount': 2047, 'Month': '2016-05'}]"
      ]
     },
     "execution_count": 12,
     "metadata": {},
     "output_type": "execute_result"
    }
   ],
   "source": [
    "# According to this link: https://docs.mongodb.com/v5.0/core/aggregation-pipeline/#:~:text=Pipeline%20Operators%20and%20Indexes,\n",
    "# this query is not possible to be done with an index, because of the accumulator\n",
    "\n",
    "query_1 = {\n",
    "    '$group': {\n",
    "        '_id' : {'$substr': ['$OrderDate', 0, 7]},\n",
    "        'ordercount': {'$sum': 1}\n",
    "    }\n",
    "}\n",
    "\n",
    "query_2 = {\n",
    "    '$sort': {'_id': 1}\n",
    "}\n",
    "\n",
    "query_3 = {\n",
    "    '$project': {\n",
    "        '_id' : 0,\n",
    "        'Month': '$_id',\n",
    "        'ordercount' : 1\n",
    "    }\n",
    "}\n",
    "\n",
    "pipeline = [query_1, query_2, query_3]\n",
    "\n",
    "r = db.Sales_Orders.aggregate(pipeline)\n",
    "\n",
    "result = list(r)\n",
    "\n",
    "result"
   ]
  },
  {
   "cell_type": "markdown",
   "metadata": {},
   "source": [
    "- Would like to know the average monthly sales prices?  "
   ]
  },
  {
   "cell_type": "code",
   "execution_count": 13,
   "metadata": {},
   "outputs": [
    {
     "data": {
      "text/plain": [
       "[{'average_monthly_sales_prices': 724.2648835447832, 'Month': '2013-01'},\n",
       " {'average_monthly_sales_prices': 757.187922705314, 'Month': '2013-02'},\n",
       " {'average_monthly_sales_prices': 735.9580812766748, 'Month': '2013-03'},\n",
       " {'average_monthly_sales_prices': 782.0304949190817, 'Month': '2013-04'},\n",
       " {'average_monthly_sales_prices': 800.637015265836, 'Month': '2013-05'},\n",
       " {'average_monthly_sales_prices': 777.4632071937056, 'Month': '2013-06'},\n",
       " {'average_monthly_sales_prices': 763.694343622795, 'Month': '2013-07'},\n",
       " {'average_monthly_sales_prices': 747.2962440340319, 'Month': '2013-08'},\n",
       " {'average_monthly_sales_prices': 767.9943616395371, 'Month': '2013-09'},\n",
       " {'average_monthly_sales_prices': 750.3137594275769, 'Month': '2013-10'},\n",
       " {'average_monthly_sales_prices': 770.5888844058907, 'Month': '2013-11'},\n",
       " {'average_monthly_sales_prices': 750.7256141763995, 'Month': '2013-12'},\n",
       " {'average_monthly_sales_prices': 739.6302006335796, 'Month': '2014-01'},\n",
       " {'average_monthly_sales_prices': 739.6986335403726, 'Month': '2014-02'},\n",
       " {'average_monthly_sales_prices': 780.6918471171407, 'Month': '2014-03'}]"
      ]
     },
     "execution_count": 13,
     "metadata": {},
     "output_type": "execute_result"
    }
   ],
   "source": [
    "query_1 = {\n",
    "    '$unwind' : \"$OrderLines\"\n",
    "}\n",
    "\n",
    "query_2 = {\n",
    "    '$group': {\n",
    "        '_id' : {'$substr': ['$OrderDate', 0, 7]},\n",
    "        'average_monthly_sales_prices': { '$avg': { '$multiply': [ \"$OrderLines.Quantity\", \"$OrderLines.UnitPrice\" ] } }\n",
    "    }\n",
    "}\n",
    "\n",
    "query_3 = {\n",
    "    '$project': {\n",
    "        '_id' : 0,\n",
    "        'Month': '$_id',\n",
    "        'average_monthly_sales_prices' : 1\n",
    "    }\n",
    "}\n",
    "\n",
    "query_4 = {\n",
    "    '$sort': {'Month': 1}\n",
    "}\n",
    "\n",
    "pipeline = [query_1, query_2, query_3, query_4]\n",
    "\n",
    "r = db.Sales_Orders.aggregate(pipeline)\n",
    "\n",
    "result = list(r)\n",
    "\n",
    "result"
   ]
  },
  {
   "cell_type": "markdown",
   "metadata": {},
   "source": [
    "- Would like to know the yearly expenditures with suppliers (per supplier name)?  "
   ]
  },
  {
   "cell_type": "code",
   "execution_count": 14,
   "metadata": {},
   "outputs": [
    {
     "data": {
      "text/plain": [
       "[{'year': '2013',\n",
       "  'supplier_name': ['Contoso, Ltd.'],\n",
       "  'yearly_expenditures': 0.0},\n",
       " {'year': '2013',\n",
       "  'supplier_name': ['Graphic Design Institute'],\n",
       "  'yearly_expenditures': 0.0},\n",
       " {'year': '2013',\n",
       "  'supplier_name': ['Litware, Inc.'],\n",
       "  'yearly_expenditures': 119343.31999999998},\n",
       " {'year': '2013',\n",
       "  'supplier_name': ['Northwind Electric Cars'],\n",
       "  'yearly_expenditures': -3.637978807091713e-12},\n",
       " {'year': '2013',\n",
       "  'supplier_name': ['The Phone Company'],\n",
       "  'yearly_expenditures': 0.0},\n",
       " {'year': '2013',\n",
       "  'supplier_name': ['Fabrikam, Inc.'],\n",
       "  'yearly_expenditures': 485380.49999999977},\n",
       " {'year': '2014',\n",
       "  'supplier_name': ['Fabrikam, Inc.'],\n",
       "  'yearly_expenditures': 1510955.0999999973},\n",
       " {'year': '2014',\n",
       "  'supplier_name': ['Litware, Inc.'],\n",
       "  'yearly_expenditures': 686937.2100000003},\n",
       " {'year': '2015',\n",
       "  'supplier_name': ['Litware, Inc.'],\n",
       "  'yearly_expenditures': 1353734.6900000004},\n",
       " {'year': '2015',\n",
       "  'supplier_name': ['Fabrikam, Inc.'],\n",
       "  'yearly_expenditures': 2837528.3999999994},\n",
       " {'year': '2016',\n",
       "  'supplier_name': ['A Datum Corporation'],\n",
       "  'yearly_expenditures': 0.0},\n",
       " {'year': '2016',\n",
       "  'supplier_name': ['Fabrikam, Inc.'],\n",
       "  'yearly_expenditures': -2961969.900000002},\n",
       " {'year': '2016',\n",
       "  'supplier_name': ['Litware, Inc.'],\n",
       "  'yearly_expenditures': -1310231.1100000003}]"
      ]
     },
     "execution_count": 14,
     "metadata": {},
     "output_type": "execute_result"
    }
   ],
   "source": [
    "query_1 = {\n",
    "    '$group': {\n",
    "        '_id' : {\n",
    "            'year': {'$substr': ['$TransactionDate', 0, 4]},\n",
    "            'supplier': '$SupplierID'\n",
    "        },\n",
    "        'count' : {'$sum' : '$TransactionAmount'}\n",
    "    }\n",
    "}\n",
    "\n",
    "query_2 = {\n",
    "    \"$lookup\":\n",
    "    {\n",
    "       \"from\": \"Purchasing_Suppliers\",\n",
    "       \"localField\": \"_id.supplier\",\n",
    "       \"foreignField\": \"SupplierID\",\n",
    "       \"as\": \"supplier\"\n",
    "     }\n",
    "}\n",
    "\n",
    "query_3 = {\n",
    "    '$project': {\n",
    "        '_id' : 0,\n",
    "        'year': '$_id.year',\n",
    "        'supplier_name' : '$supplier.SupplierName',\n",
    "        'yearly_expenditures' : '$count',                \n",
    "    }\n",
    "}\n",
    "\n",
    "query_4 = {\n",
    "    '$sort': {'year': 1}\n",
    "}\n",
    "\n",
    "pipeline = [query_1, query_2, query_3, query_4]\n",
    "\n",
    "r = db.Purchasing_SupplierTransactions.aggregate(pipeline)\n",
    "\n",
    "result = list(r)\n",
    "\n",
    "result"
   ]
  },
  {
   "cell_type": "markdown",
   "metadata": {},
   "source": [
    "Partnerships:  \n",
    "- Would like to know what's the most common payment type?  \n"
   ]
  },
  {
   "cell_type": "code",
   "execution_count": 15,
   "metadata": {},
   "outputs": [
    {
     "data": {
      "text/plain": [
       "'PaymentMethodName'"
      ]
     },
     "execution_count": 15,
     "metadata": {},
     "output_type": "execute_result"
    }
   ],
   "source": [
    "db.Purchasing_SupplierTransactions.create_index(\n",
    "    [('PaymentMethod.PaymentMethodName', 1)],\n",
    "    name='PaymentMethodName', \n",
    ")"
   ]
  },
  {
   "cell_type": "code",
   "execution_count": 16,
   "metadata": {},
   "outputs": [
    {
     "data": {
      "text/plain": [
       "[{'payment_type': 'EFT', 'total_count': 54397}]"
      ]
     },
     "execution_count": 16,
     "metadata": {},
     "output_type": "execute_result"
    }
   ],
   "source": [
    "# We checked that all the payment methods in Purchasing_SupplierTransactions are also in Sales_CustomerTransactions so we can \n",
    "# match collections\n",
    "query_1 = {\n",
    "    '$group': {\n",
    "        '_id' : '$PaymentMethod.PaymentMethodName', \n",
    "        'count' : {'$sum' : 1}\n",
    "    }\n",
    "}\n",
    "\n",
    "query_2 = {\n",
    "    \"$lookup\":{\n",
    "        \"from\": \"Purchasing_SupplierTransactions\",\n",
    "        \"localField\": \"_id\",\n",
    "        \"foreignField\": \"PaymentMethod.PaymentMethodName\",\n",
    "        \"as\": \"supplier_payments\"\n",
    "     }\n",
    "}\n",
    "\n",
    "query_3 = {\n",
    "    \"$unwind\": \"$supplier_payments\"\n",
    "}\n",
    "\n",
    "query_4 = {\n",
    "    '$group': {\n",
    "        '_id' : '$_id',\n",
    "        'cust_count' : { '$first': '$count' },\n",
    "        'supp_count' : {'$sum' : 1}\n",
    "    }\n",
    "}\n",
    "\n",
    "query_5 = {\n",
    "    '$project': {\n",
    "        '_id' : 0,\n",
    "        'payment_type' : '$_id',\n",
    "        'total_count': { '$sum': [ \"$cust_count\", \"$supp_count\" ] }\n",
    "    }\n",
    "}\n",
    "\n",
    "query_6 = {\n",
    "    '$sort': {'year': 1}\n",
    "}\n",
    "\n",
    "limit = {'$count':1}\n",
    "pipeline = [query_1, query_2, query_3, query_4, query_5, query_6]\n",
    "\n",
    "r = db.Sales_CustomerTransactions.aggregate(pipeline)\n",
    "\n",
    "result = list(r)\n",
    "\n",
    "result"
   ]
  },
  {
   "cell_type": "markdown",
   "metadata": {},
   "source": [
    "- Which supplier of `Novelty Goods Supplier` as the most transactions?  \n"
   ]
  },
  {
   "cell_type": "code",
   "execution_count": 18,
   "metadata": {},
   "outputs": [
    {
     "data": {
      "text/plain": [
       "'SupplierID'"
      ]
     },
     "execution_count": 18,
     "metadata": {},
     "output_type": "execute_result"
    }
   ],
   "source": [
    "db.Purchasing_SupplierTransactions.create_index(\n",
    "    [('SupplierID', 1)],\n",
    "    name='SupplierID', \n",
    ")"
   ]
  },
  {
   "cell_type": "code",
   "execution_count": 19,
   "metadata": {},
   "outputs": [
    {
     "data": {
      "text/plain": [
       "[{'_id': ['Graphic Design Institute'], 'count': 16},\n",
       " {'_id': ['The Phone Company'], 'count': 7},\n",
       " {'_id': ['A Datum Corporation'], 'count': 7},\n",
       " {'_id': ['Contoso, Ltd.'], 'count': 2}]"
      ]
     },
     "execution_count": 19,
     "metadata": {},
     "output_type": "execute_result"
    }
   ],
   "source": [
    "query_1 = {\n",
    "    '$match':{\n",
    "                'SupplierID':{'$in' : list(db.Purchasing_Suppliers.distinct('SupplierID',\n",
    "                                    {'SupplierCategory.SupplierCategoryName':'Novelty Goods Supplier'}))\n",
    "    }\n",
    "}}\n",
    "\n",
    "query_2 = {\n",
    "    '$project':{\n",
    "                '_id':False,\n",
    "                'supplier_id':'$SupplierID'\n",
    "    }\n",
    "}\n",
    "\n",
    "query_3 = {\n",
    "    '$group': {\n",
    "        '_id': '$supplier_id', \n",
    "        'count' : {'$sum' : 1}            \n",
    "}\n",
    "}\n",
    "\n",
    "query_4 = {\n",
    "    '$sort': {\n",
    "        'count' : -1}            \n",
    "}\n",
    "\n",
    "query_5 =     {\n",
    "        '$lookup': {\n",
    "           \"from\": \"Purchasing_Suppliers\",\n",
    "           \"localField\": \"_id\",\n",
    "           \"foreignField\": \"SupplierID\",\n",
    "           \"as\": \"supplier_info\"\n",
    "        }}\n",
    "\n",
    "query_6 = {\n",
    "    '$project' :{\n",
    "        '_id' : '$supplier_info.SupplierName',\n",
    "        'count' : '$count'\n",
    "    }\n",
    "}\n",
    "\n",
    "\n",
    "pipeline = [query_1, query_2, query_3, query_4, query_5, query_6]\n",
    "\n",
    "r = db.Purchasing_SupplierTransactions.aggregate(pipeline)\n",
    "\n",
    "result = list(r)\n",
    "\n",
    "result"
   ]
  },
  {
   "cell_type": "markdown",
   "metadata": {},
   "source": [
    "The marketing team:  \n",
    "- Want to make an appreciation post and needs the name of the sales person with the most invoices in 2013 (person who's customers brought the most money)?\n"
   ]
  },
  {
   "cell_type": "code",
   "execution_count": 21,
   "metadata": {},
   "outputs": [
    {
     "data": {
      "text/plain": [
       "[{'name': ['Taj Shand'],\n",
       "  'customer_money_brought': 2113387.3,\n",
       "  'invoices_amount': 2942}]"
      ]
     },
     "execution_count": 21,
     "metadata": {},
     "output_type": "execute_result"
    }
   ],
   "source": [
    "# Showing the sales person that generated the most value in terms of money spent by his customers\n",
    "query_1 = {\n",
    "    '$match': {\n",
    "        \"InvoiceDate\": {'$regex': '.*2013.*'}\n",
    "    }\n",
    "}\n",
    "query_2 = {\n",
    "    '$unwind' : \"$InvoiceLines\"\n",
    "}\n",
    "\n",
    "query_3 = {\n",
    "    '$group': {\n",
    "        '_id' : '$SalespersonPersonID',\n",
    "        'customer_money_brought': { '$sum': { '$multiply': [ \"$InvoiceLines.Quantity\", \"$InvoiceLines.UnitPrice\" ] } },\n",
    "        'invoices_amount': { '$sum': 1 }\n",
    "    }\n",
    "}\n",
    "\n",
    "query_4 = {\n",
    "    \"$lookup\":\n",
    "    {\n",
    "       \"from\": \"Application_People\",\n",
    "       \"localField\": \"_id\",\n",
    "       \"foreignField\": \"PersonID\",\n",
    "       \"as\": \"person\"\n",
    "     }\n",
    "}\n",
    "\n",
    "query_5 = {\n",
    "    '$project': {\n",
    "        '_id' : 0,\n",
    "        'name': '$person.FullName',\n",
    "        'customer_money_brought' : '$customer_money_brought',\n",
    "        'invoices_amount' : '$invoices_amount',                \n",
    "    }\n",
    "}\n",
    "\n",
    "query_6 = {\n",
    "    '$sort': {'customer_money_brought': 1}\n",
    "}\n",
    "\n",
    "query_7 = {\n",
    "    '$limit': 1\n",
    "}\n",
    "\n",
    "pipeline = [query_1, query_2, query_3, query_4, query_5, query_6, query_7]\n",
    "\n",
    "r = db.Sales_Invoices.aggregate(pipeline)\n",
    "\n",
    "result = list(r)\n",
    "\n",
    "result"
   ]
  },
  {
   "cell_type": "code",
   "execution_count": null,
   "metadata": {},
   "outputs": [],
   "source": []
  }
 ],
 "metadata": {
  "kernelspec": {
   "display_name": "Python 3",
   "language": "python",
   "name": "python3"
  },
  "language_info": {
   "codemirror_mode": {
    "name": "ipython",
    "version": 3
   },
   "file_extension": ".py",
   "mimetype": "text/x-python",
   "name": "python",
   "nbconvert_exporter": "python",
   "pygments_lexer": "ipython3",
   "version": "3.8.3"
  }
 },
 "nbformat": 4,
 "nbformat_minor": 4
}
