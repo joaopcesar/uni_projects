{
 "cells": [
  {
   "cell_type": "markdown",
   "metadata": {},
   "source": [
    "# Big Data Modeling and Management 2021\n",
    "\n",
    "\n",
    "## 🚚 BDMM Third Homework Assignment 🚚 \n",
    "\n",
    "_The Wide World Importers (WWI) is a wholesales novelty goods importer and distributor operating from the San Francisco bay area. In this assignment we will be working with their database._ \n",
    "You can get more information and details about the WWI database can be found in the following link: https://docs.microsoft.com/en-us/sql/samples/wide-world-importers-what-is?view=sql-server-ver15\n",
    "\n",
    "The focus of the third assignment is modelling. We will use the same data source that was used the previous assignment, the World Wide Importers database, and convert it to a document-based database. To that end, we will be  leveraging concepts like data denormalization, indexes, and mongodb design patterns. \n",
    "\n",
    "More information on the extended datamodel to be found here: </br>  \n",
    "https://docs.microsoft.com/en-us/sql/samples/wide-world-importers-oltp-database-catalog?view=sql-server-ver15"
   ]
  },
  {
   "cell_type": "markdown",
   "metadata": {},
   "source": [
    "## Problem Description\n",
    "\n",
    "Your team has just arrived at WWI (a leading company in logitics). Welcome!   <br>\n",
    "Even though business is striving, the IT department is going through a bad time.   <br>\n",
    "Digitalization was never a priority for the company and now the company operational and analytical requirements is starting to grow beyond the capabilities of their existing data architecture.   <br>\n",
    "\n",
    "WWI data is spread accross different systems. Namely, an old SQL database, data extracted through an API, and data stored in CSV files. <br>\n",
    "Currently, the costs to develop the necessary queries to collect data to answer questions asked by the different departments are too high. <br>\n",
    "Management concluded it is the right time to revise and revamp the data architecture, in order to speed up operations. \n",
    "\n",
    "In that context, your team was tasked with merging all the company data into a single and coherent Mongo database. <br>\n",
    "It is expected that, with your solution, WWI will have a better understanding of their business and that the different departments will be able to obtain efficiently the answers they desperatly need.\n",
    "\n",
    "The WWI team shared with you an ERD of their current datamodel:<br>\n",
    "![datamodel](WWI.png)\n",
    "\n",
    "Addtionally, the WWI team asked you the deliver the following outputs in **10 days**:\n",
    "- Understand and model the database.  \n",
    "- Migrate all data to the database\n",
    "- Answer the questions.  \n",
    "- Submit the results by following the instructions.  \n",
    "- Prepare a short oral presentation to explain your design choices and the results you obtained.\n",
    "\n",
    "With these deliveries, you will have created a prototype and allows the management to decide whether MongoDB is a good solution that meets their requirements.\n",
    "\n",
    "### Design Requirements\n",
    "\n",
    "You have been informed that the WWI has the following query requirements to the database.\n",
    "\n",
    "The web team needs:  \n",
    "- From which state province are our suppliers from?   \n",
    "- From which state province are the customers who have a higher credit limit?  \n",
    "\n",
    "\n",
    "The warehouse group needs:  \n",
    "- To know which items get ordered together the most?   \n",
    "- Which items get ordered the most in bulk (bigger amounts)?  \n",
    "- Which customers have delivery addresses under 10km of distance?  \n",
    "\n",
    "The CFO:  \n",
    "- Would like to know the monthly order count?  \n",
    "- Would like to know the average monthly sales prices?  \n",
    "- Would like to know the yearly expenditures with suppliers (per supplier name)?  \n",
    "\n",
    "Partnerships:  \n",
    "- Would like to know what's the most common payment type?  \n",
    "- Which supplier of `Novelty Goods Supplier` as the most transactions?  \n",
    "\n",
    "The marketing team:  \n",
    "- Want to make an appreciation post and needs the name of the sales person with the most invoices in 2013 (person who's customers brought the most money)?\n",
    "\n",
    "---\n",
    "\n",
    "Transform the SQL tables, API results and CSV files provided in the annex with this file and model a database following mongo's best practises.\n",
    "\n",
    "Write MongoDB queries to awnser the above mentioned queries\n",
    "\n",
    "Take advantage of database indexes to improve your query speeds\n",
    "\n",
    "### Deliverables\n",
    "\n",
    "1. Notebook with all DB creation operations and CRUD operations;\n",
    "2. Second notebook with all required 'queries to\n",
    "\n",
    "### Data Source Materials\n",
    "\n",
    "For the development of this assignment you will have access to the RDBMS/SQL database hosting the original WWI database. To connect to the database use the following credentials:\n",
    "```\n",
    "host:rhea.isegi.unl.pt\n",
    "user:wwi-read-only-user\n",
    "pass:jGp2GCqrss6nfTEu5ZawhW3mksLsQYQb\n",
    "database:WWI\n",
    "\n",
    "# !pip install mysql-connector-python\n",
    "import mysql.connector\n",
    "mydb = mysql.connector.connect(host={host}, user={user}, database={database}, port=3306, password={password})\n",
    "mycursor = mydb.cursor()\n",
    "\n",
    "mycursor.execute('SHOW TABLES;')\n",
    "print(f\"Tables: {mycursor.fetchall()}\")\n",
    "mycursor.execute('DESCRIBE Purchasing_PurchaseOrderLines;')\n",
    "print(f\"Purchasing_PurchaseOrderLines schema: {mycursor.fetchall()}\")\n",
    "```\n",
    "\n",
    "Additionally you have access to the following documents.\n",
    "\n",
    "CSV with Warehouse Data  \n",
    "**https://liveeduisegiunl-my.sharepoint.com/:f:/g/personal/fpinheiro_novaims_unl_pt/Eh8Mj-m6r4dOt84tPDGUnhUBd5oMC0CJKAeyJm3urNB-8g?e=JuPMuW**\n",
    "\n",
    "API with Application data  \n",
    "**http://rhea.isegi.unl.pt:8080/**"
   ]
  },
  {
   "cell_type": "markdown",
   "metadata": {},
   "source": [
    "## Additional Information\n",
    "\n",
    "#### Groups  \n",
    "\n",
    "This is a group activity. <br>\n",
    "Students should form groups of at least 4 and at most 5. <br>\n",
    "We will use the current defined groups that have been established during the previous assignments, and that are identified on Moodle.\n",
    "\n",
    "#### MongoDB database access  \n",
    "\n",
    "Each group will have access to its own mongodb instance.<br>\n",
    "Each group will receive an email with their access credentials. <br>\n",
    "You will use the database to store your results. <br>\n",
    "\n",
    "Connection details will have the following template:<br>\n",
    "```\n",
    "Host: rhea.isegi.unl.pt:27017  \n",
    "Username: {groups_username}  \n",
    "Password: {groups_password}  \n",
    "```\n",
    "Which then can be used as follows:\n",
    "```\n",
    "client = MongoClient(f\"{protocol}://{user}:{password}@{host}:{port}/\")\n",
    "```\n",
    "\n",
    "#### Submission  Deadline\n",
    "\n",
    "The submission must contain a notebook with the queries and their results, also indicate the name of the database that you created. <br>\n",
    "Upload the notebook on moodle before **23:59 of May 30nd**\n",
    "\n",
    "#### Evaluation   \n",
    "\n",
    "The third homework assignment counts 20% towards your final mark of the curricular unit. <br>\n",
    "The assignment will be scored from 0 to 20. <br>\n",
    "Your final task will be to present the owner of the company your database proposal and how would it make everyone satisfied. <br>\n",
    "\n",
    "Each group submission will be evaluated on two components:\n",
    "1. correctness of results;\n",
    "2. simplicity of the solution;\n",
    "\n",
    "50% -  Database design  \n",
    "50% -  Query results  \n",
    "*    25% - Correctness of queries   \n",
    "*    25% - Right results\n",
    "\n",
    "Please note that all code delivered in this assignment will go through plagiarism automated checks. <br>\n",
    "Groups high similarity levels in their code will undergo investigation.\n",
    "\n",
    "**Presentations**\n",
    "\n",
    "Presentations will be held between the 2nd and 3rd of June and you need to sign up your group in this calendly link:<br>\n",
    "https://calendly.com/d/m9sj-qwpk/presentations (Please try to avoid empty windows)"
   ]
  },
  {
   "cell_type": "markdown",
   "metadata": {},
   "source": [
    "## Imports"
   ]
  },
  {
   "cell_type": "code",
   "execution_count": 124,
   "metadata": {},
   "outputs": [],
   "source": [
    "from tqdm.notebook import tqdm"
   ]
  },
  {
   "cell_type": "markdown",
   "metadata": {},
   "source": [
    "## Connection"
   ]
  },
  {
   "cell_type": "code",
   "execution_count": 102,
   "metadata": {},
   "outputs": [],
   "source": [
    "# Connect to mySQL server\n",
    "\n",
    "import mysql.connector\n",
    "mydb = mysql.connector.connect(host='rhea.isegi.unl.pt', \n",
    "                               user='wwi-read-only-user', \n",
    "                               database='WWI',\n",
    "                               password='jGp2GCqrss6nfTEu5ZawhW3mksLsQYQb',\n",
    "                               port=3306\n",
    "                              )\n",
    "mycursor = mydb.cursor()\n",
    "\n",
    "# Getting the table names\n",
    "#mycursor.execute('SHOW TABLES;')\n",
    "#print(f\"Tables: {mycursor.fetchall()}\")\n",
    "\n",
    "# Getting a tables column descriptios\n",
    "#mycursor.execute('DESCRIBE Purchasing_PurchaseOrderLines;')\n",
    "#print(f\"Purchasing_PurchaseOrderLines schema: {mycursor.fetchall()}\")"
   ]
  },
  {
   "cell_type": "code",
   "execution_count": 103,
   "metadata": {},
   "outputs": [],
   "source": [
    "# Connect to Mongo server\n",
    "\n",
    "from pymongo import MongoClient\n",
    "\n",
    "host=\"rhea.isegi.unl.pt\"\n",
    "port=\"27049\"\n",
    "user=\"GROUP_32\"\n",
    "password=\"bRG2XjRZhrRA9IfpmENyXxMlWQDUJdzL\"\n",
    "protocol=\"mongodb\"\n",
    "client = MongoClient(f\"{protocol}://{user}:{password}@{host}:{port}\")"
   ]
  },
  {
   "cell_type": "code",
   "execution_count": 53,
   "metadata": {},
   "outputs": [],
   "source": [
    "# Create a database\n",
    "db = client.#insert db name here"
   ]
  },
  {
   "cell_type": "markdown",
   "metadata": {},
   "source": [
    "## For deleting everything and flushing the cursor"
   ]
  },
  {
   "cell_type": "code",
   "execution_count": 133,
   "metadata": {},
   "outputs": [
    {
     "data": {
      "text/plain": [
       "['Purchasing_PurchaseOrderLines']"
      ]
     },
     "execution_count": 133,
     "metadata": {},
     "output_type": "execute_result"
    }
   ],
   "source": [
    "db.list_collection_names()"
   ]
  },
  {
   "cell_type": "code",
   "execution_count": 134,
   "metadata": {},
   "outputs": [],
   "source": [
    "for i in range(len(tables)):\n",
    "    \n",
    "    table_name = tables[i][0]\n",
    "    \n",
    "    db[table_name].drop()"
   ]
  },
  {
   "cell_type": "code",
   "execution_count": 135,
   "metadata": {},
   "outputs": [
    {
     "data": {
      "text/plain": [
       "[]"
      ]
     },
     "execution_count": 135,
     "metadata": {},
     "output_type": "execute_result"
    }
   ],
   "source": [
    "db.list_collection_names()"
   ]
  },
  {
   "cell_type": "code",
   "execution_count": null,
   "metadata": {},
   "outputs": [],
   "source": [
    "mycursor.fetchall()"
   ]
  },
  {
   "cell_type": "markdown",
   "metadata": {},
   "source": [
    "### Migrate data from MySQL database to mongo database"
   ]
  },
  {
   "cell_type": "code",
   "execution_count": null,
   "metadata": {},
   "outputs": [
    {
     "name": "stdout",
     "output_type": "stream",
     "text": [
      "SELECT * FROM Purchasing_PurchaseOrderLines\n"
     ]
    },
    {
     "data": {
      "application/vnd.jupyter.widget-view+json": {
       "model_id": "80f394e91d494d68a0aca77e95203317",
       "version_major": 2,
       "version_minor": 0
      },
      "text/plain": [
       "0it [00:00, ?it/s]"
      ]
     },
     "metadata": {},
     "output_type": "display_data"
    },
    {
     "name": "stdout",
     "output_type": "stream",
     "text": [
      "SELECT * FROM Purchasing_PurchaseOrders\n"
     ]
    },
    {
     "data": {
      "application/vnd.jupyter.widget-view+json": {
       "model_id": "5a9e0e46ec4843e1b95c7df0f503ac16",
       "version_major": 2,
       "version_minor": 0
      },
      "text/plain": [
       "0it [00:00, ?it/s]"
      ]
     },
     "metadata": {},
     "output_type": "display_data"
    },
    {
     "name": "stdout",
     "output_type": "stream",
     "text": [
      "SELECT * FROM Purchasing_SupplierCategories\n"
     ]
    },
    {
     "data": {
      "application/vnd.jupyter.widget-view+json": {
       "model_id": "dbee2d37b01e4bc393aec5a69cdd18b6",
       "version_major": 2,
       "version_minor": 0
      },
      "text/plain": [
       "0it [00:00, ?it/s]"
      ]
     },
     "metadata": {},
     "output_type": "display_data"
    },
    {
     "name": "stdout",
     "output_type": "stream",
     "text": [
      "SELECT * FROM Purchasing_SupplierTransactions\n"
     ]
    },
    {
     "data": {
      "application/vnd.jupyter.widget-view+json": {
       "model_id": "df7b2e85bebb4005bbe37b3cc91becae",
       "version_major": 2,
       "version_minor": 0
      },
      "text/plain": [
       "0it [00:00, ?it/s]"
      ]
     },
     "metadata": {},
     "output_type": "display_data"
    },
    {
     "name": "stdout",
     "output_type": "stream",
     "text": [
      "SELECT * FROM Purchasing_Suppliers\n"
     ]
    },
    {
     "data": {
      "application/vnd.jupyter.widget-view+json": {
       "model_id": "5f105b8615884605ac72f0957ea68b2a",
       "version_major": 2,
       "version_minor": 0
      },
      "text/plain": [
       "0it [00:00, ?it/s]"
      ]
     },
     "metadata": {},
     "output_type": "display_data"
    },
    {
     "name": "stdout",
     "output_type": "stream",
     "text": [
      "SELECT * FROM Sales_CustomerCategories\n"
     ]
    },
    {
     "data": {
      "application/vnd.jupyter.widget-view+json": {
       "model_id": "a53efe5273354e1aafc35512d83fa959",
       "version_major": 2,
       "version_minor": 0
      },
      "text/plain": [
       "0it [00:00, ?it/s]"
      ]
     },
     "metadata": {},
     "output_type": "display_data"
    },
    {
     "name": "stdout",
     "output_type": "stream",
     "text": [
      "SELECT * FROM Sales_CustomerTransactions\n"
     ]
    },
    {
     "data": {
      "application/vnd.jupyter.widget-view+json": {
       "model_id": "7370ff9514db4bd2a0fb5ccc40163bf2",
       "version_major": 2,
       "version_minor": 0
      },
      "text/plain": [
       "0it [00:00, ?it/s]"
      ]
     },
     "metadata": {},
     "output_type": "display_data"
    }
   ],
   "source": [
    "for i in range(len(tables)):\n",
    "    \n",
    "    # Get MySQL table name\n",
    "    table_name = tables[i][0]\n",
    "    \n",
    "    # Get names of the columns of this table\n",
    "    table_name = tables[i][0]\n",
    "    describe = 'DESCRIBE ' + table_name + ';'\n",
    "    mycursor.execute(describe)\n",
    "    describe_out = mycursor.fetchall()\n",
    "\n",
    "    cols = []\n",
    "    for i in range(len(describe_out)):\n",
    "        col = describe_out[i][0]\n",
    "        cols.append(col)\n",
    "    \n",
    "    # Create mongodb collection\n",
    "    collection = db[table_name]\n",
    "    \n",
    "    # Define our query\n",
    "    query = ( \"SELECT * \" \n",
    "             \"FROM \" + table_name )\n",
    "    \n",
    "    # For debugging print query\n",
    "    print(query)\n",
    "    \n",
    "    # Execute query\n",
    "    mycursor.execute( query )\n",
    "    \n",
    "    #mongo client specifically requires python dict\n",
    "    cus = dict()\n",
    "\n",
    "    #custom record id rather than mongodb default hash id                                          \n",
    "    cid = 0                                                 \n",
    "\n",
    "    #cycle through each mySQL row\n",
    "    for ( row ) in tqdm(mycursor):\n",
    "        cid        += 1   #increment id\n",
    "        cus['_id'] = cid                                    \n",
    "\n",
    "        #check if current row is null\n",
    "        for i in range( 0, len( row ) ):\n",
    "            \n",
    "            if row[i] == None:\n",
    "                #if the record is null, skip it                  \n",
    "                continue\n",
    "            else:\n",
    "                #conversion to string\n",
    "                row_title      = \"\".join( cols[i] )  \n",
    "                #conversion to string \n",
    "                field          = str( row[i] ) \n",
    "\n",
    "                #add current record's field's title and value             \n",
    "                cus[row_title] = field\n",
    "                \n",
    "        #we've completed processing this row, insert it into mongoldb      \n",
    "        collection.insert_one( cus )"
   ]
  },
  {
   "cell_type": "code",
   "execution_count": 122,
   "metadata": {},
   "outputs": [],
   "source": []
  },
  {
   "cell_type": "code",
   "execution_count": null,
   "metadata": {},
   "outputs": [],
   "source": []
  }
 ],
 "metadata": {
  "kernelspec": {
   "display_name": "Python 3",
   "language": "python",
   "name": "python3"
  },
  "language_info": {
   "codemirror_mode": {
    "name": "ipython",
    "version": 3
   },
   "file_extension": ".py",
   "mimetype": "text/x-python",
   "name": "python",
   "nbconvert_exporter": "python",
   "pygments_lexer": "ipython3",
   "version": "3.8.8"
  }
 },
 "nbformat": 4,
 "nbformat_minor": 4
}
