{
 "cells": [
  {
   "cell_type": "markdown",
   "id": "6a4ad32d",
   "metadata": {},
   "source": [
    "## Imports"
   ]
  },
  {
   "cell_type": "code",
   "execution_count": 1,
   "id": "8344c051",
   "metadata": {},
   "outputs": [],
   "source": [
    "from pymongo import MongoClient\n",
    "from pprint import pprint"
   ]
  },
  {
   "cell_type": "markdown",
   "id": "664b13f8",
   "metadata": {},
   "source": [
    "## Connect to mongo database"
   ]
  },
  {
   "cell_type": "code",
   "execution_count": 2,
   "id": "85ccab72",
   "metadata": {},
   "outputs": [],
   "source": [
    "# Connect to Mongo server\n",
    "host=\"rhea.isegi.unl.pt\"\n",
    "port=\"27049\"\n",
    "user=\"GROUP_32\"\n",
    "password=\"bRG2XjRZhrRA9IfpmENyXxMlWQDUJdzL\"\n",
    "protocol=\"mongodb\"\n",
    "client = MongoClient(f\"{protocol}://{user}:{password}@{host}:{port}\")\n",
    "\n",
    "# Connect to mongo db\n",
    "db = client.denormalised"
   ]
  },
  {
   "cell_type": "code",
   "execution_count": 5,
   "id": "de817e83",
   "metadata": {},
   "outputs": [
    {
     "data": {
      "text/plain": [
       "['Application_Countries',\n",
       " 'Warehouse_Colors',\n",
       " 'Sales_OrderLines',\n",
       " 'Warehouse_StockItemTransactions',\n",
       " 'Application_StateProvinces',\n",
       " 'Sales_Invoices',\n",
       " 'Sales_Orders',\n",
       " 'Purchasing_PurchaseOrders',\n",
       " 'customers_payments',\n",
       " 'Application_DeliveryMethods',\n",
       " 'Application_Cities',\n",
       " 'Application_TransactionTypes',\n",
       " 'Warehouse_StockItems',\n",
       " 'Sales_InvoiceLines',\n",
       " 'Warehouse_StockItemStockGroups',\n",
       " 'Purchasing_PurchaseOrderLines',\n",
       " 'Purchasing_SupplierCategories',\n",
       " 'Application_PaymentMethods',\n",
       " 'Sales_Customers',\n",
       " 'Sales_CustomerCategories',\n",
       " 'Purchasing_SupplierTransactions',\n",
       " 'Application_People',\n",
       " 'Warehouse_PackageTypes',\n",
       " 'Purchasing_Suppliers',\n",
       " 'reviews',\n",
       " 'Warehouse_StockGroups',\n",
       " 'Sales_CustomerTransactions']"
      ]
     },
     "execution_count": 5,
     "metadata": {},
     "output_type": "execute_result"
    }
   ],
   "source": [
    "db.list_collection_names()"
   ]
  },
  {
   "cell_type": "markdown",
   "id": "e8d92f40",
   "metadata": {},
   "source": [
    "The web team needs:  "
   ]
  },
  {
   "cell_type": "markdown",
   "id": "c1646776",
   "metadata": {},
   "source": [
    "- From which state province are our suppliers from?"
   ]
  },
  {
   "cell_type": "code",
   "execution_count": 38,
   "id": "c4e1b4de",
   "metadata": {},
   "outputs": [
    {
     "data": {
      "text/plain": [
       "[{'_id': 1, 'supplier': 'A Datum Corporation', 'state_province': 'Indiana'},\n",
       " {'_id': 2, 'supplier': 'Contoso, Ltd.', 'state_province': 'Washington'},\n",
       " {'_id': 3,\n",
       "  'supplier': 'Consolidated Messenger',\n",
       "  'state_province': 'California'},\n",
       " {'_id': 4, 'supplier': 'Fabrikam, Inc.', 'state_province': 'Kentucky'},\n",
       " {'_id': 5,\n",
       "  'supplier': 'Graphic Design Institute',\n",
       "  'state_province': 'Missouri'},\n",
       " {'_id': 6, 'supplier': 'Humongous Insurance', 'state_province': 'Tennessee'},\n",
       " {'_id': 7, 'supplier': 'Litware, Inc.', 'state_province': 'California'},\n",
       " {'_id': 8, 'supplier': 'Lucerne Publishing', 'state_province': 'Tennessee'},\n",
       " {'_id': 9, 'supplier': 'Nod Publishers', 'state_province': 'North Carolina'},\n",
       " {'_id': 10,\n",
       "  'supplier': 'Northwind Electric Cars',\n",
       "  'state_province': 'New Jersey'},\n",
       " {'_id': 11, 'supplier': 'Trey Research', 'state_province': 'South Dakota'},\n",
       " {'_id': 12, 'supplier': 'The Phone Company', 'state_province': 'Minnesota'},\n",
       " {'_id': 13, 'supplier': 'Woodgrove Bank', 'state_province': 'California'}]"
      ]
     },
     "execution_count": 38,
     "metadata": {},
     "output_type": "execute_result"
    }
   ],
   "source": [
    "query_1 = {\n",
    "    '$project':{\n",
    "                'supplier':'$SupplierName',\n",
    "                'state_province':'$DeliveryCity.StateProvince.StateProvinceName'\n",
    "    }\n",
    "}\n",
    "\n",
    "\n",
    "\n",
    "pipeline = [query_1]\n",
    "\n",
    "r = db.Purchasing_Suppliers.aggregate(pipeline)\n",
    "\n",
    "result = list(r)\n",
    "\n",
    "result"
   ]
  },
  {
   "cell_type": "markdown",
   "id": "67c93147",
   "metadata": {},
   "source": [
    "- From which state province are the customers who have a higher credit limit?"
   ]
  },
  {
   "cell_type": "code",
   "execution_count": 125,
   "id": "69dd297c",
   "metadata": {},
   "outputs": [
    {
     "data": {
      "text/plain": [
       "'CreditLimit'"
      ]
     },
     "execution_count": 125,
     "metadata": {},
     "output_type": "execute_result"
    }
   ],
   "source": [
    "db.Sales_Customers.create_index(\n",
    "    [('CreditLimit', 1)],\n",
    "    name='CreditLimit', \n",
    ")"
   ]
  },
  {
   "cell_type": "code",
   "execution_count": 126,
   "id": "30afd806",
   "metadata": {},
   "outputs": [
    {
     "data": {
      "text/plain": [
       "[{'_id': 492, 'credit_limit': 4630.5, 'state_province': 'Texas'},\n",
       " {'_id': 170, 'credit_limit': 4200.0, 'state_province': 'Tennessee'},\n",
       " {'_id': 605, 'credit_limit': 4095.0, 'state_province': 'North Carolina'},\n",
       " {'_id': 500, 'credit_limit': 4095.0, 'state_province': 'Wyoming'},\n",
       " {'_id': 613, 'credit_limit': 4000.0, 'state_province': 'Oregon'}]"
      ]
     },
     "execution_count": 126,
     "metadata": {},
     "output_type": "execute_result"
    }
   ],
   "source": [
    "#top 5 creditlimit customers's state provinces\n",
    "query_1 = {\n",
    "    '$match':{  'CreditLimit':  {\"$exists\": True}  }\n",
    "}\n",
    "\n",
    "\n",
    "query_2 = {'$project':\n",
    "          {'credit_limit':'$CreditLimit',\n",
    "          'state_province':'$DeliveryCity.StateProvince.StateProvinceName'}}\n",
    "\n",
    "query_3 = {'$sort':\n",
    "          {'credit_limit':-1}}\n",
    "\n",
    "query_4 = {'$limit':5}\n",
    "\n",
    "\n",
    "pipeline = [query_1, query_2, query_3, query_4]\n",
    "\n",
    "r = db.Sales_Customers.aggregate(pipeline)\n",
    "\n",
    "result = list(r)\n",
    "\n",
    "result"
   ]
  },
  {
   "cell_type": "code",
   "execution_count": 127,
   "id": "87d14175",
   "metadata": {},
   "outputs": [
    {
     "data": {
      "text/plain": [
       "[{'_id': 'Tennessee', 'avg_creditLimit': 3157.5},\n",
       " {'_id': 'Arkansas', 'avg_creditLimit': 2883.125},\n",
       " {'_id': 'Indiana', 'avg_creditLimit': 2832.9166666666665},\n",
       " {'_id': 'Oregon', 'avg_creditLimit': 2823.75},\n",
       " {'_id': 'Wyoming', 'avg_creditLimit': 2799.1666666666665}]"
      ]
     },
     "execution_count": 127,
     "metadata": {},
     "output_type": "execute_result"
    }
   ],
   "source": [
    "#top 5 state provinces with higher average credit limit\n",
    "query_1 = {\n",
    "    '$match':{  'CreditLimit':  {\"$exists\": True}  }\n",
    "}\n",
    "\n",
    "\n",
    "query_2 = {'$project':\n",
    "          {'credit_limit':'$CreditLimit',\n",
    "          'state_province':'$DeliveryCity.StateProvince.StateProvinceName'}}\n",
    "\n",
    "query_3 = {'$group':\n",
    "          {'_id':'$state_province',\n",
    "          'avg_creditLimit':{'$avg':'$credit_limit'}}}\n",
    "\n",
    "\n",
    "query_4 = {'$sort':\n",
    "          {'avg_creditLimit':-1}}\n",
    "\n",
    "query_5 = {'$limit':5}\n",
    "\n",
    "\n",
    "pipeline = [query_1, query_2, query_3, query_4, query_5]\n",
    "\n",
    "r = db.Sales_Customers.aggregate(pipeline)\n",
    "\n",
    "result = list(r)\n",
    "\n",
    "result"
   ]
  },
  {
   "cell_type": "markdown",
   "id": "99c39b53",
   "metadata": {},
   "source": [
    "Partnerships: "
   ]
  },
  {
   "cell_type": "markdown",
   "id": "b9c21a76",
   "metadata": {},
   "source": [
    " - Would like to know what’s the most common payment type?"
   ]
  },
  {
   "cell_type": "code",
   "execution_count": 122,
   "id": "2853c632",
   "metadata": {},
   "outputs": [
    {
     "data": {
      "text/plain": [
       "'PaymentMethodName'"
      ]
     },
     "execution_count": 122,
     "metadata": {},
     "output_type": "execute_result"
    }
   ],
   "source": [
    "db.Purchasing_SupplierTransactions.create_index(\n",
    "    [('PaymentMethod.PaymentMethodName', 1)],\n",
    "    name='PaymentMethodName', \n",
    ")"
   ]
  },
  {
   "cell_type": "code",
   "execution_count": 45,
   "id": "8b31d467",
   "metadata": {},
   "outputs": [
    {
     "data": {
      "text/plain": [
       "[{'payment_type': 'EFT', 'total_count': 54397}]"
      ]
     },
     "execution_count": 45,
     "metadata": {},
     "output_type": "execute_result"
    }
   ],
   "source": [
    "# We checked that all the payment methods in Purchasing_SupplierTransactions are also in Sales_CustomerTransactions so we can \n",
    "# match collections\n",
    "query_1 = {\n",
    "    '$group': {\n",
    "        '_id' : '$PaymentMethod.PaymentMethodName', \n",
    "        'count' : {'$sum' : 1}\n",
    "    }\n",
    "}\n",
    "\n",
    "query_2 = {\n",
    "    \"$lookup\":{\n",
    "        \"from\": \"Purchasing_SupplierTransactions\",\n",
    "        \"localField\": \"_id\",\n",
    "        \"foreignField\": \"PaymentMethod.PaymentMethodName\",\n",
    "        \"as\": \"supplier_payments\"\n",
    "     }\n",
    "}\n",
    "\n",
    "query_3 = {\n",
    "    \"$unwind\": \"$supplier_payments\"\n",
    "}\n",
    "\n",
    "query_4 = {\n",
    "    '$group': {\n",
    "        '_id' : '$_id',\n",
    "        'cust_count' : { '$first': '$count' },\n",
    "        'supp_count' : {'$sum' : 1}\n",
    "    }\n",
    "}\n",
    "\n",
    "query_5 = {\n",
    "    '$project': {\n",
    "        '_id' : 0,\n",
    "        'payment_type' : '$_id',\n",
    "        'total_count': { '$sum': [ \"$cust_count\", \"$supp_count\" ] }\n",
    "    }\n",
    "}\n",
    "\n",
    "query_6 = {\n",
    "    '$sort': {'year': 1}\n",
    "}\n",
    "\n",
    "limit = {'$count':1}\n",
    "pipeline = [query_1, query_2, query_3, query_4, query_5, query_6]\n",
    "\n",
    "r = db.Sales_CustomerTransactions.aggregate(pipeline)\n",
    "\n",
    "result = list(r)\n",
    "\n",
    "result"
   ]
  },
  {
   "cell_type": "code",
   "execution_count": 165,
   "id": "ff7527d9",
   "metadata": {},
   "outputs": [
    {
     "data": {
      "text/plain": [
       "[{'_id': 'EFT', 'count': 51959}, {'_id': None, 'count': 41}]"
      ]
     },
     "execution_count": 165,
     "metadata": {},
     "output_type": "execute_result"
    }
   ],
   "source": [
    "#most common name over the costumers\n",
    "\n",
    "query_1 = {\n",
    "    '$project':{\n",
    "                '_id':False,\n",
    "                'payment_type':'$PaymentMethod.PaymentMethodName'\n",
    "    }\n",
    "}\n",
    "\n",
    "query_2 = {\n",
    "    '$group': {\n",
    "        '_id' : '$payment_type', \n",
    "        'count' : {'$sum' : 1}            \n",
    "}\n",
    "}\n",
    "\n",
    "# query_3 = {'$out':'customers_payments'}\n",
    "          \n",
    "pipeline = [query_1, query_2]#, query_3]\n",
    "\n",
    "r = db.Sales_CustomerTransactions.aggregate(pipeline)\n",
    "\n",
    "result = list(r)\n",
    "\n",
    "result"
   ]
  },
  {
   "cell_type": "code",
   "execution_count": 162,
   "id": "688e265f",
   "metadata": {},
   "outputs": [
    {
     "data": {
      "text/plain": [
       "[{'_id': 'EFT', 'count': 2438, 'customer_purchases': []}]"
      ]
     },
     "execution_count": 162,
     "metadata": {},
     "output_type": "execute_result"
    }
   ],
   "source": [
    "#most common over suppliers\n",
    "query_1 = {\n",
    "    '$project':{\n",
    "                '_id':False,\n",
    "                'payment_type':'$PaymentMethod.PaymentMethodName'\n",
    "    }\n",
    "}\n",
    "\n",
    "query_2 = {\n",
    "    '$group': {\n",
    "        '_id' : '$payment_type', \n",
    "        'count' : {'$sum' : 1}            \n",
    "}\n",
    "}\n",
    "\n",
    "\n",
    "query_3 = {'$sort':\n",
    "          {'count':-1}}\n",
    "\n",
    "\n",
    "\n",
    "\n",
    "# query_4 = {\n",
    "#         '$lookup': {\n",
    "#            \"from\": 'customer_payments',\n",
    "#            \"localField\": \"_id\",\n",
    "#            \"foreignField\": \"_id\",\n",
    "#            \"as\": \"customer_purchases\"\n",
    "#         }}\n",
    "\n",
    "\n",
    "pipeline = [query_1, query_2, query_3, query_4]\n",
    "\n",
    "r = db.Purchasing_SupplierTransactions.aggregate(pipeline)\n",
    "\n",
    "result = list(r)\n",
    "\n",
    "result"
   ]
  },
  {
   "cell_type": "markdown",
   "id": "c8cc1c7c",
   "metadata": {},
   "source": [
    "- Which supplier of Novelty Goods Supplier as the most transactions?"
   ]
  },
  {
   "cell_type": "code",
   "execution_count": 43,
   "id": "fe6507ea",
   "metadata": {},
   "outputs": [
    {
     "data": {
      "text/plain": [
       "'SupplierID'"
      ]
     },
     "execution_count": 43,
     "metadata": {},
     "output_type": "execute_result"
    }
   ],
   "source": [
    "db.Purchasing_SupplierTransactions.create_index(\n",
    "    [('SupplierID', 1)],\n",
    "    name='SupplierID', \n",
    ")"
   ]
  },
  {
   "cell_type": "code",
   "execution_count": 44,
   "id": "09d504f6",
   "metadata": {},
   "outputs": [
    {
     "data": {
      "text/plain": [
       "'SupplierID'"
      ]
     },
     "execution_count": 44,
     "metadata": {},
     "output_type": "execute_result"
    }
   ],
   "source": [
    "db.Purchasing_Suppliers.create_index(\n",
    "    [('SupplierID', 1)],\n",
    "    name='SupplierID', \n",
    ")"
   ]
  },
  {
   "cell_type": "code",
   "execution_count": 45,
   "id": "734ca943",
   "metadata": {},
   "outputs": [
    {
     "data": {
      "text/plain": [
       "[{'_id': ['Graphic Design Institute'], 'count': 16},\n",
       " {'_id': ['A Datum Corporation'], 'count': 7},\n",
       " {'_id': ['The Phone Company'], 'count': 7},\n",
       " {'_id': ['Contoso, Ltd.'], 'count': 2}]"
      ]
     },
     "execution_count": 45,
     "metadata": {},
     "output_type": "execute_result"
    }
   ],
   "source": [
    "query_1 = {\n",
    "    '$match':{\n",
    "                'SupplierID':{'$in' : list(db.Purchasing_Suppliers.distinct('SupplierID',\n",
    "                                    {'SupplierCategory.SupplierCategoryName':'Novelty Goods Supplier'}))\n",
    "    }\n",
    "}}\n",
    "\n",
    "query_2 = {\n",
    "    '$project':{\n",
    "                '_id':False,\n",
    "                'supplier_id':'$SupplierID'\n",
    "    }\n",
    "}\n",
    "\n",
    "query_3 = {\n",
    "    '$group': {\n",
    "        '_id': '$supplier_id', \n",
    "        'count' : {'$sum' : 1}            \n",
    "}\n",
    "}\n",
    "\n",
    "query_4 = {\n",
    "    '$sort': {\n",
    "        'count' : -1}            \n",
    "}\n",
    "\n",
    "query_5 =     {\n",
    "        '$lookup': {\n",
    "           \"from\": \"Purchasing_Suppliers\",\n",
    "           \"localField\": \"_id\",\n",
    "           \"foreignField\": \"SupplierID\",\n",
    "           \"as\": \"supplier_info\"\n",
    "        }}\n",
    "\n",
    "query_6 = {\n",
    "    '$project' :{\n",
    "        '_id' : '$supplier_info.SupplierName',\n",
    "        'count' : '$count'\n",
    "    }\n",
    "}\n",
    "\n",
    "\n",
    "pipeline = [query_1, query_2, query_3, query_4, query_5, query_6]\n",
    "\n",
    "r = db.Purchasing_SupplierTransactions.aggregate(pipeline)\n",
    "\n",
    "result = list(r)\n",
    "\n",
    "result"
   ]
  },
  {
   "cell_type": "markdown",
   "id": "1edfc428",
   "metadata": {},
   "source": [
    "- To know which items get ordered together the most?"
   ]
  },
  {
   "cell_type": "code",
   "execution_count": 46,
   "id": "5687f794",
   "metadata": {},
   "outputs": [
    {
     "data": {
      "text/plain": [
       "'OrderID'"
      ]
     },
     "execution_count": 46,
     "metadata": {},
     "output_type": "execute_result"
    }
   ],
   "source": [
    "db.Sales_OrderLines.create_index(\n",
    "    [('OrderID', 1)],\n",
    "    name='OrderID', \n",
    ")"
   ]
  },
  {
   "cell_type": "code",
   "execution_count": 56,
   "id": "14fb5224",
   "metadata": {},
   "outputs": [
    {
     "data": {
      "text/plain": [
       "'Description'"
      ]
     },
     "execution_count": 56,
     "metadata": {},
     "output_type": "execute_result"
    }
   ],
   "source": [
    "db.Sales_OrderLines.create_index(\n",
    "    [('Description', 1)],\n",
    "    name='Description', \n",
    ")"
   ]
  },
  {
   "cell_type": "code",
   "execution_count": 128,
   "id": "952f4519",
   "metadata": {},
   "outputs": [
    {
     "data": {
      "text/plain": [
       "[{'_id': {'ol1': 'DBA joke mug - I will get you in order (White)',\n",
       "   'ol2': 'Animal with big feet slippers (Brown) M'},\n",
       "  'count': 15},\n",
       " {'_id': {'ol1': 'Animal with big feet slippers (Brown) M',\n",
       "   'ol2': 'DBA joke mug - I will get you in order (White)'},\n",
       "  'count': 15},\n",
       " {'_id': {'ol1': 'Black and orange handle with care despatch tape  48mmx75m',\n",
       "   'ol2': 'DBA joke mug - two types of DBAs (Black)'},\n",
       "  'count': 14},\n",
       " {'_id': {'ol1': 'DBA joke mug - two types of DBAs (Black)',\n",
       "   'ol2': 'Black and orange handle with care despatch tape  48mmx75m'},\n",
       "  'count': 14},\n",
       " {'_id': {'ol1': 'DBA joke mug - you might be a DBA if (White)',\n",
       "   'ol2': 'RC vintage American toy coupe with remote control (Black) 1/50 scale'},\n",
       "  'count': 13},\n",
       " {'_id': {'ol1': '10 mm Anti static bubble wrap (Blue) 10m',\n",
       "   'ol2': 'Dinosaur battery-powered slippers (Green) M'},\n",
       "  'count': 13},\n",
       " {'_id': {'ol1': 'Superhero action jacket (Blue) 4XL',\n",
       "   'ol2': 'IT joke mug - that behavior is by design (White)'},\n",
       "  'count': 13},\n",
       " {'_id': {'ol1': 'Superhero action jacket (Blue) 3XL',\n",
       "   'ol2': '\"The Gu\" red shirt XML tag t-shirt (White) S'},\n",
       "  'count': 13},\n",
       " {'_id': {'ol1': '\"The Gu\" red shirt XML tag t-shirt (White) S',\n",
       "   'ol2': 'Superhero action jacket (Blue) 3XL'},\n",
       "  'count': 13},\n",
       " {'_id': {'ol1': 'Black and orange this way up despatch tape 48mmx75m',\n",
       "   'ol2': 'Animal with big feet slippers (Brown) M'},\n",
       "  'count': 13},\n",
       " {'_id': {'ol1': 'IT joke mug - that behavior is by design (White)',\n",
       "   'ol2': 'Superhero action jacket (Blue) 4XL'},\n",
       "  'count': 13},\n",
       " {'_id': {'ol1': 'USB rocket launcher (Gray)',\n",
       "   'ol2': '10 mm Double sided bubble wrap 20m'},\n",
       "  'count': 13},\n",
       " {'_id': {'ol1': 'Permanent marker red 5mm nib (Red) 5mm',\n",
       "   'ol2': '\"The Gu\" red shirt XML tag t-shirt (Black) 5XL'},\n",
       "  'count': 13},\n",
       " {'_id': {'ol1': 'Packing knife with metal insert blade (Yellow) 9mm',\n",
       "   'ol2': 'Small 9mm replacement blades 9mm'},\n",
       "  'count': 13},\n",
       " {'_id': {'ol1': 'Ride on toy sedan car (Pink) 1/12 scale',\n",
       "   'ol2': 'Clear packaging tape 48mmx75m'},\n",
       "  'count': 13},\n",
       " {'_id': {'ol1': '\"The Gu\" red shirt XML tag t-shirt (Black) S',\n",
       "   'ol2': 'Plush shark slippers (Gray) S'},\n",
       "  'count': 13},\n",
       " {'_id': {'ol1': '\"The Gu\" red shirt XML tag t-shirt (Black) 5XL',\n",
       "   'ol2': 'Permanent marker red 5mm nib (Red) 5mm'},\n",
       "  'count': 13},\n",
       " {'_id': {'ol1': 'RC vintage American toy coupe with remote control (Black) 1/50 scale',\n",
       "   'ol2': 'DBA joke mug - you might be a DBA if (White)'},\n",
       "  'count': 13},\n",
       " {'_id': {'ol1': 'USB food flash drive - pizza slice',\n",
       "   'ol2': 'RC toy sedan car with remote control (Red) 1/50 scale'},\n",
       "  'count': 13},\n",
       " {'_id': {'ol1': '20 mm Double sided bubble wrap 10m',\n",
       "   'ol2': 'IT joke mug - hardware: part of the computer that can be kicked (Black)'},\n",
       "  'count': 13},\n",
       " {'_id': {'ol1': 'Black and orange glass with care despatch tape  48mmx100m',\n",
       "   'ol2': 'Ride on toy sedan car (Yellow) 1/12 scale'},\n",
       "  'count': 13},\n",
       " {'_id': {'ol1': 'Superhero action jacket (Blue) M',\n",
       "   'ol2': '\"The Gu\" red shirt XML tag t-shirt (Black) 7XL'},\n",
       "  'count': 13},\n",
       " {'_id': {'ol1': 'Furry animal socks (Pink) M',\n",
       "   'ol2': '32 mm Anti static bubble wrap (Blue) 20m'},\n",
       "  'count': 13},\n",
       " {'_id': {'ol1': 'Alien officer hoodie (Black) XL',\n",
       "   'ol2': 'Furry animal socks (Pink) M'},\n",
       "  'count': 13},\n",
       " {'_id': {'ol1': 'Animal with big feet slippers (Brown) M',\n",
       "   'ol2': 'Black and orange this way up despatch tape 48mmx75m'},\n",
       "  'count': 13},\n",
       " {'_id': {'ol1': '\"The Gu\" red shirt XML tag t-shirt (Black) 7XL',\n",
       "   'ol2': 'Superhero action jacket (Blue) M'},\n",
       "  'count': 13},\n",
       " {'_id': {'ol1': 'IT joke mug - hardware: part of the computer that can be kicked (Black)',\n",
       "   'ol2': '20 mm Double sided bubble wrap 10m'},\n",
       "  'count': 13},\n",
       " {'_id': {'ol1': 'Halloween skull mask (Gray) L',\n",
       "   'ol2': 'Developer joke mug - old C developers never die (White)'},\n",
       "  'count': 13},\n",
       " {'_id': {'ol1': 'Ride on toy sedan car (Yellow) 1/12 scale',\n",
       "   'ol2': 'Black and orange glass with care despatch tape  48mmx100m'},\n",
       "  'count': 13},\n",
       " {'_id': {'ol1': 'RC toy sedan car with remote control (Red) 1/50 scale',\n",
       "   'ol2': 'USB food flash drive - pizza slice'},\n",
       "  'count': 13}]"
      ]
     },
     "execution_count": 128,
     "metadata": {},
     "output_type": "execute_result"
    }
   ],
   "source": [
    "query_1 =     {\n",
    "        '$lookup': {\n",
    "           \"from\": \"Sales_OrderLines\",\n",
    "           \"localField\": \"OrderID\",\n",
    "           \"foreignField\": \"OrderID\",\n",
    "           \"as\": \"joint_orders\"\n",
    "        }}\n",
    "\n",
    "\n",
    "\n",
    "query_2 = {\n",
    "    '$unwind': '$joint_orders'\n",
    "}\n",
    "\n",
    "query_3 = {\n",
    "    '$unwind': '$joint_orders.Description'\n",
    "}\n",
    "    \n",
    "\n",
    "\n",
    "\n",
    "\n",
    "query_4 = {'$project':\n",
    "          {'_id':False,\n",
    "          'ol1':'$Description',\n",
    "          'ol2':'$joint_orders.Description',\n",
    "           \"Eq\": {\"$eq\":[\"$Description\",\"$joint_orders.Description\"]}\n",
    "            }}\n",
    "\n",
    "query_5 = {'$match':\n",
    "            {\"Eq\": False}}\n",
    "\n",
    "\n",
    "query_6 = {'$group':\n",
    "          {'_id': \n",
    "           {'ol1':'$ol1',\n",
    "            'ol2':'$ol2'   },\n",
    "           'count': { '$sum': 1 }}}\n",
    "\n",
    "query_7 = {'$sort':{'count':-1}}\n",
    "\n",
    "query_8 = {'$limit': 30}\n",
    "\n",
    "\n",
    "pipeline = [query_1, query_2, query_3, query_4, query_5, query_6, query_7, query_8]\n",
    "\n",
    "r = db.Sales_OrderLines.aggregate(pipeline)\n",
    "\n",
    "result = list(r)\n",
    "\n",
    "result"
   ]
  }
 ],
 "metadata": {
  "kernelspec": {
   "display_name": "Python 3",
   "language": "python",
   "name": "python3"
  },
  "language_info": {
   "codemirror_mode": {
    "name": "ipython",
    "version": 3
   },
   "file_extension": ".py",
   "mimetype": "text/x-python",
   "name": "python",
   "nbconvert_exporter": "python",
   "pygments_lexer": "ipython3",
   "version": "3.8.8"
  }
 },
 "nbformat": 4,
 "nbformat_minor": 5
}
