{
 "cells": [
  {
   "cell_type": "markdown",
   "metadata": {},
   "source": [
    "## Imports"
   ]
  },
  {
   "cell_type": "code",
   "execution_count": 1,
   "metadata": {},
   "outputs": [],
   "source": [
    "import pandas as pd\n",
    "from tqdm.notebook import tqdm\n",
    "from pprint import pprint\n",
    "import numpy as np\n",
    "from pymongo import MongoClient"
   ]
  },
  {
   "cell_type": "markdown",
   "metadata": {},
   "source": [
    "## Connect to mongo database"
   ]
  },
  {
   "cell_type": "code",
   "execution_count": 2,
   "metadata": {},
   "outputs": [],
   "source": [
    "# Connect to Mongo server\n",
    "host=\"rhea.isegi.unl.pt\"\n",
    "port=\"27049\"\n",
    "user=\"GROUP_32\"\n",
    "password=\"bRG2XjRZhrRA9IfpmENyXxMlWQDUJdzL\"\n",
    "protocol=\"mongodb\"\n",
    "client = MongoClient(f\"{protocol}://{user}:{password}@{host}:{port}\")\n",
    "\n",
    "# Connect to mongo db\n",
    "db = client.denormalised"
   ]
  },
  {
   "cell_type": "code",
   "execution_count": 6,
   "metadata": {},
   "outputs": [
    {
     "data": {
      "text/plain": [
       "['Application_Countries',\n",
       " 'Warehouse_Colors',\n",
       " 'Sales_OrderLines',\n",
       " 'Warehouse_StockItemTransactions',\n",
       " 'Application_StateProvinces',\n",
       " 'Sales_Invoices',\n",
       " 'Sales_Orders',\n",
       " 'Purchasing_PurchaseOrders',\n",
       " 'Application_DeliveryMethods',\n",
       " 'Application_Cities',\n",
       " 'Application_TransactionTypes',\n",
       " 'Warehouse_StockItems',\n",
       " 'Sales_InvoiceLines',\n",
       " 'Warehouse_StockItemStockGroups',\n",
       " 'Purchasing_PurchaseOrderLines',\n",
       " 'Purchasing_SupplierCategories',\n",
       " 'Application_PaymentMethods',\n",
       " 'Sales_Customers',\n",
       " 'Sales_CustomerCategories',\n",
       " 'Purchasing_SupplierTransactions',\n",
       " 'Application_People',\n",
       " 'Warehouse_PackageTypes',\n",
       " 'Purchasing_Suppliers',\n",
       " 'reviews',\n",
       " 'Warehouse_StockGroups',\n",
       " 'Sales_CustomerTransactions']"
      ]
     },
     "execution_count": 6,
     "metadata": {},
     "output_type": "execute_result"
    }
   ],
   "source": [
    "db.list_collection_names()"
   ]
  },
  {
   "cell_type": "code",
   "execution_count": 4,
   "metadata": {},
   "outputs": [
    {
     "name": "stdout",
     "output_type": "stream",
     "text": [
      "{'CityID': 1,\n",
      " 'CityName': 'Aaronsburg',\n",
      " 'LatestRecordedPopulation': 613,\n",
      " 'Location': '0xE6100000010C07E11B542C73444087C09140035D53C0',\n",
      " 'StateProvince': {'Country': {'Continent': 'North America',\n",
      "                               'CountryID': 230,\n",
      "                               'CountryName': 'United States',\n",
      "                               'CountryType': 'UN Member State',\n",
      "                               'FormalName': 'United States of America',\n",
      "                               'IsoAlpha3Code': 'USA',\n",
      "                               'IsoNumericCode': 840,\n",
      "                               'LatestRecordedPopulation': 313973000,\n",
      "                               'Region': 'Americas',\n",
      "                               'Subregion': 'Northern America'},\n",
      "                   'CountryID': 230,\n",
      "                   'LatestRecordedPopulation': 13284753,\n",
      "                   'SalesTerritory': 'Mideast',\n",
      "                   'StateProvinceCode': 'PA',\n",
      "                   'StateProvinceID': 39,\n",
      "                   'StateProvinceName': 'Pennsylvania'},\n",
      " 'StateProvinceID': 39,\n",
      " '_id': ObjectId('60a920874b95d601fc63d017')}\n"
     ]
    }
   ],
   "source": [
    "pprint(db['Application_Cities'].find_one())"
   ]
  },
  {
   "cell_type": "markdown",
   "metadata": {},
   "source": [
    "The warehouse group needs:  \n",
    "- Which items get ordered the most in bulk (bigger amounts)? "
   ]
  },
  {
   "cell_type": "code",
   "execution_count": 5,
   "metadata": {},
   "outputs": [
    {
     "data": {
      "text/plain": [
       "[{'name': 'Black and orange fragile despatch tape 48mmx75m',\n",
       "  'Quantity': 198.8181818181818},\n",
       " {'name': 'Black and orange fragile despatch tape 48mmx100m',\n",
       "  'Quantity': 197.26182965299685},\n",
       " {'name': 'Shipping carton (Brown) 356x356x279mm',\n",
       "  'Quantity': 146.47058823529412}]"
      ]
     },
     "execution_count": 5,
     "metadata": {},
     "output_type": "execute_result"
    }
   ],
   "source": [
    "query_2={\n",
    "    '$group': {\n",
    "        '_id': {'Description' : '$Description'},\n",
    "        'average_quantity' : {'$avg' : '$Quantity'}\n",
    "    }\n",
    "}\n",
    "\n",
    "query_5 = {\n",
    "    '$sort' : { 'average_quantity' : -1 }\n",
    "}\n",
    "\n",
    "query_6 = {\n",
    "    '$limit': 3}\n",
    "\n",
    "query_7 = {\n",
    "    '$project': {\n",
    "        '_id' : False,\n",
    "        'name' : '$_id.Description',\n",
    "        'Quantity': '$average_quantity'}\n",
    "}\n",
    "\n",
    "pipeline = [query_2, query_5, query_6,query_7]\n",
    "\n",
    "r = db.Sales_OrderLines.aggregate(pipeline)\n",
    "\n",
    "result = list(r)\n",
    "\n",
    "result"
   ]
  },
  {
   "cell_type": "markdown",
   "metadata": {},
   "source": [
    "The warehouse group needs:  \n",
    "- Which customers have delivery addresses under 10km of distance?  "
   ]
  },
  {
   "cell_type": "code",
   "execution_count": 7,
   "metadata": {},
   "outputs": [
    {
     "ename": "OperationFailure",
     "evalue": "Unrecognized pipeline stage name: '$find', full error: {'ok': 0.0, 'errmsg': \"Unrecognized pipeline stage name: '$find'\", 'code': 40324, 'codeName': 'Location40324'}",
     "output_type": "error",
     "traceback": [
      "\u001b[1;31m---------------------------------------------------------------------------\u001b[0m",
      "\u001b[1;31mOperationFailure\u001b[0m                          Traceback (most recent call last)",
      "\u001b[1;32m<ipython-input-7-4d4faf919ab9>\u001b[0m in \u001b[0;36m<module>\u001b[1;34m\u001b[0m\n\u001b[0;32m     22\u001b[0m \u001b[0mpipeline\u001b[0m \u001b[1;33m=\u001b[0m \u001b[1;33m[\u001b[0m\u001b[0mquery_1\u001b[0m\u001b[1;33m,\u001b[0m\u001b[0mquery_2\u001b[0m\u001b[1;33m]\u001b[0m\u001b[1;33m\u001b[0m\u001b[1;33m\u001b[0m\u001b[0m\n\u001b[0;32m     23\u001b[0m \u001b[1;33m\u001b[0m\u001b[0m\n\u001b[1;32m---> 24\u001b[1;33m \u001b[0mr\u001b[0m \u001b[1;33m=\u001b[0m \u001b[0mdb\u001b[0m\u001b[1;33m.\u001b[0m\u001b[0mSales_Customers\u001b[0m\u001b[1;33m.\u001b[0m\u001b[0maggregate\u001b[0m\u001b[1;33m(\u001b[0m\u001b[0mpipeline\u001b[0m\u001b[1;33m)\u001b[0m\u001b[1;33m\u001b[0m\u001b[1;33m\u001b[0m\u001b[0m\n\u001b[0m\u001b[0;32m     25\u001b[0m \u001b[1;33m\u001b[0m\u001b[0m\n\u001b[0;32m     26\u001b[0m \u001b[1;33m\u001b[0m\u001b[0m\n",
      "\u001b[1;32m~\\anaconda3\\lib\\site-packages\\pymongo\\collection.py\u001b[0m in \u001b[0;36maggregate\u001b[1;34m(self, pipeline, session, **kwargs)\u001b[0m\n\u001b[0;32m   2451\u001b[0m         \"\"\"\n\u001b[0;32m   2452\u001b[0m         \u001b[1;32mwith\u001b[0m \u001b[0mself\u001b[0m\u001b[1;33m.\u001b[0m\u001b[0m__database\u001b[0m\u001b[1;33m.\u001b[0m\u001b[0mclient\u001b[0m\u001b[1;33m.\u001b[0m\u001b[0m_tmp_session\u001b[0m\u001b[1;33m(\u001b[0m\u001b[0msession\u001b[0m\u001b[1;33m,\u001b[0m \u001b[0mclose\u001b[0m\u001b[1;33m=\u001b[0m\u001b[1;32mFalse\u001b[0m\u001b[1;33m)\u001b[0m \u001b[1;32mas\u001b[0m \u001b[0ms\u001b[0m\u001b[1;33m:\u001b[0m\u001b[1;33m\u001b[0m\u001b[1;33m\u001b[0m\u001b[0m\n\u001b[1;32m-> 2453\u001b[1;33m             return self._aggregate(_CollectionAggregationCommand,\n\u001b[0m\u001b[0;32m   2454\u001b[0m                                    \u001b[0mpipeline\u001b[0m\u001b[1;33m,\u001b[0m\u001b[1;33m\u001b[0m\u001b[1;33m\u001b[0m\u001b[0m\n\u001b[0;32m   2455\u001b[0m                                    \u001b[0mCommandCursor\u001b[0m\u001b[1;33m,\u001b[0m\u001b[1;33m\u001b[0m\u001b[1;33m\u001b[0m\u001b[0m\n",
      "\u001b[1;32m~\\anaconda3\\lib\\site-packages\\pymongo\\collection.py\u001b[0m in \u001b[0;36m_aggregate\u001b[1;34m(self, aggregation_command, pipeline, cursor_class, session, explicit_session, **kwargs)\u001b[0m\n\u001b[0;32m   2373\u001b[0m             \u001b[0mself\u001b[0m\u001b[1;33m,\u001b[0m \u001b[0mcursor_class\u001b[0m\u001b[1;33m,\u001b[0m \u001b[0mpipeline\u001b[0m\u001b[1;33m,\u001b[0m \u001b[0mkwargs\u001b[0m\u001b[1;33m,\u001b[0m \u001b[0mexplicit_session\u001b[0m\u001b[1;33m,\u001b[0m\u001b[1;33m\u001b[0m\u001b[1;33m\u001b[0m\u001b[0m\n\u001b[0;32m   2374\u001b[0m             user_fields={'cursor': {'firstBatch': 1}}, use_cursor=use_cursor)\n\u001b[1;32m-> 2375\u001b[1;33m         return self.__database.client._retryable_read(\n\u001b[0m\u001b[0;32m   2376\u001b[0m             \u001b[0mcmd\u001b[0m\u001b[1;33m.\u001b[0m\u001b[0mget_cursor\u001b[0m\u001b[1;33m,\u001b[0m \u001b[0mcmd\u001b[0m\u001b[1;33m.\u001b[0m\u001b[0mget_read_preference\u001b[0m\u001b[1;33m(\u001b[0m\u001b[0msession\u001b[0m\u001b[1;33m)\u001b[0m\u001b[1;33m,\u001b[0m \u001b[0msession\u001b[0m\u001b[1;33m,\u001b[0m\u001b[1;33m\u001b[0m\u001b[1;33m\u001b[0m\u001b[0m\n\u001b[0;32m   2377\u001b[0m             retryable=not cmd._performs_write)\n",
      "\u001b[1;32m~\\anaconda3\\lib\\site-packages\\pymongo\\mongo_client.py\u001b[0m in \u001b[0;36m_retryable_read\u001b[1;34m(self, func, read_pref, session, address, retryable, exhaust)\u001b[0m\n\u001b[0;32m   1469\u001b[0m                         \u001b[1;31m# not support retryable reads, raise the last error.\u001b[0m\u001b[1;33m\u001b[0m\u001b[1;33m\u001b[0m\u001b[1;33m\u001b[0m\u001b[0m\n\u001b[0;32m   1470\u001b[0m                         \u001b[1;32mraise\u001b[0m \u001b[0mlast_error\u001b[0m\u001b[1;33m\u001b[0m\u001b[1;33m\u001b[0m\u001b[0m\n\u001b[1;32m-> 1471\u001b[1;33m                     \u001b[1;32mreturn\u001b[0m \u001b[0mfunc\u001b[0m\u001b[1;33m(\u001b[0m\u001b[0msession\u001b[0m\u001b[1;33m,\u001b[0m \u001b[0mserver\u001b[0m\u001b[1;33m,\u001b[0m \u001b[0msock_info\u001b[0m\u001b[1;33m,\u001b[0m \u001b[0mslave_ok\u001b[0m\u001b[1;33m)\u001b[0m\u001b[1;33m\u001b[0m\u001b[1;33m\u001b[0m\u001b[0m\n\u001b[0m\u001b[0;32m   1472\u001b[0m             \u001b[1;32mexcept\u001b[0m \u001b[0mServerSelectionTimeoutError\u001b[0m\u001b[1;33m:\u001b[0m\u001b[1;33m\u001b[0m\u001b[1;33m\u001b[0m\u001b[0m\n\u001b[0;32m   1473\u001b[0m                 \u001b[1;32mif\u001b[0m \u001b[0mretrying\u001b[0m\u001b[1;33m:\u001b[0m\u001b[1;33m\u001b[0m\u001b[1;33m\u001b[0m\u001b[0m\n",
      "\u001b[1;32m~\\anaconda3\\lib\\site-packages\\pymongo\\aggregation.py\u001b[0m in \u001b[0;36mget_cursor\u001b[1;34m(self, session, server, sock_info, slave_ok)\u001b[0m\n\u001b[0;32m    134\u001b[0m \u001b[1;33m\u001b[0m\u001b[0m\n\u001b[0;32m    135\u001b[0m         \u001b[1;31m# Run command.\u001b[0m\u001b[1;33m\u001b[0m\u001b[1;33m\u001b[0m\u001b[1;33m\u001b[0m\u001b[0m\n\u001b[1;32m--> 136\u001b[1;33m         result = sock_info.command(\n\u001b[0m\u001b[0;32m    137\u001b[0m             \u001b[0mself\u001b[0m\u001b[1;33m.\u001b[0m\u001b[0m_database\u001b[0m\u001b[1;33m.\u001b[0m\u001b[0mname\u001b[0m\u001b[1;33m,\u001b[0m\u001b[1;33m\u001b[0m\u001b[1;33m\u001b[0m\u001b[0m\n\u001b[0;32m    138\u001b[0m             \u001b[0mcmd\u001b[0m\u001b[1;33m,\u001b[0m\u001b[1;33m\u001b[0m\u001b[1;33m\u001b[0m\u001b[0m\n",
      "\u001b[1;32m~\\anaconda3\\lib\\site-packages\\pymongo\\pool.py\u001b[0m in \u001b[0;36mcommand\u001b[1;34m(self, dbname, spec, slave_ok, read_preference, codec_options, check, allowable_errors, check_keys, read_concern, write_concern, parse_write_concern_error, collation, session, client, retryable_write, publish_events, user_fields, exhaust_allowed)\u001b[0m\n\u001b[0;32m    681\u001b[0m             \u001b[0mself\u001b[0m\u001b[1;33m.\u001b[0m\u001b[0m_raise_if_not_writable\u001b[0m\u001b[1;33m(\u001b[0m\u001b[0munacknowledged\u001b[0m\u001b[1;33m)\u001b[0m\u001b[1;33m\u001b[0m\u001b[1;33m\u001b[0m\u001b[0m\n\u001b[0;32m    682\u001b[0m         \u001b[1;32mtry\u001b[0m\u001b[1;33m:\u001b[0m\u001b[1;33m\u001b[0m\u001b[1;33m\u001b[0m\u001b[0m\n\u001b[1;32m--> 683\u001b[1;33m             return command(self, dbname, spec, slave_ok,\n\u001b[0m\u001b[0;32m    684\u001b[0m                            \u001b[0mself\u001b[0m\u001b[1;33m.\u001b[0m\u001b[0mis_mongos\u001b[0m\u001b[1;33m,\u001b[0m \u001b[0mread_preference\u001b[0m\u001b[1;33m,\u001b[0m \u001b[0mcodec_options\u001b[0m\u001b[1;33m,\u001b[0m\u001b[1;33m\u001b[0m\u001b[1;33m\u001b[0m\u001b[0m\n\u001b[0;32m    685\u001b[0m                            \u001b[0msession\u001b[0m\u001b[1;33m,\u001b[0m \u001b[0mclient\u001b[0m\u001b[1;33m,\u001b[0m \u001b[0mcheck\u001b[0m\u001b[1;33m,\u001b[0m \u001b[0mallowable_errors\u001b[0m\u001b[1;33m,\u001b[0m\u001b[1;33m\u001b[0m\u001b[1;33m\u001b[0m\u001b[0m\n",
      "\u001b[1;32m~\\anaconda3\\lib\\site-packages\\pymongo\\network.py\u001b[0m in \u001b[0;36mcommand\u001b[1;34m(sock_info, dbname, spec, slave_ok, is_mongos, read_preference, codec_options, session, client, check, allowable_errors, address, check_keys, listeners, max_bson_size, read_concern, parse_write_concern_error, collation, compression_ctx, use_op_msg, unacknowledged, user_fields, exhaust_allowed)\u001b[0m\n\u001b[0;32m    157\u001b[0m                 \u001b[0mclient\u001b[0m\u001b[1;33m.\u001b[0m\u001b[0m_process_response\u001b[0m\u001b[1;33m(\u001b[0m\u001b[0mresponse_doc\u001b[0m\u001b[1;33m,\u001b[0m \u001b[0msession\u001b[0m\u001b[1;33m)\u001b[0m\u001b[1;33m\u001b[0m\u001b[1;33m\u001b[0m\u001b[0m\n\u001b[0;32m    158\u001b[0m             \u001b[1;32mif\u001b[0m \u001b[0mcheck\u001b[0m\u001b[1;33m:\u001b[0m\u001b[1;33m\u001b[0m\u001b[1;33m\u001b[0m\u001b[0m\n\u001b[1;32m--> 159\u001b[1;33m                 helpers._check_command_response(\n\u001b[0m\u001b[0;32m    160\u001b[0m                     \u001b[0mresponse_doc\u001b[0m\u001b[1;33m,\u001b[0m \u001b[0msock_info\u001b[0m\u001b[1;33m.\u001b[0m\u001b[0mmax_wire_version\u001b[0m\u001b[1;33m,\u001b[0m \u001b[0mallowable_errors\u001b[0m\u001b[1;33m,\u001b[0m\u001b[1;33m\u001b[0m\u001b[1;33m\u001b[0m\u001b[0m\n\u001b[0;32m    161\u001b[0m                     parse_write_concern_error=parse_write_concern_error)\n",
      "\u001b[1;32m~\\anaconda3\\lib\\site-packages\\pymongo\\helpers.py\u001b[0m in \u001b[0;36m_check_command_response\u001b[1;34m(response, max_wire_version, allowable_errors, parse_write_concern_error)\u001b[0m\n\u001b[0;32m    162\u001b[0m         \u001b[1;32mraise\u001b[0m \u001b[0mCursorNotFound\u001b[0m\u001b[1;33m(\u001b[0m\u001b[0merrmsg\u001b[0m\u001b[1;33m,\u001b[0m \u001b[0mcode\u001b[0m\u001b[1;33m,\u001b[0m \u001b[0mresponse\u001b[0m\u001b[1;33m,\u001b[0m \u001b[0mmax_wire_version\u001b[0m\u001b[1;33m)\u001b[0m\u001b[1;33m\u001b[0m\u001b[1;33m\u001b[0m\u001b[0m\n\u001b[0;32m    163\u001b[0m \u001b[1;33m\u001b[0m\u001b[0m\n\u001b[1;32m--> 164\u001b[1;33m     \u001b[1;32mraise\u001b[0m \u001b[0mOperationFailure\u001b[0m\u001b[1;33m(\u001b[0m\u001b[0merrmsg\u001b[0m\u001b[1;33m,\u001b[0m \u001b[0mcode\u001b[0m\u001b[1;33m,\u001b[0m \u001b[0mresponse\u001b[0m\u001b[1;33m,\u001b[0m \u001b[0mmax_wire_version\u001b[0m\u001b[1;33m)\u001b[0m\u001b[1;33m\u001b[0m\u001b[1;33m\u001b[0m\u001b[0m\n\u001b[0m\u001b[0;32m    165\u001b[0m \u001b[1;33m\u001b[0m\u001b[0m\n\u001b[0;32m    166\u001b[0m \u001b[1;33m\u001b[0m\u001b[0m\n",
      "\u001b[1;31mOperationFailure\u001b[0m: Unrecognized pipeline stage name: '$find', full error: {'ok': 0.0, 'errmsg': \"Unrecognized pipeline stage name: '$find'\", 'code': 40324, 'codeName': 'Location40324'}"
     ]
    }
   ],
   "source": [
    "query_1={\n",
    "    '$project': {\n",
    "        '_id': False,\n",
    "        'CostumerID' : '$CustomerID',\n",
    "        'location' : {'lat':'$DeliveryLocationLat', 'long':'$DeliveryLocationLong' }\n",
    "    }\n",
    "}\n",
    "\n",
    "query_2={\n",
    "    '$find': \n",
    "   {\n",
    "     '$location':\n",
    "       { '$near':\n",
    "          {\n",
    "            '$geometry': {'location': [ 41.4972, -102.62 ] },\n",
    "            '$minDistance': 0,\n",
    "            '$maxDistance': 10000\n",
    "          }\n",
    "       }\n",
    "   }\n",
    "}\n",
    "pipeline = [query_1,query_2]\n",
    "\n",
    "r = db.Sales_Customers.aggregate(pipeline)\n",
    "\n",
    "\n",
    "result = list(r)\n",
    "\n",
    "result"
   ]
  },
  {
   "cell_type": "markdown",
   "metadata": {},
   "source": [
    "https://docs.mongodb.com/manual/geospatial-queries/#example"
   ]
  }
 ],
 "metadata": {
  "kernelspec": {
   "display_name": "Python 3",
   "language": "python",
   "name": "python3"
  },
  "language_info": {
   "codemirror_mode": {
    "name": "ipython",
    "version": 3
   },
   "file_extension": ".py",
   "mimetype": "text/x-python",
   "name": "python",
   "nbconvert_exporter": "python",
   "pygments_lexer": "ipython3",
   "version": "3.8.3"
  }
 },
 "nbformat": 4,
 "nbformat_minor": 5
}
