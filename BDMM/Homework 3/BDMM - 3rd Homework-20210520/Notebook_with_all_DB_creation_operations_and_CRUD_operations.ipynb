{
 "cells": [
  {
   "cell_type": "markdown",
   "id": "19e715bd",
   "metadata": {},
   "source": [
    "# Notebook with all DB creation operations and CRUD operations"
   ]
  },
  {
   "cell_type": "markdown",
   "id": "51ffc584",
   "metadata": {},
   "source": [
    "# Part 1: Migrate data from MySQL database to Mongo database"
   ]
  },
  {
   "cell_type": "markdown",
   "id": "7a654d66",
   "metadata": {},
   "source": [
    "## Imports"
   ]
  },
  {
   "cell_type": "code",
   "execution_count": 89,
   "id": "aee41f3d",
   "metadata": {},
   "outputs": [],
   "source": [
    "from tqdm.notebook import tqdm\n",
    "from pprint import pprint\n",
    "from decimal import Decimal\n",
    "from bson.decimal128 import Decimal128\n",
    "from datetime import date"
   ]
  },
  {
   "cell_type": "markdown",
   "id": "e47e7dcc",
   "metadata": {},
   "source": [
    "## Connection"
   ]
  },
  {
   "cell_type": "code",
   "execution_count": 15,
   "id": "5c55ff56",
   "metadata": {},
   "outputs": [],
   "source": [
    "# Connect to mySQL server\n",
    "import mysql.connector\n",
    "\n",
    "def connect_mysql():\n",
    "\n",
    "    mydb = mysql.connector.connect(host='rhea.isegi.unl.pt', \n",
    "                                   user='wwi-read-only-user', \n",
    "                                   database='WWI',\n",
    "                                   password='jGp2GCqrss6nfTEu5ZawhW3mksLsQYQb',\n",
    "                                   port=3306\n",
    "                                  )\n",
    "    mycursor = mydb.cursor()\n",
    "    \n",
    "    return mydb, mycursor\n",
    "\n",
    "    # Getting the table names\n",
    "    #mycursor.execute('SHOW TABLES;')\n",
    "    #print(f\"Tables: {mycursor.fetchall()}\")\n",
    "\n",
    "    # Getting a tables column descriptios\n",
    "    #mycursor.execute('DESCRIBE Purchasing_PurchaseOrderLines;')\n",
    "    #print(f\"Purchasing_PurchaseOrderLines schema: {mycursor.fetchall()}\")\n",
    "    \n",
    "mydb, mycursor = connect_mysql()"
   ]
  },
  {
   "cell_type": "code",
   "execution_count": 16,
   "id": "b4569e40",
   "metadata": {},
   "outputs": [],
   "source": [
    "# Connect to Mongo server\n",
    "\n",
    "from pymongo import MongoClient\n",
    "\n",
    "host=\"rhea.isegi.unl.pt\"\n",
    "port=\"27049\"\n",
    "user=\"GROUP_32\"\n",
    "password=\"bRG2XjRZhrRA9IfpmENyXxMlWQDUJdzL\"\n",
    "protocol=\"mongodb\"\n",
    "client = MongoClient(f\"{protocol}://{user}:{password}@{host}:{port}\")\n",
    "\n",
    "# Connect to mongo db\n",
    "db = client.#database name here"
   ]
  },
  {
   "cell_type": "code",
   "execution_count": 17,
   "id": "3362b4be",
   "metadata": {},
   "outputs": [],
   "source": [
    "# Get mysql tables\n",
    "mycursor.execute('SHOW TABLES;')\n",
    "tables = mycursor.fetchall()"
   ]
  },
  {
   "cell_type": "markdown",
   "id": "f73ce10a",
   "metadata": {},
   "source": [
    "## For deleting everything and flushing the cursor"
   ]
  },
  {
   "cell_type": "code",
   "execution_count": 204,
   "id": "2dcb125a",
   "metadata": {},
   "outputs": [
    {
     "data": {
      "text/plain": [
       "['Sales_InvoiceLines',\n",
       " 'Sales_Orders',\n",
       " 'Sales_CustomerTransactions',\n",
       " 'Purchasing_SupplierTransactions',\n",
       " 'Sales_OrderLines',\n",
       " 'Sales_Customers',\n",
       " 'Purchasing_PurchaseOrders',\n",
       " 'Purchasing_PurchaseOrderLines',\n",
       " 'Purchasing_SupplierCategories',\n",
       " 'Sales_CustomerCategories',\n",
       " 'Sales_Invoices',\n",
       " 'Purchasing_Suppliers']"
      ]
     },
     "execution_count": 204,
     "metadata": {},
     "output_type": "execute_result"
    }
   ],
   "source": [
    "db.list_collection_names()"
   ]
  },
  {
   "cell_type": "code",
   "execution_count": 205,
   "id": "6a3ae8b6",
   "metadata": {},
   "outputs": [],
   "source": [
    "for i in range(len(tables)):\n",
    "    \n",
    "    table_name = tables[i][0]\n",
    "    \n",
    "    db[table_name].drop()"
   ]
  },
  {
   "cell_type": "code",
   "execution_count": 206,
   "id": "5a64e99c",
   "metadata": {},
   "outputs": [
    {
     "data": {
      "text/plain": [
       "[]"
      ]
     },
     "execution_count": 206,
     "metadata": {},
     "output_type": "execute_result"
    }
   ],
   "source": [
    "db.list_collection_names()"
   ]
  },
  {
   "cell_type": "code",
   "execution_count": 10,
   "id": "1e5781e9",
   "metadata": {},
   "outputs": [
    {
     "data": {
      "text/plain": [
       "[]"
      ]
     },
     "execution_count": 10,
     "metadata": {},
     "output_type": "execute_result"
    }
   ],
   "source": [
    "mycursor.fetchall()"
   ]
  },
  {
   "cell_type": "markdown",
   "id": "1cd81e90",
   "metadata": {},
   "source": [
    "## Get row counts of each table"
   ]
  },
  {
   "cell_type": "code",
   "execution_count": 7,
   "id": "c855c050",
   "metadata": {},
   "outputs": [
    {
     "name": "stdout",
     "output_type": "stream",
     "text": [
      "Purchasing_PurchaseOrderLines\n",
      "8367\n",
      "Purchasing_PurchaseOrders\n",
      "2074\n",
      "Purchasing_SupplierCategories\n",
      "9\n",
      "Purchasing_SupplierTransactions\n",
      "2438\n",
      "Purchasing_Suppliers\n",
      "13\n",
      "Sales_CustomerCategories\n",
      "8\n",
      "Sales_CustomerTransactions\n",
      "52000\n",
      "Sales_Customers\n",
      "663\n",
      "Sales_InvoiceLines\n",
      "30000\n",
      "Sales_Invoices\n",
      "70510\n",
      "Sales_OrderLines\n",
      "76000\n",
      "Sales_Orders\n",
      "73595\n"
     ]
    }
   ],
   "source": [
    "for i in range(len(tables)):\n",
    "    \n",
    "    # Get MySQL table name\n",
    "    table_name = tables[i][0]\n",
    "    \n",
    "    # Define our query\n",
    "    query = ( \"SELECT * \" \n",
    "             \"FROM \" + table_name )\n",
    "    \n",
    "    # Execute query\n",
    "    mycursor.execute( query )\n",
    "    \n",
    "    # Print row counts\n",
    "    print(table_name)\n",
    "    print(len(mycursor.fetchall()))"
   ]
  },
  {
   "cell_type": "markdown",
   "id": "454c22cc",
   "metadata": {},
   "source": [
    "## Migrate data from MySQL database to mongo database"
   ]
  },
  {
   "cell_type": "code",
   "execution_count": 207,
   "id": "4d5032c2",
   "metadata": {},
   "outputs": [],
   "source": [
    "# Adapted from:\n",
    "# https://nicksardo.wordpress.com/2015/11/24/transferring-data-between-mysql-and-mongodb/\n",
    "\n",
    "def migrate_table(table_index):\n",
    "    \n",
    "    # Get MySQL table name\n",
    "    table_name = tables[table_index][0]\n",
    "    \n",
    "    # Print table name\n",
    "    print('Migrating table', table_name)\n",
    "    \n",
    "    # Get names of the columns of this table\n",
    "    describe = 'DESCRIBE ' + table_name + ';'\n",
    "    mycursor.execute(describe)\n",
    "    describe_out = mycursor.fetchall()\n",
    "\n",
    "    cols = []\n",
    "    for col_index in range(len(describe_out)):\n",
    "        col = describe_out[col_index][0]\n",
    "        cols.append(col)\n",
    "    \n",
    "    # Create mongodb collection\n",
    "    collection = db[table_name]\n",
    "    \n",
    "    # Define our query\n",
    "    query = ( \"SELECT * \" \n",
    "             \"FROM \" + table_name )\n",
    "    \n",
    "    # Get row count and print it\n",
    "    mycursor.execute( query )\n",
    "    print('Rows in this table:', str(len(mycursor.fetchall())))\n",
    "    \n",
    "    # Execute query again\n",
    "    mycursor.execute( query )\n",
    "    \n",
    "    #mongo client specifically requires python dict\n",
    "    cus = dict()\n",
    "\n",
    "    #custom record id rather than mongodb default hash id                                          \n",
    "    cid = 0                                                 \n",
    "\n",
    "    #cycle through each mySQL row\n",
    "    for ( row ) in tqdm(mycursor):\n",
    "        cid        += 1   #increment id\n",
    "        cus['_id'] = cid                                    \n",
    "\n",
    "        #check if current row is null\n",
    "        for i in range( 0, len( row ) ):\n",
    "            \n",
    "            if row[i] == None:\n",
    "                #if the record is null, skip it                  \n",
    "                continue\n",
    "            \n",
    "            else:\n",
    "                row_title      = \"\".join( cols[i] )  \n",
    "                \n",
    "                field          = row[i]\n",
    "                \n",
    "                if isinstance(field, Decimal):\n",
    "                    field = float(str(field))\n",
    "                    \n",
    "                if isinstance(field, date):\n",
    "                    field = str(field)\n",
    "                \n",
    "                #add current record's field's title and value             \n",
    "                cus[row_title] = field\n",
    "                \n",
    "        #we've completed processing this row, insert it into mongoldb      \n",
    "        collection.insert_one( cus )"
   ]
  },
  {
   "cell_type": "code",
   "execution_count": 208,
   "id": "73f35155",
   "metadata": {},
   "outputs": [],
   "source": [
    "def migrate_table_10k_entries(table_index, ten_k_step):\n",
    "    \n",
    "    from_entry = (ten_k_step * 10000) + 1\n",
    "    till_entry = ((ten_k_step + 1) * 10000) + 1\n",
    "    print('Migrate entries larger or equal to', str(from_entry), 'and smaller than', str(till_entry))\n",
    "    \n",
    "    # Get MySQL table name\n",
    "    table_name = tables[table_index][0]\n",
    "    \n",
    "    # Print table name\n",
    "    print('Migrating table', table_name)\n",
    "    \n",
    "    # Get names of the columns of this table\n",
    "    describe = 'DESCRIBE ' + table_name + ';'\n",
    "    mycursor.execute(describe)\n",
    "    describe_out = mycursor.fetchall()\n",
    "\n",
    "    cols = []\n",
    "    for col_index in range(len(describe_out)):\n",
    "        col = describe_out[col_index][0]\n",
    "        cols.append(col)\n",
    "    \n",
    "    # Create mongodb collection\n",
    "    collection = db[table_name]\n",
    "    \n",
    "    collection.delete_many({'_id' : { \"$gte\": from_entry}})\n",
    "    \n",
    "    # Define our query\n",
    "    query = ( \"SELECT * \" \n",
    "             \"FROM \" + table_name )\n",
    "    \n",
    "    # Get row count and print it\n",
    "    mycursor.execute( query )\n",
    "    print('Rows in this table:', str(len(mycursor.fetchall())))\n",
    "    \n",
    "    # Execute query again\n",
    "    mycursor.execute( query )\n",
    "    \n",
    "    #mongo client specifically requires python dict\n",
    "    cus = dict()\n",
    "\n",
    "    #custom record id rather than mongodb default hash id                                          \n",
    "    cid = 0                                                 \n",
    "\n",
    "    #cycle through each mySQL row\n",
    "    for ( row ) in tqdm(mycursor):\n",
    "        cid        += 1   #increment id\n",
    "        cus['_id'] = cid   \n",
    "        \n",
    "        if cid >= from_entry and cid < till_entry:\n",
    "            \n",
    "            #check if current row is null\n",
    "            for i in range( 0, len( row ) ):\n",
    "\n",
    "                if row[i] == None:\n",
    "                    #if the record is null, skip it                  \n",
    "                    continue\n",
    "\n",
    "                else:\n",
    "                    row_title      = \"\".join( cols[i] )  \n",
    "\n",
    "                    field          = row[i]\n",
    "\n",
    "                    if isinstance(field, Decimal):\n",
    "                        field = float(str(field))\n",
    "\n",
    "                    if isinstance(field, date):\n",
    "                        field = str(field)\n",
    "\n",
    "                    #add current record's field's title and value             \n",
    "                    cus[row_title] = field\n",
    "\n",
    "            #we've completed processing this row, insert it into mongoldb      \n",
    "            collection.insert_one( cus )"
   ]
  },
  {
   "cell_type": "code",
   "execution_count": 262,
   "id": "980b96d6",
   "metadata": {},
   "outputs": [
    {
     "data": {
      "text/plain": [
       "11"
      ]
     },
     "execution_count": 262,
     "metadata": {},
     "output_type": "execute_result"
    }
   ],
   "source": [
    "i = 11\n",
    "i"
   ]
  },
  {
   "cell_type": "code",
   "execution_count": 263,
   "id": "d1cbb81f",
   "metadata": {},
   "outputs": [
    {
     "data": {
      "text/plain": [
       "'Sales_Orders'"
      ]
     },
     "execution_count": 263,
     "metadata": {},
     "output_type": "execute_result"
    }
   ],
   "source": [
    "tables[i][0]"
   ]
  },
  {
   "cell_type": "code",
   "execution_count": 211,
   "id": "ca36321c",
   "metadata": {},
   "outputs": [
    {
     "name": "stdout",
     "output_type": "stream",
     "text": [
      "Migrating table Purchasing_PurchaseOrderLines\n",
      "Rows in this table: 8367\n"
     ]
    },
    {
     "data": {
      "application/vnd.jupyter.widget-view+json": {
       "model_id": "c24dfa2fb1774ee4936541e2cc467986",
       "version_major": 2,
       "version_minor": 0
      },
      "text/plain": [
       "0it [00:00, ?it/s]"
      ]
     },
     "metadata": {},
     "output_type": "display_data"
    }
   ],
   "source": [
    "db[tables[i][0]].drop()\n",
    "migrate_table(i)"
   ]
  },
  {
   "cell_type": "code",
   "execution_count": 212,
   "id": "f8ef6a54",
   "metadata": {},
   "outputs": [
    {
     "data": {
      "text/plain": [
       "8367"
      ]
     },
     "execution_count": 212,
     "metadata": {},
     "output_type": "execute_result"
    }
   ],
   "source": [
    "db[tables[i][0]].count_documents({})"
   ]
  },
  {
   "cell_type": "code",
   "execution_count": 214,
   "id": "9d63e6cf",
   "metadata": {},
   "outputs": [
    {
     "name": "stdout",
     "output_type": "stream",
     "text": [
      "Migrating table Purchasing_PurchaseOrders\n",
      "Rows in this table: 2074\n"
     ]
    },
    {
     "data": {
      "application/vnd.jupyter.widget-view+json": {
       "model_id": "36474c7ca0504e88b2c9c34376e911a2",
       "version_major": 2,
       "version_minor": 0
      },
      "text/plain": [
       "0it [00:00, ?it/s]"
      ]
     },
     "metadata": {},
     "output_type": "display_data"
    }
   ],
   "source": [
    "db[tables[i][0]].drop()\n",
    "migrate_table(i)"
   ]
  },
  {
   "cell_type": "code",
   "execution_count": 215,
   "id": "36757ef4",
   "metadata": {},
   "outputs": [
    {
     "data": {
      "text/plain": [
       "2074"
      ]
     },
     "execution_count": 215,
     "metadata": {},
     "output_type": "execute_result"
    }
   ],
   "source": [
    "db[tables[i][0]].count_documents({})"
   ]
  },
  {
   "cell_type": "code",
   "execution_count": 217,
   "id": "06b9b6b5",
   "metadata": {},
   "outputs": [
    {
     "name": "stdout",
     "output_type": "stream",
     "text": [
      "Migrating table Purchasing_SupplierCategories\n",
      "Rows in this table: 9\n"
     ]
    },
    {
     "data": {
      "application/vnd.jupyter.widget-view+json": {
       "model_id": "fc1491c29ad84b8f998a43c3dc01c6f5",
       "version_major": 2,
       "version_minor": 0
      },
      "text/plain": [
       "0it [00:00, ?it/s]"
      ]
     },
     "metadata": {},
     "output_type": "display_data"
    }
   ],
   "source": [
    "db[tables[i][0]].drop()\n",
    "migrate_table(i)"
   ]
  },
  {
   "cell_type": "code",
   "execution_count": 218,
   "id": "ed9c3bd7",
   "metadata": {},
   "outputs": [
    {
     "data": {
      "text/plain": [
       "9"
      ]
     },
     "execution_count": 218,
     "metadata": {},
     "output_type": "execute_result"
    }
   ],
   "source": [
    "db[tables[i][0]].count_documents({})"
   ]
  },
  {
   "cell_type": "code",
   "execution_count": 220,
   "id": "d77f14cd",
   "metadata": {},
   "outputs": [
    {
     "name": "stdout",
     "output_type": "stream",
     "text": [
      "Migrating table Purchasing_SupplierTransactions\n",
      "Rows in this table: 2438\n"
     ]
    },
    {
     "data": {
      "application/vnd.jupyter.widget-view+json": {
       "model_id": "e76dbe6519eb4dec888f4be797af9e85",
       "version_major": 2,
       "version_minor": 0
      },
      "text/plain": [
       "0it [00:00, ?it/s]"
      ]
     },
     "metadata": {},
     "output_type": "display_data"
    }
   ],
   "source": [
    "db[tables[i][0]].drop()\n",
    "migrate_table(i)"
   ]
  },
  {
   "cell_type": "code",
   "execution_count": 221,
   "id": "72b801dc",
   "metadata": {},
   "outputs": [
    {
     "data": {
      "text/plain": [
       "2438"
      ]
     },
     "execution_count": 221,
     "metadata": {},
     "output_type": "execute_result"
    }
   ],
   "source": [
    "db[tables[i][0]].count_documents({})"
   ]
  },
  {
   "cell_type": "code",
   "execution_count": 223,
   "id": "9aa9d082",
   "metadata": {},
   "outputs": [
    {
     "name": "stdout",
     "output_type": "stream",
     "text": [
      "Migrating table Purchasing_Suppliers\n",
      "Rows in this table: 13\n"
     ]
    },
    {
     "data": {
      "application/vnd.jupyter.widget-view+json": {
       "model_id": "b06d7cb27f2e4e42991b5f6d73ee605a",
       "version_major": 2,
       "version_minor": 0
      },
      "text/plain": [
       "0it [00:00, ?it/s]"
      ]
     },
     "metadata": {},
     "output_type": "display_data"
    }
   ],
   "source": [
    "db[tables[i][0]].drop()\n",
    "migrate_table(i)"
   ]
  },
  {
   "cell_type": "code",
   "execution_count": 224,
   "id": "9bd92568",
   "metadata": {},
   "outputs": [
    {
     "data": {
      "text/plain": [
       "13"
      ]
     },
     "execution_count": 224,
     "metadata": {},
     "output_type": "execute_result"
    }
   ],
   "source": [
    "db[tables[i][0]].count_documents({})"
   ]
  },
  {
   "cell_type": "code",
   "execution_count": 226,
   "id": "c99614d3",
   "metadata": {},
   "outputs": [
    {
     "name": "stdout",
     "output_type": "stream",
     "text": [
      "Migrating table Sales_CustomerCategories\n",
      "Rows in this table: 8\n"
     ]
    },
    {
     "data": {
      "application/vnd.jupyter.widget-view+json": {
       "model_id": "684c5caf8ca6497c97086c45a1dceec6",
       "version_major": 2,
       "version_minor": 0
      },
      "text/plain": [
       "0it [00:00, ?it/s]"
      ]
     },
     "metadata": {},
     "output_type": "display_data"
    }
   ],
   "source": [
    "db[tables[i][0]].drop()\n",
    "migrate_table(i)"
   ]
  },
  {
   "cell_type": "code",
   "execution_count": 227,
   "id": "8852cbc5",
   "metadata": {},
   "outputs": [
    {
     "data": {
      "text/plain": [
       "8"
      ]
     },
     "execution_count": 227,
     "metadata": {},
     "output_type": "execute_result"
    }
   ],
   "source": [
    "db[tables[i][0]].count_documents({})"
   ]
  },
  {
   "cell_type": "code",
   "execution_count": 229,
   "id": "ab4f8636",
   "metadata": {},
   "outputs": [
    {
     "name": "stdout",
     "output_type": "stream",
     "text": [
      "Migrating table Sales_CustomerTransactions\n",
      "Rows in this table: 52000\n"
     ]
    },
    {
     "data": {
      "application/vnd.jupyter.widget-view+json": {
       "model_id": "e21f391fe9754a6b8d61798031bd02fc",
       "version_major": 2,
       "version_minor": 0
      },
      "text/plain": [
       "0it [00:00, ?it/s]"
      ]
     },
     "metadata": {},
     "output_type": "display_data"
    }
   ],
   "source": [
    "db[tables[i][0]].drop()\n",
    "migrate_table(i)"
   ]
  },
  {
   "cell_type": "code",
   "execution_count": 230,
   "id": "eae547a9",
   "metadata": {},
   "outputs": [
    {
     "data": {
      "text/plain": [
       "52000"
      ]
     },
     "execution_count": 230,
     "metadata": {},
     "output_type": "execute_result"
    }
   ],
   "source": [
    "db[tables[i][0]].count_documents({})"
   ]
  },
  {
   "cell_type": "code",
   "execution_count": 232,
   "id": "57bdf14d",
   "metadata": {},
   "outputs": [
    {
     "name": "stdout",
     "output_type": "stream",
     "text": [
      "Migrating table Sales_Customers\n",
      "Rows in this table: 663\n"
     ]
    },
    {
     "data": {
      "application/vnd.jupyter.widget-view+json": {
       "model_id": "25164057530949cd8c36c8c021b637f2",
       "version_major": 2,
       "version_minor": 0
      },
      "text/plain": [
       "0it [00:00, ?it/s]"
      ]
     },
     "metadata": {},
     "output_type": "display_data"
    }
   ],
   "source": [
    "db[tables[i][0]].drop()\n",
    "migrate_table(i)"
   ]
  },
  {
   "cell_type": "code",
   "execution_count": 233,
   "id": "a0f79d35",
   "metadata": {},
   "outputs": [
    {
     "data": {
      "text/plain": [
       "663"
      ]
     },
     "execution_count": 233,
     "metadata": {},
     "output_type": "execute_result"
    }
   ],
   "source": [
    "db[tables[i][0]].count_documents({})"
   ]
  },
  {
   "cell_type": "code",
   "execution_count": 235,
   "id": "891d7d61",
   "metadata": {},
   "outputs": [
    {
     "name": "stdout",
     "output_type": "stream",
     "text": [
      "Migrating table Sales_InvoiceLines\n",
      "Rows in this table: 30000\n"
     ]
    },
    {
     "data": {
      "application/vnd.jupyter.widget-view+json": {
       "model_id": "406fe81a076a4a2f97cf9620b2550a7d",
       "version_major": 2,
       "version_minor": 0
      },
      "text/plain": [
       "0it [00:00, ?it/s]"
      ]
     },
     "metadata": {},
     "output_type": "display_data"
    }
   ],
   "source": [
    "db[tables[i][0]].drop()\n",
    "migrate_table(i)"
   ]
  },
  {
   "cell_type": "code",
   "execution_count": 236,
   "id": "80d246cc",
   "metadata": {},
   "outputs": [
    {
     "data": {
      "text/plain": [
       "30000"
      ]
     },
     "execution_count": 236,
     "metadata": {},
     "output_type": "execute_result"
    }
   ],
   "source": [
    "db[tables[i][0]].count_documents({})"
   ]
  },
  {
   "cell_type": "code",
   "execution_count": 238,
   "id": "13ca8a41",
   "metadata": {},
   "outputs": [
    {
     "name": "stdout",
     "output_type": "stream",
     "text": [
      "Migrating table Sales_Invoices\n",
      "Rows in this table: 70510\n"
     ]
    },
    {
     "data": {
      "application/vnd.jupyter.widget-view+json": {
       "model_id": "820daf8e726a4638b645c82cdb60d9c6",
       "version_major": 2,
       "version_minor": 0
      },
      "text/plain": [
       "0it [00:00, ?it/s]"
      ]
     },
     "metadata": {},
     "output_type": "display_data"
    }
   ],
   "source": [
    "db[tables[i][0]].drop()\n",
    "migrate_table(i)"
   ]
  },
  {
   "cell_type": "code",
   "execution_count": 239,
   "id": "0f515d2d",
   "metadata": {},
   "outputs": [
    {
     "data": {
      "text/plain": [
       "70510"
      ]
     },
     "execution_count": 239,
     "metadata": {},
     "output_type": "execute_result"
    }
   ],
   "source": [
    "db[tables[i][0]].count_documents({})"
   ]
  },
  {
   "cell_type": "code",
   "execution_count": 241,
   "id": "8ebb98a6",
   "metadata": {},
   "outputs": [
    {
     "name": "stdout",
     "output_type": "stream",
     "text": [
      "Migrating table Sales_OrderLines\n",
      "Rows in this table: 76000\n"
     ]
    },
    {
     "data": {
      "application/vnd.jupyter.widget-view+json": {
       "model_id": "d0199e44050145bfa9a8b4bf2850cc0e",
       "version_major": 2,
       "version_minor": 0
      },
      "text/plain": [
       "0it [00:00, ?it/s]"
      ]
     },
     "metadata": {},
     "output_type": "display_data"
    },
    {
     "ename": "OperationalError",
     "evalue": "2013 (HY000): Lost connection to MySQL server during query",
     "output_type": "error",
     "traceback": [
      "\u001b[0;31m---------------------------------------------------------------------------\u001b[0m",
      "\u001b[0;31mMySQLInterfaceError\u001b[0m                       Traceback (most recent call last)",
      "\u001b[0;32m~/anaconda3/envs/bdmm_pip/lib/python3.8/site-packages/mysql/connector/connection_cext.py\u001b[0m in \u001b[0;36mget_rows\u001b[0;34m(self, count, binary, columns, raw, prep_stmt)\u001b[0m\n\u001b[1;32m    337\u001b[0m             \u001b[0mrow\u001b[0m \u001b[0;34m=\u001b[0m \u001b[0mprep_stmt\u001b[0m\u001b[0;34m.\u001b[0m\u001b[0mfetch_row\u001b[0m\u001b[0;34m(\u001b[0m\u001b[0;34m)\u001b[0m \u001b[0;32mif\u001b[0m \u001b[0mprep_stmt\u001b[0m\u001b[0;31m \u001b[0m\u001b[0;31m\\\u001b[0m\u001b[0;34m\u001b[0m\u001b[0;34m\u001b[0m\u001b[0m\n\u001b[0;32m--> 338\u001b[0;31m                 \u001b[0;32melse\u001b[0m \u001b[0mself\u001b[0m\u001b[0;34m.\u001b[0m\u001b[0m_cmysql\u001b[0m\u001b[0;34m.\u001b[0m\u001b[0mfetch_row\u001b[0m\u001b[0;34m(\u001b[0m\u001b[0;34m)\u001b[0m\u001b[0;34m\u001b[0m\u001b[0;34m\u001b[0m\u001b[0m\n\u001b[0m\u001b[1;32m    339\u001b[0m             \u001b[0;32mwhile\u001b[0m \u001b[0mrow\u001b[0m\u001b[0;34m:\u001b[0m\u001b[0;34m\u001b[0m\u001b[0;34m\u001b[0m\u001b[0m\n",
      "\u001b[0;31mMySQLInterfaceError\u001b[0m: Lost connection to MySQL server during query",
      "\nDuring handling of the above exception, another exception occurred:\n",
      "\u001b[0;31mOperationalError\u001b[0m                          Traceback (most recent call last)",
      "\u001b[0;32m<ipython-input-241-4579d636ed55>\u001b[0m in \u001b[0;36m<module>\u001b[0;34m\u001b[0m\n\u001b[1;32m      1\u001b[0m \u001b[0mdb\u001b[0m\u001b[0;34m[\u001b[0m\u001b[0mtables\u001b[0m\u001b[0;34m[\u001b[0m\u001b[0mi\u001b[0m\u001b[0;34m]\u001b[0m\u001b[0;34m[\u001b[0m\u001b[0;36m0\u001b[0m\u001b[0;34m]\u001b[0m\u001b[0;34m]\u001b[0m\u001b[0;34m.\u001b[0m\u001b[0mdrop\u001b[0m\u001b[0;34m(\u001b[0m\u001b[0;34m)\u001b[0m\u001b[0;34m\u001b[0m\u001b[0;34m\u001b[0m\u001b[0m\n\u001b[0;32m----> 2\u001b[0;31m \u001b[0mmigrate_table\u001b[0m\u001b[0;34m(\u001b[0m\u001b[0mi\u001b[0m\u001b[0;34m)\u001b[0m\u001b[0;34m\u001b[0m\u001b[0;34m\u001b[0m\u001b[0m\n\u001b[0m",
      "\u001b[0;32m<ipython-input-207-f62047015847>\u001b[0m in \u001b[0;36mmigrate_table\u001b[0;34m(table_index)\u001b[0m\n\u001b[1;32m     41\u001b[0m \u001b[0;34m\u001b[0m\u001b[0m\n\u001b[1;32m     42\u001b[0m     \u001b[0;31m#cycle through each mySQL row\u001b[0m\u001b[0;34m\u001b[0m\u001b[0;34m\u001b[0m\u001b[0;34m\u001b[0m\u001b[0m\n\u001b[0;32m---> 43\u001b[0;31m     \u001b[0;32mfor\u001b[0m \u001b[0;34m(\u001b[0m \u001b[0mrow\u001b[0m \u001b[0;34m)\u001b[0m \u001b[0;32min\u001b[0m \u001b[0mtqdm\u001b[0m\u001b[0;34m(\u001b[0m\u001b[0mmycursor\u001b[0m\u001b[0;34m)\u001b[0m\u001b[0;34m:\u001b[0m\u001b[0;34m\u001b[0m\u001b[0;34m\u001b[0m\u001b[0m\n\u001b[0m\u001b[1;32m     44\u001b[0m         \u001b[0mcid\u001b[0m        \u001b[0;34m+=\u001b[0m \u001b[0;36m1\u001b[0m   \u001b[0;31m#increment id\u001b[0m\u001b[0;34m\u001b[0m\u001b[0;34m\u001b[0m\u001b[0m\n\u001b[1;32m     45\u001b[0m         \u001b[0mcus\u001b[0m\u001b[0;34m[\u001b[0m\u001b[0;34m'_id'\u001b[0m\u001b[0;34m]\u001b[0m \u001b[0;34m=\u001b[0m \u001b[0mcid\u001b[0m\u001b[0;34m\u001b[0m\u001b[0;34m\u001b[0m\u001b[0m\n",
      "\u001b[0;32m~/anaconda3/envs/bdmm_pip/lib/python3.8/site-packages/tqdm/notebook.py\u001b[0m in \u001b[0;36m__iter__\u001b[0;34m(self)\u001b[0m\n\u001b[1;32m    252\u001b[0m     \u001b[0;32mdef\u001b[0m \u001b[0m__iter__\u001b[0m\u001b[0;34m(\u001b[0m\u001b[0mself\u001b[0m\u001b[0;34m)\u001b[0m\u001b[0;34m:\u001b[0m\u001b[0;34m\u001b[0m\u001b[0;34m\u001b[0m\u001b[0m\n\u001b[1;32m    253\u001b[0m         \u001b[0;32mtry\u001b[0m\u001b[0;34m:\u001b[0m\u001b[0;34m\u001b[0m\u001b[0;34m\u001b[0m\u001b[0m\n\u001b[0;32m--> 254\u001b[0;31m             \u001b[0;32mfor\u001b[0m \u001b[0mobj\u001b[0m \u001b[0;32min\u001b[0m \u001b[0msuper\u001b[0m\u001b[0;34m(\u001b[0m\u001b[0mtqdm_notebook\u001b[0m\u001b[0;34m,\u001b[0m \u001b[0mself\u001b[0m\u001b[0;34m)\u001b[0m\u001b[0;34m.\u001b[0m\u001b[0m__iter__\u001b[0m\u001b[0;34m(\u001b[0m\u001b[0;34m)\u001b[0m\u001b[0;34m:\u001b[0m\u001b[0;34m\u001b[0m\u001b[0;34m\u001b[0m\u001b[0m\n\u001b[0m\u001b[1;32m    255\u001b[0m                 \u001b[0;31m# return super(tqdm...) will not catch exception\u001b[0m\u001b[0;34m\u001b[0m\u001b[0;34m\u001b[0m\u001b[0;34m\u001b[0m\u001b[0m\n\u001b[1;32m    256\u001b[0m                 \u001b[0;32myield\u001b[0m \u001b[0mobj\u001b[0m\u001b[0;34m\u001b[0m\u001b[0;34m\u001b[0m\u001b[0m\n",
      "\u001b[0;32m~/anaconda3/envs/bdmm_pip/lib/python3.8/site-packages/tqdm/std.py\u001b[0m in \u001b[0;36m__iter__\u001b[0;34m(self)\u001b[0m\n\u001b[1;32m   1176\u001b[0m \u001b[0;34m\u001b[0m\u001b[0m\n\u001b[1;32m   1177\u001b[0m         \u001b[0;32mtry\u001b[0m\u001b[0;34m:\u001b[0m\u001b[0;34m\u001b[0m\u001b[0;34m\u001b[0m\u001b[0m\n\u001b[0;32m-> 1178\u001b[0;31m             \u001b[0;32mfor\u001b[0m \u001b[0mobj\u001b[0m \u001b[0;32min\u001b[0m \u001b[0miterable\u001b[0m\u001b[0;34m:\u001b[0m\u001b[0;34m\u001b[0m\u001b[0;34m\u001b[0m\u001b[0m\n\u001b[0m\u001b[1;32m   1179\u001b[0m                 \u001b[0;32myield\u001b[0m \u001b[0mobj\u001b[0m\u001b[0;34m\u001b[0m\u001b[0;34m\u001b[0m\u001b[0m\n\u001b[1;32m   1180\u001b[0m                 \u001b[0;31m# Update and possibly print the progressbar.\u001b[0m\u001b[0;34m\u001b[0m\u001b[0;34m\u001b[0m\u001b[0;34m\u001b[0m\u001b[0m\n",
      "\u001b[0;32m~/anaconda3/envs/bdmm_pip/lib/python3.8/site-packages/mysql/connector/cursor_cext.py\u001b[0m in \u001b[0;36mfetchone\u001b[0;34m(self)\u001b[0m\n\u001b[1;32m    562\u001b[0m \u001b[0;34m\u001b[0m\u001b[0m\n\u001b[1;32m    563\u001b[0m         \u001b[0;32mif\u001b[0m \u001b[0mrow\u001b[0m \u001b[0;32mand\u001b[0m \u001b[0mrow\u001b[0m\u001b[0;34m[\u001b[0m\u001b[0;36m0\u001b[0m\u001b[0;34m]\u001b[0m\u001b[0;34m:\u001b[0m\u001b[0;34m\u001b[0m\u001b[0;34m\u001b[0m\u001b[0m\n\u001b[0;32m--> 564\u001b[0;31m             \u001b[0mself\u001b[0m\u001b[0;34m.\u001b[0m\u001b[0m_nextrow\u001b[0m \u001b[0;34m=\u001b[0m \u001b[0mself\u001b[0m\u001b[0;34m.\u001b[0m\u001b[0m_cnx\u001b[0m\u001b[0;34m.\u001b[0m\u001b[0mget_row\u001b[0m\u001b[0;34m(\u001b[0m\u001b[0;34m)\u001b[0m\u001b[0;34m\u001b[0m\u001b[0;34m\u001b[0m\u001b[0m\n\u001b[0m\u001b[1;32m    565\u001b[0m             \u001b[0;32mif\u001b[0m \u001b[0;32mnot\u001b[0m \u001b[0mself\u001b[0m\u001b[0;34m.\u001b[0m\u001b[0m_nextrow\u001b[0m\u001b[0;34m[\u001b[0m\u001b[0;36m0\u001b[0m\u001b[0;34m]\u001b[0m \u001b[0;32mand\u001b[0m \u001b[0;32mnot\u001b[0m \u001b[0mself\u001b[0m\u001b[0;34m.\u001b[0m\u001b[0m_cnx\u001b[0m\u001b[0;34m.\u001b[0m\u001b[0mmore_results\u001b[0m\u001b[0;34m:\u001b[0m\u001b[0;34m\u001b[0m\u001b[0;34m\u001b[0m\u001b[0m\n\u001b[1;32m    566\u001b[0m                 \u001b[0mself\u001b[0m\u001b[0;34m.\u001b[0m\u001b[0m_cnx\u001b[0m\u001b[0;34m.\u001b[0m\u001b[0mfree_result\u001b[0m\u001b[0;34m(\u001b[0m\u001b[0;34m)\u001b[0m\u001b[0;34m\u001b[0m\u001b[0;34m\u001b[0m\u001b[0m\n",
      "\u001b[0;32m~/anaconda3/envs/bdmm_pip/lib/python3.8/site-packages/mysql/connector/connection_cext.py\u001b[0m in \u001b[0;36mget_row\u001b[0;34m(self, binary, columns, raw, prep_stmt)\u001b[0m\n\u001b[1;32m    374\u001b[0m         \u001b[0;34m\"\"\"Get the next rows returned by the MySQL server\"\"\"\u001b[0m\u001b[0;34m\u001b[0m\u001b[0;34m\u001b[0m\u001b[0m\n\u001b[1;32m    375\u001b[0m         \u001b[0;32mtry\u001b[0m\u001b[0;34m:\u001b[0m\u001b[0;34m\u001b[0m\u001b[0;34m\u001b[0m\u001b[0m\n\u001b[0;32m--> 376\u001b[0;31m             rows, eof = self.get_rows(count=1, binary=binary, columns=columns,\n\u001b[0m\u001b[1;32m    377\u001b[0m                                       raw=raw, prep_stmt=prep_stmt)\n\u001b[1;32m    378\u001b[0m             \u001b[0;32mif\u001b[0m \u001b[0mrows\u001b[0m\u001b[0;34m:\u001b[0m\u001b[0;34m\u001b[0m\u001b[0;34m\u001b[0m\u001b[0m\n",
      "\u001b[0;32m~/anaconda3/envs/bdmm_pip/lib/python3.8/site-packages/mysql/connector/connection_cext.py\u001b[0m in \u001b[0;36mget_rows\u001b[0;34m(self, count, binary, columns, raw, prep_stmt)\u001b[0m\n\u001b[1;32m    366\u001b[0m             \u001b[0;32melse\u001b[0m\u001b[0;34m:\u001b[0m\u001b[0;34m\u001b[0m\u001b[0;34m\u001b[0m\u001b[0m\n\u001b[1;32m    367\u001b[0m                 \u001b[0mself\u001b[0m\u001b[0;34m.\u001b[0m\u001b[0mfree_result\u001b[0m\u001b[0;34m(\u001b[0m\u001b[0;34m)\u001b[0m\u001b[0;34m\u001b[0m\u001b[0;34m\u001b[0m\u001b[0m\n\u001b[0;32m--> 368\u001b[0;31m                 raise errors.get_mysql_exception(msg=exc.msg, errno=exc.errno,\n\u001b[0m\u001b[1;32m    369\u001b[0m                                                  sqlstate=exc.sqlstate)\n\u001b[1;32m    370\u001b[0m \u001b[0;34m\u001b[0m\u001b[0m\n",
      "\u001b[0;31mOperationalError\u001b[0m: 2013 (HY000): Lost connection to MySQL server during query"
     ]
    }
   ],
   "source": [
    "db[tables[i][0]].drop()\n",
    "migrate_table(i)"
   ]
  },
  {
   "cell_type": "code",
   "execution_count": 242,
   "id": "0bedcdd0",
   "metadata": {},
   "outputs": [
    {
     "data": {
      "text/plain": [
       "32187"
      ]
     },
     "execution_count": 242,
     "metadata": {},
     "output_type": "execute_result"
    }
   ],
   "source": [
    "db[tables[i][0]].count_documents({})"
   ]
  },
  {
   "cell_type": "code",
   "execution_count": 245,
   "id": "c7ca8e76",
   "metadata": {},
   "outputs": [
    {
     "name": "stdout",
     "output_type": "stream",
     "text": [
      "Migrate entries larger or equal to 30001 and smaller than 40001\n",
      "Migrating table Sales_OrderLines\n",
      "Rows in this table: 76000\n"
     ]
    },
    {
     "data": {
      "application/vnd.jupyter.widget-view+json": {
       "model_id": "6ec109ae395d42cc971560f5411db75b",
       "version_major": 2,
       "version_minor": 0
      },
      "text/plain": [
       "0it [00:00, ?it/s]"
      ]
     },
     "metadata": {},
     "output_type": "display_data"
    },
    {
     "ename": "OperationalError",
     "evalue": "2013 (HY000): Lost connection to MySQL server during query",
     "output_type": "error",
     "traceback": [
      "\u001b[0;31m---------------------------------------------------------------------------\u001b[0m",
      "\u001b[0;31mMySQLInterfaceError\u001b[0m                       Traceback (most recent call last)",
      "\u001b[0;32m~/anaconda3/envs/bdmm_pip/lib/python3.8/site-packages/mysql/connector/connection_cext.py\u001b[0m in \u001b[0;36mget_rows\u001b[0;34m(self, count, binary, columns, raw, prep_stmt)\u001b[0m\n\u001b[1;32m    337\u001b[0m             \u001b[0mrow\u001b[0m \u001b[0;34m=\u001b[0m \u001b[0mprep_stmt\u001b[0m\u001b[0;34m.\u001b[0m\u001b[0mfetch_row\u001b[0m\u001b[0;34m(\u001b[0m\u001b[0;34m)\u001b[0m \u001b[0;32mif\u001b[0m \u001b[0mprep_stmt\u001b[0m\u001b[0;31m \u001b[0m\u001b[0;31m\\\u001b[0m\u001b[0;34m\u001b[0m\u001b[0;34m\u001b[0m\u001b[0m\n\u001b[0;32m--> 338\u001b[0;31m                 \u001b[0;32melse\u001b[0m \u001b[0mself\u001b[0m\u001b[0;34m.\u001b[0m\u001b[0m_cmysql\u001b[0m\u001b[0;34m.\u001b[0m\u001b[0mfetch_row\u001b[0m\u001b[0;34m(\u001b[0m\u001b[0;34m)\u001b[0m\u001b[0;34m\u001b[0m\u001b[0;34m\u001b[0m\u001b[0m\n\u001b[0m\u001b[1;32m    339\u001b[0m             \u001b[0;32mwhile\u001b[0m \u001b[0mrow\u001b[0m\u001b[0;34m:\u001b[0m\u001b[0;34m\u001b[0m\u001b[0;34m\u001b[0m\u001b[0m\n",
      "\u001b[0;31mMySQLInterfaceError\u001b[0m: Lost connection to MySQL server during query",
      "\nDuring handling of the above exception, another exception occurred:\n",
      "\u001b[0;31mOperationalError\u001b[0m                          Traceback (most recent call last)",
      "\u001b[0;32m<ipython-input-245-a7f71c642115>\u001b[0m in \u001b[0;36m<module>\u001b[0;34m\u001b[0m\n\u001b[0;32m----> 1\u001b[0;31m \u001b[0mmigrate_table_10k_entries\u001b[0m\u001b[0;34m(\u001b[0m\u001b[0mi\u001b[0m\u001b[0;34m,\u001b[0m \u001b[0;36m3\u001b[0m\u001b[0;34m)\u001b[0m\u001b[0;34m\u001b[0m\u001b[0;34m\u001b[0m\u001b[0m\n\u001b[0m",
      "\u001b[0;32m<ipython-input-208-cd9583b6e511>\u001b[0m in \u001b[0;36mmigrate_table_10k_entries\u001b[0;34m(table_index, ten_k_step)\u001b[0m\n\u001b[1;32m     44\u001b[0m \u001b[0;34m\u001b[0m\u001b[0m\n\u001b[1;32m     45\u001b[0m     \u001b[0;31m#cycle through each mySQL row\u001b[0m\u001b[0;34m\u001b[0m\u001b[0;34m\u001b[0m\u001b[0;34m\u001b[0m\u001b[0m\n\u001b[0;32m---> 46\u001b[0;31m     \u001b[0;32mfor\u001b[0m \u001b[0;34m(\u001b[0m \u001b[0mrow\u001b[0m \u001b[0;34m)\u001b[0m \u001b[0;32min\u001b[0m \u001b[0mtqdm\u001b[0m\u001b[0;34m(\u001b[0m\u001b[0mmycursor\u001b[0m\u001b[0;34m)\u001b[0m\u001b[0;34m:\u001b[0m\u001b[0;34m\u001b[0m\u001b[0;34m\u001b[0m\u001b[0m\n\u001b[0m\u001b[1;32m     47\u001b[0m         \u001b[0mcid\u001b[0m        \u001b[0;34m+=\u001b[0m \u001b[0;36m1\u001b[0m   \u001b[0;31m#increment id\u001b[0m\u001b[0;34m\u001b[0m\u001b[0;34m\u001b[0m\u001b[0m\n\u001b[1;32m     48\u001b[0m         \u001b[0mcus\u001b[0m\u001b[0;34m[\u001b[0m\u001b[0;34m'_id'\u001b[0m\u001b[0;34m]\u001b[0m \u001b[0;34m=\u001b[0m \u001b[0mcid\u001b[0m\u001b[0;34m\u001b[0m\u001b[0;34m\u001b[0m\u001b[0m\n",
      "\u001b[0;32m~/anaconda3/envs/bdmm_pip/lib/python3.8/site-packages/tqdm/notebook.py\u001b[0m in \u001b[0;36m__iter__\u001b[0;34m(self)\u001b[0m\n\u001b[1;32m    252\u001b[0m     \u001b[0;32mdef\u001b[0m \u001b[0m__iter__\u001b[0m\u001b[0;34m(\u001b[0m\u001b[0mself\u001b[0m\u001b[0;34m)\u001b[0m\u001b[0;34m:\u001b[0m\u001b[0;34m\u001b[0m\u001b[0;34m\u001b[0m\u001b[0m\n\u001b[1;32m    253\u001b[0m         \u001b[0;32mtry\u001b[0m\u001b[0;34m:\u001b[0m\u001b[0;34m\u001b[0m\u001b[0;34m\u001b[0m\u001b[0m\n\u001b[0;32m--> 254\u001b[0;31m             \u001b[0;32mfor\u001b[0m \u001b[0mobj\u001b[0m \u001b[0;32min\u001b[0m \u001b[0msuper\u001b[0m\u001b[0;34m(\u001b[0m\u001b[0mtqdm_notebook\u001b[0m\u001b[0;34m,\u001b[0m \u001b[0mself\u001b[0m\u001b[0;34m)\u001b[0m\u001b[0;34m.\u001b[0m\u001b[0m__iter__\u001b[0m\u001b[0;34m(\u001b[0m\u001b[0;34m)\u001b[0m\u001b[0;34m:\u001b[0m\u001b[0;34m\u001b[0m\u001b[0;34m\u001b[0m\u001b[0m\n\u001b[0m\u001b[1;32m    255\u001b[0m                 \u001b[0;31m# return super(tqdm...) will not catch exception\u001b[0m\u001b[0;34m\u001b[0m\u001b[0;34m\u001b[0m\u001b[0;34m\u001b[0m\u001b[0m\n\u001b[1;32m    256\u001b[0m                 \u001b[0;32myield\u001b[0m \u001b[0mobj\u001b[0m\u001b[0;34m\u001b[0m\u001b[0;34m\u001b[0m\u001b[0m\n",
      "\u001b[0;32m~/anaconda3/envs/bdmm_pip/lib/python3.8/site-packages/tqdm/std.py\u001b[0m in \u001b[0;36m__iter__\u001b[0;34m(self)\u001b[0m\n\u001b[1;32m   1176\u001b[0m \u001b[0;34m\u001b[0m\u001b[0m\n\u001b[1;32m   1177\u001b[0m         \u001b[0;32mtry\u001b[0m\u001b[0;34m:\u001b[0m\u001b[0;34m\u001b[0m\u001b[0;34m\u001b[0m\u001b[0m\n\u001b[0;32m-> 1178\u001b[0;31m             \u001b[0;32mfor\u001b[0m \u001b[0mobj\u001b[0m \u001b[0;32min\u001b[0m \u001b[0miterable\u001b[0m\u001b[0;34m:\u001b[0m\u001b[0;34m\u001b[0m\u001b[0;34m\u001b[0m\u001b[0m\n\u001b[0m\u001b[1;32m   1179\u001b[0m                 \u001b[0;32myield\u001b[0m \u001b[0mobj\u001b[0m\u001b[0;34m\u001b[0m\u001b[0;34m\u001b[0m\u001b[0m\n\u001b[1;32m   1180\u001b[0m                 \u001b[0;31m# Update and possibly print the progressbar.\u001b[0m\u001b[0;34m\u001b[0m\u001b[0;34m\u001b[0m\u001b[0;34m\u001b[0m\u001b[0m\n",
      "\u001b[0;32m~/anaconda3/envs/bdmm_pip/lib/python3.8/site-packages/mysql/connector/cursor_cext.py\u001b[0m in \u001b[0;36mfetchone\u001b[0;34m(self)\u001b[0m\n\u001b[1;32m    562\u001b[0m \u001b[0;34m\u001b[0m\u001b[0m\n\u001b[1;32m    563\u001b[0m         \u001b[0;32mif\u001b[0m \u001b[0mrow\u001b[0m \u001b[0;32mand\u001b[0m \u001b[0mrow\u001b[0m\u001b[0;34m[\u001b[0m\u001b[0;36m0\u001b[0m\u001b[0;34m]\u001b[0m\u001b[0;34m:\u001b[0m\u001b[0;34m\u001b[0m\u001b[0;34m\u001b[0m\u001b[0m\n\u001b[0;32m--> 564\u001b[0;31m             \u001b[0mself\u001b[0m\u001b[0;34m.\u001b[0m\u001b[0m_nextrow\u001b[0m \u001b[0;34m=\u001b[0m \u001b[0mself\u001b[0m\u001b[0;34m.\u001b[0m\u001b[0m_cnx\u001b[0m\u001b[0;34m.\u001b[0m\u001b[0mget_row\u001b[0m\u001b[0;34m(\u001b[0m\u001b[0;34m)\u001b[0m\u001b[0;34m\u001b[0m\u001b[0;34m\u001b[0m\u001b[0m\n\u001b[0m\u001b[1;32m    565\u001b[0m             \u001b[0;32mif\u001b[0m \u001b[0;32mnot\u001b[0m \u001b[0mself\u001b[0m\u001b[0;34m.\u001b[0m\u001b[0m_nextrow\u001b[0m\u001b[0;34m[\u001b[0m\u001b[0;36m0\u001b[0m\u001b[0;34m]\u001b[0m \u001b[0;32mand\u001b[0m \u001b[0;32mnot\u001b[0m \u001b[0mself\u001b[0m\u001b[0;34m.\u001b[0m\u001b[0m_cnx\u001b[0m\u001b[0;34m.\u001b[0m\u001b[0mmore_results\u001b[0m\u001b[0;34m:\u001b[0m\u001b[0;34m\u001b[0m\u001b[0;34m\u001b[0m\u001b[0m\n\u001b[1;32m    566\u001b[0m                 \u001b[0mself\u001b[0m\u001b[0;34m.\u001b[0m\u001b[0m_cnx\u001b[0m\u001b[0;34m.\u001b[0m\u001b[0mfree_result\u001b[0m\u001b[0;34m(\u001b[0m\u001b[0;34m)\u001b[0m\u001b[0;34m\u001b[0m\u001b[0;34m\u001b[0m\u001b[0m\n",
      "\u001b[0;32m~/anaconda3/envs/bdmm_pip/lib/python3.8/site-packages/mysql/connector/connection_cext.py\u001b[0m in \u001b[0;36mget_row\u001b[0;34m(self, binary, columns, raw, prep_stmt)\u001b[0m\n\u001b[1;32m    374\u001b[0m         \u001b[0;34m\"\"\"Get the next rows returned by the MySQL server\"\"\"\u001b[0m\u001b[0;34m\u001b[0m\u001b[0;34m\u001b[0m\u001b[0m\n\u001b[1;32m    375\u001b[0m         \u001b[0;32mtry\u001b[0m\u001b[0;34m:\u001b[0m\u001b[0;34m\u001b[0m\u001b[0;34m\u001b[0m\u001b[0m\n\u001b[0;32m--> 376\u001b[0;31m             rows, eof = self.get_rows(count=1, binary=binary, columns=columns,\n\u001b[0m\u001b[1;32m    377\u001b[0m                                       raw=raw, prep_stmt=prep_stmt)\n\u001b[1;32m    378\u001b[0m             \u001b[0;32mif\u001b[0m \u001b[0mrows\u001b[0m\u001b[0;34m:\u001b[0m\u001b[0;34m\u001b[0m\u001b[0;34m\u001b[0m\u001b[0m\n",
      "\u001b[0;32m~/anaconda3/envs/bdmm_pip/lib/python3.8/site-packages/mysql/connector/connection_cext.py\u001b[0m in \u001b[0;36mget_rows\u001b[0;34m(self, count, binary, columns, raw, prep_stmt)\u001b[0m\n\u001b[1;32m    366\u001b[0m             \u001b[0;32melse\u001b[0m\u001b[0;34m:\u001b[0m\u001b[0;34m\u001b[0m\u001b[0;34m\u001b[0m\u001b[0m\n\u001b[1;32m    367\u001b[0m                 \u001b[0mself\u001b[0m\u001b[0;34m.\u001b[0m\u001b[0mfree_result\u001b[0m\u001b[0;34m(\u001b[0m\u001b[0;34m)\u001b[0m\u001b[0;34m\u001b[0m\u001b[0;34m\u001b[0m\u001b[0m\n\u001b[0;32m--> 368\u001b[0;31m                 raise errors.get_mysql_exception(msg=exc.msg, errno=exc.errno,\n\u001b[0m\u001b[1;32m    369\u001b[0m                                                  sqlstate=exc.sqlstate)\n\u001b[1;32m    370\u001b[0m \u001b[0;34m\u001b[0m\u001b[0m\n",
      "\u001b[0;31mOperationalError\u001b[0m: 2013 (HY000): Lost connection to MySQL server during query"
     ]
    }
   ],
   "source": [
    "migrate_table_10k_entries(i, 3)"
   ]
  },
  {
   "cell_type": "code",
   "execution_count": 249,
   "id": "f90717f7",
   "metadata": {},
   "outputs": [
    {
     "data": {
      "text/plain": [
       "40000"
      ]
     },
     "execution_count": 249,
     "metadata": {},
     "output_type": "execute_result"
    }
   ],
   "source": [
    "db[tables[i][0]].count_documents({})"
   ]
  },
  {
   "cell_type": "code",
   "execution_count": 250,
   "id": "bcdd69b2",
   "metadata": {},
   "outputs": [
    {
     "name": "stdout",
     "output_type": "stream",
     "text": [
      "Migrate entries larger or equal to 40001 and smaller than 50001\n",
      "Migrating table Sales_OrderLines\n",
      "Rows in this table: 76000\n"
     ]
    },
    {
     "data": {
      "application/vnd.jupyter.widget-view+json": {
       "model_id": "b8cb3480132d45fc94dbfb5702ec343b",
       "version_major": 2,
       "version_minor": 0
      },
      "text/plain": [
       "0it [00:00, ?it/s]"
      ]
     },
     "metadata": {},
     "output_type": "display_data"
    },
    {
     "ename": "OperationalError",
     "evalue": "2013 (HY000): Lost connection to MySQL server during query",
     "output_type": "error",
     "traceback": [
      "\u001b[0;31m---------------------------------------------------------------------------\u001b[0m",
      "\u001b[0;31mMySQLInterfaceError\u001b[0m                       Traceback (most recent call last)",
      "\u001b[0;32m~/anaconda3/envs/bdmm_pip/lib/python3.8/site-packages/mysql/connector/connection_cext.py\u001b[0m in \u001b[0;36mget_rows\u001b[0;34m(self, count, binary, columns, raw, prep_stmt)\u001b[0m\n\u001b[1;32m    337\u001b[0m             \u001b[0mrow\u001b[0m \u001b[0;34m=\u001b[0m \u001b[0mprep_stmt\u001b[0m\u001b[0;34m.\u001b[0m\u001b[0mfetch_row\u001b[0m\u001b[0;34m(\u001b[0m\u001b[0;34m)\u001b[0m \u001b[0;32mif\u001b[0m \u001b[0mprep_stmt\u001b[0m\u001b[0;31m \u001b[0m\u001b[0;31m\\\u001b[0m\u001b[0;34m\u001b[0m\u001b[0;34m\u001b[0m\u001b[0m\n\u001b[0;32m--> 338\u001b[0;31m                 \u001b[0;32melse\u001b[0m \u001b[0mself\u001b[0m\u001b[0;34m.\u001b[0m\u001b[0m_cmysql\u001b[0m\u001b[0;34m.\u001b[0m\u001b[0mfetch_row\u001b[0m\u001b[0;34m(\u001b[0m\u001b[0;34m)\u001b[0m\u001b[0;34m\u001b[0m\u001b[0;34m\u001b[0m\u001b[0m\n\u001b[0m\u001b[1;32m    339\u001b[0m             \u001b[0;32mwhile\u001b[0m \u001b[0mrow\u001b[0m\u001b[0;34m:\u001b[0m\u001b[0;34m\u001b[0m\u001b[0;34m\u001b[0m\u001b[0m\n",
      "\u001b[0;31mMySQLInterfaceError\u001b[0m: Lost connection to MySQL server during query",
      "\nDuring handling of the above exception, another exception occurred:\n",
      "\u001b[0;31mOperationalError\u001b[0m                          Traceback (most recent call last)",
      "\u001b[0;32m<ipython-input-250-8b35d12665a5>\u001b[0m in \u001b[0;36m<module>\u001b[0;34m\u001b[0m\n\u001b[0;32m----> 1\u001b[0;31m \u001b[0mmigrate_table_10k_entries\u001b[0m\u001b[0;34m(\u001b[0m\u001b[0mi\u001b[0m\u001b[0;34m,\u001b[0m \u001b[0;36m4\u001b[0m\u001b[0;34m)\u001b[0m\u001b[0;34m\u001b[0m\u001b[0;34m\u001b[0m\u001b[0m\n\u001b[0m",
      "\u001b[0;32m<ipython-input-208-cd9583b6e511>\u001b[0m in \u001b[0;36mmigrate_table_10k_entries\u001b[0;34m(table_index, ten_k_step)\u001b[0m\n\u001b[1;32m     44\u001b[0m \u001b[0;34m\u001b[0m\u001b[0m\n\u001b[1;32m     45\u001b[0m     \u001b[0;31m#cycle through each mySQL row\u001b[0m\u001b[0;34m\u001b[0m\u001b[0;34m\u001b[0m\u001b[0;34m\u001b[0m\u001b[0m\n\u001b[0;32m---> 46\u001b[0;31m     \u001b[0;32mfor\u001b[0m \u001b[0;34m(\u001b[0m \u001b[0mrow\u001b[0m \u001b[0;34m)\u001b[0m \u001b[0;32min\u001b[0m \u001b[0mtqdm\u001b[0m\u001b[0;34m(\u001b[0m\u001b[0mmycursor\u001b[0m\u001b[0;34m)\u001b[0m\u001b[0;34m:\u001b[0m\u001b[0;34m\u001b[0m\u001b[0;34m\u001b[0m\u001b[0m\n\u001b[0m\u001b[1;32m     47\u001b[0m         \u001b[0mcid\u001b[0m        \u001b[0;34m+=\u001b[0m \u001b[0;36m1\u001b[0m   \u001b[0;31m#increment id\u001b[0m\u001b[0;34m\u001b[0m\u001b[0;34m\u001b[0m\u001b[0m\n\u001b[1;32m     48\u001b[0m         \u001b[0mcus\u001b[0m\u001b[0;34m[\u001b[0m\u001b[0;34m'_id'\u001b[0m\u001b[0;34m]\u001b[0m \u001b[0;34m=\u001b[0m \u001b[0mcid\u001b[0m\u001b[0;34m\u001b[0m\u001b[0;34m\u001b[0m\u001b[0m\n",
      "\u001b[0;32m~/anaconda3/envs/bdmm_pip/lib/python3.8/site-packages/tqdm/notebook.py\u001b[0m in \u001b[0;36m__iter__\u001b[0;34m(self)\u001b[0m\n\u001b[1;32m    252\u001b[0m     \u001b[0;32mdef\u001b[0m \u001b[0m__iter__\u001b[0m\u001b[0;34m(\u001b[0m\u001b[0mself\u001b[0m\u001b[0;34m)\u001b[0m\u001b[0;34m:\u001b[0m\u001b[0;34m\u001b[0m\u001b[0;34m\u001b[0m\u001b[0m\n\u001b[1;32m    253\u001b[0m         \u001b[0;32mtry\u001b[0m\u001b[0;34m:\u001b[0m\u001b[0;34m\u001b[0m\u001b[0;34m\u001b[0m\u001b[0m\n\u001b[0;32m--> 254\u001b[0;31m             \u001b[0;32mfor\u001b[0m \u001b[0mobj\u001b[0m \u001b[0;32min\u001b[0m \u001b[0msuper\u001b[0m\u001b[0;34m(\u001b[0m\u001b[0mtqdm_notebook\u001b[0m\u001b[0;34m,\u001b[0m \u001b[0mself\u001b[0m\u001b[0;34m)\u001b[0m\u001b[0;34m.\u001b[0m\u001b[0m__iter__\u001b[0m\u001b[0;34m(\u001b[0m\u001b[0;34m)\u001b[0m\u001b[0;34m:\u001b[0m\u001b[0;34m\u001b[0m\u001b[0;34m\u001b[0m\u001b[0m\n\u001b[0m\u001b[1;32m    255\u001b[0m                 \u001b[0;31m# return super(tqdm...) will not catch exception\u001b[0m\u001b[0;34m\u001b[0m\u001b[0;34m\u001b[0m\u001b[0;34m\u001b[0m\u001b[0m\n\u001b[1;32m    256\u001b[0m                 \u001b[0;32myield\u001b[0m \u001b[0mobj\u001b[0m\u001b[0;34m\u001b[0m\u001b[0;34m\u001b[0m\u001b[0m\n",
      "\u001b[0;32m~/anaconda3/envs/bdmm_pip/lib/python3.8/site-packages/tqdm/std.py\u001b[0m in \u001b[0;36m__iter__\u001b[0;34m(self)\u001b[0m\n\u001b[1;32m   1176\u001b[0m \u001b[0;34m\u001b[0m\u001b[0m\n\u001b[1;32m   1177\u001b[0m         \u001b[0;32mtry\u001b[0m\u001b[0;34m:\u001b[0m\u001b[0;34m\u001b[0m\u001b[0;34m\u001b[0m\u001b[0m\n\u001b[0;32m-> 1178\u001b[0;31m             \u001b[0;32mfor\u001b[0m \u001b[0mobj\u001b[0m \u001b[0;32min\u001b[0m \u001b[0miterable\u001b[0m\u001b[0;34m:\u001b[0m\u001b[0;34m\u001b[0m\u001b[0;34m\u001b[0m\u001b[0m\n\u001b[0m\u001b[1;32m   1179\u001b[0m                 \u001b[0;32myield\u001b[0m \u001b[0mobj\u001b[0m\u001b[0;34m\u001b[0m\u001b[0;34m\u001b[0m\u001b[0m\n\u001b[1;32m   1180\u001b[0m                 \u001b[0;31m# Update and possibly print the progressbar.\u001b[0m\u001b[0;34m\u001b[0m\u001b[0;34m\u001b[0m\u001b[0;34m\u001b[0m\u001b[0m\n",
      "\u001b[0;32m~/anaconda3/envs/bdmm_pip/lib/python3.8/site-packages/mysql/connector/cursor_cext.py\u001b[0m in \u001b[0;36mfetchone\u001b[0;34m(self)\u001b[0m\n\u001b[1;32m    562\u001b[0m \u001b[0;34m\u001b[0m\u001b[0m\n\u001b[1;32m    563\u001b[0m         \u001b[0;32mif\u001b[0m \u001b[0mrow\u001b[0m \u001b[0;32mand\u001b[0m \u001b[0mrow\u001b[0m\u001b[0;34m[\u001b[0m\u001b[0;36m0\u001b[0m\u001b[0;34m]\u001b[0m\u001b[0;34m:\u001b[0m\u001b[0;34m\u001b[0m\u001b[0;34m\u001b[0m\u001b[0m\n\u001b[0;32m--> 564\u001b[0;31m             \u001b[0mself\u001b[0m\u001b[0;34m.\u001b[0m\u001b[0m_nextrow\u001b[0m \u001b[0;34m=\u001b[0m \u001b[0mself\u001b[0m\u001b[0;34m.\u001b[0m\u001b[0m_cnx\u001b[0m\u001b[0;34m.\u001b[0m\u001b[0mget_row\u001b[0m\u001b[0;34m(\u001b[0m\u001b[0;34m)\u001b[0m\u001b[0;34m\u001b[0m\u001b[0;34m\u001b[0m\u001b[0m\n\u001b[0m\u001b[1;32m    565\u001b[0m             \u001b[0;32mif\u001b[0m \u001b[0;32mnot\u001b[0m \u001b[0mself\u001b[0m\u001b[0;34m.\u001b[0m\u001b[0m_nextrow\u001b[0m\u001b[0;34m[\u001b[0m\u001b[0;36m0\u001b[0m\u001b[0;34m]\u001b[0m \u001b[0;32mand\u001b[0m \u001b[0;32mnot\u001b[0m \u001b[0mself\u001b[0m\u001b[0;34m.\u001b[0m\u001b[0m_cnx\u001b[0m\u001b[0;34m.\u001b[0m\u001b[0mmore_results\u001b[0m\u001b[0;34m:\u001b[0m\u001b[0;34m\u001b[0m\u001b[0;34m\u001b[0m\u001b[0m\n\u001b[1;32m    566\u001b[0m                 \u001b[0mself\u001b[0m\u001b[0;34m.\u001b[0m\u001b[0m_cnx\u001b[0m\u001b[0;34m.\u001b[0m\u001b[0mfree_result\u001b[0m\u001b[0;34m(\u001b[0m\u001b[0;34m)\u001b[0m\u001b[0;34m\u001b[0m\u001b[0;34m\u001b[0m\u001b[0m\n",
      "\u001b[0;32m~/anaconda3/envs/bdmm_pip/lib/python3.8/site-packages/mysql/connector/connection_cext.py\u001b[0m in \u001b[0;36mget_row\u001b[0;34m(self, binary, columns, raw, prep_stmt)\u001b[0m\n\u001b[1;32m    374\u001b[0m         \u001b[0;34m\"\"\"Get the next rows returned by the MySQL server\"\"\"\u001b[0m\u001b[0;34m\u001b[0m\u001b[0;34m\u001b[0m\u001b[0m\n\u001b[1;32m    375\u001b[0m         \u001b[0;32mtry\u001b[0m\u001b[0;34m:\u001b[0m\u001b[0;34m\u001b[0m\u001b[0;34m\u001b[0m\u001b[0m\n\u001b[0;32m--> 376\u001b[0;31m             rows, eof = self.get_rows(count=1, binary=binary, columns=columns,\n\u001b[0m\u001b[1;32m    377\u001b[0m                                       raw=raw, prep_stmt=prep_stmt)\n\u001b[1;32m    378\u001b[0m             \u001b[0;32mif\u001b[0m \u001b[0mrows\u001b[0m\u001b[0;34m:\u001b[0m\u001b[0;34m\u001b[0m\u001b[0;34m\u001b[0m\u001b[0m\n",
      "\u001b[0;32m~/anaconda3/envs/bdmm_pip/lib/python3.8/site-packages/mysql/connector/connection_cext.py\u001b[0m in \u001b[0;36mget_rows\u001b[0;34m(self, count, binary, columns, raw, prep_stmt)\u001b[0m\n\u001b[1;32m    366\u001b[0m             \u001b[0;32melse\u001b[0m\u001b[0;34m:\u001b[0m\u001b[0;34m\u001b[0m\u001b[0;34m\u001b[0m\u001b[0m\n\u001b[1;32m    367\u001b[0m                 \u001b[0mself\u001b[0m\u001b[0;34m.\u001b[0m\u001b[0mfree_result\u001b[0m\u001b[0;34m(\u001b[0m\u001b[0;34m)\u001b[0m\u001b[0;34m\u001b[0m\u001b[0;34m\u001b[0m\u001b[0m\n\u001b[0;32m--> 368\u001b[0;31m                 raise errors.get_mysql_exception(msg=exc.msg, errno=exc.errno,\n\u001b[0m\u001b[1;32m    369\u001b[0m                                                  sqlstate=exc.sqlstate)\n\u001b[1;32m    370\u001b[0m \u001b[0;34m\u001b[0m\u001b[0m\n",
      "\u001b[0;31mOperationalError\u001b[0m: 2013 (HY000): Lost connection to MySQL server during query"
     ]
    }
   ],
   "source": [
    "migrate_table_10k_entries(i, 4)"
   ]
  },
  {
   "cell_type": "code",
   "execution_count": 254,
   "id": "4622c3ae",
   "metadata": {},
   "outputs": [
    {
     "data": {
      "text/plain": [
       "50000"
      ]
     },
     "execution_count": 254,
     "metadata": {},
     "output_type": "execute_result"
    }
   ],
   "source": [
    "db[tables[i][0]].count_documents({})"
   ]
  },
  {
   "cell_type": "code",
   "execution_count": 255,
   "id": "2df5f496",
   "metadata": {},
   "outputs": [
    {
     "name": "stdout",
     "output_type": "stream",
     "text": [
      "Migrate entries larger or equal to 50001 and smaller than 60001\n",
      "Migrating table Sales_OrderLines\n",
      "Rows in this table: 76000\n"
     ]
    },
    {
     "data": {
      "application/vnd.jupyter.widget-view+json": {
       "model_id": "074d6f1e94304bf0a1255d11a2dc6308",
       "version_major": 2,
       "version_minor": 0
      },
      "text/plain": [
       "0it [00:00, ?it/s]"
      ]
     },
     "metadata": {},
     "output_type": "display_data"
    }
   ],
   "source": [
    "migrate_table_10k_entries(i, 5)"
   ]
  },
  {
   "cell_type": "code",
   "execution_count": 256,
   "id": "a3bb3883",
   "metadata": {},
   "outputs": [
    {
     "data": {
      "text/plain": [
       "60000"
      ]
     },
     "execution_count": 256,
     "metadata": {},
     "output_type": "execute_result"
    }
   ],
   "source": [
    "db[tables[i][0]].count_documents({})"
   ]
  },
  {
   "cell_type": "code",
   "execution_count": 257,
   "id": "c3e700be",
   "metadata": {},
   "outputs": [
    {
     "name": "stdout",
     "output_type": "stream",
     "text": [
      "Migrate entries larger or equal to 60001 and smaller than 70001\n",
      "Migrating table Sales_OrderLines\n",
      "Rows in this table: 76000\n"
     ]
    },
    {
     "data": {
      "application/vnd.jupyter.widget-view+json": {
       "model_id": "22308d58846f4a958a1cab99a4e111b7",
       "version_major": 2,
       "version_minor": 0
      },
      "text/plain": [
       "0it [00:00, ?it/s]"
      ]
     },
     "metadata": {},
     "output_type": "display_data"
    }
   ],
   "source": [
    "migrate_table_10k_entries(i, 6)"
   ]
  },
  {
   "cell_type": "code",
   "execution_count": 258,
   "id": "ea210e24",
   "metadata": {},
   "outputs": [
    {
     "data": {
      "text/plain": [
       "70000"
      ]
     },
     "execution_count": 258,
     "metadata": {},
     "output_type": "execute_result"
    }
   ],
   "source": [
    "db[tables[i][0]].count_documents({})"
   ]
  },
  {
   "cell_type": "code",
   "execution_count": 259,
   "id": "1f9aa7cf",
   "metadata": {},
   "outputs": [
    {
     "name": "stdout",
     "output_type": "stream",
     "text": [
      "Migrate entries larger or equal to 70001 and smaller than 80001\n",
      "Migrating table Sales_OrderLines\n",
      "Rows in this table: 76000\n"
     ]
    },
    {
     "data": {
      "application/vnd.jupyter.widget-view+json": {
       "model_id": "02b0d79d3f544dfdbaae60c07f598f53",
       "version_major": 2,
       "version_minor": 0
      },
      "text/plain": [
       "0it [00:00, ?it/s]"
      ]
     },
     "metadata": {},
     "output_type": "display_data"
    }
   ],
   "source": [
    "migrate_table_10k_entries(i, 7)"
   ]
  },
  {
   "cell_type": "code",
   "execution_count": 260,
   "id": "910c910f",
   "metadata": {},
   "outputs": [
    {
     "data": {
      "text/plain": [
       "76000"
      ]
     },
     "execution_count": 260,
     "metadata": {},
     "output_type": "execute_result"
    }
   ],
   "source": [
    "db[tables[i][0]].count_documents({})"
   ]
  },
  {
   "cell_type": "code",
   "execution_count": 264,
   "id": "8ff08122",
   "metadata": {},
   "outputs": [
    {
     "name": "stdout",
     "output_type": "stream",
     "text": [
      "Migrating table Sales_Orders\n",
      "Rows in this table: 73595\n"
     ]
    },
    {
     "data": {
      "application/vnd.jupyter.widget-view+json": {
       "model_id": "7dc1c55160e640a69687f52110acf1ca",
       "version_major": 2,
       "version_minor": 0
      },
      "text/plain": [
       "0it [00:00, ?it/s]"
      ]
     },
     "metadata": {},
     "output_type": "display_data"
    },
    {
     "ename": "OperationalError",
     "evalue": "2013 (HY000): Lost connection to MySQL server during query",
     "output_type": "error",
     "traceback": [
      "\u001b[0;31m---------------------------------------------------------------------------\u001b[0m",
      "\u001b[0;31mMySQLInterfaceError\u001b[0m                       Traceback (most recent call last)",
      "\u001b[0;32m~/anaconda3/envs/bdmm_pip/lib/python3.8/site-packages/mysql/connector/connection_cext.py\u001b[0m in \u001b[0;36mget_rows\u001b[0;34m(self, count, binary, columns, raw, prep_stmt)\u001b[0m\n\u001b[1;32m    337\u001b[0m             \u001b[0mrow\u001b[0m \u001b[0;34m=\u001b[0m \u001b[0mprep_stmt\u001b[0m\u001b[0;34m.\u001b[0m\u001b[0mfetch_row\u001b[0m\u001b[0;34m(\u001b[0m\u001b[0;34m)\u001b[0m \u001b[0;32mif\u001b[0m \u001b[0mprep_stmt\u001b[0m\u001b[0;31m \u001b[0m\u001b[0;31m\\\u001b[0m\u001b[0;34m\u001b[0m\u001b[0;34m\u001b[0m\u001b[0m\n\u001b[0;32m--> 338\u001b[0;31m                 \u001b[0;32melse\u001b[0m \u001b[0mself\u001b[0m\u001b[0;34m.\u001b[0m\u001b[0m_cmysql\u001b[0m\u001b[0;34m.\u001b[0m\u001b[0mfetch_row\u001b[0m\u001b[0;34m(\u001b[0m\u001b[0;34m)\u001b[0m\u001b[0;34m\u001b[0m\u001b[0;34m\u001b[0m\u001b[0m\n\u001b[0m\u001b[1;32m    339\u001b[0m             \u001b[0;32mwhile\u001b[0m \u001b[0mrow\u001b[0m\u001b[0;34m:\u001b[0m\u001b[0;34m\u001b[0m\u001b[0;34m\u001b[0m\u001b[0m\n",
      "\u001b[0;31mMySQLInterfaceError\u001b[0m: Lost connection to MySQL server during query",
      "\nDuring handling of the above exception, another exception occurred:\n",
      "\u001b[0;31mOperationalError\u001b[0m                          Traceback (most recent call last)",
      "\u001b[0;32m<ipython-input-264-4579d636ed55>\u001b[0m in \u001b[0;36m<module>\u001b[0;34m\u001b[0m\n\u001b[1;32m      1\u001b[0m \u001b[0mdb\u001b[0m\u001b[0;34m[\u001b[0m\u001b[0mtables\u001b[0m\u001b[0;34m[\u001b[0m\u001b[0mi\u001b[0m\u001b[0;34m]\u001b[0m\u001b[0;34m[\u001b[0m\u001b[0;36m0\u001b[0m\u001b[0;34m]\u001b[0m\u001b[0;34m]\u001b[0m\u001b[0;34m.\u001b[0m\u001b[0mdrop\u001b[0m\u001b[0;34m(\u001b[0m\u001b[0;34m)\u001b[0m\u001b[0;34m\u001b[0m\u001b[0;34m\u001b[0m\u001b[0m\n\u001b[0;32m----> 2\u001b[0;31m \u001b[0mmigrate_table\u001b[0m\u001b[0;34m(\u001b[0m\u001b[0mi\u001b[0m\u001b[0;34m)\u001b[0m\u001b[0;34m\u001b[0m\u001b[0;34m\u001b[0m\u001b[0m\n\u001b[0m",
      "\u001b[0;32m<ipython-input-207-f62047015847>\u001b[0m in \u001b[0;36mmigrate_table\u001b[0;34m(table_index)\u001b[0m\n\u001b[1;32m     41\u001b[0m \u001b[0;34m\u001b[0m\u001b[0m\n\u001b[1;32m     42\u001b[0m     \u001b[0;31m#cycle through each mySQL row\u001b[0m\u001b[0;34m\u001b[0m\u001b[0;34m\u001b[0m\u001b[0;34m\u001b[0m\u001b[0m\n\u001b[0;32m---> 43\u001b[0;31m     \u001b[0;32mfor\u001b[0m \u001b[0;34m(\u001b[0m \u001b[0mrow\u001b[0m \u001b[0;34m)\u001b[0m \u001b[0;32min\u001b[0m \u001b[0mtqdm\u001b[0m\u001b[0;34m(\u001b[0m\u001b[0mmycursor\u001b[0m\u001b[0;34m)\u001b[0m\u001b[0;34m:\u001b[0m\u001b[0;34m\u001b[0m\u001b[0;34m\u001b[0m\u001b[0m\n\u001b[0m\u001b[1;32m     44\u001b[0m         \u001b[0mcid\u001b[0m        \u001b[0;34m+=\u001b[0m \u001b[0;36m1\u001b[0m   \u001b[0;31m#increment id\u001b[0m\u001b[0;34m\u001b[0m\u001b[0;34m\u001b[0m\u001b[0m\n\u001b[1;32m     45\u001b[0m         \u001b[0mcus\u001b[0m\u001b[0;34m[\u001b[0m\u001b[0;34m'_id'\u001b[0m\u001b[0;34m]\u001b[0m \u001b[0;34m=\u001b[0m \u001b[0mcid\u001b[0m\u001b[0;34m\u001b[0m\u001b[0;34m\u001b[0m\u001b[0m\n",
      "\u001b[0;32m~/anaconda3/envs/bdmm_pip/lib/python3.8/site-packages/tqdm/notebook.py\u001b[0m in \u001b[0;36m__iter__\u001b[0;34m(self)\u001b[0m\n\u001b[1;32m    252\u001b[0m     \u001b[0;32mdef\u001b[0m \u001b[0m__iter__\u001b[0m\u001b[0;34m(\u001b[0m\u001b[0mself\u001b[0m\u001b[0;34m)\u001b[0m\u001b[0;34m:\u001b[0m\u001b[0;34m\u001b[0m\u001b[0;34m\u001b[0m\u001b[0m\n\u001b[1;32m    253\u001b[0m         \u001b[0;32mtry\u001b[0m\u001b[0;34m:\u001b[0m\u001b[0;34m\u001b[0m\u001b[0;34m\u001b[0m\u001b[0m\n\u001b[0;32m--> 254\u001b[0;31m             \u001b[0;32mfor\u001b[0m \u001b[0mobj\u001b[0m \u001b[0;32min\u001b[0m \u001b[0msuper\u001b[0m\u001b[0;34m(\u001b[0m\u001b[0mtqdm_notebook\u001b[0m\u001b[0;34m,\u001b[0m \u001b[0mself\u001b[0m\u001b[0;34m)\u001b[0m\u001b[0;34m.\u001b[0m\u001b[0m__iter__\u001b[0m\u001b[0;34m(\u001b[0m\u001b[0;34m)\u001b[0m\u001b[0;34m:\u001b[0m\u001b[0;34m\u001b[0m\u001b[0;34m\u001b[0m\u001b[0m\n\u001b[0m\u001b[1;32m    255\u001b[0m                 \u001b[0;31m# return super(tqdm...) will not catch exception\u001b[0m\u001b[0;34m\u001b[0m\u001b[0;34m\u001b[0m\u001b[0;34m\u001b[0m\u001b[0m\n\u001b[1;32m    256\u001b[0m                 \u001b[0;32myield\u001b[0m \u001b[0mobj\u001b[0m\u001b[0;34m\u001b[0m\u001b[0;34m\u001b[0m\u001b[0m\n",
      "\u001b[0;32m~/anaconda3/envs/bdmm_pip/lib/python3.8/site-packages/tqdm/std.py\u001b[0m in \u001b[0;36m__iter__\u001b[0;34m(self)\u001b[0m\n\u001b[1;32m   1176\u001b[0m \u001b[0;34m\u001b[0m\u001b[0m\n\u001b[1;32m   1177\u001b[0m         \u001b[0;32mtry\u001b[0m\u001b[0;34m:\u001b[0m\u001b[0;34m\u001b[0m\u001b[0;34m\u001b[0m\u001b[0m\n\u001b[0;32m-> 1178\u001b[0;31m             \u001b[0;32mfor\u001b[0m \u001b[0mobj\u001b[0m \u001b[0;32min\u001b[0m \u001b[0miterable\u001b[0m\u001b[0;34m:\u001b[0m\u001b[0;34m\u001b[0m\u001b[0;34m\u001b[0m\u001b[0m\n\u001b[0m\u001b[1;32m   1179\u001b[0m                 \u001b[0;32myield\u001b[0m \u001b[0mobj\u001b[0m\u001b[0;34m\u001b[0m\u001b[0;34m\u001b[0m\u001b[0m\n\u001b[1;32m   1180\u001b[0m                 \u001b[0;31m# Update and possibly print the progressbar.\u001b[0m\u001b[0;34m\u001b[0m\u001b[0;34m\u001b[0m\u001b[0;34m\u001b[0m\u001b[0m\n",
      "\u001b[0;32m~/anaconda3/envs/bdmm_pip/lib/python3.8/site-packages/mysql/connector/cursor_cext.py\u001b[0m in \u001b[0;36mfetchone\u001b[0;34m(self)\u001b[0m\n\u001b[1;32m    562\u001b[0m \u001b[0;34m\u001b[0m\u001b[0m\n\u001b[1;32m    563\u001b[0m         \u001b[0;32mif\u001b[0m \u001b[0mrow\u001b[0m \u001b[0;32mand\u001b[0m \u001b[0mrow\u001b[0m\u001b[0;34m[\u001b[0m\u001b[0;36m0\u001b[0m\u001b[0;34m]\u001b[0m\u001b[0;34m:\u001b[0m\u001b[0;34m\u001b[0m\u001b[0;34m\u001b[0m\u001b[0m\n\u001b[0;32m--> 564\u001b[0;31m             \u001b[0mself\u001b[0m\u001b[0;34m.\u001b[0m\u001b[0m_nextrow\u001b[0m \u001b[0;34m=\u001b[0m \u001b[0mself\u001b[0m\u001b[0;34m.\u001b[0m\u001b[0m_cnx\u001b[0m\u001b[0;34m.\u001b[0m\u001b[0mget_row\u001b[0m\u001b[0;34m(\u001b[0m\u001b[0;34m)\u001b[0m\u001b[0;34m\u001b[0m\u001b[0;34m\u001b[0m\u001b[0m\n\u001b[0m\u001b[1;32m    565\u001b[0m             \u001b[0;32mif\u001b[0m \u001b[0;32mnot\u001b[0m \u001b[0mself\u001b[0m\u001b[0;34m.\u001b[0m\u001b[0m_nextrow\u001b[0m\u001b[0;34m[\u001b[0m\u001b[0;36m0\u001b[0m\u001b[0;34m]\u001b[0m \u001b[0;32mand\u001b[0m \u001b[0;32mnot\u001b[0m \u001b[0mself\u001b[0m\u001b[0;34m.\u001b[0m\u001b[0m_cnx\u001b[0m\u001b[0;34m.\u001b[0m\u001b[0mmore_results\u001b[0m\u001b[0;34m:\u001b[0m\u001b[0;34m\u001b[0m\u001b[0;34m\u001b[0m\u001b[0m\n\u001b[1;32m    566\u001b[0m                 \u001b[0mself\u001b[0m\u001b[0;34m.\u001b[0m\u001b[0m_cnx\u001b[0m\u001b[0;34m.\u001b[0m\u001b[0mfree_result\u001b[0m\u001b[0;34m(\u001b[0m\u001b[0;34m)\u001b[0m\u001b[0;34m\u001b[0m\u001b[0;34m\u001b[0m\u001b[0m\n",
      "\u001b[0;32m~/anaconda3/envs/bdmm_pip/lib/python3.8/site-packages/mysql/connector/connection_cext.py\u001b[0m in \u001b[0;36mget_row\u001b[0;34m(self, binary, columns, raw, prep_stmt)\u001b[0m\n\u001b[1;32m    374\u001b[0m         \u001b[0;34m\"\"\"Get the next rows returned by the MySQL server\"\"\"\u001b[0m\u001b[0;34m\u001b[0m\u001b[0;34m\u001b[0m\u001b[0m\n\u001b[1;32m    375\u001b[0m         \u001b[0;32mtry\u001b[0m\u001b[0;34m:\u001b[0m\u001b[0;34m\u001b[0m\u001b[0;34m\u001b[0m\u001b[0m\n\u001b[0;32m--> 376\u001b[0;31m             rows, eof = self.get_rows(count=1, binary=binary, columns=columns,\n\u001b[0m\u001b[1;32m    377\u001b[0m                                       raw=raw, prep_stmt=prep_stmt)\n\u001b[1;32m    378\u001b[0m             \u001b[0;32mif\u001b[0m \u001b[0mrows\u001b[0m\u001b[0;34m:\u001b[0m\u001b[0;34m\u001b[0m\u001b[0;34m\u001b[0m\u001b[0m\n",
      "\u001b[0;32m~/anaconda3/envs/bdmm_pip/lib/python3.8/site-packages/mysql/connector/connection_cext.py\u001b[0m in \u001b[0;36mget_rows\u001b[0;34m(self, count, binary, columns, raw, prep_stmt)\u001b[0m\n\u001b[1;32m    366\u001b[0m             \u001b[0;32melse\u001b[0m\u001b[0;34m:\u001b[0m\u001b[0;34m\u001b[0m\u001b[0;34m\u001b[0m\u001b[0m\n\u001b[1;32m    367\u001b[0m                 \u001b[0mself\u001b[0m\u001b[0;34m.\u001b[0m\u001b[0mfree_result\u001b[0m\u001b[0;34m(\u001b[0m\u001b[0;34m)\u001b[0m\u001b[0;34m\u001b[0m\u001b[0;34m\u001b[0m\u001b[0m\n\u001b[0;32m--> 368\u001b[0;31m                 raise errors.get_mysql_exception(msg=exc.msg, errno=exc.errno,\n\u001b[0m\u001b[1;32m    369\u001b[0m                                                  sqlstate=exc.sqlstate)\n\u001b[1;32m    370\u001b[0m \u001b[0;34m\u001b[0m\u001b[0m\n",
      "\u001b[0;31mOperationalError\u001b[0m: 2013 (HY000): Lost connection to MySQL server during query"
     ]
    }
   ],
   "source": [
    "db[tables[i][0]].drop()\n",
    "migrate_table(i)"
   ]
  },
  {
   "cell_type": "code",
   "execution_count": 268,
   "id": "e38220e1",
   "metadata": {},
   "outputs": [
    {
     "data": {
      "text/plain": [
       "40017"
      ]
     },
     "execution_count": 268,
     "metadata": {},
     "output_type": "execute_result"
    }
   ],
   "source": [
    "db[tables[i][0]].count_documents({})"
   ]
  },
  {
   "cell_type": "code",
   "execution_count": 269,
   "id": "cc337fd0",
   "metadata": {},
   "outputs": [
    {
     "name": "stdout",
     "output_type": "stream",
     "text": [
      "Migrate entries larger or equal to 40001 and smaller than 50001\n",
      "Migrating table Sales_Orders\n",
      "Rows in this table: 73595\n"
     ]
    },
    {
     "data": {
      "application/vnd.jupyter.widget-view+json": {
       "model_id": "415868800a694e0e83588dcac880af5c",
       "version_major": 2,
       "version_minor": 0
      },
      "text/plain": [
       "0it [00:00, ?it/s]"
      ]
     },
     "metadata": {},
     "output_type": "display_data"
    },
    {
     "ename": "OperationalError",
     "evalue": "2013 (HY000): Lost connection to MySQL server during query",
     "output_type": "error",
     "traceback": [
      "\u001b[0;31m---------------------------------------------------------------------------\u001b[0m",
      "\u001b[0;31mMySQLInterfaceError\u001b[0m                       Traceback (most recent call last)",
      "\u001b[0;32m~/anaconda3/envs/bdmm_pip/lib/python3.8/site-packages/mysql/connector/connection_cext.py\u001b[0m in \u001b[0;36mget_rows\u001b[0;34m(self, count, binary, columns, raw, prep_stmt)\u001b[0m\n\u001b[1;32m    337\u001b[0m             \u001b[0mrow\u001b[0m \u001b[0;34m=\u001b[0m \u001b[0mprep_stmt\u001b[0m\u001b[0;34m.\u001b[0m\u001b[0mfetch_row\u001b[0m\u001b[0;34m(\u001b[0m\u001b[0;34m)\u001b[0m \u001b[0;32mif\u001b[0m \u001b[0mprep_stmt\u001b[0m\u001b[0;31m \u001b[0m\u001b[0;31m\\\u001b[0m\u001b[0;34m\u001b[0m\u001b[0;34m\u001b[0m\u001b[0m\n\u001b[0;32m--> 338\u001b[0;31m                 \u001b[0;32melse\u001b[0m \u001b[0mself\u001b[0m\u001b[0;34m.\u001b[0m\u001b[0m_cmysql\u001b[0m\u001b[0;34m.\u001b[0m\u001b[0mfetch_row\u001b[0m\u001b[0;34m(\u001b[0m\u001b[0;34m)\u001b[0m\u001b[0;34m\u001b[0m\u001b[0;34m\u001b[0m\u001b[0m\n\u001b[0m\u001b[1;32m    339\u001b[0m             \u001b[0;32mwhile\u001b[0m \u001b[0mrow\u001b[0m\u001b[0;34m:\u001b[0m\u001b[0;34m\u001b[0m\u001b[0;34m\u001b[0m\u001b[0m\n",
      "\u001b[0;31mMySQLInterfaceError\u001b[0m: Lost connection to MySQL server during query",
      "\nDuring handling of the above exception, another exception occurred:\n",
      "\u001b[0;31mOperationalError\u001b[0m                          Traceback (most recent call last)",
      "\u001b[0;32m<ipython-input-269-8b35d12665a5>\u001b[0m in \u001b[0;36m<module>\u001b[0;34m\u001b[0m\n\u001b[0;32m----> 1\u001b[0;31m \u001b[0mmigrate_table_10k_entries\u001b[0m\u001b[0;34m(\u001b[0m\u001b[0mi\u001b[0m\u001b[0;34m,\u001b[0m \u001b[0;36m4\u001b[0m\u001b[0;34m)\u001b[0m\u001b[0;34m\u001b[0m\u001b[0;34m\u001b[0m\u001b[0m\n\u001b[0m",
      "\u001b[0;32m<ipython-input-208-cd9583b6e511>\u001b[0m in \u001b[0;36mmigrate_table_10k_entries\u001b[0;34m(table_index, ten_k_step)\u001b[0m\n\u001b[1;32m     44\u001b[0m \u001b[0;34m\u001b[0m\u001b[0m\n\u001b[1;32m     45\u001b[0m     \u001b[0;31m#cycle through each mySQL row\u001b[0m\u001b[0;34m\u001b[0m\u001b[0;34m\u001b[0m\u001b[0;34m\u001b[0m\u001b[0m\n\u001b[0;32m---> 46\u001b[0;31m     \u001b[0;32mfor\u001b[0m \u001b[0;34m(\u001b[0m \u001b[0mrow\u001b[0m \u001b[0;34m)\u001b[0m \u001b[0;32min\u001b[0m \u001b[0mtqdm\u001b[0m\u001b[0;34m(\u001b[0m\u001b[0mmycursor\u001b[0m\u001b[0;34m)\u001b[0m\u001b[0;34m:\u001b[0m\u001b[0;34m\u001b[0m\u001b[0;34m\u001b[0m\u001b[0m\n\u001b[0m\u001b[1;32m     47\u001b[0m         \u001b[0mcid\u001b[0m        \u001b[0;34m+=\u001b[0m \u001b[0;36m1\u001b[0m   \u001b[0;31m#increment id\u001b[0m\u001b[0;34m\u001b[0m\u001b[0;34m\u001b[0m\u001b[0m\n\u001b[1;32m     48\u001b[0m         \u001b[0mcus\u001b[0m\u001b[0;34m[\u001b[0m\u001b[0;34m'_id'\u001b[0m\u001b[0;34m]\u001b[0m \u001b[0;34m=\u001b[0m \u001b[0mcid\u001b[0m\u001b[0;34m\u001b[0m\u001b[0;34m\u001b[0m\u001b[0m\n",
      "\u001b[0;32m~/anaconda3/envs/bdmm_pip/lib/python3.8/site-packages/tqdm/notebook.py\u001b[0m in \u001b[0;36m__iter__\u001b[0;34m(self)\u001b[0m\n\u001b[1;32m    252\u001b[0m     \u001b[0;32mdef\u001b[0m \u001b[0m__iter__\u001b[0m\u001b[0;34m(\u001b[0m\u001b[0mself\u001b[0m\u001b[0;34m)\u001b[0m\u001b[0;34m:\u001b[0m\u001b[0;34m\u001b[0m\u001b[0;34m\u001b[0m\u001b[0m\n\u001b[1;32m    253\u001b[0m         \u001b[0;32mtry\u001b[0m\u001b[0;34m:\u001b[0m\u001b[0;34m\u001b[0m\u001b[0;34m\u001b[0m\u001b[0m\n\u001b[0;32m--> 254\u001b[0;31m             \u001b[0;32mfor\u001b[0m \u001b[0mobj\u001b[0m \u001b[0;32min\u001b[0m \u001b[0msuper\u001b[0m\u001b[0;34m(\u001b[0m\u001b[0mtqdm_notebook\u001b[0m\u001b[0;34m,\u001b[0m \u001b[0mself\u001b[0m\u001b[0;34m)\u001b[0m\u001b[0;34m.\u001b[0m\u001b[0m__iter__\u001b[0m\u001b[0;34m(\u001b[0m\u001b[0;34m)\u001b[0m\u001b[0;34m:\u001b[0m\u001b[0;34m\u001b[0m\u001b[0;34m\u001b[0m\u001b[0m\n\u001b[0m\u001b[1;32m    255\u001b[0m                 \u001b[0;31m# return super(tqdm...) will not catch exception\u001b[0m\u001b[0;34m\u001b[0m\u001b[0;34m\u001b[0m\u001b[0;34m\u001b[0m\u001b[0m\n\u001b[1;32m    256\u001b[0m                 \u001b[0;32myield\u001b[0m \u001b[0mobj\u001b[0m\u001b[0;34m\u001b[0m\u001b[0;34m\u001b[0m\u001b[0m\n",
      "\u001b[0;32m~/anaconda3/envs/bdmm_pip/lib/python3.8/site-packages/tqdm/std.py\u001b[0m in \u001b[0;36m__iter__\u001b[0;34m(self)\u001b[0m\n\u001b[1;32m   1176\u001b[0m \u001b[0;34m\u001b[0m\u001b[0m\n\u001b[1;32m   1177\u001b[0m         \u001b[0;32mtry\u001b[0m\u001b[0;34m:\u001b[0m\u001b[0;34m\u001b[0m\u001b[0;34m\u001b[0m\u001b[0m\n\u001b[0;32m-> 1178\u001b[0;31m             \u001b[0;32mfor\u001b[0m \u001b[0mobj\u001b[0m \u001b[0;32min\u001b[0m \u001b[0miterable\u001b[0m\u001b[0;34m:\u001b[0m\u001b[0;34m\u001b[0m\u001b[0;34m\u001b[0m\u001b[0m\n\u001b[0m\u001b[1;32m   1179\u001b[0m                 \u001b[0;32myield\u001b[0m \u001b[0mobj\u001b[0m\u001b[0;34m\u001b[0m\u001b[0;34m\u001b[0m\u001b[0m\n\u001b[1;32m   1180\u001b[0m                 \u001b[0;31m# Update and possibly print the progressbar.\u001b[0m\u001b[0;34m\u001b[0m\u001b[0;34m\u001b[0m\u001b[0;34m\u001b[0m\u001b[0m\n",
      "\u001b[0;32m~/anaconda3/envs/bdmm_pip/lib/python3.8/site-packages/mysql/connector/cursor_cext.py\u001b[0m in \u001b[0;36mfetchone\u001b[0;34m(self)\u001b[0m\n\u001b[1;32m    562\u001b[0m \u001b[0;34m\u001b[0m\u001b[0m\n\u001b[1;32m    563\u001b[0m         \u001b[0;32mif\u001b[0m \u001b[0mrow\u001b[0m \u001b[0;32mand\u001b[0m \u001b[0mrow\u001b[0m\u001b[0;34m[\u001b[0m\u001b[0;36m0\u001b[0m\u001b[0;34m]\u001b[0m\u001b[0;34m:\u001b[0m\u001b[0;34m\u001b[0m\u001b[0;34m\u001b[0m\u001b[0m\n\u001b[0;32m--> 564\u001b[0;31m             \u001b[0mself\u001b[0m\u001b[0;34m.\u001b[0m\u001b[0m_nextrow\u001b[0m \u001b[0;34m=\u001b[0m \u001b[0mself\u001b[0m\u001b[0;34m.\u001b[0m\u001b[0m_cnx\u001b[0m\u001b[0;34m.\u001b[0m\u001b[0mget_row\u001b[0m\u001b[0;34m(\u001b[0m\u001b[0;34m)\u001b[0m\u001b[0;34m\u001b[0m\u001b[0;34m\u001b[0m\u001b[0m\n\u001b[0m\u001b[1;32m    565\u001b[0m             \u001b[0;32mif\u001b[0m \u001b[0;32mnot\u001b[0m \u001b[0mself\u001b[0m\u001b[0;34m.\u001b[0m\u001b[0m_nextrow\u001b[0m\u001b[0;34m[\u001b[0m\u001b[0;36m0\u001b[0m\u001b[0;34m]\u001b[0m \u001b[0;32mand\u001b[0m \u001b[0;32mnot\u001b[0m \u001b[0mself\u001b[0m\u001b[0;34m.\u001b[0m\u001b[0m_cnx\u001b[0m\u001b[0;34m.\u001b[0m\u001b[0mmore_results\u001b[0m\u001b[0;34m:\u001b[0m\u001b[0;34m\u001b[0m\u001b[0;34m\u001b[0m\u001b[0m\n\u001b[1;32m    566\u001b[0m                 \u001b[0mself\u001b[0m\u001b[0;34m.\u001b[0m\u001b[0m_cnx\u001b[0m\u001b[0;34m.\u001b[0m\u001b[0mfree_result\u001b[0m\u001b[0;34m(\u001b[0m\u001b[0;34m)\u001b[0m\u001b[0;34m\u001b[0m\u001b[0;34m\u001b[0m\u001b[0m\n",
      "\u001b[0;32m~/anaconda3/envs/bdmm_pip/lib/python3.8/site-packages/mysql/connector/connection_cext.py\u001b[0m in \u001b[0;36mget_row\u001b[0;34m(self, binary, columns, raw, prep_stmt)\u001b[0m\n\u001b[1;32m    374\u001b[0m         \u001b[0;34m\"\"\"Get the next rows returned by the MySQL server\"\"\"\u001b[0m\u001b[0;34m\u001b[0m\u001b[0;34m\u001b[0m\u001b[0m\n\u001b[1;32m    375\u001b[0m         \u001b[0;32mtry\u001b[0m\u001b[0;34m:\u001b[0m\u001b[0;34m\u001b[0m\u001b[0;34m\u001b[0m\u001b[0m\n\u001b[0;32m--> 376\u001b[0;31m             rows, eof = self.get_rows(count=1, binary=binary, columns=columns,\n\u001b[0m\u001b[1;32m    377\u001b[0m                                       raw=raw, prep_stmt=prep_stmt)\n\u001b[1;32m    378\u001b[0m             \u001b[0;32mif\u001b[0m \u001b[0mrows\u001b[0m\u001b[0;34m:\u001b[0m\u001b[0;34m\u001b[0m\u001b[0;34m\u001b[0m\u001b[0m\n",
      "\u001b[0;32m~/anaconda3/envs/bdmm_pip/lib/python3.8/site-packages/mysql/connector/connection_cext.py\u001b[0m in \u001b[0;36mget_rows\u001b[0;34m(self, count, binary, columns, raw, prep_stmt)\u001b[0m\n\u001b[1;32m    366\u001b[0m             \u001b[0;32melse\u001b[0m\u001b[0;34m:\u001b[0m\u001b[0;34m\u001b[0m\u001b[0;34m\u001b[0m\u001b[0m\n\u001b[1;32m    367\u001b[0m                 \u001b[0mself\u001b[0m\u001b[0;34m.\u001b[0m\u001b[0mfree_result\u001b[0m\u001b[0;34m(\u001b[0m\u001b[0;34m)\u001b[0m\u001b[0;34m\u001b[0m\u001b[0;34m\u001b[0m\u001b[0m\n\u001b[0;32m--> 368\u001b[0;31m                 raise errors.get_mysql_exception(msg=exc.msg, errno=exc.errno,\n\u001b[0m\u001b[1;32m    369\u001b[0m                                                  sqlstate=exc.sqlstate)\n\u001b[1;32m    370\u001b[0m \u001b[0;34m\u001b[0m\u001b[0m\n",
      "\u001b[0;31mOperationalError\u001b[0m: 2013 (HY000): Lost connection to MySQL server during query"
     ]
    }
   ],
   "source": [
    "migrate_table_10k_entries(i, 4)"
   ]
  },
  {
   "cell_type": "code",
   "execution_count": 273,
   "id": "8055b99c",
   "metadata": {},
   "outputs": [
    {
     "data": {
      "text/plain": [
       "50000"
      ]
     },
     "execution_count": 273,
     "metadata": {},
     "output_type": "execute_result"
    }
   ],
   "source": [
    "db[tables[i][0]].count_documents({})"
   ]
  },
  {
   "cell_type": "code",
   "execution_count": 274,
   "id": "0a36e1b1",
   "metadata": {},
   "outputs": [
    {
     "name": "stdout",
     "output_type": "stream",
     "text": [
      "Migrate entries larger or equal to 50001 and smaller than 60001\n",
      "Migrating table Sales_Orders\n",
      "Rows in this table: 73595\n"
     ]
    },
    {
     "data": {
      "application/vnd.jupyter.widget-view+json": {
       "model_id": "4361184a3f834afb82b3d88b60c80b67",
       "version_major": 2,
       "version_minor": 0
      },
      "text/plain": [
       "0it [00:00, ?it/s]"
      ]
     },
     "metadata": {},
     "output_type": "display_data"
    }
   ],
   "source": [
    "migrate_table_10k_entries(i, 5)"
   ]
  },
  {
   "cell_type": "code",
   "execution_count": 275,
   "id": "cb1398d1",
   "metadata": {},
   "outputs": [
    {
     "data": {
      "text/plain": [
       "60000"
      ]
     },
     "execution_count": 275,
     "metadata": {},
     "output_type": "execute_result"
    }
   ],
   "source": [
    "db[tables[i][0]].count_documents({})"
   ]
  },
  {
   "cell_type": "code",
   "execution_count": 276,
   "id": "ab9c8c3d",
   "metadata": {},
   "outputs": [
    {
     "name": "stdout",
     "output_type": "stream",
     "text": [
      "Migrate entries larger or equal to 60001 and smaller than 70001\n",
      "Migrating table Sales_Orders\n",
      "Rows in this table: 73595\n"
     ]
    },
    {
     "data": {
      "application/vnd.jupyter.widget-view+json": {
       "model_id": "4ecca8a1c1ba4df6ad2bb262e49fea39",
       "version_major": 2,
       "version_minor": 0
      },
      "text/plain": [
       "0it [00:00, ?it/s]"
      ]
     },
     "metadata": {},
     "output_type": "display_data"
    }
   ],
   "source": [
    "migrate_table_10k_entries(i, 6)"
   ]
  },
  {
   "cell_type": "code",
   "execution_count": 277,
   "id": "bdd2384b",
   "metadata": {},
   "outputs": [
    {
     "data": {
      "text/plain": [
       "70000"
      ]
     },
     "execution_count": 277,
     "metadata": {},
     "output_type": "execute_result"
    }
   ],
   "source": [
    "db[tables[i][0]].count_documents({})"
   ]
  },
  {
   "cell_type": "code",
   "execution_count": 278,
   "id": "f8c661ac",
   "metadata": {},
   "outputs": [
    {
     "name": "stdout",
     "output_type": "stream",
     "text": [
      "Migrate entries larger or equal to 70001 and smaller than 80001\n",
      "Migrating table Sales_Orders\n",
      "Rows in this table: 73595\n"
     ]
    },
    {
     "data": {
      "application/vnd.jupyter.widget-view+json": {
       "model_id": "914214f52df04101a3c062e55390bd2d",
       "version_major": 2,
       "version_minor": 0
      },
      "text/plain": [
       "0it [00:00, ?it/s]"
      ]
     },
     "metadata": {},
     "output_type": "display_data"
    }
   ],
   "source": [
    "migrate_table_10k_entries(i, 7)"
   ]
  },
  {
   "cell_type": "code",
   "execution_count": 279,
   "id": "e6ded6c3",
   "metadata": {},
   "outputs": [
    {
     "data": {
      "text/plain": [
       "73595"
      ]
     },
     "execution_count": 279,
     "metadata": {},
     "output_type": "execute_result"
    }
   ],
   "source": [
    "db[tables[i][0]].count_documents({})"
   ]
  },
  {
   "cell_type": "code",
   "execution_count": null,
   "id": "7704eaef",
   "metadata": {},
   "outputs": [],
   "source": []
  },
  {
   "cell_type": "code",
   "execution_count": null,
   "id": "d007cf52",
   "metadata": {},
   "outputs": [],
   "source": []
  },
  {
   "cell_type": "code",
   "execution_count": null,
   "id": "9fa911cd",
   "metadata": {},
   "outputs": [],
   "source": []
  },
  {
   "cell_type": "code",
   "execution_count": 271,
   "id": "857f4cdc",
   "metadata": {},
   "outputs": [
    {
     "data": {
      "text/plain": [
       "[]"
      ]
     },
     "execution_count": 271,
     "metadata": {},
     "output_type": "execute_result"
    }
   ],
   "source": [
    "mycursor.fetchall()"
   ]
  },
  {
   "cell_type": "code",
   "execution_count": 272,
   "id": "4ebdfb7d",
   "metadata": {},
   "outputs": [],
   "source": [
    "mydb, mycursor = connect_mysql()"
   ]
  },
  {
   "cell_type": "code",
   "execution_count": null,
   "id": "d2430d65",
   "metadata": {},
   "outputs": [],
   "source": []
  },
  {
   "cell_type": "code",
   "execution_count": null,
   "id": "6f931018",
   "metadata": {},
   "outputs": [],
   "source": []
  },
  {
   "cell_type": "code",
   "execution_count": null,
   "id": "ed8c4f2e",
   "metadata": {},
   "outputs": [],
   "source": []
  },
  {
   "cell_type": "markdown",
   "id": "9c02e651",
   "metadata": {},
   "source": [
    "## Check newly created mongo database"
   ]
  },
  {
   "cell_type": "code",
   "execution_count": 280,
   "id": "c32a7931",
   "metadata": {},
   "outputs": [
    {
     "data": {
      "text/plain": [
       "['Sales_CustomerTransactions',\n",
       " 'Sales_Invoices',\n",
       " 'Warehouse_StockItemTransactions',\n",
       " 'Sales_CustomerCategories',\n",
       " 'Purchasing_SupplierTransactions',\n",
       " 'Purchasing_PurchaseOrders',\n",
       " 'Warehouse_StockItemStockGroups',\n",
       " 'Warehouse_Colors',\n",
       " 'Sales_OrderLines',\n",
       " 'Purchasing_Suppliers',\n",
       " 'Warehouse_StockGroups',\n",
       " 'Warehouse_StockItems',\n",
       " 'Sales_InvoiceLines',\n",
       " 'Sales_Customers',\n",
       " 'Warehouse_PackageTypes',\n",
       " 'Purchasing_PurchaseOrderLines',\n",
       " 'Purchasing_SupplierCategories',\n",
       " 'Sales_Orders']"
      ]
     },
     "execution_count": 280,
     "metadata": {},
     "output_type": "execute_result"
    }
   ],
   "source": [
    "db.list_collection_names()"
   ]
  },
  {
   "cell_type": "code",
   "execution_count": 281,
   "id": "53c5f3d3",
   "metadata": {},
   "outputs": [
    {
     "data": {
      "text/plain": [
       "18"
      ]
     },
     "execution_count": 281,
     "metadata": {},
     "output_type": "execute_result"
    }
   ],
   "source": [
    "len(db.list_collection_names())"
   ]
  },
  {
   "cell_type": "code",
   "execution_count": 282,
   "id": "62b5e005",
   "metadata": {
    "scrolled": false
   },
   "outputs": [
    {
     "name": "stdout",
     "output_type": "stream",
     "text": [
      "Sales_CustomerTransactions\n",
      "{'AmountExcludingTax': 2300.0,\n",
      " 'CustomerID': 832,\n",
      " 'CustomerTransactionID': 2,\n",
      " 'FinalizationDate': '2013-01-02',\n",
      " 'InvoiceID': 1,\n",
      " 'IsFinalized': 1,\n",
      " 'OutstandingBalance': 0.0,\n",
      " 'TaxAmount': 345.0,\n",
      " 'TransactionAmount': 2645.0,\n",
      " 'TransactionDate': '2013-01-01',\n",
      " 'TransactionTypeID': 1,\n",
      " '_id': 1}\n",
      "\n",
      "Sales_Invoices\n",
      "{'AccountsPersonID': 3032,\n",
      " 'BillToCustomerID': 832,\n",
      " 'ConfirmedDeliveryTime': '2013-01-02 07:05:00',\n",
      " 'ConfirmedReceivedBy': 'Aakriti Byrraju',\n",
      " 'ContactPersonID': 3032,\n",
      " 'CustomerID': 832,\n",
      " 'CustomerPurchaseOrderNumber': '12126',\n",
      " 'DeliveryInstructions': 'Suite 24, 1345 Jun Avenue',\n",
      " 'DeliveryMethodID': 3,\n",
      " 'DeliveryRun': '',\n",
      " 'InvoiceDate': '2013-01-01',\n",
      " 'InvoiceID': 1,\n",
      " 'IsCreditNote': 0,\n",
      " 'OrderID': 1,\n",
      " 'PackedByPersonID': 14,\n",
      " 'ReturnedDeliveryData': '{\"Events\": [{ \"Event\":\"Ready for '\n",
      "                         'collection\",\"EventTime\":\"2013-01-01T12:00:00\",\"ConNote\":\"EAN-125-1051\"},{ '\n",
      "                         '\"Event\":\"DeliveryAttempt\",\"EventTime\":\"2013-01-02T07:05:00\",\"ConNote\":\"EAN-125-1051\",\"DriverID\":15,\"Latitude\":41.3617214,\"Longitude\":-81.4695602,\"Status\":\"Delivered\"}],\"DeliveredWhen\":\"2013-01-02T07:05:00\",\"ReceivedBy\":\"Aakriti '\n",
      "                         'Byrraju\"}',\n",
      " 'RunPosition': '',\n",
      " 'SalespersonPersonID': 2,\n",
      " 'TotalChillerItems': 0,\n",
      " 'TotalDryItems': 1,\n",
      " '_id': 1}\n",
      "\n",
      "Warehouse_StockItemTransactions\n",
      "{'CustomerID': 832.0,\n",
      " 'InvoiceID': 1.0,\n",
      " 'PurchaseOrderID': nan,\n",
      " 'Quantity': -10.0,\n",
      " 'StockItemID': 67,\n",
      " 'StockItemTransactionID': 1,\n",
      " 'SupplierID': nan,\n",
      " 'TransactionOccurredWhen': '2013-01-01 12:00:00.0000000',\n",
      " 'TransactionTypeID': 10,\n",
      " '_id': 1}\n",
      "\n",
      "Sales_CustomerCategories\n",
      "{'CustomerCategoryID': 1, 'CustomerCategoryName': 'Agent', '_id': 1}\n",
      "\n",
      "Purchasing_SupplierTransactions\n",
      "{'AmountExcludingTax': 313.5,\n",
      " 'FinalizationDate': '2013-01-07',\n",
      " 'IsFinalized': 1,\n",
      " 'OutstandingBalance': 0.0,\n",
      " 'PaymentMethodID': 4,\n",
      " 'PurchaseOrderID': 1,\n",
      " 'SupplierID': 2,\n",
      " 'SupplierInvoiceNumber': '7290',\n",
      " 'SupplierTransactionID': 134,\n",
      " 'TaxAmount': 47.03,\n",
      " 'TransactionAmount': 360.53,\n",
      " 'TransactionDate': '2013-01-02',\n",
      " 'TransactionTypeID': 5,\n",
      " '_id': 1}\n",
      "\n",
      "Purchasing_PurchaseOrders\n",
      "{'ContactPersonID': 2,\n",
      " 'DeliveryMethodID': 9,\n",
      " 'ExpectedDeliveryDate': '2013-01-15',\n",
      " 'IsOrderFinalized': 1,\n",
      " 'OrderDate': '2013-01-01',\n",
      " 'PurchaseOrderID': 1,\n",
      " 'SupplierID': 2,\n",
      " 'SupplierReference': 'B2084020',\n",
      " '_id': 1}\n",
      "\n",
      "Warehouse_StockItemStockGroups\n",
      "{'StockGroupID': 6, 'StockItemID': 1, 'StockItemStockGroupID': 1, '_id': 1}\n",
      "\n",
      "Warehouse_Colors\n",
      "{'ColorID': 1, 'ColorName': 'Azure', '_id': 1}\n",
      "\n",
      "Sales_OrderLines\n",
      "{'Description': '32 mm Double sided bubble wrap 50m',\n",
      " 'OrderID': 45,\n",
      " 'OrderLineID': 1,\n",
      " 'PackageTypeID': 7,\n",
      " 'PickedQuantity': 50,\n",
      " 'PickingCompletedWhen': '2013-01-02 11:00:00',\n",
      " 'Quantity': 50,\n",
      " 'StockItemID': 164,\n",
      " 'TaxRate': 15.0,\n",
      " 'UnitPrice': 112.0,\n",
      " '_id': 1}\n",
      "\n",
      "Purchasing_Suppliers\n",
      "{'AlternateContactPersonID': 22,\n",
      " 'BankAccountBranch': 'Woodgrove Bank Zionsville',\n",
      " 'BankAccountCode': '356981',\n",
      " 'BankAccountName': 'A Datum Corporation',\n",
      " 'BankAccountNumber': '8575824136',\n",
      " 'BankInternationalCode': '25986',\n",
      " 'DeliveryAddressLine1': 'Suite 10',\n",
      " 'DeliveryAddressLine2': '183838 Southwest Boulevard',\n",
      " 'DeliveryCityID': 38171,\n",
      " 'DeliveryLocationLat': 39.9509,\n",
      " 'DeliveryLocationLong': -86.2619,\n",
      " 'DeliveryMethodID': 7,\n",
      " 'DeliveryPostalCode': '46077',\n",
      " 'FaxNumber': '(847) 555-0101',\n",
      " 'PaymentDays': 14,\n",
      " 'PhoneNumber': '(847) 555-0100',\n",
      " 'PostalAddressLine1': 'PO Box 1039',\n",
      " 'PostalAddressLine2': 'Surrey',\n",
      " 'PostalCityID': 38171,\n",
      " 'PostalPostalCode': '46077',\n",
      " 'PrimaryContactPersonID': 21,\n",
      " 'SupplierCategoryID': 2,\n",
      " 'SupplierID': 1,\n",
      " 'SupplierName': 'A Datum Corporation',\n",
      " 'SupplierReference': 'AA20384',\n",
      " 'WebsiteURL': 'http://www.adatum.com',\n",
      " '_id': 1}\n",
      "\n",
      "Warehouse_StockGroups\n",
      "{'StockGroupID': 1, 'StockGroupName': 'Novelty Items', '_id': 1}\n",
      "\n",
      "Warehouse_StockItems\n",
      "{'Barcode': nan,\n",
      " 'Brand': nan,\n",
      " 'ColorID': nan,\n",
      " 'InternalComments': nan,\n",
      " 'IsChillerStock': False,\n",
      " 'LeadTimeDays': 14,\n",
      " 'MarketingComments': 'Complete with 12 projectiles',\n",
      " 'OuterPackageID': 7,\n",
      " 'Photo': nan,\n",
      " 'QuantityPerOuter': 1,\n",
      " 'RecommendedRetailPrice': 37.38,\n",
      " 'SearchDetails': 'USB missile launcher (Green) Complete with 12 projectiles',\n",
      " 'Size': nan,\n",
      " 'StockItemID': 1,\n",
      " 'StockItemName': 'USB missile launcher (Green)',\n",
      " 'SupplierID': 12,\n",
      " 'TaxRate': 15.0,\n",
      " 'TypicalWeightPerUnit': 0.3,\n",
      " 'UnitPackageID': 7,\n",
      " 'UnitPrice': 25.0,\n",
      " '_id': 1}\n",
      "\n",
      "Sales_InvoiceLines\n",
      "{'Description': 'Ride on toy sedan car (Black) 1/12 scale',\n",
      " 'ExtendedPrice': 2645.0,\n",
      " 'InvoiceID': 1,\n",
      " 'InvoiceLineID': 1,\n",
      " 'LineProfit': 850.0,\n",
      " 'PackageTypeID': 7,\n",
      " 'Quantity': 10,\n",
      " 'StockItemID': 67,\n",
      " 'TaxAmount': 345.0,\n",
      " 'TaxRate': 15.0,\n",
      " 'UnitPrice': 230.0,\n",
      " '_id': 1}\n",
      "\n",
      "Sales_Customers\n",
      "{'AccountOpenedDate': '2013-01-01',\n",
      " 'AlternateContactPersonID': 1002,\n",
      " 'BillToCustomerID': 1,\n",
      " 'CustomerCategoryID': 3,\n",
      " 'CustomerID': 1,\n",
      " 'CustomerName': 'Tailspin Toys (Head Office)',\n",
      " 'DeliveryAddressLine1': 'Shop 38',\n",
      " 'DeliveryAddressLine2': '1877 Mittal Road',\n",
      " 'DeliveryCityID': 19586,\n",
      " 'DeliveryLocationLat': 41.4972,\n",
      " 'DeliveryLocationLong': -102.62,\n",
      " 'DeliveryMethodID': 3,\n",
      " 'DeliveryPostalCode': '90410',\n",
      " 'DeliveryRun': '',\n",
      " 'FaxNumber': '(308) 555-0101',\n",
      " 'IsOnCreditHold': 0,\n",
      " 'IsStatementSent': 0,\n",
      " 'PaymentDays': 7,\n",
      " 'PhoneNumber': '(308) 555-0100',\n",
      " 'PostalAddressLine1': 'PO Box 8975',\n",
      " 'PostalAddressLine2': 'Ribeiroville',\n",
      " 'PostalCityID': 19586,\n",
      " 'PostalPostalCode': '90410',\n",
      " 'PrimaryContactPersonID': 1001,\n",
      " 'RunPosition': '',\n",
      " 'StandardDiscountPercentage': 0.0,\n",
      " 'WebsiteURL': 'http://www.tailspintoys.com',\n",
      " '_id': 1}\n",
      "\n",
      "Warehouse_PackageTypes\n",
      "{'PackageTypeID': 1, 'PackageTypeName': 'Bag', '_id': 1}\n",
      "\n",
      "Purchasing_PurchaseOrderLines\n",
      "{'Description': 'Pack of 12 action figures (variety)',\n",
      " 'ExpectedUnitPricePerOuter': 5.5,\n",
      " 'IsOrderLineFinalized': 1,\n",
      " 'OrderedOuters': 18,\n",
      " 'PackageTypeID': 9,\n",
      " 'PurchaseOrderID': 1,\n",
      " 'PurchaseOrderLineID': 1,\n",
      " 'ReceivedOuters': 18,\n",
      " 'StockItemID': 150,\n",
      " '_id': 1}\n",
      "\n",
      "Purchasing_SupplierCategories\n",
      "{'SupplierCategoryID': 1, 'SupplierCategoryName': 'Other Wholesaler', '_id': 1}\n",
      "\n",
      "Sales_Orders\n",
      "{'BackorderOrderID': 45,\n",
      " 'ContactPersonID': 3032,\n",
      " 'CustomerID': 832,\n",
      " 'CustomerPurchaseOrderNumber': '12126',\n",
      " 'ExpectedDeliveryDate': '2013-01-02',\n",
      " 'IsUndersupplyBackordered': 1,\n",
      " 'OrderDate': '2013-01-01',\n",
      " 'OrderID': 1,\n",
      " 'PickingCompletedWhen': '2013-01-01 12:00:00',\n",
      " 'SalespersonPersonID': 2,\n",
      " '_id': 1}\n",
      "\n"
     ]
    }
   ],
   "source": [
    "for collection in db.list_collection_names():\n",
    "    print(collection)\n",
    "    pprint(db[collection].find_one())\n",
    "    print()"
   ]
  },
  {
   "cell_type": "code",
   "execution_count": 283,
   "id": "ae64e851",
   "metadata": {
    "scrolled": true
   },
   "outputs": [
    {
     "name": "stdout",
     "output_type": "stream",
     "text": [
      "Purchasing_PurchaseOrderLines\n",
      "SQL db count:\n",
      "8367\n",
      "Mongo db count:\n",
      "8367\n",
      "Purchasing_PurchaseOrders\n",
      "SQL db count:\n",
      "2074\n",
      "Mongo db count:\n",
      "2074\n",
      "Purchasing_SupplierCategories\n",
      "SQL db count:\n",
      "9\n",
      "Mongo db count:\n",
      "9\n",
      "Purchasing_SupplierTransactions\n",
      "SQL db count:\n",
      "2438\n",
      "Mongo db count:\n",
      "2438\n",
      "Purchasing_Suppliers\n",
      "SQL db count:\n",
      "13\n",
      "Mongo db count:\n",
      "13\n",
      "Sales_CustomerCategories\n",
      "SQL db count:\n",
      "8\n",
      "Mongo db count:\n",
      "8\n",
      "Sales_CustomerTransactions\n",
      "SQL db count:\n",
      "52000\n",
      "Mongo db count:\n",
      "52000\n",
      "Sales_Customers\n",
      "SQL db count:\n",
      "663\n",
      "Mongo db count:\n",
      "663\n",
      "Sales_InvoiceLines\n",
      "SQL db count:\n",
      "30000\n",
      "Mongo db count:\n",
      "30000\n",
      "Sales_Invoices\n",
      "SQL db count:\n",
      "70510\n",
      "Mongo db count:\n",
      "70510\n",
      "Sales_OrderLines\n",
      "SQL db count:\n",
      "76000\n",
      "Mongo db count:\n",
      "76000\n",
      "Sales_Orders\n",
      "SQL db count:\n",
      "73595\n",
      "Mongo db count:\n",
      "73595\n"
     ]
    }
   ],
   "source": [
    "# Compare sql table sizes to mongo collection sizes\n",
    "for i in range(len(tables)):\n",
    "    \n",
    "    # Get MySQL table name\n",
    "    table_name = tables[i][0]\n",
    "    \n",
    "    # Define our query\n",
    "    query = ( \"SELECT * \" \n",
    "             \"FROM \" + table_name )\n",
    "    \n",
    "    # Execute query\n",
    "    mycursor.execute( query )\n",
    "    \n",
    "    # Get row count for mongo db\n",
    "    mongo_count = db[table_name].count_documents({})\n",
    "    \n",
    "    # Print row counts\n",
    "    print(table_name)\n",
    "    print('SQL db count:')\n",
    "    print(len(mycursor.fetchall()))\n",
    "    print('Mongo db count:')\n",
    "    print(mongo_count)"
   ]
  },
  {
   "cell_type": "markdown",
   "id": "0696dde9",
   "metadata": {},
   "source": [
    "# Part 2: Add CSV data"
   ]
  },
  {
   "cell_type": "markdown",
   "id": "6a4ad32d",
   "metadata": {},
   "source": [
    "## Imports"
   ]
  },
  {
   "cell_type": "code",
   "execution_count": 71,
   "id": "8344c051",
   "metadata": {},
   "outputs": [],
   "source": [
    "import pandas as pd\n",
    "from tqdm.notebook import tqdm\n",
    "from pprint import pprint\n",
    "import numpy as np"
   ]
  },
  {
   "cell_type": "markdown",
   "id": "664b13f8",
   "metadata": {},
   "source": [
    "## Connect to mongo database"
   ]
  },
  {
   "cell_type": "code",
   "execution_count": 5,
   "id": "85ccab72",
   "metadata": {},
   "outputs": [],
   "source": [
    "# Connect to Mongo server\n",
    "\n",
    "from pymongo import MongoClient\n",
    "\n",
    "host=\"rhea.isegi.unl.pt\"\n",
    "port=\"27049\"\n",
    "user=\"GROUP_32\"\n",
    "password=\"bRG2XjRZhrRA9IfpmENyXxMlWQDUJdzL\"\n",
    "protocol=\"mongodb\"\n",
    "client = MongoClient(f\"{protocol}://{user}:{password}@{host}:{port}\")"
   ]
  },
  {
   "cell_type": "code",
   "execution_count": 6,
   "id": "446f65ad",
   "metadata": {},
   "outputs": [],
   "source": [
    "# Connect to mongo db\n",
    "db = client.#database name here"
   ]
  },
  {
   "cell_type": "markdown",
   "id": "40fbe2b4",
   "metadata": {},
   "source": [
    "## Add csv data to mongo database"
   ]
  },
  {
   "cell_type": "code",
   "execution_count": 11,
   "id": "dcce3888",
   "metadata": {},
   "outputs": [],
   "source": [
    "csv_dir_first_part = '/Users/philippmetzger/Documents/GitHub/BDMM/Homework 3/BDMM - 3rd Homework-20210520/csv/Project_WWI_'\n",
    "table_names = ['Warehouse_Colors', 'Warehouse_PackageTypes', 'Warehouse_StockGroups', \n",
    "               'Warehouse_StockItems', 'Warehouse_StockItemStockGroups', 'Warehouse_StockItemTransactions']\n",
    "warehouse_data = []\n",
    "for name in table_names:\n",
    "    path = csv_dir_first_part + name + '.csv'\n",
    "    data = pd.read_csv(path)\n",
    "    warehouse_data.append(data)"
   ]
  },
  {
   "cell_type": "code",
   "execution_count": 58,
   "id": "ae35f8af",
   "metadata": {},
   "outputs": [
    {
     "data": {
      "text/html": [
       "<div>\n",
       "<style scoped>\n",
       "    .dataframe tbody tr th:only-of-type {\n",
       "        vertical-align: middle;\n",
       "    }\n",
       "\n",
       "    .dataframe tbody tr th {\n",
       "        vertical-align: top;\n",
       "    }\n",
       "\n",
       "    .dataframe thead th {\n",
       "        text-align: right;\n",
       "    }\n",
       "</style>\n",
       "<table border=\"1\" class=\"dataframe\">\n",
       "  <thead>\n",
       "    <tr style=\"text-align: right;\">\n",
       "      <th></th>\n",
       "      <th>ColorID</th>\n",
       "      <th>ColorName</th>\n",
       "    </tr>\n",
       "  </thead>\n",
       "  <tbody>\n",
       "    <tr>\n",
       "      <th>0</th>\n",
       "      <td>1</td>\n",
       "      <td>Azure</td>\n",
       "    </tr>\n",
       "    <tr>\n",
       "      <th>1</th>\n",
       "      <td>2</td>\n",
       "      <td>Beige</td>\n",
       "    </tr>\n",
       "    <tr>\n",
       "      <th>2</th>\n",
       "      <td>3</td>\n",
       "      <td>Black</td>\n",
       "    </tr>\n",
       "    <tr>\n",
       "      <th>3</th>\n",
       "      <td>4</td>\n",
       "      <td>Blue</td>\n",
       "    </tr>\n",
       "    <tr>\n",
       "      <th>4</th>\n",
       "      <td>5</td>\n",
       "      <td>Charcoal</td>\n",
       "    </tr>\n",
       "    <tr>\n",
       "      <th>5</th>\n",
       "      <td>6</td>\n",
       "      <td>Chartreuse</td>\n",
       "    </tr>\n",
       "    <tr>\n",
       "      <th>6</th>\n",
       "      <td>7</td>\n",
       "      <td>Cyan</td>\n",
       "    </tr>\n",
       "    <tr>\n",
       "      <th>7</th>\n",
       "      <td>8</td>\n",
       "      <td>Dark Brown</td>\n",
       "    </tr>\n",
       "    <tr>\n",
       "      <th>8</th>\n",
       "      <td>9</td>\n",
       "      <td>Dark Green</td>\n",
       "    </tr>\n",
       "    <tr>\n",
       "      <th>9</th>\n",
       "      <td>10</td>\n",
       "      <td>Fuchsia</td>\n",
       "    </tr>\n",
       "    <tr>\n",
       "      <th>10</th>\n",
       "      <td>11</td>\n",
       "      <td>Gold</td>\n",
       "    </tr>\n",
       "    <tr>\n",
       "      <th>11</th>\n",
       "      <td>12</td>\n",
       "      <td>Steel Gray</td>\n",
       "    </tr>\n",
       "    <tr>\n",
       "      <th>12</th>\n",
       "      <td>13</td>\n",
       "      <td>Hot Pink</td>\n",
       "    </tr>\n",
       "    <tr>\n",
       "      <th>13</th>\n",
       "      <td>14</td>\n",
       "      <td>Indigo</td>\n",
       "    </tr>\n",
       "    <tr>\n",
       "      <th>14</th>\n",
       "      <td>15</td>\n",
       "      <td>Ivory</td>\n",
       "    </tr>\n",
       "    <tr>\n",
       "      <th>15</th>\n",
       "      <td>16</td>\n",
       "      <td>Khaki</td>\n",
       "    </tr>\n",
       "    <tr>\n",
       "      <th>16</th>\n",
       "      <td>17</td>\n",
       "      <td>Lavender</td>\n",
       "    </tr>\n",
       "    <tr>\n",
       "      <th>17</th>\n",
       "      <td>18</td>\n",
       "      <td>Light Brown</td>\n",
       "    </tr>\n",
       "    <tr>\n",
       "      <th>18</th>\n",
       "      <td>19</td>\n",
       "      <td>Light Green</td>\n",
       "    </tr>\n",
       "    <tr>\n",
       "      <th>19</th>\n",
       "      <td>20</td>\n",
       "      <td>Maroon</td>\n",
       "    </tr>\n",
       "    <tr>\n",
       "      <th>20</th>\n",
       "      <td>21</td>\n",
       "      <td>Mauve</td>\n",
       "    </tr>\n",
       "    <tr>\n",
       "      <th>21</th>\n",
       "      <td>22</td>\n",
       "      <td>Navy Blue</td>\n",
       "    </tr>\n",
       "    <tr>\n",
       "      <th>22</th>\n",
       "      <td>23</td>\n",
       "      <td>Olive</td>\n",
       "    </tr>\n",
       "    <tr>\n",
       "      <th>23</th>\n",
       "      <td>24</td>\n",
       "      <td>Orange</td>\n",
       "    </tr>\n",
       "    <tr>\n",
       "      <th>24</th>\n",
       "      <td>25</td>\n",
       "      <td>Plum</td>\n",
       "    </tr>\n",
       "    <tr>\n",
       "      <th>25</th>\n",
       "      <td>26</td>\n",
       "      <td>Puce</td>\n",
       "    </tr>\n",
       "    <tr>\n",
       "      <th>26</th>\n",
       "      <td>27</td>\n",
       "      <td>Purple</td>\n",
       "    </tr>\n",
       "    <tr>\n",
       "      <th>27</th>\n",
       "      <td>28</td>\n",
       "      <td>Red</td>\n",
       "    </tr>\n",
       "    <tr>\n",
       "      <th>28</th>\n",
       "      <td>29</td>\n",
       "      <td>Royal Blue</td>\n",
       "    </tr>\n",
       "    <tr>\n",
       "      <th>29</th>\n",
       "      <td>30</td>\n",
       "      <td>Salmon</td>\n",
       "    </tr>\n",
       "    <tr>\n",
       "      <th>30</th>\n",
       "      <td>31</td>\n",
       "      <td>Silver</td>\n",
       "    </tr>\n",
       "    <tr>\n",
       "      <th>31</th>\n",
       "      <td>32</td>\n",
       "      <td>Tan</td>\n",
       "    </tr>\n",
       "    <tr>\n",
       "      <th>32</th>\n",
       "      <td>33</td>\n",
       "      <td>Teal</td>\n",
       "    </tr>\n",
       "    <tr>\n",
       "      <th>33</th>\n",
       "      <td>34</td>\n",
       "      <td>Wheat</td>\n",
       "    </tr>\n",
       "    <tr>\n",
       "      <th>34</th>\n",
       "      <td>35</td>\n",
       "      <td>White</td>\n",
       "    </tr>\n",
       "    <tr>\n",
       "      <th>35</th>\n",
       "      <td>36</td>\n",
       "      <td>Yellow</td>\n",
       "    </tr>\n",
       "  </tbody>\n",
       "</table>\n",
       "</div>"
      ],
      "text/plain": [
       "    ColorID    ColorName\n",
       "0         1        Azure\n",
       "1         2        Beige\n",
       "2         3        Black\n",
       "3         4         Blue\n",
       "4         5     Charcoal\n",
       "5         6   Chartreuse\n",
       "6         7         Cyan\n",
       "7         8   Dark Brown\n",
       "8         9   Dark Green\n",
       "9        10      Fuchsia\n",
       "10       11         Gold\n",
       "11       12   Steel Gray\n",
       "12       13     Hot Pink\n",
       "13       14       Indigo\n",
       "14       15        Ivory\n",
       "15       16        Khaki\n",
       "16       17     Lavender\n",
       "17       18  Light Brown\n",
       "18       19  Light Green\n",
       "19       20       Maroon\n",
       "20       21        Mauve\n",
       "21       22    Navy Blue\n",
       "22       23        Olive\n",
       "23       24       Orange\n",
       "24       25         Plum\n",
       "25       26         Puce\n",
       "26       27       Purple\n",
       "27       28          Red\n",
       "28       29   Royal Blue\n",
       "29       30       Salmon\n",
       "30       31       Silver\n",
       "31       32          Tan\n",
       "32       33         Teal\n",
       "33       34        Wheat\n",
       "34       35        White\n",
       "35       36       Yellow"
      ]
     },
     "execution_count": 58,
     "metadata": {},
     "output_type": "execute_result"
    }
   ],
   "source": [
    "i = 0\n",
    "warehouse_data[i]"
   ]
  },
  {
   "cell_type": "code",
   "execution_count": 50,
   "id": "b068799a",
   "metadata": {},
   "outputs": [
    {
     "data": {
      "application/vnd.jupyter.widget-view+json": {
       "model_id": "a21cb6d7bf804bb499b3bb25cbae7e74",
       "version_major": 2,
       "version_minor": 0
      },
      "text/plain": [
       "  0%|          | 0/10 [00:00<?, ?it/s]"
      ]
     },
     "metadata": {},
     "output_type": "display_data"
    },
    {
     "name": "stdout",
     "output_type": "stream",
     "text": [
      "1\n",
      "Novelty Items\n",
      "\n",
      "2\n",
      "Clothing\n",
      "\n",
      "3\n",
      "Mugs\n",
      "\n",
      "4\n",
      "T-Shirts\n",
      "\n",
      "5\n",
      "Airline Novelties\n",
      "\n",
      "6\n",
      "Computing Novelties\n",
      "\n",
      "7\n",
      "USB Novelties\n",
      "\n",
      "8\n",
      "Furry Footwear\n",
      "\n",
      "9\n",
      "Toys\n",
      "\n",
      "10\n",
      "Packaging Materials\n",
      "\n"
     ]
    }
   ],
   "source": [
    "for row_id in tqdm(range(warehouse_data[i].shape[0])):\n",
    "\n",
    "    for col_id in range(warehouse_data[i].shape[1]):\n",
    "        \n",
    "        print(warehouse_data[i].iloc[row_id,col_id])\n",
    "        \n",
    "    print()"
   ]
  },
  {
   "cell_type": "code",
   "execution_count": 100,
   "id": "835c1166",
   "metadata": {},
   "outputs": [],
   "source": [
    "# Adapted from:\n",
    "# https://nicksardo.wordpress.com/2015/11/24/transferring-data-between-mysql-and-mongodb/\n",
    "\n",
    "def add_csv(table_index):\n",
    "    \n",
    "    table_name = table_names[i]\n",
    "    \n",
    "    # Print table name\n",
    "    print('Migrating table', table_name)\n",
    "    \n",
    "    # Get names of the columns of this table\n",
    "    cols = list(warehouse_data[i].columns)\n",
    "    \n",
    "    # Create mongodb collection\n",
    "    collection = db[table_name]\n",
    "    \n",
    "    # Get row count and print it\n",
    "    row_count = warehouse_data[i].shape[0]\n",
    "    print('Rows in this table:', str(row_count))\n",
    "    \n",
    "    #mongo client specifically requires python dict\n",
    "    cus = dict()\n",
    "\n",
    "    #custom record id rather than mongodb default hash id                                          \n",
    "    cid = 0                                                 \n",
    "\n",
    "    #cycle through each mySQL row\n",
    "    \n",
    "    #for ( row ) in tqdm(mycursor):\n",
    "    for row_id in tqdm(range(warehouse_data[i].shape[0])):\n",
    "        \n",
    "        cid        += 1   #increment id\n",
    "        cus['_id'] = cid                                    \n",
    "\n",
    "        #check if current row is null\n",
    "        for col_id in range(warehouse_data[i].shape[1]):\n",
    "            \n",
    "            field = warehouse_data[i].iloc[row_id,col_id]\n",
    "            \n",
    "            if field == None:\n",
    "                #if the record is null, skip it                  \n",
    "                continue\n",
    "            \n",
    "            else:\n",
    "                row_title      = \"\".join( cols[col_id] )  \n",
    "                \n",
    "                #if isinstance(field, Decimal):\n",
    "                #    field = float(str(field))\n",
    "                    \n",
    "                #if isinstance(field, date):\n",
    "                #    field = str(field)\n",
    "                \n",
    "                if isinstance(field, np.int64):\n",
    "                    field = int(field)\n",
    "                    \n",
    "                if isinstance(field, np.bool_):\n",
    "                    field = bool(field)\n",
    "                \n",
    "                \n",
    "                \n",
    "                \n",
    "                #add current record's field's title and value             \n",
    "                cus[row_title] = field\n",
    "         \n",
    "        try:\n",
    "            #we've completed processing this row, insert it into mongoldb      \n",
    "            collection.insert_one( cus )\n",
    "        except Exception as e: \n",
    "            print(e)\n",
    "            print(cus)\n",
    "            print()"
   ]
  },
  {
   "cell_type": "code",
   "execution_count": 97,
   "id": "e65450a9",
   "metadata": {},
   "outputs": [
    {
     "data": {
      "text/plain": [
       "5"
      ]
     },
     "execution_count": 97,
     "metadata": {},
     "output_type": "execute_result"
    }
   ],
   "source": [
    "i = 5\n",
    "i"
   ]
  },
  {
   "cell_type": "code",
   "execution_count": 77,
   "id": "28d041a3",
   "metadata": {},
   "outputs": [
    {
     "name": "stdout",
     "output_type": "stream",
     "text": [
      "Migrating table Warehouse_Colors\n",
      "Rows in this table: 36\n"
     ]
    },
    {
     "data": {
      "application/vnd.jupyter.widget-view+json": {
       "model_id": "ec8252c78541403faaec2a13b34254a8",
       "version_major": 2,
       "version_minor": 0
      },
      "text/plain": [
       "  0%|          | 0/36 [00:00<?, ?it/s]"
      ]
     },
     "metadata": {},
     "output_type": "display_data"
    }
   ],
   "source": [
    "add_csv(i)"
   ]
  },
  {
   "cell_type": "code",
   "execution_count": 81,
   "id": "aa350556",
   "metadata": {},
   "outputs": [
    {
     "data": {
      "text/plain": [
       "36"
      ]
     },
     "execution_count": 81,
     "metadata": {},
     "output_type": "execute_result"
    }
   ],
   "source": [
    "db[table_names[i]].count_documents({})"
   ]
  },
  {
   "cell_type": "code",
   "execution_count": 79,
   "id": "053ad0e6",
   "metadata": {},
   "outputs": [
    {
     "name": "stdout",
     "output_type": "stream",
     "text": [
      "Migrating table Warehouse_PackageTypes\n",
      "Rows in this table: 14\n"
     ]
    },
    {
     "data": {
      "application/vnd.jupyter.widget-view+json": {
       "model_id": "4f3e495f9e5f4441a0165f5a855c6906",
       "version_major": 2,
       "version_minor": 0
      },
      "text/plain": [
       "  0%|          | 0/14 [00:00<?, ?it/s]"
      ]
     },
     "metadata": {},
     "output_type": "display_data"
    }
   ],
   "source": [
    "add_csv(i)"
   ]
  },
  {
   "cell_type": "code",
   "execution_count": 84,
   "id": "683cefd6",
   "metadata": {},
   "outputs": [
    {
     "data": {
      "text/plain": [
       "14"
      ]
     },
     "execution_count": 84,
     "metadata": {},
     "output_type": "execute_result"
    }
   ],
   "source": [
    "db[table_names[i]].count_documents({})"
   ]
  },
  {
   "cell_type": "code",
   "execution_count": 86,
   "id": "21557f6a",
   "metadata": {},
   "outputs": [
    {
     "name": "stdout",
     "output_type": "stream",
     "text": [
      "Migrating table Warehouse_StockGroups\n",
      "Rows in this table: 10\n"
     ]
    },
    {
     "data": {
      "application/vnd.jupyter.widget-view+json": {
       "model_id": "7729ad25b4e2420d97daecbba9555dea",
       "version_major": 2,
       "version_minor": 0
      },
      "text/plain": [
       "  0%|          | 0/10 [00:00<?, ?it/s]"
      ]
     },
     "metadata": {},
     "output_type": "display_data"
    }
   ],
   "source": [
    "add_csv(i)"
   ]
  },
  {
   "cell_type": "code",
   "execution_count": 87,
   "id": "20901ae1",
   "metadata": {},
   "outputs": [
    {
     "data": {
      "text/plain": [
       "10"
      ]
     },
     "execution_count": 87,
     "metadata": {},
     "output_type": "execute_result"
    }
   ],
   "source": [
    "db[table_names[i]].count_documents({})"
   ]
  },
  {
   "cell_type": "code",
   "execution_count": 92,
   "id": "9a6e7d75",
   "metadata": {},
   "outputs": [
    {
     "name": "stdout",
     "output_type": "stream",
     "text": [
      "Migrating table Warehouse_StockItems\n",
      "Rows in this table: 227\n"
     ]
    },
    {
     "data": {
      "application/vnd.jupyter.widget-view+json": {
       "model_id": "2eb2f9092f0b45528da219ba08ab82bf",
       "version_major": 2,
       "version_minor": 0
      },
      "text/plain": [
       "  0%|          | 0/227 [00:00<?, ?it/s]"
      ]
     },
     "metadata": {},
     "output_type": "display_data"
    }
   ],
   "source": [
    "add_csv(i)"
   ]
  },
  {
   "cell_type": "code",
   "execution_count": 93,
   "id": "860de54c",
   "metadata": {},
   "outputs": [
    {
     "data": {
      "text/plain": [
       "227"
      ]
     },
     "execution_count": 93,
     "metadata": {},
     "output_type": "execute_result"
    }
   ],
   "source": [
    "db[table_names[i]].count_documents({})"
   ]
  },
  {
   "cell_type": "code",
   "execution_count": 95,
   "id": "5f8af234",
   "metadata": {},
   "outputs": [
    {
     "name": "stdout",
     "output_type": "stream",
     "text": [
      "Migrating table Warehouse_StockItemStockGroups\n",
      "Rows in this table: 442\n"
     ]
    },
    {
     "data": {
      "application/vnd.jupyter.widget-view+json": {
       "model_id": "d7cfbbcaa69a41c2937203b5d726f31b",
       "version_major": 2,
       "version_minor": 0
      },
      "text/plain": [
       "  0%|          | 0/442 [00:00<?, ?it/s]"
      ]
     },
     "metadata": {},
     "output_type": "display_data"
    }
   ],
   "source": [
    "add_csv(i)"
   ]
  },
  {
   "cell_type": "code",
   "execution_count": 96,
   "id": "029bd58f",
   "metadata": {},
   "outputs": [
    {
     "data": {
      "text/plain": [
       "442"
      ]
     },
     "execution_count": 96,
     "metadata": {},
     "output_type": "execute_result"
    }
   ],
   "source": [
    "db[table_names[i]].count_documents({})"
   ]
  },
  {
   "cell_type": "code",
   "execution_count": 98,
   "id": "78c9a3ee",
   "metadata": {},
   "outputs": [
    {
     "name": "stdout",
     "output_type": "stream",
     "text": [
      "Migrating table Warehouse_StockItemTransactions\n",
      "Rows in this table: 236667\n"
     ]
    },
    {
     "data": {
      "application/vnd.jupyter.widget-view+json": {
       "model_id": "e0ea4a29355742ed88c321bc2d7ac529",
       "version_major": 2,
       "version_minor": 0
      },
      "text/plain": [
       "  0%|          | 0/236667 [00:00<?, ?it/s]"
      ]
     },
     "metadata": {},
     "output_type": "display_data"
    }
   ],
   "source": [
    "add_csv(i)"
   ]
  },
  {
   "cell_type": "code",
   "execution_count": 101,
   "id": "ea21b123",
   "metadata": {},
   "outputs": [
    {
     "data": {
      "text/plain": [
       "236667"
      ]
     },
     "execution_count": 101,
     "metadata": {},
     "output_type": "execute_result"
    }
   ],
   "source": [
    "db[table_names[i]].count_documents({})"
   ]
  },
  {
   "cell_type": "code",
   "execution_count": 102,
   "id": "2391dfd1",
   "metadata": {
    "scrolled": true
   },
   "outputs": [
    {
     "name": "stdout",
     "output_type": "stream",
     "text": [
      "Warehouse_Colors\n",
      "Csv row count:\n",
      "36\n",
      "Mongo db document count:\n",
      "36\n",
      "Warehouse_PackageTypes\n",
      "Csv row count:\n",
      "14\n",
      "Mongo db document count:\n",
      "14\n",
      "Warehouse_StockGroups\n",
      "Csv row count:\n",
      "10\n",
      "Mongo db document count:\n",
      "10\n",
      "Warehouse_StockItems\n",
      "Csv row count:\n",
      "227\n",
      "Mongo db document count:\n",
      "227\n",
      "Warehouse_StockItemStockGroups\n",
      "Csv row count:\n",
      "442\n",
      "Mongo db document count:\n",
      "442\n",
      "Warehouse_StockItemTransactions\n",
      "Csv row count:\n",
      "236667\n",
      "Mongo db document count:\n",
      "236667\n"
     ]
    }
   ],
   "source": [
    "# Compare sql table sizes to mongo collection sizes\n",
    "for i in range(len(table_names)):\n",
    "    \n",
    "    # Get table name\n",
    "    table_name = table_names[i]\n",
    "    \n",
    "    # Get row count for csv\n",
    "    csv_count = warehouse_data[i].shape[0]\n",
    "    \n",
    "    # Get row count for mongo db\n",
    "    mongo_count = db[table_name].count_documents({})\n",
    "    \n",
    "    # Print row counts\n",
    "    print(table_name)\n",
    "    print('Csv row count:')\n",
    "    print(csv_count)\n",
    "    print('Mongo db document count:')\n",
    "    print(mongo_count)"
   ]
  },
  {
   "cell_type": "markdown",
   "id": "76db5d8b",
   "metadata": {},
   "source": [
    "# Part 3: Add JSON data"
   ]
  },
  {
   "cell_type": "markdown",
   "id": "bc596dfe",
   "metadata": {},
   "source": [
    "## Imports"
   ]
  },
  {
   "cell_type": "code",
   "execution_count": 20,
   "id": "0bf36f28",
   "metadata": {},
   "outputs": [],
   "source": [
    "import json\n",
    "from tqdm.notebook import tqdm"
   ]
  },
  {
   "cell_type": "markdown",
   "id": "b5ce56c2",
   "metadata": {},
   "source": [
    "## Connect to mongo database"
   ]
  },
  {
   "cell_type": "code",
   "execution_count": 7,
   "id": "d4b6fd60",
   "metadata": {},
   "outputs": [],
   "source": [
    "# Connect to Mongo server\n",
    "\n",
    "from pymongo import MongoClient\n",
    "\n",
    "host=\"rhea.isegi.unl.pt\"\n",
    "port=\"27049\"\n",
    "user=\"GROUP_32\"\n",
    "password=\"bRG2XjRZhrRA9IfpmENyXxMlWQDUJdzL\"\n",
    "protocol=\"mongodb\"\n",
    "client = MongoClient(f\"{protocol}://{user}:{password}@{host}:{port}\")"
   ]
  },
  {
   "cell_type": "code",
   "execution_count": 8,
   "id": "466927aa",
   "metadata": {},
   "outputs": [],
   "source": [
    "# Connect to mongo db\n",
    "db = client.#database name here"
   ]
  },
  {
   "cell_type": "markdown",
   "id": "fade58f0",
   "metadata": {},
   "source": [
    "## Add json data to mongo database"
   ]
  },
  {
   "cell_type": "code",
   "execution_count": 9,
   "id": "66e9d14a",
   "metadata": {},
   "outputs": [],
   "source": [
    "json_dir_first_part = '/Users/philippmetzger/Documents/GitHub/BDMM/Homework 3/BDMM - 3rd Homework-20210520/json/Project_WWI_'\n",
    "json_names = ['Application_Cities', 'Application_Countries', 'Application_DeliveryMethods', \n",
    "              'Application_PaymentMethods', 'Application_People', 'Application_StateProvinces',\n",
    "              'Application_TransactionTypes']\n",
    "application_data = []"
   ]
  },
  {
   "cell_type": "code",
   "execution_count": 21,
   "id": "03374796",
   "metadata": {},
   "outputs": [],
   "source": [
    "# Adapted from:\n",
    "# https://www.geeksforgeeks.org/how-to-import-json-file-in-mongodb-using-python/\n",
    "\n",
    "def add_json(file_index):\n",
    "    \n",
    "    path = json_dir_first_part + json_names[file_index] + '.json'\n",
    "    \n",
    "    collection = db[json_names[file_index]]\n",
    "    \n",
    "    with open(path) as file:\n",
    "        file_data = json.load(file)\n",
    "        \n",
    "    if isinstance(file_data, list):\n",
    "        collection.insert_many(file_data)  \n",
    "    else:\n",
    "        collection.insert_one(file_data)"
   ]
  },
  {
   "cell_type": "code",
   "execution_count": 22,
   "id": "50d2a319",
   "metadata": {
    "scrolled": true
   },
   "outputs": [
    {
     "data": {
      "application/vnd.jupyter.widget-view+json": {
       "model_id": "e13b462c5f8a4e338b3f3356bbb5985e",
       "version_major": 2,
       "version_minor": 0
      },
      "text/plain": [
       "  0%|          | 0/7 [00:00<?, ?it/s]"
      ]
     },
     "metadata": {},
     "output_type": "display_data"
    }
   ],
   "source": [
    "for i in tqdm(range(7)):\n",
    "    add_json(i)"
   ]
  },
  {
   "cell_type": "markdown",
   "id": "5685c475",
   "metadata": {},
   "source": [
    "# Part 4: Denormalise the database"
   ]
  },
  {
   "cell_type": "markdown",
   "id": "c85ac6a0",
   "metadata": {},
   "source": [
    "## Imports"
   ]
  },
  {
   "cell_type": "code",
   "execution_count": 1,
   "id": "eae28ce3",
   "metadata": {},
   "outputs": [],
   "source": [
    "from pymongo import MongoClient\n",
    "from tqdm.notebook import tqdm\n",
    "from pprint import pprint\n",
    "import numpy as np\n",
    "import math"
   ]
  },
  {
   "cell_type": "markdown",
   "id": "b7145252",
   "metadata": {},
   "source": [
    "## Connect to mongo db"
   ]
  },
  {
   "cell_type": "code",
   "execution_count": 2,
   "id": "5f1c38ea",
   "metadata": {},
   "outputs": [],
   "source": [
    "# Connect to Mongo server\n",
    "host=\"rhea.isegi.unl.pt\"\n",
    "port=\"27049\"\n",
    "user=\"GROUP_32\"\n",
    "password=\"bRG2XjRZhrRA9IfpmENyXxMlWQDUJdzL\"\n",
    "protocol=\"mongodb\"\n",
    "client = MongoClient(f\"{protocol}://{user}:{password}@{host}:{port}\")\n",
    "\n",
    "# Connect to mongo db\n",
    "db = client.#database name here"
   ]
  },
  {
   "cell_type": "markdown",
   "id": "1d6c2a7b",
   "metadata": {},
   "source": [
    "## Define an embed() function"
   ]
  },
  {
   "cell_type": "code",
   "execution_count": 3,
   "id": "b0556ff2",
   "metadata": {},
   "outputs": [],
   "source": [
    "def embed(linking_attribute_parent, linking_attribute_child, new_attribute, parent_collection, child_collection):\n",
    "    \n",
    "    # Get the distinct values in the parent collection that point to the child collection's entries of interest\n",
    "    linking_attribute_values_in_parent_collection = db[parent_collection].find( {}, {linking_attribute_parent:1, '_id':0}).distinct(linking_attribute_parent)\n",
    "\n",
    "    # Iterate over them\n",
    "    for value in tqdm(linking_attribute_values_in_parent_collection):\n",
    "\n",
    "        # If there is a nan, skip it\n",
    "        if not math.isnan(value):\n",
    "            \n",
    "            # Find the respective documents in the child collection (that will be embedded)\n",
    "            to_embed = list(db[child_collection].find( {linking_attribute_child:value}, {'_id':0} ))\n",
    "\n",
    "            # If only one document will be embedded, remove the list around it\n",
    "            # If multiple documents will be embedded, they will be interted as a list\n",
    "            if len(to_embed) == 1:\n",
    "                to_embed = to_embed[0]\n",
    "\n",
    "            # Embed them in the parent collection's respective entries\n",
    "            db[parent_collection].update_many( {linking_attribute_parent:value}, {'$set': {new_attribute:to_embed} } )\n",
    "            \n",
    "            # Commented out because descreases usability in certain situations:\n",
    "            # Remove ID field from parent collection\n",
    "            #db[parent_collection].update_many( {linking_attribute_parent:value}, {'$unset': { linking_attribute_parent:'' } } )"
   ]
  },
  {
   "cell_type": "markdown",
   "id": "aafdcf80",
   "metadata": {},
   "source": [
    "## Embed Application_Countries in Application_StateProvinces"
   ]
  },
  {
   "cell_type": "code",
   "execution_count": 4,
   "id": "529f03f9",
   "metadata": {},
   "outputs": [
    {
     "data": {
      "application/vnd.jupyter.widget-view+json": {
       "model_id": "b928be6a628d406da2bf6f05a8cca41b",
       "version_major": 2,
       "version_minor": 0
      },
      "text/plain": [
       "  0%|          | 0/1 [00:00<?, ?it/s]"
      ]
     },
     "metadata": {},
     "output_type": "display_data"
    },
    {
     "name": "stdout",
     "output_type": "stream",
     "text": [
      "[{'Country': {'Continent': 'North America',\n",
      "              'CountryID': 230,\n",
      "              'CountryName': 'United States',\n",
      "              'CountryType': 'UN Member State',\n",
      "              'FormalName': 'United States of America',\n",
      "              'IsoAlpha3Code': 'USA',\n",
      "              'IsoNumericCode': 840,\n",
      "              'LatestRecordedPopulation': 313973000,\n",
      "              'Region': 'Americas',\n",
      "              'Subregion': 'Northern America'},\n",
      "  'CountryID': 230,\n",
      "  'LatestRecordedPopulation': 5437278,\n",
      "  'SalesTerritory': 'Southeast',\n",
      "  'StateProvinceCode': 'AL',\n",
      "  'StateProvinceID': 1,\n",
      "  'StateProvinceName': 'Alabama',\n",
      "  '_id': ObjectId('60a9208b4b95d601fc64696e')}]\n"
     ]
    }
   ],
   "source": [
    "linking_attribute_parent = 'CountryID'\n",
    "linking_attribute_child = 'CountryID'\n",
    "new_attribute = 'Country'\n",
    "parent_collection = 'Application_StateProvinces'\n",
    "child_collection = 'Application_Countries'\n",
    "\n",
    "embed(linking_attribute_parent, linking_attribute_child, new_attribute, parent_collection, child_collection)\n",
    "\n",
    "pprint(list(db[parent_collection].find( {new_attribute: {\"$exists\": True} } ).limit(1)))"
   ]
  },
  {
   "cell_type": "markdown",
   "id": "1cb5c455",
   "metadata": {},
   "source": [
    "## Embed Application_StateProvinces in Application_Cities"
   ]
  },
  {
   "cell_type": "code",
   "execution_count": 5,
   "id": "7cbc8a1c",
   "metadata": {},
   "outputs": [
    {
     "data": {
      "application/vnd.jupyter.widget-view+json": {
       "model_id": "c2666fbeef8c44c1803ab8a3dcd250fb",
       "version_major": 2,
       "version_minor": 0
      },
      "text/plain": [
       "  0%|          | 0/53 [00:00<?, ?it/s]"
      ]
     },
     "metadata": {},
     "output_type": "display_data"
    },
    {
     "name": "stdout",
     "output_type": "stream",
     "text": [
      "[{'CityID': 1,\n",
      "  'CityName': 'Aaronsburg',\n",
      "  'LatestRecordedPopulation': 613,\n",
      "  'Location': '0xE6100000010C07E11B542C73444087C09140035D53C0',\n",
      "  'StateProvince': {'Country': {'Continent': 'North America',\n",
      "                                'CountryID': 230,\n",
      "                                'CountryName': 'United States',\n",
      "                                'CountryType': 'UN Member State',\n",
      "                                'FormalName': 'United States of America',\n",
      "                                'IsoAlpha3Code': 'USA',\n",
      "                                'IsoNumericCode': 840,\n",
      "                                'LatestRecordedPopulation': 313973000,\n",
      "                                'Region': 'Americas',\n",
      "                                'Subregion': 'Northern America'},\n",
      "                    'CountryID': 230,\n",
      "                    'LatestRecordedPopulation': 13284753,\n",
      "                    'SalesTerritory': 'Mideast',\n",
      "                    'StateProvinceCode': 'PA',\n",
      "                    'StateProvinceID': 39,\n",
      "                    'StateProvinceName': 'Pennsylvania'},\n",
      "  'StateProvinceID': 39,\n",
      "  '_id': ObjectId('60a920874b95d601fc63d017')}]\n"
     ]
    }
   ],
   "source": [
    "linking_attribute_parent = 'StateProvinceID'\n",
    "linking_attribute_child = 'StateProvinceID'\n",
    "new_attribute = 'StateProvince'\n",
    "parent_collection = 'Application_Cities'\n",
    "child_collection = 'Application_StateProvinces'\n",
    "\n",
    "embed(linking_attribute_parent, linking_attribute_child, new_attribute, parent_collection, child_collection)\n",
    "\n",
    "pprint(list(db[parent_collection].find( {new_attribute: {\"$exists\": True} } ).limit(1)))"
   ]
  },
  {
   "cell_type": "markdown",
   "id": "1a2146ca",
   "metadata": {},
   "source": [
    "## Embed Application_Cities in Purchasing_Suppliers (both DeliveryCity and PostalCity)"
   ]
  },
  {
   "cell_type": "code",
   "execution_count": 6,
   "id": "35a5319d",
   "metadata": {},
   "outputs": [
    {
     "data": {
      "application/vnd.jupyter.widget-view+json": {
       "model_id": "e8d59538920244919313b6156433376d",
       "version_major": 2,
       "version_minor": 0
      },
      "text/plain": [
       "  0%|          | 0/12 [00:00<?, ?it/s]"
      ]
     },
     "metadata": {},
     "output_type": "display_data"
    },
    {
     "data": {
      "application/vnd.jupyter.widget-view+json": {
       "model_id": "fa22bbcfac6e420687860172114a5d7c",
       "version_major": 2,
       "version_minor": 0
      },
      "text/plain": [
       "  0%|          | 0/12 [00:00<?, ?it/s]"
      ]
     },
     "metadata": {},
     "output_type": "display_data"
    },
    {
     "name": "stdout",
     "output_type": "stream",
     "text": [
      "[{'AlternateContactPersonID': 22,\n",
      "  'BankAccountBranch': 'Woodgrove Bank Zionsville',\n",
      "  'BankAccountCode': '356981',\n",
      "  'BankAccountName': 'A Datum Corporation',\n",
      "  'BankAccountNumber': '8575824136',\n",
      "  'BankInternationalCode': '25986',\n",
      "  'DeliveryAddressLine1': 'Suite 10',\n",
      "  'DeliveryAddressLine2': '183838 Southwest Boulevard',\n",
      "  'DeliveryCity': {'CityID': 38171,\n",
      "                   'CityName': 'Zionsville',\n",
      "                   'LatestRecordedPopulation': 14160,\n",
      "                   'Location': '0xE6100000010CDE115F37B6F9434031276893C39055C0',\n",
      "                   'StateProvince': {'Country': {'Continent': 'North America',\n",
      "                                                 'CountryID': 230,\n",
      "                                                 'CountryName': 'United States',\n",
      "                                                 'CountryType': 'UN Member '\n",
      "                                                                'State',\n",
      "                                                 'FormalName': 'United States '\n",
      "                                                               'of America',\n",
      "                                                 'IsoAlpha3Code': 'USA',\n",
      "                                                 'IsoNumericCode': 840,\n",
      "                                                 'LatestRecordedPopulation': 313973000,\n",
      "                                                 'Region': 'Americas',\n",
      "                                                 'Subregion': 'Northern '\n",
      "                                                              'America'},\n",
      "                                     'CountryID': 230,\n",
      "                                     'LatestRecordedPopulation': 6570902,\n",
      "                                     'SalesTerritory': 'Great Lakes',\n",
      "                                     'StateProvinceCode': 'IN',\n",
      "                                     'StateProvinceID': 15,\n",
      "                                     'StateProvinceName': 'Indiana'},\n",
      "                   'StateProvinceID': 15},\n",
      "  'DeliveryCityID': 38171,\n",
      "  'DeliveryLocationLat': 39.9509,\n",
      "  'DeliveryLocationLong': -86.2619,\n",
      "  'DeliveryMethodID': 7,\n",
      "  'DeliveryPostalCode': '46077',\n",
      "  'FaxNumber': '(847) 555-0101',\n",
      "  'PaymentDays': 14,\n",
      "  'PhoneNumber': '(847) 555-0100',\n",
      "  'PostalAddressLine1': 'PO Box 1039',\n",
      "  'PostalAddressLine2': 'Surrey',\n",
      "  'PostalCity': {'CityID': 38171,\n",
      "                 'CityName': 'Zionsville',\n",
      "                 'LatestRecordedPopulation': 14160,\n",
      "                 'Location': '0xE6100000010CDE115F37B6F9434031276893C39055C0',\n",
      "                 'StateProvince': {'Country': {'Continent': 'North America',\n",
      "                                               'CountryID': 230,\n",
      "                                               'CountryName': 'United States',\n",
      "                                               'CountryType': 'UN Member State',\n",
      "                                               'FormalName': 'United States of '\n",
      "                                                             'America',\n",
      "                                               'IsoAlpha3Code': 'USA',\n",
      "                                               'IsoNumericCode': 840,\n",
      "                                               'LatestRecordedPopulation': 313973000,\n",
      "                                               'Region': 'Americas',\n",
      "                                               'Subregion': 'Northern America'},\n",
      "                                   'CountryID': 230,\n",
      "                                   'LatestRecordedPopulation': 6570902,\n",
      "                                   'SalesTerritory': 'Great Lakes',\n",
      "                                   'StateProvinceCode': 'IN',\n",
      "                                   'StateProvinceID': 15,\n",
      "                                   'StateProvinceName': 'Indiana'},\n",
      "                 'StateProvinceID': 15},\n",
      "  'PostalCityID': 38171,\n",
      "  'PostalPostalCode': '46077',\n",
      "  'PrimaryContactPersonID': 21,\n",
      "  'SupplierCategoryID': 2,\n",
      "  'SupplierID': 1,\n",
      "  'SupplierName': 'A Datum Corporation',\n",
      "  'SupplierReference': 'AA20384',\n",
      "  'WebsiteURL': 'http://www.adatum.com',\n",
      "  '_id': 1}]\n"
     ]
    }
   ],
   "source": [
    "linking_attribute_parent = 'DeliveryCityID'\n",
    "linking_attribute_child = 'CityID'\n",
    "new_attribute = 'DeliveryCity'\n",
    "parent_collection = 'Purchasing_Suppliers'\n",
    "child_collection = 'Application_Cities'\n",
    "\n",
    "embed(linking_attribute_parent, linking_attribute_child, new_attribute, parent_collection, child_collection)\n",
    "\n",
    "linking_attribute_parent = 'PostalCityID'\n",
    "linking_attribute_child = 'CityID'\n",
    "new_attribute = 'PostalCity'\n",
    "parent_collection = 'Purchasing_Suppliers'\n",
    "child_collection = 'Application_Cities'\n",
    "\n",
    "embed(linking_attribute_parent, linking_attribute_child, new_attribute, parent_collection, child_collection)\n",
    "\n",
    "pprint(list(db[parent_collection].find( {new_attribute: {\"$exists\": True} } ).limit(1)))"
   ]
  },
  {
   "cell_type": "markdown",
   "id": "deedce37",
   "metadata": {},
   "source": [
    "## Embed Application_Cities in Sales_Customers (both DeliveryCity and PostalCity)"
   ]
  },
  {
   "cell_type": "code",
   "execution_count": 7,
   "id": "2075b827",
   "metadata": {},
   "outputs": [
    {
     "data": {
      "application/vnd.jupyter.widget-view+json": {
       "model_id": "c0a610c5da33424fbc43bf1bfdaef244",
       "version_major": 2,
       "version_minor": 0
      },
      "text/plain": [
       "  0%|          | 0/655 [00:00<?, ?it/s]"
      ]
     },
     "metadata": {},
     "output_type": "display_data"
    },
    {
     "data": {
      "application/vnd.jupyter.widget-view+json": {
       "model_id": "7f89fde5946044ab945e5752035c5c22",
       "version_major": 2,
       "version_minor": 0
      },
      "text/plain": [
       "  0%|          | 0/655 [00:00<?, ?it/s]"
      ]
     },
     "metadata": {},
     "output_type": "display_data"
    },
    {
     "name": "stdout",
     "output_type": "stream",
     "text": [
      "[{'AccountOpenedDate': '2013-01-01',\n",
      "  'AlternateContactPersonID': 1002,\n",
      "  'BillToCustomerID': 1,\n",
      "  'CustomerCategoryID': 3,\n",
      "  'CustomerID': 1,\n",
      "  'CustomerName': 'Tailspin Toys (Head Office)',\n",
      "  'DeliveryAddressLine1': 'Shop 38',\n",
      "  'DeliveryAddressLine2': '1877 Mittal Road',\n",
      "  'DeliveryCity': {'CityID': 19586,\n",
      "                   'CityName': 'Lisco',\n",
      "                   'LatestRecordedPopulation': None,\n",
      "                   'Location': '0xE6100000010CE73F5A52A4BF444010638852B1A759C0',\n",
      "                   'StateProvince': {'Country': {'Continent': 'North America',\n",
      "                                                 'CountryID': 230,\n",
      "                                                 'CountryName': 'United States',\n",
      "                                                 'CountryType': 'UN Member '\n",
      "                                                                'State',\n",
      "                                                 'FormalName': 'United States '\n",
      "                                                               'of America',\n",
      "                                                 'IsoAlpha3Code': 'USA',\n",
      "                                                 'IsoNumericCode': 840,\n",
      "                                                 'LatestRecordedPopulation': 313973000,\n",
      "                                                 'Region': 'Americas',\n",
      "                                                 'Subregion': 'Northern '\n",
      "                                                              'America'},\n",
      "                                     'CountryID': 230,\n",
      "                                     'LatestRecordedPopulation': 1943256,\n",
      "                                     'SalesTerritory': 'Plains',\n",
      "                                     'StateProvinceCode': 'NE',\n",
      "                                     'StateProvinceID': 28,\n",
      "                                     'StateProvinceName': 'Nebraska'},\n",
      "                   'StateProvinceID': 28},\n",
      "  'DeliveryCityID': 19586,\n",
      "  'DeliveryLocationLat': 41.4972,\n",
      "  'DeliveryLocationLong': -102.62,\n",
      "  'DeliveryMethodID': 3,\n",
      "  'DeliveryPostalCode': '90410',\n",
      "  'DeliveryRun': '',\n",
      "  'FaxNumber': '(308) 555-0101',\n",
      "  'IsOnCreditHold': 0,\n",
      "  'IsStatementSent': 0,\n",
      "  'PaymentDays': 7,\n",
      "  'PhoneNumber': '(308) 555-0100',\n",
      "  'PostalAddressLine1': 'PO Box 8975',\n",
      "  'PostalAddressLine2': 'Ribeiroville',\n",
      "  'PostalCity': {'CityID': 19586,\n",
      "                 'CityName': 'Lisco',\n",
      "                 'LatestRecordedPopulation': None,\n",
      "                 'Location': '0xE6100000010CE73F5A52A4BF444010638852B1A759C0',\n",
      "                 'StateProvince': {'Country': {'Continent': 'North America',\n",
      "                                               'CountryID': 230,\n",
      "                                               'CountryName': 'United States',\n",
      "                                               'CountryType': 'UN Member State',\n",
      "                                               'FormalName': 'United States of '\n",
      "                                                             'America',\n",
      "                                               'IsoAlpha3Code': 'USA',\n",
      "                                               'IsoNumericCode': 840,\n",
      "                                               'LatestRecordedPopulation': 313973000,\n",
      "                                               'Region': 'Americas',\n",
      "                                               'Subregion': 'Northern America'},\n",
      "                                   'CountryID': 230,\n",
      "                                   'LatestRecordedPopulation': 1943256,\n",
      "                                   'SalesTerritory': 'Plains',\n",
      "                                   'StateProvinceCode': 'NE',\n",
      "                                   'StateProvinceID': 28,\n",
      "                                   'StateProvinceName': 'Nebraska'},\n",
      "                 'StateProvinceID': 28},\n",
      "  'PostalCityID': 19586,\n",
      "  'PostalPostalCode': '90410',\n",
      "  'PrimaryContactPersonID': 1001,\n",
      "  'RunPosition': '',\n",
      "  'StandardDiscountPercentage': 0.0,\n",
      "  'WebsiteURL': 'http://www.tailspintoys.com',\n",
      "  '_id': 1}]\n"
     ]
    }
   ],
   "source": [
    "linking_attribute_parent = 'DeliveryCityID'\n",
    "linking_attribute_child = 'CityID'\n",
    "new_attribute = 'DeliveryCity'\n",
    "parent_collection = 'Sales_Customers'\n",
    "child_collection = 'Application_Cities'\n",
    "\n",
    "embed(linking_attribute_parent, linking_attribute_child, new_attribute, parent_collection, child_collection)\n",
    "\n",
    "linking_attribute_parent = 'PostalCityID'\n",
    "linking_attribute_child = 'CityID'\n",
    "new_attribute = 'PostalCity'\n",
    "parent_collection = 'Sales_Customers'\n",
    "child_collection = 'Application_Cities'\n",
    "\n",
    "embed(linking_attribute_parent, linking_attribute_child, new_attribute, parent_collection, child_collection)\n",
    "\n",
    "pprint(list(db[parent_collection].find( {new_attribute: {\"$exists\": True} } ).limit(1)))"
   ]
  },
  {
   "cell_type": "markdown",
   "id": "c5deb077",
   "metadata": {},
   "source": [
    "## Embed Application_DeliveryMethods in Purchasing_PurchaseOrders"
   ]
  },
  {
   "cell_type": "code",
   "execution_count": 8,
   "id": "13da415a",
   "metadata": {},
   "outputs": [
    {
     "data": {
      "application/vnd.jupyter.widget-view+json": {
       "model_id": "b37285cb2b024614982cdca30c67bf56",
       "version_major": 2,
       "version_minor": 0
      },
      "text/plain": [
       "  0%|          | 0/5 [00:00<?, ?it/s]"
      ]
     },
     "metadata": {},
     "output_type": "display_data"
    },
    {
     "name": "stdout",
     "output_type": "stream",
     "text": [
      "[{'ContactPersonID': 2,\n",
      "  'DeliveryMethod': {'DeliveryMethodID': 2, 'DeliveryMethodName': 'Courier'},\n",
      "  'DeliveryMethodID': 2,\n",
      "  'ExpectedDeliveryDate': '2014-09-18',\n",
      "  'IsOrderFinalized': 1,\n",
      "  'OrderDate': '2014-08-29',\n",
      "  'PurchaseOrderID': 1001,\n",
      "  'SupplierID': 7,\n",
      "  'SupplierReference': 'BC0280982',\n",
      "  '_id': 1001}]\n"
     ]
    }
   ],
   "source": [
    "linking_attribute_parent = 'DeliveryMethodID'\n",
    "linking_attribute_child = 'DeliveryMethodID'\n",
    "new_attribute = 'DeliveryMethod'\n",
    "parent_collection = 'Purchasing_PurchaseOrders'\n",
    "child_collection = 'Application_DeliveryMethods'\n",
    "\n",
    "embed(linking_attribute_parent, linking_attribute_child, new_attribute, parent_collection, child_collection)\n",
    "\n",
    "pprint(list(db[parent_collection].find( {new_attribute: {\"$exists\": True} } ).limit(1)))"
   ]
  },
  {
   "cell_type": "markdown",
   "id": "a1831e0c",
   "metadata": {},
   "source": [
    "## Embed Application_DeliveryMethods in Sales_Invoices"
   ]
  },
  {
   "cell_type": "code",
   "execution_count": 9,
   "id": "5acbcf13",
   "metadata": {},
   "outputs": [
    {
     "data": {
      "application/vnd.jupyter.widget-view+json": {
       "model_id": "5ec1c1a74a8547cc83605b83cc00a02b",
       "version_major": 2,
       "version_minor": 0
      },
      "text/plain": [
       "  0%|          | 0/1 [00:00<?, ?it/s]"
      ]
     },
     "metadata": {},
     "output_type": "display_data"
    },
    {
     "name": "stdout",
     "output_type": "stream",
     "text": [
      "[{'AccountsPersonID': 2001,\n",
      "  'BillToCustomerID': 401,\n",
      "  'ConfirmedDeliveryTime': '2013-02-10 08:40:00',\n",
      "  'ConfirmedReceivedBy': 'Klara Rakus',\n",
      "  'ContactPersonID': 2165,\n",
      "  'CustomerID': 483,\n",
      "  'CustomerPurchaseOrderNumber': '18172',\n",
      "  'DeliveryInstructions': 'Suite 275, 593 Huq Avenue',\n",
      "  'DeliveryMethod': {'DeliveryMethodID': 3,\n",
      "                     'DeliveryMethodName': 'Delivery Van'},\n",
      "  'DeliveryMethodID': 3,\n",
      "  'DeliveryRun': '',\n",
      "  'InvoiceDate': '2013-02-09',\n",
      "  'InvoiceID': 1989,\n",
      "  'IsCreditNote': 0,\n",
      "  'OrderID': 2041,\n",
      "  'PackedByPersonID': 7,\n",
      "  'ReturnedDeliveryData': '{\"Events\": [{ \"Event\":\"Ready for '\n",
      "                          'collection\",\"EventTime\":\"2013-02-09T12:00:00\",\"ConNote\":\"EAN-125-3039\"},{ '\n",
      "                          '\"Event\":\"DeliveryAttempt\",\"EventTime\":\"2013-02-10T08:40:00\",\"ConNote\":\"EAN-125-3039\",\"DriverID\":11,\"Latitude\":33.8487376,\"Longitude\":-82.2598460,\"Status\":\"Delivered\"}],\"DeliveredWhen\":\"2013-02-10T08:40:00\",\"ReceivedBy\":\"Klara '\n",
      "                          'Rakus\"}',\n",
      "  'RunPosition': '',\n",
      "  'SalespersonPersonID': 2,\n",
      "  'TotalChillerItems': 0,\n",
      "  'TotalDryItems': 3,\n",
      "  '_id': 2001}]\n"
     ]
    }
   ],
   "source": [
    "linking_attribute_parent = 'DeliveryMethodID'\n",
    "linking_attribute_child = 'DeliveryMethodID'\n",
    "new_attribute = 'DeliveryMethod'\n",
    "parent_collection = 'Sales_Invoices'\n",
    "child_collection = 'Application_DeliveryMethods'\n",
    "\n",
    "embed(linking_attribute_parent, linking_attribute_child, new_attribute, parent_collection, child_collection)\n",
    "\n",
    "pprint(list(db[parent_collection].find( {new_attribute: {\"$exists\": True} } ).limit(1)))"
   ]
  },
  {
   "cell_type": "markdown",
   "id": "e6427c69",
   "metadata": {},
   "source": [
    "## Embed Application_DeliveryMethods in Purchasing_Suppliers"
   ]
  },
  {
   "cell_type": "code",
   "execution_count": 10,
   "id": "dabcdb63",
   "metadata": {},
   "outputs": [
    {
     "data": {
      "application/vnd.jupyter.widget-view+json": {
       "model_id": "a751500bb83e4267a83bf1ed32f11896",
       "version_major": 2,
       "version_minor": 0
      },
      "text/plain": [
       "  0%|          | 0/5 [00:00<?, ?it/s]"
      ]
     },
     "metadata": {},
     "output_type": "display_data"
    },
    {
     "name": "stdout",
     "output_type": "stream",
     "text": [
      "[{'AlternateContactPersonID': 22,\n",
      "  'BankAccountBranch': 'Woodgrove Bank Zionsville',\n",
      "  'BankAccountCode': '356981',\n",
      "  'BankAccountName': 'A Datum Corporation',\n",
      "  'BankAccountNumber': '8575824136',\n",
      "  'BankInternationalCode': '25986',\n",
      "  'DeliveryAddressLine1': 'Suite 10',\n",
      "  'DeliveryAddressLine2': '183838 Southwest Boulevard',\n",
      "  'DeliveryCity': {'CityID': 38171,\n",
      "                   'CityName': 'Zionsville',\n",
      "                   'LatestRecordedPopulation': 14160,\n",
      "                   'Location': '0xE6100000010CDE115F37B6F9434031276893C39055C0',\n",
      "                   'StateProvince': {'Country': {'Continent': 'North America',\n",
      "                                                 'CountryID': 230,\n",
      "                                                 'CountryName': 'United States',\n",
      "                                                 'CountryType': 'UN Member '\n",
      "                                                                'State',\n",
      "                                                 'FormalName': 'United States '\n",
      "                                                               'of America',\n",
      "                                                 'IsoAlpha3Code': 'USA',\n",
      "                                                 'IsoNumericCode': 840,\n",
      "                                                 'LatestRecordedPopulation': 313973000,\n",
      "                                                 'Region': 'Americas',\n",
      "                                                 'Subregion': 'Northern '\n",
      "                                                              'America'},\n",
      "                                     'CountryID': 230,\n",
      "                                     'LatestRecordedPopulation': 6570902,\n",
      "                                     'SalesTerritory': 'Great Lakes',\n",
      "                                     'StateProvinceCode': 'IN',\n",
      "                                     'StateProvinceID': 15,\n",
      "                                     'StateProvinceName': 'Indiana'},\n",
      "                   'StateProvinceID': 15},\n",
      "  'DeliveryCityID': 38171,\n",
      "  'DeliveryLocationLat': 39.9509,\n",
      "  'DeliveryLocationLong': -86.2619,\n",
      "  'DeliveryMethod': {'DeliveryMethodID': 7,\n",
      "                     'DeliveryMethodName': 'Road Freight'},\n",
      "  'DeliveryMethodID': 7,\n",
      "  'DeliveryPostalCode': '46077',\n",
      "  'FaxNumber': '(847) 555-0101',\n",
      "  'PaymentDays': 14,\n",
      "  'PhoneNumber': '(847) 555-0100',\n",
      "  'PostalAddressLine1': 'PO Box 1039',\n",
      "  'PostalAddressLine2': 'Surrey',\n",
      "  'PostalCity': {'CityID': 38171,\n",
      "                 'CityName': 'Zionsville',\n",
      "                 'LatestRecordedPopulation': 14160,\n",
      "                 'Location': '0xE6100000010CDE115F37B6F9434031276893C39055C0',\n",
      "                 'StateProvince': {'Country': {'Continent': 'North America',\n",
      "                                               'CountryID': 230,\n",
      "                                               'CountryName': 'United States',\n",
      "                                               'CountryType': 'UN Member State',\n",
      "                                               'FormalName': 'United States of '\n",
      "                                                             'America',\n",
      "                                               'IsoAlpha3Code': 'USA',\n",
      "                                               'IsoNumericCode': 840,\n",
      "                                               'LatestRecordedPopulation': 313973000,\n",
      "                                               'Region': 'Americas',\n",
      "                                               'Subregion': 'Northern America'},\n",
      "                                   'CountryID': 230,\n",
      "                                   'LatestRecordedPopulation': 6570902,\n",
      "                                   'SalesTerritory': 'Great Lakes',\n",
      "                                   'StateProvinceCode': 'IN',\n",
      "                                   'StateProvinceID': 15,\n",
      "                                   'StateProvinceName': 'Indiana'},\n",
      "                 'StateProvinceID': 15},\n",
      "  'PostalCityID': 38171,\n",
      "  'PostalPostalCode': '46077',\n",
      "  'PrimaryContactPersonID': 21,\n",
      "  'SupplierCategoryID': 2,\n",
      "  'SupplierID': 1,\n",
      "  'SupplierName': 'A Datum Corporation',\n",
      "  'SupplierReference': 'AA20384',\n",
      "  'WebsiteURL': 'http://www.adatum.com',\n",
      "  '_id': 1}]\n"
     ]
    }
   ],
   "source": [
    "linking_attribute_parent = 'DeliveryMethodID'\n",
    "linking_attribute_child = 'DeliveryMethodID'\n",
    "new_attribute = 'DeliveryMethod'\n",
    "parent_collection = 'Purchasing_Suppliers'\n",
    "child_collection = 'Application_DeliveryMethods'\n",
    "\n",
    "embed(linking_attribute_parent, linking_attribute_child, new_attribute, parent_collection, child_collection)\n",
    "\n",
    "pprint(list(db[parent_collection].find( {new_attribute: {\"$exists\": True} } ).limit(1)))"
   ]
  },
  {
   "cell_type": "markdown",
   "id": "b51ad523",
   "metadata": {},
   "source": [
    "## Embed Application_DeliveryMethods in Sales_Customers"
   ]
  },
  {
   "cell_type": "code",
   "execution_count": 11,
   "id": "bcdcd6a7",
   "metadata": {},
   "outputs": [
    {
     "data": {
      "application/vnd.jupyter.widget-view+json": {
       "model_id": "321cc4abf4b343e7bcee60f109498b18",
       "version_major": 2,
       "version_minor": 0
      },
      "text/plain": [
       "  0%|          | 0/1 [00:00<?, ?it/s]"
      ]
     },
     "metadata": {},
     "output_type": "display_data"
    },
    {
     "name": "stdout",
     "output_type": "stream",
     "text": [
      "[{'AccountOpenedDate': '2013-01-01',\n",
      "  'AlternateContactPersonID': 1002,\n",
      "  'BillToCustomerID': 1,\n",
      "  'CustomerCategoryID': 3,\n",
      "  'CustomerID': 1,\n",
      "  'CustomerName': 'Tailspin Toys (Head Office)',\n",
      "  'DeliveryAddressLine1': 'Shop 38',\n",
      "  'DeliveryAddressLine2': '1877 Mittal Road',\n",
      "  'DeliveryCity': {'CityID': 19586,\n",
      "                   'CityName': 'Lisco',\n",
      "                   'LatestRecordedPopulation': None,\n",
      "                   'Location': '0xE6100000010CE73F5A52A4BF444010638852B1A759C0',\n",
      "                   'StateProvince': {'Country': {'Continent': 'North America',\n",
      "                                                 'CountryID': 230,\n",
      "                                                 'CountryName': 'United States',\n",
      "                                                 'CountryType': 'UN Member '\n",
      "                                                                'State',\n",
      "                                                 'FormalName': 'United States '\n",
      "                                                               'of America',\n",
      "                                                 'IsoAlpha3Code': 'USA',\n",
      "                                                 'IsoNumericCode': 840,\n",
      "                                                 'LatestRecordedPopulation': 313973000,\n",
      "                                                 'Region': 'Americas',\n",
      "                                                 'Subregion': 'Northern '\n",
      "                                                              'America'},\n",
      "                                     'CountryID': 230,\n",
      "                                     'LatestRecordedPopulation': 1943256,\n",
      "                                     'SalesTerritory': 'Plains',\n",
      "                                     'StateProvinceCode': 'NE',\n",
      "                                     'StateProvinceID': 28,\n",
      "                                     'StateProvinceName': 'Nebraska'},\n",
      "                   'StateProvinceID': 28},\n",
      "  'DeliveryCityID': 19586,\n",
      "  'DeliveryLocationLat': 41.4972,\n",
      "  'DeliveryLocationLong': -102.62,\n",
      "  'DeliveryMethod': {'DeliveryMethodID': 3,\n",
      "                     'DeliveryMethodName': 'Delivery Van'},\n",
      "  'DeliveryMethodID': 3,\n",
      "  'DeliveryPostalCode': '90410',\n",
      "  'DeliveryRun': '',\n",
      "  'FaxNumber': '(308) 555-0101',\n",
      "  'IsOnCreditHold': 0,\n",
      "  'IsStatementSent': 0,\n",
      "  'PaymentDays': 7,\n",
      "  'PhoneNumber': '(308) 555-0100',\n",
      "  'PostalAddressLine1': 'PO Box 8975',\n",
      "  'PostalAddressLine2': 'Ribeiroville',\n",
      "  'PostalCity': {'CityID': 19586,\n",
      "                 'CityName': 'Lisco',\n",
      "                 'LatestRecordedPopulation': None,\n",
      "                 'Location': '0xE6100000010CE73F5A52A4BF444010638852B1A759C0',\n",
      "                 'StateProvince': {'Country': {'Continent': 'North America',\n",
      "                                               'CountryID': 230,\n",
      "                                               'CountryName': 'United States',\n",
      "                                               'CountryType': 'UN Member State',\n",
      "                                               'FormalName': 'United States of '\n",
      "                                                             'America',\n",
      "                                               'IsoAlpha3Code': 'USA',\n",
      "                                               'IsoNumericCode': 840,\n",
      "                                               'LatestRecordedPopulation': 313973000,\n",
      "                                               'Region': 'Americas',\n",
      "                                               'Subregion': 'Northern America'},\n",
      "                                   'CountryID': 230,\n",
      "                                   'LatestRecordedPopulation': 1943256,\n",
      "                                   'SalesTerritory': 'Plains',\n",
      "                                   'StateProvinceCode': 'NE',\n",
      "                                   'StateProvinceID': 28,\n",
      "                                   'StateProvinceName': 'Nebraska'},\n",
      "                 'StateProvinceID': 28},\n",
      "  'PostalCityID': 19586,\n",
      "  'PostalPostalCode': '90410',\n",
      "  'PrimaryContactPersonID': 1001,\n",
      "  'RunPosition': '',\n",
      "  'StandardDiscountPercentage': 0.0,\n",
      "  'WebsiteURL': 'http://www.tailspintoys.com',\n",
      "  '_id': 1}]\n"
     ]
    }
   ],
   "source": [
    "linking_attribute_parent = 'DeliveryMethodID'\n",
    "linking_attribute_child = 'DeliveryMethodID'\n",
    "new_attribute = 'DeliveryMethod'\n",
    "parent_collection = 'Sales_Customers'\n",
    "child_collection = 'Application_DeliveryMethods'\n",
    "\n",
    "embed(linking_attribute_parent, linking_attribute_child, new_attribute, parent_collection, child_collection)\n",
    "\n",
    "pprint(list(db[parent_collection].find( {new_attribute: {\"$exists\": True} } ).limit(1)))"
   ]
  },
  {
   "cell_type": "markdown",
   "id": "d08bc1fe",
   "metadata": {},
   "source": [
    "## Embed Sales_CustomerCategories in Sales_Customers"
   ]
  },
  {
   "cell_type": "code",
   "execution_count": 12,
   "id": "b8265c75",
   "metadata": {},
   "outputs": [
    {
     "data": {
      "application/vnd.jupyter.widget-view+json": {
       "model_id": "29b82618d4074ce88ff93841bca80975",
       "version_major": 2,
       "version_minor": 0
      },
      "text/plain": [
       "  0%|          | 0/5 [00:00<?, ?it/s]"
      ]
     },
     "metadata": {},
     "output_type": "display_data"
    },
    {
     "name": "stdout",
     "output_type": "stream",
     "text": [
      "[{'AccountOpenedDate': '2013-01-01',\n",
      "  'AlternateContactPersonID': 1002,\n",
      "  'BillToCustomerID': 1,\n",
      "  'CustomerCategory': {'CustomerCategoryID': 3,\n",
      "                       'CustomerCategoryName': 'Novelty Shop'},\n",
      "  'CustomerCategoryID': 3,\n",
      "  'CustomerID': 1,\n",
      "  'CustomerName': 'Tailspin Toys (Head Office)',\n",
      "  'DeliveryAddressLine1': 'Shop 38',\n",
      "  'DeliveryAddressLine2': '1877 Mittal Road',\n",
      "  'DeliveryCity': {'CityID': 19586,\n",
      "                   'CityName': 'Lisco',\n",
      "                   'LatestRecordedPopulation': None,\n",
      "                   'Location': '0xE6100000010CE73F5A52A4BF444010638852B1A759C0',\n",
      "                   'StateProvince': {'Country': {'Continent': 'North America',\n",
      "                                                 'CountryID': 230,\n",
      "                                                 'CountryName': 'United States',\n",
      "                                                 'CountryType': 'UN Member '\n",
      "                                                                'State',\n",
      "                                                 'FormalName': 'United States '\n",
      "                                                               'of America',\n",
      "                                                 'IsoAlpha3Code': 'USA',\n",
      "                                                 'IsoNumericCode': 840,\n",
      "                                                 'LatestRecordedPopulation': 313973000,\n",
      "                                                 'Region': 'Americas',\n",
      "                                                 'Subregion': 'Northern '\n",
      "                                                              'America'},\n",
      "                                     'CountryID': 230,\n",
      "                                     'LatestRecordedPopulation': 1943256,\n",
      "                                     'SalesTerritory': 'Plains',\n",
      "                                     'StateProvinceCode': 'NE',\n",
      "                                     'StateProvinceID': 28,\n",
      "                                     'StateProvinceName': 'Nebraska'},\n",
      "                   'StateProvinceID': 28},\n",
      "  'DeliveryCityID': 19586,\n",
      "  'DeliveryLocationLat': 41.4972,\n",
      "  'DeliveryLocationLong': -102.62,\n",
      "  'DeliveryMethod': {'DeliveryMethodID': 3,\n",
      "                     'DeliveryMethodName': 'Delivery Van'},\n",
      "  'DeliveryMethodID': 3,\n",
      "  'DeliveryPostalCode': '90410',\n",
      "  'DeliveryRun': '',\n",
      "  'FaxNumber': '(308) 555-0101',\n",
      "  'IsOnCreditHold': 0,\n",
      "  'IsStatementSent': 0,\n",
      "  'PaymentDays': 7,\n",
      "  'PhoneNumber': '(308) 555-0100',\n",
      "  'PostalAddressLine1': 'PO Box 8975',\n",
      "  'PostalAddressLine2': 'Ribeiroville',\n",
      "  'PostalCity': {'CityID': 19586,\n",
      "                 'CityName': 'Lisco',\n",
      "                 'LatestRecordedPopulation': None,\n",
      "                 'Location': '0xE6100000010CE73F5A52A4BF444010638852B1A759C0',\n",
      "                 'StateProvince': {'Country': {'Continent': 'North America',\n",
      "                                               'CountryID': 230,\n",
      "                                               'CountryName': 'United States',\n",
      "                                               'CountryType': 'UN Member State',\n",
      "                                               'FormalName': 'United States of '\n",
      "                                                             'America',\n",
      "                                               'IsoAlpha3Code': 'USA',\n",
      "                                               'IsoNumericCode': 840,\n",
      "                                               'LatestRecordedPopulation': 313973000,\n",
      "                                               'Region': 'Americas',\n",
      "                                               'Subregion': 'Northern America'},\n",
      "                                   'CountryID': 230,\n",
      "                                   'LatestRecordedPopulation': 1943256,\n",
      "                                   'SalesTerritory': 'Plains',\n",
      "                                   'StateProvinceCode': 'NE',\n",
      "                                   'StateProvinceID': 28,\n",
      "                                   'StateProvinceName': 'Nebraska'},\n",
      "                 'StateProvinceID': 28},\n",
      "  'PostalCityID': 19586,\n",
      "  'PostalPostalCode': '90410',\n",
      "  'PrimaryContactPersonID': 1001,\n",
      "  'RunPosition': '',\n",
      "  'StandardDiscountPercentage': 0.0,\n",
      "  'WebsiteURL': 'http://www.tailspintoys.com',\n",
      "  '_id': 1}]\n"
     ]
    }
   ],
   "source": [
    "linking_attribute_parent = 'CustomerCategoryID'\n",
    "linking_attribute_child = 'CustomerCategoryID'\n",
    "new_attribute = 'CustomerCategory'\n",
    "parent_collection = 'Sales_Customers'\n",
    "child_collection = 'Sales_CustomerCategories'\n",
    "\n",
    "embed(linking_attribute_parent, linking_attribute_child, new_attribute, parent_collection, child_collection)\n",
    "\n",
    "pprint(list(db[parent_collection].find( {new_attribute: {\"$exists\": True} } ).limit(1)))"
   ]
  },
  {
   "cell_type": "markdown",
   "id": "c9a7fce6",
   "metadata": {},
   "source": [
    "## Embed Purchasing_SupplierCategories in Purchasing_Suppliers"
   ]
  },
  {
   "cell_type": "code",
   "execution_count": 13,
   "id": "609c7fd0",
   "metadata": {},
   "outputs": [
    {
     "data": {
      "application/vnd.jupyter.widget-view+json": {
       "model_id": "86e6d77bf8f14e3b8c506dd4a1089b4d",
       "version_major": 2,
       "version_minor": 0
      },
      "text/plain": [
       "  0%|          | 0/8 [00:00<?, ?it/s]"
      ]
     },
     "metadata": {},
     "output_type": "display_data"
    },
    {
     "name": "stdout",
     "output_type": "stream",
     "text": [
      "[{'AlternateContactPersonID': 22,\n",
      "  'BankAccountBranch': 'Woodgrove Bank Zionsville',\n",
      "  'BankAccountCode': '356981',\n",
      "  'BankAccountName': 'A Datum Corporation',\n",
      "  'BankAccountNumber': '8575824136',\n",
      "  'BankInternationalCode': '25986',\n",
      "  'DeliveryAddressLine1': 'Suite 10',\n",
      "  'DeliveryAddressLine2': '183838 Southwest Boulevard',\n",
      "  'DeliveryCity': {'CityID': 38171,\n",
      "                   'CityName': 'Zionsville',\n",
      "                   'LatestRecordedPopulation': 14160,\n",
      "                   'Location': '0xE6100000010CDE115F37B6F9434031276893C39055C0',\n",
      "                   'StateProvince': {'Country': {'Continent': 'North America',\n",
      "                                                 'CountryID': 230,\n",
      "                                                 'CountryName': 'United States',\n",
      "                                                 'CountryType': 'UN Member '\n",
      "                                                                'State',\n",
      "                                                 'FormalName': 'United States '\n",
      "                                                               'of America',\n",
      "                                                 'IsoAlpha3Code': 'USA',\n",
      "                                                 'IsoNumericCode': 840,\n",
      "                                                 'LatestRecordedPopulation': 313973000,\n",
      "                                                 'Region': 'Americas',\n",
      "                                                 'Subregion': 'Northern '\n",
      "                                                              'America'},\n",
      "                                     'CountryID': 230,\n",
      "                                     'LatestRecordedPopulation': 6570902,\n",
      "                                     'SalesTerritory': 'Great Lakes',\n",
      "                                     'StateProvinceCode': 'IN',\n",
      "                                     'StateProvinceID': 15,\n",
      "                                     'StateProvinceName': 'Indiana'},\n",
      "                   'StateProvinceID': 15},\n",
      "  'DeliveryCityID': 38171,\n",
      "  'DeliveryLocationLat': 39.9509,\n",
      "  'DeliveryLocationLong': -86.2619,\n",
      "  'DeliveryMethod': {'DeliveryMethodID': 7,\n",
      "                     'DeliveryMethodName': 'Road Freight'},\n",
      "  'DeliveryMethodID': 7,\n",
      "  'DeliveryPostalCode': '46077',\n",
      "  'FaxNumber': '(847) 555-0101',\n",
      "  'PaymentDays': 14,\n",
      "  'PhoneNumber': '(847) 555-0100',\n",
      "  'PostalAddressLine1': 'PO Box 1039',\n",
      "  'PostalAddressLine2': 'Surrey',\n",
      "  'PostalCity': {'CityID': 38171,\n",
      "                 'CityName': 'Zionsville',\n",
      "                 'LatestRecordedPopulation': 14160,\n",
      "                 'Location': '0xE6100000010CDE115F37B6F9434031276893C39055C0',\n",
      "                 'StateProvince': {'Country': {'Continent': 'North America',\n",
      "                                               'CountryID': 230,\n",
      "                                               'CountryName': 'United States',\n",
      "                                               'CountryType': 'UN Member State',\n",
      "                                               'FormalName': 'United States of '\n",
      "                                                             'America',\n",
      "                                               'IsoAlpha3Code': 'USA',\n",
      "                                               'IsoNumericCode': 840,\n",
      "                                               'LatestRecordedPopulation': 313973000,\n",
      "                                               'Region': 'Americas',\n",
      "                                               'Subregion': 'Northern America'},\n",
      "                                   'CountryID': 230,\n",
      "                                   'LatestRecordedPopulation': 6570902,\n",
      "                                   'SalesTerritory': 'Great Lakes',\n",
      "                                   'StateProvinceCode': 'IN',\n",
      "                                   'StateProvinceID': 15,\n",
      "                                   'StateProvinceName': 'Indiana'},\n",
      "                 'StateProvinceID': 15},\n",
      "  'PostalCityID': 38171,\n",
      "  'PostalPostalCode': '46077',\n",
      "  'PrimaryContactPersonID': 21,\n",
      "  'SupplierCategory': {'SupplierCategoryID': 2,\n",
      "                       'SupplierCategoryName': 'Novelty Goods Supplier'},\n",
      "  'SupplierCategoryID': 2,\n",
      "  'SupplierID': 1,\n",
      "  'SupplierName': 'A Datum Corporation',\n",
      "  'SupplierReference': 'AA20384',\n",
      "  'WebsiteURL': 'http://www.adatum.com',\n",
      "  '_id': 1}]\n"
     ]
    }
   ],
   "source": [
    "linking_attribute_parent = 'SupplierCategoryID'\n",
    "linking_attribute_child = 'SupplierCategoryID'\n",
    "new_attribute = 'SupplierCategory'\n",
    "parent_collection = 'Purchasing_Suppliers'\n",
    "child_collection = 'Purchasing_SupplierCategories'\n",
    "\n",
    "embed(linking_attribute_parent, linking_attribute_child, new_attribute, parent_collection, child_collection)\n",
    "\n",
    "pprint(list(db[parent_collection].find( {new_attribute: {\"$exists\": True} } ).limit(1)))"
   ]
  },
  {
   "cell_type": "markdown",
   "id": "586ef8bb",
   "metadata": {},
   "source": [
    "## Embed Warehouse_StockGroups in Warehouse_StockItemStockGroups"
   ]
  },
  {
   "cell_type": "code",
   "execution_count": 14,
   "id": "e29156b7",
   "metadata": {},
   "outputs": [
    {
     "data": {
      "application/vnd.jupyter.widget-view+json": {
       "model_id": "07cee5e4f5e64a2a89ba1a7a457dd481",
       "version_major": 2,
       "version_minor": 0
      },
      "text/plain": [
       "  0%|          | 0/9 [00:00<?, ?it/s]"
      ]
     },
     "metadata": {},
     "output_type": "display_data"
    },
    {
     "name": "stdout",
     "output_type": "stream",
     "text": [
      "[{'StockGroupID': 6,\n",
      "  'StockItemID': 1,\n",
      "  'StockItemStockGroup': {'StockGroupID': 6,\n",
      "                          'StockGroupName': 'Computing Novelties'},\n",
      "  'StockItemStockGroupID': 1,\n",
      "  '_id': 1}]\n"
     ]
    }
   ],
   "source": [
    "linking_attribute_parent = 'StockGroupID'\n",
    "linking_attribute_child = 'StockGroupID'\n",
    "new_attribute = 'StockItemStockGroup'\n",
    "parent_collection = 'Warehouse_StockItemStockGroups'\n",
    "child_collection = 'Warehouse_StockGroups'\n",
    "\n",
    "embed(linking_attribute_parent, linking_attribute_child, new_attribute, parent_collection, child_collection)\n",
    "\n",
    "pprint(list(db[parent_collection].find( {new_attribute: {\"$exists\": True} } ).limit(1)))"
   ]
  },
  {
   "cell_type": "markdown",
   "id": "4dd4103b",
   "metadata": {},
   "source": [
    "## Embed Warehouse_StockItemStockGroups in Warehouse_StockItems"
   ]
  },
  {
   "cell_type": "code",
   "execution_count": 15,
   "id": "d5ad4063",
   "metadata": {},
   "outputs": [
    {
     "data": {
      "application/vnd.jupyter.widget-view+json": {
       "model_id": "142578fbc0eb48258e45da4bdc46a5aa",
       "version_major": 2,
       "version_minor": 0
      },
      "text/plain": [
       "  0%|          | 0/227 [00:00<?, ?it/s]"
      ]
     },
     "metadata": {},
     "output_type": "display_data"
    },
    {
     "name": "stdout",
     "output_type": "stream",
     "text": [
      "{'Barcode': nan,\n",
      " 'Brand': nan,\n",
      " 'ColorID': nan,\n",
      " 'InternalComments': nan,\n",
      " 'IsChillerStock': False,\n",
      " 'LeadTimeDays': 14,\n",
      " 'MarketingComments': 'Complete with 12 projectiles',\n",
      " 'OuterPackageID': 7,\n",
      " 'Photo': nan,\n",
      " 'QuantityPerOuter': 1,\n",
      " 'RecommendedRetailPrice': 37.38,\n",
      " 'SearchDetails': 'USB missile launcher (Green) Complete with 12 projectiles',\n",
      " 'Size': nan,\n",
      " 'StockGroup': [{'StockGroupID': 6,\n",
      "                 'StockItemID': 1,\n",
      "                 'StockItemStockGroup': {'StockGroupID': 6,\n",
      "                                         'StockGroupName': 'Computing '\n",
      "                                                           'Novelties'},\n",
      "                 'StockItemStockGroupID': 1},\n",
      "                {'StockGroupID': 1,\n",
      "                 'StockItemID': 1,\n",
      "                 'StockItemStockGroup': {'StockGroupID': 1,\n",
      "                                         'StockGroupName': 'Novelty Items'},\n",
      "                 'StockItemStockGroupID': 2},\n",
      "                {'StockGroupID': 7,\n",
      "                 'StockItemID': 1,\n",
      "                 'StockItemStockGroup': {'StockGroupID': 7,\n",
      "                                         'StockGroupName': 'USB Novelties'},\n",
      "                 'StockItemStockGroupID': 3}],\n",
      " 'StockItemID': 1,\n",
      " 'StockItemName': 'USB missile launcher (Green)',\n",
      " 'SupplierID': 12,\n",
      " 'TaxRate': 15.0,\n",
      " 'TypicalWeightPerUnit': 0.3,\n",
      " 'UnitPackageID': 7,\n",
      " 'UnitPrice': 25.0,\n",
      " '_id': 1}\n"
     ]
    }
   ],
   "source": [
    "linking_attribute_parent = 'StockItemID'\n",
    "linking_attribute_child = 'StockItemID'\n",
    "new_attribute = 'StockGroup'\n",
    "parent_collection = 'Warehouse_StockItems'\n",
    "child_collection = 'Warehouse_StockItemStockGroups'\n",
    "\n",
    "embed(linking_attribute_parent, linking_attribute_child, new_attribute, parent_collection, child_collection)\n",
    "\n",
    "pprint(db[parent_collection].find_one())"
   ]
  },
  {
   "cell_type": "markdown",
   "id": "66d0d69b",
   "metadata": {},
   "source": [
    "## Embed Application_PaymentMethods in Purchasing_SupplierTransactions"
   ]
  },
  {
   "cell_type": "code",
   "execution_count": 16,
   "id": "a7efb645",
   "metadata": {},
   "outputs": [
    {
     "data": {
      "application/vnd.jupyter.widget-view+json": {
       "model_id": "35eb7718775e4d4f921992ef1afe4c0d",
       "version_major": 2,
       "version_minor": 0
      },
      "text/plain": [
       "  0%|          | 0/1 [00:00<?, ?it/s]"
      ]
     },
     "metadata": {},
     "output_type": "display_data"
    },
    {
     "name": "stdout",
     "output_type": "stream",
     "text": [
      "[{'AmountExcludingTax': 194225.7,\n",
      "  'FinalizationDate': '2014-06-02',\n",
      "  'IsFinalized': 1,\n",
      "  'OutstandingBalance': 0.0,\n",
      "  'PaymentMethod': {'PaymentMethodID': 4, 'PaymentMethodName': 'EFT'},\n",
      "  'PaymentMethodID': 4,\n",
      "  'PurchaseOrderID': 847,\n",
      "  'SupplierID': 7,\n",
      "  'SupplierInvoiceNumber': '3687',\n",
      "  'SupplierTransactionID': 127482,\n",
      "  'TaxAmount': 29133.86,\n",
      "  'TransactionAmount': 223359.56,\n",
      "  'TransactionDate': '2014-05-28',\n",
      "  'TransactionTypeID': 5,\n",
      "  '_id': 1001}]\n"
     ]
    }
   ],
   "source": [
    "linking_attribute_parent = 'PaymentMethodID'\n",
    "linking_attribute_child = 'PaymentMethodID'\n",
    "new_attribute = 'PaymentMethod'\n",
    "parent_collection = 'Purchasing_SupplierTransactions'\n",
    "child_collection = 'Application_PaymentMethods'\n",
    "\n",
    "embed(linking_attribute_parent, linking_attribute_child, new_attribute, parent_collection, child_collection)\n",
    "\n",
    "pprint(list(db[parent_collection].find( {new_attribute: {\"$exists\": True} } ).limit(1)))"
   ]
  },
  {
   "cell_type": "markdown",
   "id": "7eb4aa17",
   "metadata": {},
   "source": [
    "## Embed Application_PaymentMethods in Sales_CustomerTransactions"
   ]
  },
  {
   "cell_type": "code",
   "execution_count": 17,
   "id": "21b50713",
   "metadata": {},
   "outputs": [
    {
     "data": {
      "application/vnd.jupyter.widget-view+json": {
       "model_id": "9b03eaa6a0134f2ea466d2997a8e8b50",
       "version_major": 2,
       "version_minor": 0
      },
      "text/plain": [
       "  0%|          | 0/1 [00:00<?, ?it/s]"
      ]
     },
     "metadata": {},
     "output_type": "display_data"
    },
    {
     "name": "stdout",
     "output_type": "stream",
     "text": [
      "[{'AmountExcludingTax': 0.0,\n",
      "  'CustomerID': 1,\n",
      "  'CustomerTransactionID': 231,\n",
      "  'FinalizationDate': '2013-01-02',\n",
      "  'InvoiceID': 41,\n",
      "  'IsFinalized': 1,\n",
      "  'OutstandingBalance': 0.0,\n",
      "  'PaymentMethod': {'PaymentMethodID': 4, 'PaymentMethodName': 'EFT'},\n",
      "  'PaymentMethodID': 4,\n",
      "  'TaxAmount': 0.0,\n",
      "  'TransactionAmount': -9513.49,\n",
      "  'TransactionDate': '2013-01-02',\n",
      "  'TransactionTypeID': 3,\n",
      "  '_id': 42}]\n"
     ]
    }
   ],
   "source": [
    "linking_attribute_parent = 'PaymentMethodID'\n",
    "linking_attribute_child = 'PaymentMethodID'\n",
    "new_attribute = 'PaymentMethod'\n",
    "parent_collection = 'Sales_CustomerTransactions'\n",
    "child_collection = 'Application_PaymentMethods'\n",
    "\n",
    "embed(linking_attribute_parent, linking_attribute_child, new_attribute, parent_collection, child_collection)\n",
    "\n",
    "pprint(list(db[parent_collection].find( {new_attribute: {\"$exists\": True} } ).limit(1)))"
   ]
  },
  {
   "cell_type": "markdown",
   "id": "ea4935e3",
   "metadata": {},
   "source": [
    "## Embed Application_TransactionTypes in Purchasing_SupplierTransactions"
   ]
  },
  {
   "cell_type": "code",
   "execution_count": 18,
   "id": "e14f0594",
   "metadata": {},
   "outputs": [
    {
     "data": {
      "application/vnd.jupyter.widget-view+json": {
       "model_id": "76e8ec16653a403198a95bcc892f4f38",
       "version_major": 2,
       "version_minor": 0
      },
      "text/plain": [
       "  0%|          | 0/2 [00:00<?, ?it/s]"
      ]
     },
     "metadata": {},
     "output_type": "display_data"
    },
    {
     "name": "stdout",
     "output_type": "stream",
     "text": [
      "[{'AmountExcludingTax': 194225.7,\n",
      "  'FinalizationDate': '2014-06-02',\n",
      "  'IsFinalized': 1,\n",
      "  'OutstandingBalance': 0.0,\n",
      "  'PaymentMethod': {'PaymentMethodID': 4, 'PaymentMethodName': 'EFT'},\n",
      "  'PaymentMethodID': 4,\n",
      "  'PurchaseOrderID': 847,\n",
      "  'SupplierID': 7,\n",
      "  'SupplierInvoiceNumber': '3687',\n",
      "  'SupplierTransactionID': 127482,\n",
      "  'TaxAmount': 29133.86,\n",
      "  'TransactionAmount': 223359.56,\n",
      "  'TransactionDate': '2014-05-28',\n",
      "  'TransactionType': {'TransactionTypeID': 5,\n",
      "                      'TransactionTypeName': 'Supplier Invoice'},\n",
      "  'TransactionTypeID': 5,\n",
      "  '_id': 1001}]\n"
     ]
    }
   ],
   "source": [
    "linking_attribute_parent = 'TransactionTypeID'\n",
    "linking_attribute_child = 'TransactionTypeID'\n",
    "new_attribute = 'TransactionType'\n",
    "parent_collection = 'Purchasing_SupplierTransactions'\n",
    "child_collection = 'Application_TransactionTypes'\n",
    "\n",
    "embed(linking_attribute_parent, linking_attribute_child, new_attribute, parent_collection, child_collection)\n",
    "\n",
    "pprint(list(db[parent_collection].find( {new_attribute: {\"$exists\": True} } ).limit(1)))"
   ]
  },
  {
   "cell_type": "markdown",
   "id": "e4b72c4d",
   "metadata": {},
   "source": [
    "## Embed Application_TransactionTypes in Sales_CustomerTransactions"
   ]
  },
  {
   "cell_type": "code",
   "execution_count": 19,
   "id": "54318c3d",
   "metadata": {},
   "outputs": [
    {
     "data": {
      "application/vnd.jupyter.widget-view+json": {
       "model_id": "f00a859828d6498f867f0f75a074d4bd",
       "version_major": 2,
       "version_minor": 0
      },
      "text/plain": [
       "  0%|          | 0/2 [00:00<?, ?it/s]"
      ]
     },
     "metadata": {},
     "output_type": "display_data"
    },
    {
     "name": "stdout",
     "output_type": "stream",
     "text": [
      "[{'AmountExcludingTax': 2300.0,\n",
      "  'CustomerID': 832,\n",
      "  'CustomerTransactionID': 2,\n",
      "  'FinalizationDate': '2013-01-02',\n",
      "  'InvoiceID': 1,\n",
      "  'IsFinalized': 1,\n",
      "  'OutstandingBalance': 0.0,\n",
      "  'TaxAmount': 345.0,\n",
      "  'TransactionAmount': 2645.0,\n",
      "  'TransactionDate': '2013-01-01',\n",
      "  'TransactionType': {'TransactionTypeID': 1,\n",
      "                      'TransactionTypeName': 'Customer Invoice'},\n",
      "  'TransactionTypeID': 1,\n",
      "  '_id': 1}]\n"
     ]
    }
   ],
   "source": [
    "linking_attribute_parent = 'TransactionTypeID'\n",
    "linking_attribute_child = 'TransactionTypeID'\n",
    "new_attribute = 'TransactionType'\n",
    "parent_collection = 'Sales_CustomerTransactions'\n",
    "child_collection = 'Application_TransactionTypes'\n",
    "\n",
    "embed(linking_attribute_parent, linking_attribute_child, new_attribute, parent_collection, child_collection)\n",
    "\n",
    "pprint(list(db[parent_collection].find( {new_attribute: {\"$exists\": True} } ).limit(1)))"
   ]
  },
  {
   "cell_type": "markdown",
   "id": "888f129e",
   "metadata": {},
   "source": [
    "## Embed Application_TransactionTypes in Warehouse_StockItemTransactions"
   ]
  },
  {
   "cell_type": "code",
   "execution_count": 20,
   "id": "59a4abdf",
   "metadata": {},
   "outputs": [
    {
     "data": {
      "application/vnd.jupyter.widget-view+json": {
       "model_id": "17dd0ce0c3bb472d9bec67cc9bfbb28a",
       "version_major": 2,
       "version_minor": 0
      },
      "text/plain": [
       "  0%|          | 0/3 [00:00<?, ?it/s]"
      ]
     },
     "metadata": {},
     "output_type": "display_data"
    },
    {
     "name": "stdout",
     "output_type": "stream",
     "text": [
      "[{'CustomerID': 832.0,\n",
      "  'InvoiceID': 1.0,\n",
      "  'PurchaseOrderID': nan,\n",
      "  'Quantity': -10.0,\n",
      "  'StockItemID': 67,\n",
      "  'StockItemTransactionID': 1,\n",
      "  'SupplierID': nan,\n",
      "  'TransactionOccurredWhen': '2013-01-01 12:00:00.0000000',\n",
      "  'TransactionType': {'TransactionTypeID': 10,\n",
      "                      'TransactionTypeName': 'Stock Issue'},\n",
      "  'TransactionTypeID': 10,\n",
      "  '_id': 1}]\n"
     ]
    }
   ],
   "source": [
    "linking_attribute_parent = 'TransactionTypeID'\n",
    "linking_attribute_child = 'TransactionTypeID'\n",
    "new_attribute = 'TransactionType'\n",
    "parent_collection = 'Warehouse_StockItemTransactions'\n",
    "child_collection = 'Application_TransactionTypes'\n",
    "\n",
    "embed(linking_attribute_parent, linking_attribute_child, new_attribute, parent_collection, child_collection)\n",
    "\n",
    "pprint(list(db[parent_collection].find( {new_attribute: {\"$exists\": True} } ).limit(1)))"
   ]
  },
  {
   "cell_type": "markdown",
   "id": "7de1cfc8",
   "metadata": {},
   "source": [
    "## Embed Warehouse_Colors in Warehouse_StockItems"
   ]
  },
  {
   "cell_type": "code",
   "execution_count": 21,
   "id": "b4d8d574",
   "metadata": {},
   "outputs": [
    {
     "data": {
      "application/vnd.jupyter.widget-view+json": {
       "model_id": "abe2faaa3056417cac01b9498dbfbfa0",
       "version_major": 2,
       "version_minor": 0
      },
      "text/plain": [
       "  0%|          | 0/8 [00:00<?, ?it/s]"
      ]
     },
     "metadata": {},
     "output_type": "display_data"
    },
    {
     "name": "stdout",
     "output_type": "stream",
     "text": [
      "[{'Barcode': nan,\n",
      "  'Brand': nan,\n",
      "  'Color': {'ColorID': 12, 'ColorName': 'Steel Gray'},\n",
      "  'ColorID': 12.0,\n",
      "  'InternalComments': nan,\n",
      "  'IsChillerStock': False,\n",
      "  'LeadTimeDays': 14,\n",
      "  'MarketingComments': 'Complete with 12 projectiles',\n",
      "  'OuterPackageID': 7,\n",
      "  'Photo': nan,\n",
      "  'QuantityPerOuter': 1,\n",
      "  'RecommendedRetailPrice': 37.38,\n",
      "  'SearchDetails': 'USB rocket launcher (Gray) Complete with 12 projectiles',\n",
      "  'Size': nan,\n",
      "  'StockGroup': [{'StockGroupID': 6,\n",
      "                  'StockItemID': 2,\n",
      "                  'StockItemStockGroup': {'StockGroupID': 6,\n",
      "                                          'StockGroupName': 'Computing '\n",
      "                                                            'Novelties'},\n",
      "                  'StockItemStockGroupID': 4},\n",
      "                 {'StockGroupID': 1,\n",
      "                  'StockItemID': 2,\n",
      "                  'StockItemStockGroup': {'StockGroupID': 1,\n",
      "                                          'StockGroupName': 'Novelty Items'},\n",
      "                  'StockItemStockGroupID': 5},\n",
      "                 {'StockGroupID': 7,\n",
      "                  'StockItemID': 2,\n",
      "                  'StockItemStockGroup': {'StockGroupID': 7,\n",
      "                                          'StockGroupName': 'USB Novelties'},\n",
      "                  'StockItemStockGroupID': 6}],\n",
      "  'StockItemID': 2,\n",
      "  'StockItemName': 'USB rocket launcher (Gray)',\n",
      "  'SupplierID': 12,\n",
      "  'TaxRate': 15.0,\n",
      "  'TypicalWeightPerUnit': 0.3,\n",
      "  'UnitPackageID': 7,\n",
      "  'UnitPrice': 25.0,\n",
      "  '_id': 2}]\n"
     ]
    }
   ],
   "source": [
    "linking_attribute_parent = 'ColorID'\n",
    "linking_attribute_child = 'ColorID'\n",
    "new_attribute = 'Color'\n",
    "parent_collection = 'Warehouse_StockItems'\n",
    "child_collection = 'Warehouse_Colors'\n",
    "\n",
    "embed(linking_attribute_parent, linking_attribute_child, new_attribute, parent_collection, child_collection)\n",
    "\n",
    "pprint(list(db[parent_collection].find( {new_attribute: {\"$exists\": True} } ).limit(1)))"
   ]
  },
  {
   "cell_type": "markdown",
   "id": "f6262414",
   "metadata": {},
   "source": [
    "## Embed Warehouse_PackageTypes in Warehouse_StockItems (both UnitPackage and OuterPackage)"
   ]
  },
  {
   "cell_type": "code",
   "execution_count": 22,
   "id": "6adc6b37",
   "metadata": {},
   "outputs": [
    {
     "data": {
      "application/vnd.jupyter.widget-view+json": {
       "model_id": "af7b125b645c496a98ec061c753c5368",
       "version_major": 2,
       "version_minor": 0
      },
      "text/plain": [
       "  0%|          | 0/4 [00:00<?, ?it/s]"
      ]
     },
     "metadata": {},
     "output_type": "display_data"
    },
    {
     "data": {
      "application/vnd.jupyter.widget-view+json": {
       "model_id": "ff610c795e774709bcd1aad17854b9ae",
       "version_major": 2,
       "version_minor": 0
      },
      "text/plain": [
       "  0%|          | 0/3 [00:00<?, ?it/s]"
      ]
     },
     "metadata": {},
     "output_type": "display_data"
    },
    {
     "name": "stdout",
     "output_type": "stream",
     "text": [
      "[{'Barcode': nan,\n",
      "  'Brand': nan,\n",
      "  'ColorID': nan,\n",
      "  'InternalComments': nan,\n",
      "  'IsChillerStock': False,\n",
      "  'LeadTimeDays': 14,\n",
      "  'MarketingComments': 'Complete with 12 projectiles',\n",
      "  'OuterPackageID': 7,\n",
      "  'OuterPackageType': {'PackageTypeID': 7, 'PackageTypeName': 'Each'},\n",
      "  'Photo': nan,\n",
      "  'QuantityPerOuter': 1,\n",
      "  'RecommendedRetailPrice': 37.38,\n",
      "  'SearchDetails': 'USB missile launcher (Green) Complete with 12 projectiles',\n",
      "  'Size': nan,\n",
      "  'StockGroup': [{'StockGroupID': 6,\n",
      "                  'StockItemID': 1,\n",
      "                  'StockItemStockGroup': {'StockGroupID': 6,\n",
      "                                          'StockGroupName': 'Computing '\n",
      "                                                            'Novelties'},\n",
      "                  'StockItemStockGroupID': 1},\n",
      "                 {'StockGroupID': 1,\n",
      "                  'StockItemID': 1,\n",
      "                  'StockItemStockGroup': {'StockGroupID': 1,\n",
      "                                          'StockGroupName': 'Novelty Items'},\n",
      "                  'StockItemStockGroupID': 2},\n",
      "                 {'StockGroupID': 7,\n",
      "                  'StockItemID': 1,\n",
      "                  'StockItemStockGroup': {'StockGroupID': 7,\n",
      "                                          'StockGroupName': 'USB Novelties'},\n",
      "                  'StockItemStockGroupID': 3}],\n",
      "  'StockItemID': 1,\n",
      "  'StockItemName': 'USB missile launcher (Green)',\n",
      "  'SupplierID': 12,\n",
      "  'TaxRate': 15.0,\n",
      "  'TypicalWeightPerUnit': 0.3,\n",
      "  'UnitPackageID': 7,\n",
      "  'UnitPackageType': {'PackageTypeID': 7, 'PackageTypeName': 'Each'},\n",
      "  'UnitPrice': 25.0,\n",
      "  '_id': 1}]\n"
     ]
    }
   ],
   "source": [
    "linking_attribute_parent = 'UnitPackageID'\n",
    "linking_attribute_child = 'PackageTypeID'\n",
    "new_attribute = 'UnitPackageType'\n",
    "parent_collection = 'Warehouse_StockItems'\n",
    "child_collection = 'Warehouse_PackageTypes'\n",
    "\n",
    "embed(linking_attribute_parent, linking_attribute_child, new_attribute, parent_collection, child_collection)\n",
    "\n",
    "linking_attribute_parent = 'OuterPackageID'\n",
    "linking_attribute_child = 'PackageTypeID'\n",
    "new_attribute = 'OuterPackageType'\n",
    "parent_collection = 'Warehouse_StockItems'\n",
    "child_collection = 'Warehouse_PackageTypes'\n",
    "\n",
    "embed(linking_attribute_parent, linking_attribute_child, new_attribute, parent_collection, child_collection)\n",
    "\n",
    "pprint(list(db[parent_collection].find( {new_attribute: {\"$exists\": True} } ).limit(1)))"
   ]
  },
  {
   "cell_type": "markdown",
   "id": "16c34342",
   "metadata": {},
   "source": [
    "## Embed Warehouse_PackageTypes in Purchasing_PurchaseOrderLines"
   ]
  },
  {
   "cell_type": "code",
   "execution_count": 23,
   "id": "80756beb",
   "metadata": {},
   "outputs": [
    {
     "data": {
      "application/vnd.jupyter.widget-view+json": {
       "model_id": "97537819af304665bfa23c8d1e48f566",
       "version_major": 2,
       "version_minor": 0
      },
      "text/plain": [
       "  0%|          | 0/3 [00:00<?, ?it/s]"
      ]
     },
     "metadata": {},
     "output_type": "display_data"
    },
    {
     "name": "stdout",
     "output_type": "stream",
     "text": [
      "[{'Description': '\"The Gu\" red shirt XML tag t-shirt (White) XXS',\n",
      "  'ExpectedUnitPricePerOuter': 84.0,\n",
      "  'IsOrderLineFinalized': 1,\n",
      "  'OrderedOuters': 1073,\n",
      "  'PackageType': {'PackageTypeID': 6, 'PackageTypeName': 'Carton'},\n",
      "  'PackageTypeID': 6,\n",
      "  'PurchaseOrderID': 784,\n",
      "  'PurchaseOrderLineID': 3001,\n",
      "  'ReceivedOuters': 1073,\n",
      "  'StockItemID': 77,\n",
      "  '_id': 3001}]\n"
     ]
    }
   ],
   "source": [
    "linking_attribute_parent = 'PackageTypeID'\n",
    "linking_attribute_child = 'PackageTypeID'\n",
    "new_attribute = 'PackageType'\n",
    "parent_collection = 'Purchasing_PurchaseOrderLines'\n",
    "child_collection = 'Warehouse_PackageTypes'\n",
    "\n",
    "embed(linking_attribute_parent, linking_attribute_child, new_attribute, parent_collection, child_collection)\n",
    "\n",
    "pprint(list(db[parent_collection].find( {new_attribute: {\"$exists\": True} } ).limit(1)))"
   ]
  },
  {
   "cell_type": "markdown",
   "id": "11302e37",
   "metadata": {},
   "source": [
    "## Embed Warehouse_PackageTypes in Sales_InvoiceLines"
   ]
  },
  {
   "cell_type": "code",
   "execution_count": 24,
   "id": "afddd5a0",
   "metadata": {},
   "outputs": [
    {
     "data": {
      "application/vnd.jupyter.widget-view+json": {
       "model_id": "ab847c15d2a042599dd10d861a1d4d70",
       "version_major": 2,
       "version_minor": 0
      },
      "text/plain": [
       "  0%|          | 0/3 [00:00<?, ?it/s]"
      ]
     },
     "metadata": {},
     "output_type": "display_data"
    },
    {
     "name": "stdout",
     "output_type": "stream",
     "text": [
      "[{'Description': '32 mm Double sided bubble wrap 50m',\n",
      "  'ExtendedPrice': 3864.0,\n",
      "  'InvoiceID': 978,\n",
      "  'InvoiceLineID': 3001,\n",
      "  'LineProfit': 1590.0,\n",
      "  'PackageType': {'PackageTypeID': 7, 'PackageTypeName': 'Each'},\n",
      "  'PackageTypeID': 7,\n",
      "  'Quantity': 30,\n",
      "  'StockItemID': 164,\n",
      "  'TaxAmount': 504.0,\n",
      "  'TaxRate': 15.0,\n",
      "  'UnitPrice': 112.0,\n",
      "  '_id': 3001}]\n"
     ]
    }
   ],
   "source": [
    "linking_attribute_parent = 'PackageTypeID'\n",
    "linking_attribute_child = 'PackageTypeID'\n",
    "new_attribute = 'PackageType'\n",
    "parent_collection = 'Sales_InvoiceLines'\n",
    "child_collection = 'Warehouse_PackageTypes'\n",
    "\n",
    "embed(linking_attribute_parent, linking_attribute_child, new_attribute, parent_collection, child_collection)\n",
    "\n",
    "pprint(list(db[parent_collection].find( {new_attribute: {\"$exists\": True} } ).limit(1)))"
   ]
  },
  {
   "cell_type": "markdown",
   "id": "ab891c64",
   "metadata": {},
   "source": [
    "## Embed Warehouse_PackageTypes in Sales_OrderLines"
   ]
  },
  {
   "cell_type": "code",
   "execution_count": 25,
   "id": "7b74e655",
   "metadata": {},
   "outputs": [
    {
     "data": {
      "application/vnd.jupyter.widget-view+json": {
       "model_id": "476ec0116bef49a69a98b8380bd26136",
       "version_major": 2,
       "version_minor": 0
      },
      "text/plain": [
       "  0%|          | 0/3 [00:00<?, ?it/s]"
      ]
     },
     "metadata": {},
     "output_type": "display_data"
    },
    {
     "name": "stdout",
     "output_type": "stream",
     "text": [
      "[{'Description': '10 mm Double sided bubble wrap 50m',\n",
      "  'OrderID': 682,\n",
      "  'OrderLineID': 2001,\n",
      "  'PackageType': {'PackageTypeID': 7, 'PackageTypeName': 'Each'},\n",
      "  'PackageTypeID': 7,\n",
      "  'PickedQuantity': 20,\n",
      "  'PickingCompletedWhen': '2013-01-12 11:00:00',\n",
      "  'Quantity': 20,\n",
      "  'StockItemID': 158,\n",
      "  'TaxRate': 15.0,\n",
      "  'UnitPrice': 105.0,\n",
      "  '_id': 2001}]\n"
     ]
    }
   ],
   "source": [
    "linking_attribute_parent = 'PackageTypeID'\n",
    "linking_attribute_child = 'PackageTypeID'\n",
    "new_attribute = 'PackageType'\n",
    "parent_collection = 'Sales_OrderLines'\n",
    "child_collection = 'Warehouse_PackageTypes'\n",
    "\n",
    "embed(linking_attribute_parent, linking_attribute_child, new_attribute, parent_collection, child_collection)\n",
    "\n",
    "pprint(list(db[parent_collection].find( {new_attribute: {\"$exists\": True} } ).limit(1)))"
   ]
  },
  {
   "cell_type": "markdown",
   "id": "8d87f290",
   "metadata": {},
   "source": [
    "## Embed Purchasing_PurchaseOrderLines in Purchasing_PurchaseOrders"
   ]
  },
  {
   "cell_type": "code",
   "execution_count": 26,
   "id": "b88146fe",
   "metadata": {},
   "outputs": [
    {
     "data": {
      "application/vnd.jupyter.widget-view+json": {
       "model_id": "0a528b26ac9b43c18ada836525c11491",
       "version_major": 2,
       "version_minor": 0
      },
      "text/plain": [
       "  0%|          | 0/2074 [00:00<?, ?it/s]"
      ]
     },
     "metadata": {},
     "output_type": "display_data"
    },
    {
     "name": "stdout",
     "output_type": "stream",
     "text": [
      "[{'ContactPersonID': 2,\n",
      "  'DeliveryMethod': {'DeliveryMethodID': 2, 'DeliveryMethodName': 'Courier'},\n",
      "  'DeliveryMethodID': 2,\n",
      "  'ExpectedDeliveryDate': '2014-09-18',\n",
      "  'IsOrderFinalized': 1,\n",
      "  'OrderDate': '2014-08-29',\n",
      "  'PurchaseOrderID': 1001,\n",
      "  'PurchaseOrderLines': [{'Description': 'Shipping carton (Brown) '\n",
      "                                         '305x305x305mm',\n",
      "                          'ExpectedUnitPricePerOuter': 47.5,\n",
      "                          'IsOrderLineFinalized': 1,\n",
      "                          'OrderedOuters': 239,\n",
      "                          'PackageType': {'PackageTypeID': 7,\n",
      "                                          'PackageTypeName': 'Each'},\n",
      "                          'PackageTypeID': 7,\n",
      "                          'PurchaseOrderID': 1001,\n",
      "                          'PurchaseOrderLineID': 3901,\n",
      "                          'ReceivedOuters': 239,\n",
      "                          'StockItemID': 184},\n",
      "                         {'Description': 'Black and orange glass with care '\n",
      "                                         'despatch tape 48mmx75m',\n",
      "                          'ExpectedUnitPricePerOuter': 38.4,\n",
      "                          'IsOrderLineFinalized': 1,\n",
      "                          'OrderedOuters': 1072,\n",
      "                          'PackageType': {'PackageTypeID': 7,\n",
      "                                          'PackageTypeName': 'Each'},\n",
      "                          'PackageTypeID': 7,\n",
      "                          'PurchaseOrderID': 1001,\n",
      "                          'PurchaseOrderLineID': 3902,\n",
      "                          'ReceivedOuters': 1072,\n",
      "                          'StockItemID': 193},\n",
      "                         {'Description': 'Tape dispenser (Red)',\n",
      "                          'ExpectedUnitPricePerOuter': 170.0,\n",
      "                          'IsOrderLineFinalized': 1,\n",
      "                          'OrderedOuters': 1206,\n",
      "                          'PackageType': {'PackageTypeID': 7,\n",
      "                                          'PackageTypeName': 'Each'},\n",
      "                          'PackageTypeID': 7,\n",
      "                          'PurchaseOrderID': 1001,\n",
      "                          'PurchaseOrderLineID': 3903,\n",
      "                          'ReceivedOuters': 1206,\n",
      "                          'StockItemID': 204}],\n",
      "  'SupplierID': 7,\n",
      "  'SupplierReference': 'BC0280982',\n",
      "  '_id': 1001}]\n"
     ]
    }
   ],
   "source": [
    "linking_attribute_parent = 'PurchaseOrderID'\n",
    "linking_attribute_child = 'PurchaseOrderID'\n",
    "new_attribute = 'PurchaseOrderLines'\n",
    "parent_collection = 'Purchasing_PurchaseOrders'\n",
    "child_collection = 'Purchasing_PurchaseOrderLines'\n",
    "\n",
    "embed(linking_attribute_parent, linking_attribute_child, new_attribute, parent_collection, child_collection)\n",
    "\n",
    "pprint(list(db[parent_collection].find( {new_attribute: {\"$exists\": True} } ).limit(1)))"
   ]
  },
  {
   "cell_type": "markdown",
   "id": "ed9e2ac6",
   "metadata": {},
   "source": [
    "## Embed Sales_InvoiceLines in Sales_Invoices"
   ]
  },
  {
   "cell_type": "code",
   "execution_count": 27,
   "id": "f50106d8",
   "metadata": {},
   "outputs": [
    {
     "data": {
      "application/vnd.jupyter.widget-view+json": {
       "model_id": "4605da35562643eca7d76c9ffb739946",
       "version_major": 2,
       "version_minor": 0
      },
      "text/plain": [
       "  0%|          | 0/70510 [00:00<?, ?it/s]"
      ]
     },
     "metadata": {},
     "output_type": "display_data"
    },
    {
     "name": "stdout",
     "output_type": "stream",
     "text": [
      "[{'AccountsPersonID': 2001,\n",
      "  'BillToCustomerID': 401,\n",
      "  'ConfirmedDeliveryTime': '2013-02-10 08:40:00',\n",
      "  'ConfirmedReceivedBy': 'Klara Rakus',\n",
      "  'ContactPersonID': 2165,\n",
      "  'CustomerID': 483,\n",
      "  'CustomerPurchaseOrderNumber': '18172',\n",
      "  'DeliveryInstructions': 'Suite 275, 593 Huq Avenue',\n",
      "  'DeliveryMethod': {'DeliveryMethodID': 3,\n",
      "                     'DeliveryMethodName': 'Delivery Van'},\n",
      "  'DeliveryMethodID': 3,\n",
      "  'DeliveryRun': '',\n",
      "  'InvoiceDate': '2013-02-09',\n",
      "  'InvoiceID': 1989,\n",
      "  'InvoiceLines': [{'Description': 'Developer joke mug - Oct 31 = Dec 25 '\n",
      "                                   '(White)',\n",
      "                    'ExtendedPrice': 119.6,\n",
      "                    'InvoiceID': 1989,\n",
      "                    'InvoiceLineID': 6441,\n",
      "                    'LineProfit': 68.0,\n",
      "                    'PackageType': {'PackageTypeID': 7,\n",
      "                                    'PackageTypeName': 'Each'},\n",
      "                    'PackageTypeID': 7,\n",
      "                    'Quantity': 8,\n",
      "                    'StockItemID': 30,\n",
      "                    'TaxAmount': 15.6,\n",
      "                    'TaxRate': 15.0,\n",
      "                    'UnitPrice': 13.0},\n",
      "                   {'Description': '\"The Gu\" red shirt XML tag t-shirt (Black) '\n",
      "                                   'XXS',\n",
      "                    'ExtendedPrice': 248.4,\n",
      "                    'InvoiceID': 1989,\n",
      "                    'InvoiceLineID': 6442,\n",
      "                    'LineProfit': 132.0,\n",
      "                    'PackageType': {'PackageTypeID': 7,\n",
      "                                    'PackageTypeName': 'Each'},\n",
      "                    'PackageTypeID': 7,\n",
      "                    'Quantity': 12,\n",
      "                    'StockItemID': 90,\n",
      "                    'TaxAmount': 32.4,\n",
      "                    'TaxRate': 15.0,\n",
      "                    'UnitPrice': 18.0},\n",
      "                   {'Description': 'Furry gorilla with big eyes slippers '\n",
      "                                   '(Black) XL',\n",
      "                    'ExtendedPrice': 368.0,\n",
      "                    'InvoiceID': 1989,\n",
      "                    'InvoiceLineID': 6443,\n",
      "                    'LineProfit': 235.0,\n",
      "                    'PackageType': {'PackageTypeID': 7,\n",
      "                                    'PackageTypeName': 'Each'},\n",
      "                    'PackageTypeID': 7,\n",
      "                    'Quantity': 10,\n",
      "                    'StockItemID': 133,\n",
      "                    'TaxAmount': 48.0,\n",
      "                    'TaxRate': 15.0,\n",
      "                    'UnitPrice': 32.0}],\n",
      "  'IsCreditNote': 0,\n",
      "  'OrderID': 2041,\n",
      "  'PackedByPersonID': 7,\n",
      "  'ReturnedDeliveryData': '{\"Events\": [{ \"Event\":\"Ready for '\n",
      "                          'collection\",\"EventTime\":\"2013-02-09T12:00:00\",\"ConNote\":\"EAN-125-3039\"},{ '\n",
      "                          '\"Event\":\"DeliveryAttempt\",\"EventTime\":\"2013-02-10T08:40:00\",\"ConNote\":\"EAN-125-3039\",\"DriverID\":11,\"Latitude\":33.8487376,\"Longitude\":-82.2598460,\"Status\":\"Delivered\"}],\"DeliveredWhen\":\"2013-02-10T08:40:00\",\"ReceivedBy\":\"Klara '\n",
      "                          'Rakus\"}',\n",
      "  'RunPosition': '',\n",
      "  'SalespersonPersonID': 2,\n",
      "  'TotalChillerItems': 0,\n",
      "  'TotalDryItems': 3,\n",
      "  '_id': 2001}]\n"
     ]
    }
   ],
   "source": [
    "linking_attribute_parent = 'InvoiceID'\n",
    "linking_attribute_child = 'InvoiceID'\n",
    "new_attribute = 'InvoiceLines'\n",
    "parent_collection = 'Sales_Invoices'\n",
    "child_collection = 'Sales_InvoiceLines'\n",
    "\n",
    "embed(linking_attribute_parent, linking_attribute_child, new_attribute, parent_collection, child_collection)\n",
    "\n",
    "pprint(list(db[parent_collection].find( {new_attribute: {\"$exists\": True} } ).limit(1)))"
   ]
  },
  {
   "cell_type": "markdown",
   "id": "56e0a69d",
   "metadata": {},
   "source": [
    "## Embed Sales_OrderLines in SalesOrders"
   ]
  },
  {
   "cell_type": "code",
   "execution_count": 28,
   "id": "49e7b54b",
   "metadata": {
    "scrolled": true
   },
   "outputs": [
    {
     "data": {
      "application/vnd.jupyter.widget-view+json": {
       "model_id": "cf841d873a894056aad457d379db0205",
       "version_major": 2,
       "version_minor": 0
      },
      "text/plain": [
       "  0%|          | 0/73595 [00:00<?, ?it/s]"
      ]
     },
     "metadata": {},
     "output_type": "display_data"
    },
    {
     "name": "stdout",
     "output_type": "stream",
     "text": [
      "[{'BackorderOrderID': 1037,\n",
      "  'ContactPersonID': 3012,\n",
      "  'CustomerID': 812,\n",
      "  'CustomerPurchaseOrderNumber': '16322',\n",
      "  'ExpectedDeliveryDate': '2013-01-21',\n",
      "  'IsUndersupplyBackordered': 1,\n",
      "  'OrderDate': '2013-01-18',\n",
      "  'OrderID': 1001,\n",
      "  'OrderLines': [{'Description': 'USB food flash drive - fortune cookie',\n",
      "                  'OrderID': 1001,\n",
      "                  'OrderLineID': 3053,\n",
      "                  'PackageType': {'PackageTypeID': 7,\n",
      "                                  'PackageTypeName': 'Each'},\n",
      "                  'PackageTypeID': 7,\n",
      "                  'PickedQuantity': 7,\n",
      "                  'PickingCompletedWhen': '2013-01-18 11:00:00',\n",
      "                  'Quantity': 7,\n",
      "                  'StockItemID': 14,\n",
      "                  'TaxRate': 15.0,\n",
      "                  'UnitPrice': 32.0},\n",
      "                 {'Description': 'IT joke mug - that behavior is by design '\n",
      "                                 '(White)',\n",
      "                  'OrderID': 1001,\n",
      "                  'OrderLineID': 3054,\n",
      "                  'PackageType': {'PackageTypeID': 7,\n",
      "                                  'PackageTypeName': 'Each'},\n",
      "                  'PackageTypeID': 7,\n",
      "                  'PickedQuantity': 5,\n",
      "                  'PickingCompletedWhen': '2013-01-18 11:00:00',\n",
      "                  'Quantity': 5,\n",
      "                  'StockItemID': 54,\n",
      "                  'TaxRate': 15.0,\n",
      "                  'UnitPrice': 13.0},\n",
      "                 {'Description': 'RC toy sedan car with remote control '\n",
      "                                 '(Yellow) 1/50 scale',\n",
      "                  'OrderID': 1001,\n",
      "                  'OrderLineID': 3055,\n",
      "                  'PackageType': {'PackageTypeID': 7,\n",
      "                                  'PackageTypeName': 'Each'},\n",
      "                  'PackageTypeID': 7,\n",
      "                  'PickedQuantity': 8,\n",
      "                  'PickingCompletedWhen': '2013-01-18 11:00:00',\n",
      "                  'Quantity': 8,\n",
      "                  'StockItemID': 62,\n",
      "                  'TaxRate': 15.0,\n",
      "                  'UnitPrice': 25.0},\n",
      "                 {'Description': 'Small sized bubblewrap roll 10m',\n",
      "                  'OrderID': 1001,\n",
      "                  'OrderLineID': 3056,\n",
      "                  'PackageType': {'PackageTypeID': 7,\n",
      "                                  'PackageTypeName': 'Each'},\n",
      "                  'PackageTypeID': 7,\n",
      "                  'PickedQuantity': 80,\n",
      "                  'PickingCompletedWhen': '2013-01-18 11:00:00',\n",
      "                  'Quantity': 80,\n",
      "                  'StockItemID': 153,\n",
      "                  'TaxRate': 15.0,\n",
      "                  'UnitPrice': 4.5},\n",
      "                 {'Description': 'Packing knife with metal insert blade '\n",
      "                                 '(Yellow) 18mm',\n",
      "                  'OrderID': 1001,\n",
      "                  'OrderLineID': 3057,\n",
      "                  'PackageType': {'PackageTypeID': 7,\n",
      "                                  'PackageTypeName': 'Each'},\n",
      "                  'PackageTypeID': 7,\n",
      "                  'PickedQuantity': 35,\n",
      "                  'PickingCompletedWhen': '2013-01-18 11:00:00',\n",
      "                  'Quantity': 35,\n",
      "                  'StockItemID': 210,\n",
      "                  'TaxRate': 15.0,\n",
      "                  'UnitPrice': 2.4}],\n",
      "  'PickedByPersonID': 4,\n",
      "  'PickingCompletedWhen': '2013-01-18 11:00:00',\n",
      "  'SalespersonPersonID': 7,\n",
      "  '_id': 1001}]\n"
     ]
    }
   ],
   "source": [
    "linking_attribute_parent = 'OrderID'\n",
    "linking_attribute_child = 'OrderID'\n",
    "new_attribute = 'OrderLines'\n",
    "parent_collection = 'Sales_Orders'\n",
    "child_collection = 'Sales_OrderLines'\n",
    "\n",
    "embed(linking_attribute_parent, linking_attribute_child, new_attribute, parent_collection, child_collection)\n",
    "\n",
    "pprint(list(db[parent_collection].find( {new_attribute: {\"$exists\": True} } ).limit(1)))"
   ]
  },
  {
   "cell_type": "code",
   "execution_count": null,
   "id": "be7f29aa",
   "metadata": {},
   "outputs": [],
   "source": []
  }
 ],
 "metadata": {
  "kernelspec": {
   "display_name": "Python 3",
   "language": "python",
   "name": "python3"
  },
  "language_info": {
   "codemirror_mode": {
    "name": "ipython",
    "version": 3
   },
   "file_extension": ".py",
   "mimetype": "text/x-python",
   "name": "python",
   "nbconvert_exporter": "python",
   "pygments_lexer": "ipython3",
   "version": "3.8.8"
  }
 },
 "nbformat": 4,
 "nbformat_minor": 5
}
