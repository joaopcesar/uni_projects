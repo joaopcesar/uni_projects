{
 "cells": [
  {
   "cell_type": "markdown",
   "id": "6a4ad32d",
   "metadata": {},
   "source": [
    "## Imports"
   ]
  },
  {
   "cell_type": "code",
   "execution_count": 1,
   "id": "8344c051",
   "metadata": {},
   "outputs": [],
   "source": [
    "from pymongo import MongoClient\n",
    "from pprint import pprint"
   ]
  },
  {
   "cell_type": "markdown",
   "id": "664b13f8",
   "metadata": {},
   "source": [
    "## Connect to mongo database"
   ]
  },
  {
   "cell_type": "code",
   "execution_count": 2,
   "id": "85ccab72",
   "metadata": {},
   "outputs": [],
   "source": [
    "# Connect to Mongo server\n",
    "host=\"rhea.isegi.unl.pt\"\n",
    "port=\"27049\"\n",
    "user=\"GROUP_32\"\n",
    "password=\"bRG2XjRZhrRA9IfpmENyXxMlWQDUJdzL\"\n",
    "protocol=\"mongodb\"\n",
    "client = MongoClient(f\"{protocol}://{user}:{password}@{host}:{port}\")\n",
    "\n",
    "# Connect to mongo db\n",
    "db = client.denormalised"
   ]
  },
  {
   "cell_type": "code",
   "execution_count": 3,
   "id": "de817e83",
   "metadata": {},
   "outputs": [
    {
     "data": {
      "text/plain": [
       "['Application_Countries',\n",
       " 'Warehouse_Colors',\n",
       " 'Sales_OrderLines',\n",
       " 'Warehouse_StockItemTransactions',\n",
       " 'Application_StateProvinces',\n",
       " 'Sales_Invoices',\n",
       " 'Sales_Orders',\n",
       " 'Purchasing_PurchaseOrders',\n",
       " 'Application_DeliveryMethods',\n",
       " 'Application_Cities',\n",
       " 'Application_TransactionTypes',\n",
       " 'Warehouse_StockItems',\n",
       " 'Sales_InvoiceLines',\n",
       " 'Warehouse_StockItemStockGroups',\n",
       " 'Purchasing_PurchaseOrderLines',\n",
       " 'Purchasing_SupplierCategories',\n",
       " 'Application_PaymentMethods',\n",
       " 'Sales_Customers',\n",
       " 'Sales_CustomerCategories',\n",
       " 'Purchasing_SupplierTransactions',\n",
       " 'Application_People',\n",
       " 'Warehouse_PackageTypes',\n",
       " 'Purchasing_Suppliers',\n",
       " 'Warehouse_StockGroups',\n",
       " 'Sales_CustomerTransactions']"
      ]
     },
     "execution_count": 3,
     "metadata": {},
     "output_type": "execute_result"
    }
   ],
   "source": [
    "db.list_collection_names()"
   ]
  },
  {
   "cell_type": "markdown",
   "id": "e35f3566",
   "metadata": {},
   "source": [
    "### Design Requirements\n",
    "\n",
    "The CFO:  \n",
    "- Would like to know the monthly order count?"
   ]
  },
  {
   "cell_type": "code",
   "execution_count": 133,
   "id": "db3f861e",
   "metadata": {},
   "outputs": [
    {
     "data": {
      "text/plain": [
       "[{'ordercount': 1674, 'Month': '2013-01'},\n",
       " {'ordercount': 1139, 'Month': '2013-02'},\n",
       " {'ordercount': 1683, 'Month': '2013-03'},\n",
       " {'ordercount': 1696, 'Month': '2013-04'},\n",
       " {'ordercount': 1808, 'Month': '2013-05'},\n",
       " {'ordercount': 1675, 'Month': '2013-06'},\n",
       " {'ordercount': 1886, 'Month': '2013-07'},\n",
       " {'ordercount': 1537, 'Month': '2013-08'},\n",
       " {'ordercount': 1617, 'Month': '2013-09'},\n",
       " {'ordercount': 1618, 'Month': '2013-10'},\n",
       " {'ordercount': 1552, 'Month': '2013-11'},\n",
       " {'ordercount': 1565, 'Month': '2013-12'},\n",
       " {'ordercount': 1791, 'Month': '2014-01'},\n",
       " {'ordercount': 1538, 'Month': '2014-02'},\n",
       " {'ordercount': 1586, 'Month': '2014-03'},\n",
       " {'ordercount': 1739, 'Month': '2014-04'},\n",
       " {'ordercount': 1908, 'Month': '2014-05'},\n",
       " {'ordercount': 1887, 'Month': '2014-06'},\n",
       " {'ordercount': 2008, 'Month': '2014-07'},\n",
       " {'ordercount': 1642, 'Month': '2014-08'},\n",
       " {'ordercount': 1637, 'Month': '2014-09'},\n",
       " {'ordercount': 1921, 'Month': '2014-10'},\n",
       " {'ordercount': 1628, 'Month': '2014-11'},\n",
       " {'ordercount': 1914, 'Month': '2014-12'},\n",
       " {'ordercount': 1830, 'Month': '2015-01'},\n",
       " {'ordercount': 1732, 'Month': '2015-02'},\n",
       " {'ordercount': 1891, 'Month': '2015-03'},\n",
       " {'ordercount': 2111, 'Month': '2015-04'},\n",
       " {'ordercount': 1959, 'Month': '2015-05'},\n",
       " {'ordercount': 1989, 'Month': '2015-06'},\n",
       " {'ordercount': 2273, 'Month': '2015-07'},\n",
       " {'ordercount': 1729, 'Month': '2015-08'},\n",
       " {'ordercount': 2065, 'Month': '2015-09'},\n",
       " {'ordercount': 1965, 'Month': '2015-10'},\n",
       " {'ordercount': 1834, 'Month': '2015-11'},\n",
       " {'ordercount': 1951, 'Month': '2015-12'},\n",
       " {'ordercount': 1944, 'Month': '2016-01'},\n",
       " {'ordercount': 1706, 'Month': '2016-02'},\n",
       " {'ordercount': 1969, 'Month': '2016-03'},\n",
       " {'ordercount': 1951, 'Month': '2016-04'},\n",
       " {'ordercount': 2047, 'Month': '2016-05'}]"
      ]
     },
     "execution_count": 133,
     "metadata": {},
     "output_type": "execute_result"
    }
   ],
   "source": [
    "# According to this link: https://docs.mongodb.com/v5.0/core/aggregation-pipeline/#:~:text=Pipeline%20Operators%20and%20Indexes,\n",
    "# this query is not possible to be done with an index, because of the accumulator\n",
    "\n",
    "query_1 = {\n",
    "    '$group': {\n",
    "        '_id' : {'$substr': ['$OrderDate', 0, 7]},\n",
    "        'ordercount': {'$sum': 1}\n",
    "    }\n",
    "}\n",
    "\n",
    "query_2 = {\n",
    "    '$sort': {'_id': 1}\n",
    "}\n",
    "\n",
    "query_3 = {\n",
    "    '$project': {\n",
    "        '_id' : 0,\n",
    "        'Month': '$_id',\n",
    "        'ordercount' : 1\n",
    "    }\n",
    "}\n",
    "\n",
    "pipeline = [query_1, query_2, query_3]\n",
    "\n",
    "r = db.Sales_Orders.aggregate(pipeline)\n",
    "\n",
    "result = list(r)\n",
    "\n",
    "result"
   ]
  },
  {
   "cell_type": "markdown",
   "id": "fc99af40",
   "metadata": {},
   "source": [
    "- Would like to know the average monthly sales prices? "
   ]
  },
  {
   "cell_type": "code",
   "execution_count": 139,
   "id": "56718939",
   "metadata": {},
   "outputs": [
    {
     "data": {
      "text/plain": [
       "[{'average_monthly_sales_prices': 724.2648835447832, 'Month': '2013-01'},\n",
       " {'average_monthly_sales_prices': 757.187922705314, 'Month': '2013-02'},\n",
       " {'average_monthly_sales_prices': 735.9580812766748, 'Month': '2013-03'},\n",
       " {'average_monthly_sales_prices': 782.0304949190817, 'Month': '2013-04'},\n",
       " {'average_monthly_sales_prices': 800.637015265836, 'Month': '2013-05'},\n",
       " {'average_monthly_sales_prices': 777.4632071937056, 'Month': '2013-06'},\n",
       " {'average_monthly_sales_prices': 763.694343622795, 'Month': '2013-07'},\n",
       " {'average_monthly_sales_prices': 747.2962440340319, 'Month': '2013-08'},\n",
       " {'average_monthly_sales_prices': 767.9943616395371, 'Month': '2013-09'},\n",
       " {'average_monthly_sales_prices': 750.3137594275769, 'Month': '2013-10'},\n",
       " {'average_monthly_sales_prices': 770.5888844058907, 'Month': '2013-11'},\n",
       " {'average_monthly_sales_prices': 750.7256141763995, 'Month': '2013-12'},\n",
       " {'average_monthly_sales_prices': 739.6302006335796, 'Month': '2014-01'},\n",
       " {'average_monthly_sales_prices': 739.6986335403726, 'Month': '2014-02'},\n",
       " {'average_monthly_sales_prices': 780.6918471171407, 'Month': '2014-03'}]"
      ]
     },
     "execution_count": 139,
     "metadata": {},
     "output_type": "execute_result"
    }
   ],
   "source": [
    "query_1 = {\n",
    "    '$unwind' : \"$OrderLines\"\n",
    "}\n",
    "\n",
    "query_2 = {\n",
    "    '$group': {\n",
    "        '_id' : {'$substr': ['$OrderDate', 0, 7]},\n",
    "        'average_monthly_sales_prices': { '$avg': { '$multiply': [ \"$OrderLines.Quantity\", \"$OrderLines.UnitPrice\" ] } }\n",
    "    }\n",
    "}\n",
    "\n",
    "query_3 = {\n",
    "    '$project': {\n",
    "        '_id' : 0,\n",
    "        'Month': '$_id',\n",
    "        'average_monthly_sales_prices' : 1\n",
    "    }\n",
    "}\n",
    "\n",
    "query_4 = {\n",
    "    '$sort': {'Month': 1}\n",
    "}\n",
    "\n",
    "pipeline = [query_1, query_2, query_3, query_4]\n",
    "\n",
    "r = db.Sales_Orders.aggregate(pipeline)\n",
    "\n",
    "result = list(r)\n",
    "\n",
    "result"
   ]
  },
  {
   "cell_type": "markdown",
   "id": "3e39f680",
   "metadata": {},
   "source": [
    "- Would like to know the yearly expenditures with suppliers (per supplier name)?   "
   ]
  },
  {
   "cell_type": "code",
   "execution_count": 180,
   "id": "ff835e40",
   "metadata": {},
   "outputs": [
    {
     "data": {
      "text/plain": [
       "[{'year': '2013',\n",
       "  'supplier_name': ['Fabrikam, Inc.'],\n",
       "  'yearly_expenditures': 485380.49999999977},\n",
       " {'year': '2013',\n",
       "  'supplier_name': ['The Phone Company'],\n",
       "  'yearly_expenditures': 0.0},\n",
       " {'year': '2013',\n",
       "  'supplier_name': ['Litware, Inc.'],\n",
       "  'yearly_expenditures': 119343.31999999998},\n",
       " {'year': '2013',\n",
       "  'supplier_name': ['Contoso, Ltd.'],\n",
       "  'yearly_expenditures': 0.0},\n",
       " {'year': '2013',\n",
       "  'supplier_name': ['Graphic Design Institute'],\n",
       "  'yearly_expenditures': 0.0},\n",
       " {'year': '2013',\n",
       "  'supplier_name': ['Northwind Electric Cars'],\n",
       "  'yearly_expenditures': -3.637978807091713e-12},\n",
       " {'year': '2014',\n",
       "  'supplier_name': ['Fabrikam, Inc.'],\n",
       "  'yearly_expenditures': 1510955.0999999973},\n",
       " {'year': '2014',\n",
       "  'supplier_name': ['Litware, Inc.'],\n",
       "  'yearly_expenditures': 686937.2100000003},\n",
       " {'year': '2015',\n",
       "  'supplier_name': ['Litware, Inc.'],\n",
       "  'yearly_expenditures': 1353734.6900000004},\n",
       " {'year': '2015',\n",
       "  'supplier_name': ['Fabrikam, Inc.'],\n",
       "  'yearly_expenditures': 2837528.3999999994},\n",
       " {'year': '2016',\n",
       "  'supplier_name': ['A Datum Corporation'],\n",
       "  'yearly_expenditures': 0.0},\n",
       " {'year': '2016',\n",
       "  'supplier_name': ['Fabrikam, Inc.'],\n",
       "  'yearly_expenditures': -2961969.900000002},\n",
       " {'year': '2016',\n",
       "  'supplier_name': ['Litware, Inc.'],\n",
       "  'yearly_expenditures': -1310231.1100000003}]"
      ]
     },
     "execution_count": 180,
     "metadata": {},
     "output_type": "execute_result"
    }
   ],
   "source": [
    "query_1 = {\n",
    "    '$group': {\n",
    "        '_id' : {\n",
    "            'year': {'$substr': ['$TransactionDate', 0, 4]},\n",
    "            'supplier': '$SupplierID'\n",
    "        },\n",
    "        'count' : {'$sum' : '$TransactionAmount'}\n",
    "    }\n",
    "}\n",
    "\n",
    "query_2 = {\n",
    "    \"$lookup\":\n",
    "    {\n",
    "       \"from\": \"Purchasing_Suppliers\",\n",
    "       \"localField\": \"_id.supplier\",\n",
    "       \"foreignField\": \"SupplierID\",\n",
    "       \"as\": \"supplier\"\n",
    "     }\n",
    "}\n",
    "\n",
    "query_3 = {\n",
    "    '$project': {\n",
    "        '_id' : 0,\n",
    "        'year': '$_id.year',\n",
    "        'supplier_name' : '$supplier.SupplierName',\n",
    "        'yearly_expenditures' : '$count',                \n",
    "    }\n",
    "}\n",
    "\n",
    "query_4 = {\n",
    "    '$sort': {'year': 1}\n",
    "}\n",
    "\n",
    "pipeline = [query_1, query_2, query_3, query_4]\n",
    "\n",
    "r = db.Purchasing_SupplierTransactions.aggregate(pipeline)\n",
    "\n",
    "result = list(r)\n",
    "\n",
    "result"
   ]
  },
  {
   "cell_type": "markdown",
   "id": "700d09f1",
   "metadata": {},
   "source": [
    "The marketing team:  \n",
    "- Want to make an appreciation post and needs the name of the sales person with the most invoices in 2013 (person who's customers brought the most money)?"
   ]
  },
  {
   "cell_type": "code",
   "execution_count": 200,
   "id": "56fcff7c",
   "metadata": {},
   "outputs": [
    {
     "data": {
      "text/plain": [
       "[{'name': ['Taj Shand'],\n",
       "  'customer_money_brought': 2113387.3,\n",
       "  'invoices_amount': 2942}]"
      ]
     },
     "execution_count": 200,
     "metadata": {},
     "output_type": "execute_result"
    }
   ],
   "source": [
    "# Showing the sales person that generated the most value in terms of money spent by his customers\n",
    "query_1 = {\n",
    "    '$match': {\n",
    "        \"InvoiceDate\": {'$regex': '.*2013.*'}\n",
    "    }\n",
    "}\n",
    "query_2 = {\n",
    "    '$unwind' : \"$InvoiceLines\"\n",
    "}\n",
    "\n",
    "query_3 = {\n",
    "    '$group': {\n",
    "        '_id' : '$SalespersonPersonID',\n",
    "        'customer_money_brought': { '$sum': { '$multiply': [ \"$InvoiceLines.Quantity\", \"$InvoiceLines.UnitPrice\" ] } },\n",
    "        'invoices_amount': { '$sum': 1 }\n",
    "    }\n",
    "}\n",
    "\n",
    "query_4 = {\n",
    "    \"$lookup\":\n",
    "    {\n",
    "       \"from\": \"Application_People\",\n",
    "       \"localField\": \"_id\",\n",
    "       \"foreignField\": \"PersonID\",\n",
    "       \"as\": \"person\"\n",
    "     }\n",
    "}\n",
    "\n",
    "query_5 = {\n",
    "    '$project': {\n",
    "        '_id' : 0,\n",
    "        'name': '$person.FullName',\n",
    "        'customer_money_brought' : '$customer_money_brought',\n",
    "        'invoices_amount' : '$invoices_amount',                \n",
    "    }\n",
    "}\n",
    "\n",
    "query_6 = {\n",
    "    '$sort': {'customer_money_brought': 1}\n",
    "}\n",
    "\n",
    "query_7 = {\n",
    "    '$limit': 1\n",
    "}\n",
    "\n",
    "pipeline = [query_1, query_2, query_3, query_4, query_5, query_6, query_7]\n",
    "\n",
    "r = db.Sales_Invoices.aggregate(pipeline)\n",
    "\n",
    "result = list(r)\n",
    "\n",
    "result"
   ]
  },
  {
   "cell_type": "code",
   "execution_count": null,
   "id": "1d206985",
   "metadata": {},
   "outputs": [],
   "source": []
  }
 ],
 "metadata": {
  "kernelspec": {
   "display_name": "Python 3",
   "language": "python",
   "name": "python3"
  },
  "language_info": {
   "codemirror_mode": {
    "name": "ipython",
    "version": 3
   },
   "file_extension": ".py",
   "mimetype": "text/x-python",
   "name": "python",
   "nbconvert_exporter": "python",
   "pygments_lexer": "ipython3",
   "version": "3.8.8"
  }
 },
 "nbformat": 4,
 "nbformat_minor": 5
}
