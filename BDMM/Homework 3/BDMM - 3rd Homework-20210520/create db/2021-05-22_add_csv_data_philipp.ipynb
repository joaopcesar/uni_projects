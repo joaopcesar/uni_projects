{
 "cells": [
  {
   "cell_type": "markdown",
   "id": "6a4ad32d",
   "metadata": {},
   "source": [
    "## Imports"
   ]
  },
  {
   "cell_type": "code",
   "execution_count": 71,
   "id": "8344c051",
   "metadata": {},
   "outputs": [],
   "source": [
    "import pandas as pd\n",
    "from tqdm.notebook import tqdm\n",
    "from pprint import pprint\n",
    "import numpy as np"
   ]
  },
  {
   "cell_type": "markdown",
   "id": "664b13f8",
   "metadata": {},
   "source": [
    "## Connect to mongo database"
   ]
  },
  {
   "cell_type": "code",
   "execution_count": 5,
   "id": "85ccab72",
   "metadata": {},
   "outputs": [],
   "source": [
    "# Connect to Mongo server\n",
    "\n",
    "from pymongo import MongoClient\n",
    "\n",
    "host=\"rhea.isegi.unl.pt\"\n",
    "port=\"27049\"\n",
    "user=\"GROUP_32\"\n",
    "password=\"bRG2XjRZhrRA9IfpmENyXxMlWQDUJdzL\"\n",
    "protocol=\"mongodb\"\n",
    "client = MongoClient(f\"{protocol}://{user}:{password}@{host}:{port}\")"
   ]
  },
  {
   "cell_type": "code",
   "execution_count": 6,
   "id": "446f65ad",
   "metadata": {},
   "outputs": [],
   "source": [
    "# Connect to mongo db\n",
    "db = client.#database name here"
   ]
  },
  {
   "cell_type": "markdown",
   "id": "40fbe2b4",
   "metadata": {},
   "source": [
    "## Add csv data to mongo database"
   ]
  },
  {
   "cell_type": "code",
   "execution_count": 11,
   "id": "dcce3888",
   "metadata": {},
   "outputs": [],
   "source": [
    "csv_dir_first_part = '/Users/philippmetzger/Documents/GitHub/BDMM/Homework 3/BDMM - 3rd Homework-20210520/csv/Project_WWI_'\n",
    "table_names = ['Warehouse_Colors', 'Warehouse_PackageTypes', 'Warehouse_StockGroups', \n",
    "               'Warehouse_StockItems', 'Warehouse_StockItemStockGroups', 'Warehouse_StockItemTransactions']\n",
    "warehouse_data = []\n",
    "for name in table_names:\n",
    "    path = csv_dir_first_part + name + '.csv'\n",
    "    data = pd.read_csv(path)\n",
    "    warehouse_data.append(data)"
   ]
  },
  {
   "cell_type": "code",
   "execution_count": 58,
   "id": "ae35f8af",
   "metadata": {},
   "outputs": [
    {
     "data": {
      "text/html": [
       "<div>\n",
       "<style scoped>\n",
       "    .dataframe tbody tr th:only-of-type {\n",
       "        vertical-align: middle;\n",
       "    }\n",
       "\n",
       "    .dataframe tbody tr th {\n",
       "        vertical-align: top;\n",
       "    }\n",
       "\n",
       "    .dataframe thead th {\n",
       "        text-align: right;\n",
       "    }\n",
       "</style>\n",
       "<table border=\"1\" class=\"dataframe\">\n",
       "  <thead>\n",
       "    <tr style=\"text-align: right;\">\n",
       "      <th></th>\n",
       "      <th>ColorID</th>\n",
       "      <th>ColorName</th>\n",
       "    </tr>\n",
       "  </thead>\n",
       "  <tbody>\n",
       "    <tr>\n",
       "      <th>0</th>\n",
       "      <td>1</td>\n",
       "      <td>Azure</td>\n",
       "    </tr>\n",
       "    <tr>\n",
       "      <th>1</th>\n",
       "      <td>2</td>\n",
       "      <td>Beige</td>\n",
       "    </tr>\n",
       "    <tr>\n",
       "      <th>2</th>\n",
       "      <td>3</td>\n",
       "      <td>Black</td>\n",
       "    </tr>\n",
       "    <tr>\n",
       "      <th>3</th>\n",
       "      <td>4</td>\n",
       "      <td>Blue</td>\n",
       "    </tr>\n",
       "    <tr>\n",
       "      <th>4</th>\n",
       "      <td>5</td>\n",
       "      <td>Charcoal</td>\n",
       "    </tr>\n",
       "    <tr>\n",
       "      <th>5</th>\n",
       "      <td>6</td>\n",
       "      <td>Chartreuse</td>\n",
       "    </tr>\n",
       "    <tr>\n",
       "      <th>6</th>\n",
       "      <td>7</td>\n",
       "      <td>Cyan</td>\n",
       "    </tr>\n",
       "    <tr>\n",
       "      <th>7</th>\n",
       "      <td>8</td>\n",
       "      <td>Dark Brown</td>\n",
       "    </tr>\n",
       "    <tr>\n",
       "      <th>8</th>\n",
       "      <td>9</td>\n",
       "      <td>Dark Green</td>\n",
       "    </tr>\n",
       "    <tr>\n",
       "      <th>9</th>\n",
       "      <td>10</td>\n",
       "      <td>Fuchsia</td>\n",
       "    </tr>\n",
       "    <tr>\n",
       "      <th>10</th>\n",
       "      <td>11</td>\n",
       "      <td>Gold</td>\n",
       "    </tr>\n",
       "    <tr>\n",
       "      <th>11</th>\n",
       "      <td>12</td>\n",
       "      <td>Steel Gray</td>\n",
       "    </tr>\n",
       "    <tr>\n",
       "      <th>12</th>\n",
       "      <td>13</td>\n",
       "      <td>Hot Pink</td>\n",
       "    </tr>\n",
       "    <tr>\n",
       "      <th>13</th>\n",
       "      <td>14</td>\n",
       "      <td>Indigo</td>\n",
       "    </tr>\n",
       "    <tr>\n",
       "      <th>14</th>\n",
       "      <td>15</td>\n",
       "      <td>Ivory</td>\n",
       "    </tr>\n",
       "    <tr>\n",
       "      <th>15</th>\n",
       "      <td>16</td>\n",
       "      <td>Khaki</td>\n",
       "    </tr>\n",
       "    <tr>\n",
       "      <th>16</th>\n",
       "      <td>17</td>\n",
       "      <td>Lavender</td>\n",
       "    </tr>\n",
       "    <tr>\n",
       "      <th>17</th>\n",
       "      <td>18</td>\n",
       "      <td>Light Brown</td>\n",
       "    </tr>\n",
       "    <tr>\n",
       "      <th>18</th>\n",
       "      <td>19</td>\n",
       "      <td>Light Green</td>\n",
       "    </tr>\n",
       "    <tr>\n",
       "      <th>19</th>\n",
       "      <td>20</td>\n",
       "      <td>Maroon</td>\n",
       "    </tr>\n",
       "    <tr>\n",
       "      <th>20</th>\n",
       "      <td>21</td>\n",
       "      <td>Mauve</td>\n",
       "    </tr>\n",
       "    <tr>\n",
       "      <th>21</th>\n",
       "      <td>22</td>\n",
       "      <td>Navy Blue</td>\n",
       "    </tr>\n",
       "    <tr>\n",
       "      <th>22</th>\n",
       "      <td>23</td>\n",
       "      <td>Olive</td>\n",
       "    </tr>\n",
       "    <tr>\n",
       "      <th>23</th>\n",
       "      <td>24</td>\n",
       "      <td>Orange</td>\n",
       "    </tr>\n",
       "    <tr>\n",
       "      <th>24</th>\n",
       "      <td>25</td>\n",
       "      <td>Plum</td>\n",
       "    </tr>\n",
       "    <tr>\n",
       "      <th>25</th>\n",
       "      <td>26</td>\n",
       "      <td>Puce</td>\n",
       "    </tr>\n",
       "    <tr>\n",
       "      <th>26</th>\n",
       "      <td>27</td>\n",
       "      <td>Purple</td>\n",
       "    </tr>\n",
       "    <tr>\n",
       "      <th>27</th>\n",
       "      <td>28</td>\n",
       "      <td>Red</td>\n",
       "    </tr>\n",
       "    <tr>\n",
       "      <th>28</th>\n",
       "      <td>29</td>\n",
       "      <td>Royal Blue</td>\n",
       "    </tr>\n",
       "    <tr>\n",
       "      <th>29</th>\n",
       "      <td>30</td>\n",
       "      <td>Salmon</td>\n",
       "    </tr>\n",
       "    <tr>\n",
       "      <th>30</th>\n",
       "      <td>31</td>\n",
       "      <td>Silver</td>\n",
       "    </tr>\n",
       "    <tr>\n",
       "      <th>31</th>\n",
       "      <td>32</td>\n",
       "      <td>Tan</td>\n",
       "    </tr>\n",
       "    <tr>\n",
       "      <th>32</th>\n",
       "      <td>33</td>\n",
       "      <td>Teal</td>\n",
       "    </tr>\n",
       "    <tr>\n",
       "      <th>33</th>\n",
       "      <td>34</td>\n",
       "      <td>Wheat</td>\n",
       "    </tr>\n",
       "    <tr>\n",
       "      <th>34</th>\n",
       "      <td>35</td>\n",
       "      <td>White</td>\n",
       "    </tr>\n",
       "    <tr>\n",
       "      <th>35</th>\n",
       "      <td>36</td>\n",
       "      <td>Yellow</td>\n",
       "    </tr>\n",
       "  </tbody>\n",
       "</table>\n",
       "</div>"
      ],
      "text/plain": [
       "    ColorID    ColorName\n",
       "0         1        Azure\n",
       "1         2        Beige\n",
       "2         3        Black\n",
       "3         4         Blue\n",
       "4         5     Charcoal\n",
       "5         6   Chartreuse\n",
       "6         7         Cyan\n",
       "7         8   Dark Brown\n",
       "8         9   Dark Green\n",
       "9        10      Fuchsia\n",
       "10       11         Gold\n",
       "11       12   Steel Gray\n",
       "12       13     Hot Pink\n",
       "13       14       Indigo\n",
       "14       15        Ivory\n",
       "15       16        Khaki\n",
       "16       17     Lavender\n",
       "17       18  Light Brown\n",
       "18       19  Light Green\n",
       "19       20       Maroon\n",
       "20       21        Mauve\n",
       "21       22    Navy Blue\n",
       "22       23        Olive\n",
       "23       24       Orange\n",
       "24       25         Plum\n",
       "25       26         Puce\n",
       "26       27       Purple\n",
       "27       28          Red\n",
       "28       29   Royal Blue\n",
       "29       30       Salmon\n",
       "30       31       Silver\n",
       "31       32          Tan\n",
       "32       33         Teal\n",
       "33       34        Wheat\n",
       "34       35        White\n",
       "35       36       Yellow"
      ]
     },
     "execution_count": 58,
     "metadata": {},
     "output_type": "execute_result"
    }
   ],
   "source": [
    "i = 0\n",
    "warehouse_data[i]"
   ]
  },
  {
   "cell_type": "code",
   "execution_count": 50,
   "id": "b068799a",
   "metadata": {},
   "outputs": [
    {
     "data": {
      "application/vnd.jupyter.widget-view+json": {
       "model_id": "a21cb6d7bf804bb499b3bb25cbae7e74",
       "version_major": 2,
       "version_minor": 0
      },
      "text/plain": [
       "  0%|          | 0/10 [00:00<?, ?it/s]"
      ]
     },
     "metadata": {},
     "output_type": "display_data"
    },
    {
     "name": "stdout",
     "output_type": "stream",
     "text": [
      "1\n",
      "Novelty Items\n",
      "\n",
      "2\n",
      "Clothing\n",
      "\n",
      "3\n",
      "Mugs\n",
      "\n",
      "4\n",
      "T-Shirts\n",
      "\n",
      "5\n",
      "Airline Novelties\n",
      "\n",
      "6\n",
      "Computing Novelties\n",
      "\n",
      "7\n",
      "USB Novelties\n",
      "\n",
      "8\n",
      "Furry Footwear\n",
      "\n",
      "9\n",
      "Toys\n",
      "\n",
      "10\n",
      "Packaging Materials\n",
      "\n"
     ]
    }
   ],
   "source": [
    "for row_id in tqdm(range(warehouse_data[i].shape[0])):\n",
    "\n",
    "    for col_id in range(warehouse_data[i].shape[1]):\n",
    "        \n",
    "        print(warehouse_data[i].iloc[row_id,col_id])\n",
    "        \n",
    "    print()"
   ]
  },
  {
   "cell_type": "code",
   "execution_count": 100,
   "id": "835c1166",
   "metadata": {},
   "outputs": [],
   "source": [
    "# Adapted from:\n",
    "# https://nicksardo.wordpress.com/2015/11/24/transferring-data-between-mysql-and-mongodb/\n",
    "\n",
    "def add_csv(table_index):\n",
    "    \n",
    "    table_name = table_names[i]\n",
    "    \n",
    "    # Print table name\n",
    "    print('Migrating table', table_name)\n",
    "    \n",
    "    # Get names of the columns of this table\n",
    "    cols = list(warehouse_data[i].columns)\n",
    "    \n",
    "    # Create mongodb collection\n",
    "    collection = db[table_name]\n",
    "    \n",
    "    # Get row count and print it\n",
    "    row_count = warehouse_data[i].shape[0]\n",
    "    print('Rows in this table:', str(row_count))\n",
    "    \n",
    "    #mongo client specifically requires python dict\n",
    "    cus = dict()\n",
    "\n",
    "    #custom record id rather than mongodb default hash id                                          \n",
    "    cid = 0                                                 \n",
    "\n",
    "    #cycle through each mySQL row\n",
    "    \n",
    "    #for ( row ) in tqdm(mycursor):\n",
    "    for row_id in tqdm(range(warehouse_data[i].shape[0])):\n",
    "        \n",
    "        cid        += 1   #increment id\n",
    "        cus['_id'] = cid                                    \n",
    "\n",
    "        #check if current row is null\n",
    "        for col_id in range(warehouse_data[i].shape[1]):\n",
    "            \n",
    "            field = warehouse_data[i].iloc[row_id,col_id]\n",
    "            \n",
    "            if field == None:\n",
    "                #if the record is null, skip it                  \n",
    "                continue\n",
    "            \n",
    "            else:\n",
    "                row_title      = \"\".join( cols[col_id] )  \n",
    "                \n",
    "                #if isinstance(field, Decimal):\n",
    "                #    field = float(str(field))\n",
    "                    \n",
    "                #if isinstance(field, date):\n",
    "                #    field = str(field)\n",
    "                \n",
    "                if isinstance(field, np.int64):\n",
    "                    field = int(field)\n",
    "                    \n",
    "                if isinstance(field, np.bool_):\n",
    "                    field = bool(field)\n",
    "                \n",
    "                \n",
    "                \n",
    "                \n",
    "                #add current record's field's title and value             \n",
    "                cus[row_title] = field\n",
    "         \n",
    "        try:\n",
    "            #we've completed processing this row, insert it into mongoldb      \n",
    "            collection.insert_one( cus )\n",
    "        except Exception as e: \n",
    "            print(e)\n",
    "            print(cus)\n",
    "            print()"
   ]
  },
  {
   "cell_type": "code",
   "execution_count": 97,
   "id": "e65450a9",
   "metadata": {},
   "outputs": [
    {
     "data": {
      "text/plain": [
       "5"
      ]
     },
     "execution_count": 97,
     "metadata": {},
     "output_type": "execute_result"
    }
   ],
   "source": [
    "i = 5\n",
    "i"
   ]
  },
  {
   "cell_type": "code",
   "execution_count": 77,
   "id": "28d041a3",
   "metadata": {},
   "outputs": [
    {
     "name": "stdout",
     "output_type": "stream",
     "text": [
      "Migrating table Warehouse_Colors\n",
      "Rows in this table: 36\n"
     ]
    },
    {
     "data": {
      "application/vnd.jupyter.widget-view+json": {
       "model_id": "ec8252c78541403faaec2a13b34254a8",
       "version_major": 2,
       "version_minor": 0
      },
      "text/plain": [
       "  0%|          | 0/36 [00:00<?, ?it/s]"
      ]
     },
     "metadata": {},
     "output_type": "display_data"
    }
   ],
   "source": [
    "add_csv(i)"
   ]
  },
  {
   "cell_type": "code",
   "execution_count": 81,
   "id": "aa350556",
   "metadata": {},
   "outputs": [
    {
     "data": {
      "text/plain": [
       "36"
      ]
     },
     "execution_count": 81,
     "metadata": {},
     "output_type": "execute_result"
    }
   ],
   "source": [
    "db[table_names[i]].count_documents({})"
   ]
  },
  {
   "cell_type": "code",
   "execution_count": 79,
   "id": "053ad0e6",
   "metadata": {},
   "outputs": [
    {
     "name": "stdout",
     "output_type": "stream",
     "text": [
      "Migrating table Warehouse_PackageTypes\n",
      "Rows in this table: 14\n"
     ]
    },
    {
     "data": {
      "application/vnd.jupyter.widget-view+json": {
       "model_id": "4f3e495f9e5f4441a0165f5a855c6906",
       "version_major": 2,
       "version_minor": 0
      },
      "text/plain": [
       "  0%|          | 0/14 [00:00<?, ?it/s]"
      ]
     },
     "metadata": {},
     "output_type": "display_data"
    }
   ],
   "source": [
    "add_csv(i)"
   ]
  },
  {
   "cell_type": "code",
   "execution_count": 84,
   "id": "683cefd6",
   "metadata": {},
   "outputs": [
    {
     "data": {
      "text/plain": [
       "14"
      ]
     },
     "execution_count": 84,
     "metadata": {},
     "output_type": "execute_result"
    }
   ],
   "source": [
    "db[table_names[i]].count_documents({})"
   ]
  },
  {
   "cell_type": "code",
   "execution_count": 86,
   "id": "21557f6a",
   "metadata": {},
   "outputs": [
    {
     "name": "stdout",
     "output_type": "stream",
     "text": [
      "Migrating table Warehouse_StockGroups\n",
      "Rows in this table: 10\n"
     ]
    },
    {
     "data": {
      "application/vnd.jupyter.widget-view+json": {
       "model_id": "7729ad25b4e2420d97daecbba9555dea",
       "version_major": 2,
       "version_minor": 0
      },
      "text/plain": [
       "  0%|          | 0/10 [00:00<?, ?it/s]"
      ]
     },
     "metadata": {},
     "output_type": "display_data"
    }
   ],
   "source": [
    "add_csv(i)"
   ]
  },
  {
   "cell_type": "code",
   "execution_count": 87,
   "id": "20901ae1",
   "metadata": {},
   "outputs": [
    {
     "data": {
      "text/plain": [
       "10"
      ]
     },
     "execution_count": 87,
     "metadata": {},
     "output_type": "execute_result"
    }
   ],
   "source": [
    "db[table_names[i]].count_documents({})"
   ]
  },
  {
   "cell_type": "code",
   "execution_count": 92,
   "id": "9a6e7d75",
   "metadata": {},
   "outputs": [
    {
     "name": "stdout",
     "output_type": "stream",
     "text": [
      "Migrating table Warehouse_StockItems\n",
      "Rows in this table: 227\n"
     ]
    },
    {
     "data": {
      "application/vnd.jupyter.widget-view+json": {
       "model_id": "2eb2f9092f0b45528da219ba08ab82bf",
       "version_major": 2,
       "version_minor": 0
      },
      "text/plain": [
       "  0%|          | 0/227 [00:00<?, ?it/s]"
      ]
     },
     "metadata": {},
     "output_type": "display_data"
    }
   ],
   "source": [
    "add_csv(i)"
   ]
  },
  {
   "cell_type": "code",
   "execution_count": 93,
   "id": "860de54c",
   "metadata": {},
   "outputs": [
    {
     "data": {
      "text/plain": [
       "227"
      ]
     },
     "execution_count": 93,
     "metadata": {},
     "output_type": "execute_result"
    }
   ],
   "source": [
    "db[table_names[i]].count_documents({})"
   ]
  },
  {
   "cell_type": "code",
   "execution_count": 95,
   "id": "5f8af234",
   "metadata": {},
   "outputs": [
    {
     "name": "stdout",
     "output_type": "stream",
     "text": [
      "Migrating table Warehouse_StockItemStockGroups\n",
      "Rows in this table: 442\n"
     ]
    },
    {
     "data": {
      "application/vnd.jupyter.widget-view+json": {
       "model_id": "d7cfbbcaa69a41c2937203b5d726f31b",
       "version_major": 2,
       "version_minor": 0
      },
      "text/plain": [
       "  0%|          | 0/442 [00:00<?, ?it/s]"
      ]
     },
     "metadata": {},
     "output_type": "display_data"
    }
   ],
   "source": [
    "add_csv(i)"
   ]
  },
  {
   "cell_type": "code",
   "execution_count": 96,
   "id": "029bd58f",
   "metadata": {},
   "outputs": [
    {
     "data": {
      "text/plain": [
       "442"
      ]
     },
     "execution_count": 96,
     "metadata": {},
     "output_type": "execute_result"
    }
   ],
   "source": [
    "db[table_names[i]].count_documents({})"
   ]
  },
  {
   "cell_type": "code",
   "execution_count": 98,
   "id": "78c9a3ee",
   "metadata": {},
   "outputs": [
    {
     "name": "stdout",
     "output_type": "stream",
     "text": [
      "Migrating table Warehouse_StockItemTransactions\n",
      "Rows in this table: 236667\n"
     ]
    },
    {
     "data": {
      "application/vnd.jupyter.widget-view+json": {
       "model_id": "e0ea4a29355742ed88c321bc2d7ac529",
       "version_major": 2,
       "version_minor": 0
      },
      "text/plain": [
       "  0%|          | 0/236667 [00:00<?, ?it/s]"
      ]
     },
     "metadata": {},
     "output_type": "display_data"
    }
   ],
   "source": [
    "add_csv(i)"
   ]
  },
  {
   "cell_type": "code",
   "execution_count": 101,
   "id": "ea21b123",
   "metadata": {},
   "outputs": [
    {
     "data": {
      "text/plain": [
       "236667"
      ]
     },
     "execution_count": 101,
     "metadata": {},
     "output_type": "execute_result"
    }
   ],
   "source": [
    "db[table_names[i]].count_documents({})"
   ]
  },
  {
   "cell_type": "code",
   "execution_count": 102,
   "id": "2391dfd1",
   "metadata": {},
   "outputs": [
    {
     "name": "stdout",
     "output_type": "stream",
     "text": [
      "Warehouse_Colors\n",
      "Csv row count:\n",
      "36\n",
      "Mongo db document count:\n",
      "36\n",
      "Warehouse_PackageTypes\n",
      "Csv row count:\n",
      "14\n",
      "Mongo db document count:\n",
      "14\n",
      "Warehouse_StockGroups\n",
      "Csv row count:\n",
      "10\n",
      "Mongo db document count:\n",
      "10\n",
      "Warehouse_StockItems\n",
      "Csv row count:\n",
      "227\n",
      "Mongo db document count:\n",
      "227\n",
      "Warehouse_StockItemStockGroups\n",
      "Csv row count:\n",
      "442\n",
      "Mongo db document count:\n",
      "442\n",
      "Warehouse_StockItemTransactions\n",
      "Csv row count:\n",
      "236667\n",
      "Mongo db document count:\n",
      "236667\n"
     ]
    }
   ],
   "source": [
    "# Compare sql table sizes to mongo collection sizes\n",
    "for i in range(len(table_names)):\n",
    "    \n",
    "    # Get table name\n",
    "    table_name = table_names[i]\n",
    "    \n",
    "    # Get row count for csv\n",
    "    csv_count = warehouse_data[i].shape[0]\n",
    "    \n",
    "    # Get row count for mongo db\n",
    "    mongo_count = db[table_name].count_documents({})\n",
    "    \n",
    "    # Print row counts\n",
    "    print(table_name)\n",
    "    print('Csv row count:')\n",
    "    print(csv_count)\n",
    "    print('Mongo db document count:')\n",
    "    print(mongo_count)"
   ]
  },
  {
   "cell_type": "code",
   "execution_count": null,
   "id": "de817e83",
   "metadata": {},
   "outputs": [],
   "source": []
  }
 ],
 "metadata": {
  "kernelspec": {
   "display_name": "Python 3",
   "language": "python",
   "name": "python3"
  },
  "language_info": {
   "codemirror_mode": {
    "name": "ipython",
    "version": 3
   },
   "file_extension": ".py",
   "mimetype": "text/x-python",
   "name": "python",
   "nbconvert_exporter": "python",
   "pygments_lexer": "ipython3",
   "version": "3.8.8"
  }
 },
 "nbformat": 4,
 "nbformat_minor": 5
}
