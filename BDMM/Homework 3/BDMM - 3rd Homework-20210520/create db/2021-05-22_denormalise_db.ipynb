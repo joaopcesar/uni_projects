{
 "cells": [
  {
   "cell_type": "markdown",
   "id": "c85ac6a0",
   "metadata": {},
   "source": [
    "## Imports"
   ]
  },
  {
   "cell_type": "code",
   "execution_count": 1,
   "id": "eae28ce3",
   "metadata": {},
   "outputs": [],
   "source": [
    "from pymongo import MongoClient\n",
    "from tqdm.notebook import tqdm\n",
    "from pprint import pprint\n",
    "import numpy as np\n",
    "import math"
   ]
  },
  {
   "cell_type": "markdown",
   "id": "b7145252",
   "metadata": {},
   "source": [
    "## Connect to mongo db"
   ]
  },
  {
   "cell_type": "code",
   "execution_count": 2,
   "id": "5f1c38ea",
   "metadata": {},
   "outputs": [],
   "source": [
    "# Connect to Mongo server\n",
    "host=\"rhea.isegi.unl.pt\"\n",
    "port=\"27049\"\n",
    "user=\"GROUP_32\"\n",
    "password=\"bRG2XjRZhrRA9IfpmENyXxMlWQDUJdzL\"\n",
    "protocol=\"mongodb\"\n",
    "client = MongoClient(f\"{protocol}://{user}:{password}@{host}:{port}\")\n",
    "\n",
    "# Connect to mongo db\n",
    "db = client.#database name here"
   ]
  },
  {
   "cell_type": "markdown",
   "id": "1d6c2a7b",
   "metadata": {},
   "source": [
    "## Define an embed() function"
   ]
  },
  {
   "cell_type": "code",
   "execution_count": 3,
   "id": "b0556ff2",
   "metadata": {},
   "outputs": [],
   "source": [
    "def embed(linking_attribute_parent, linking_attribute_child, new_attribute, parent_collection, child_collection):\n",
    "    \n",
    "    # Get the distinct values in the parent collection that point to the child collection's entries of interest\n",
    "    linking_attribute_values_in_parent_collection = db[parent_collection].find( {}, {linking_attribute_parent:1, '_id':0}).distinct(linking_attribute_parent)\n",
    "\n",
    "    # Iterate over them\n",
    "    for value in tqdm(linking_attribute_values_in_parent_collection):\n",
    "\n",
    "        # If there is a nan, skip it\n",
    "        if not math.isnan(value):\n",
    "            \n",
    "            # Find the respective documents in the child collection (that will be embedded)\n",
    "            to_embed = list(db[child_collection].find( {linking_attribute_child:value}, {'_id':0} ))\n",
    "\n",
    "            # If only one document will be embedded, remove the list around it\n",
    "            # If multiple documents will be embedded, they will be interted as a list\n",
    "            if len(to_embed) == 1:\n",
    "                to_embed = to_embed[0]\n",
    "\n",
    "            # Embed them in the parent collection's respective entries\n",
    "            db[parent_collection].update_many( {linking_attribute_parent:value}, {'$set': {new_attribute:to_embed} } )\n",
    "            \n",
    "            # Commented out because descreases usability in certain situations:\n",
    "            # Remove ID field from parent collection\n",
    "            #db[parent_collection].update_many( {linking_attribute_parent:value}, {'$unset': { linking_attribute_parent:'' } } )"
   ]
  },
  {
   "cell_type": "markdown",
   "id": "aafdcf80",
   "metadata": {},
   "source": [
    "## Embed Application_Countries in Application_StateProvinces"
   ]
  },
  {
   "cell_type": "code",
   "execution_count": 4,
   "id": "529f03f9",
   "metadata": {},
   "outputs": [
    {
     "data": {
      "application/vnd.jupyter.widget-view+json": {
       "model_id": "b928be6a628d406da2bf6f05a8cca41b",
       "version_major": 2,
       "version_minor": 0
      },
      "text/plain": [
       "  0%|          | 0/1 [00:00<?, ?it/s]"
      ]
     },
     "metadata": {},
     "output_type": "display_data"
    },
    {
     "name": "stdout",
     "output_type": "stream",
     "text": [
      "[{'Country': {'Continent': 'North America',\n",
      "              'CountryID': 230,\n",
      "              'CountryName': 'United States',\n",
      "              'CountryType': 'UN Member State',\n",
      "              'FormalName': 'United States of America',\n",
      "              'IsoAlpha3Code': 'USA',\n",
      "              'IsoNumericCode': 840,\n",
      "              'LatestRecordedPopulation': 313973000,\n",
      "              'Region': 'Americas',\n",
      "              'Subregion': 'Northern America'},\n",
      "  'CountryID': 230,\n",
      "  'LatestRecordedPopulation': 5437278,\n",
      "  'SalesTerritory': 'Southeast',\n",
      "  'StateProvinceCode': 'AL',\n",
      "  'StateProvinceID': 1,\n",
      "  'StateProvinceName': 'Alabama',\n",
      "  '_id': ObjectId('60a9208b4b95d601fc64696e')}]\n"
     ]
    }
   ],
   "source": [
    "linking_attribute_parent = 'CountryID'\n",
    "linking_attribute_child = 'CountryID'\n",
    "new_attribute = 'Country'\n",
    "parent_collection = 'Application_StateProvinces'\n",
    "child_collection = 'Application_Countries'\n",
    "\n",
    "embed(linking_attribute_parent, linking_attribute_child, new_attribute, parent_collection, child_collection)\n",
    "\n",
    "pprint(list(db[parent_collection].find( {new_attribute: {\"$exists\": True} } ).limit(1)))"
   ]
  },
  {
   "cell_type": "markdown",
   "id": "1cb5c455",
   "metadata": {},
   "source": [
    "## Embed Application_StateProvinces in Application_Cities"
   ]
  },
  {
   "cell_type": "code",
   "execution_count": 5,
   "id": "7cbc8a1c",
   "metadata": {},
   "outputs": [
    {
     "data": {
      "application/vnd.jupyter.widget-view+json": {
       "model_id": "c2666fbeef8c44c1803ab8a3dcd250fb",
       "version_major": 2,
       "version_minor": 0
      },
      "text/plain": [
       "  0%|          | 0/53 [00:00<?, ?it/s]"
      ]
     },
     "metadata": {},
     "output_type": "display_data"
    },
    {
     "name": "stdout",
     "output_type": "stream",
     "text": [
      "[{'CityID': 1,\n",
      "  'CityName': 'Aaronsburg',\n",
      "  'LatestRecordedPopulation': 613,\n",
      "  'Location': '0xE6100000010C07E11B542C73444087C09140035D53C0',\n",
      "  'StateProvince': {'Country': {'Continent': 'North America',\n",
      "                                'CountryID': 230,\n",
      "                                'CountryName': 'United States',\n",
      "                                'CountryType': 'UN Member State',\n",
      "                                'FormalName': 'United States of America',\n",
      "                                'IsoAlpha3Code': 'USA',\n",
      "                                'IsoNumericCode': 840,\n",
      "                                'LatestRecordedPopulation': 313973000,\n",
      "                                'Region': 'Americas',\n",
      "                                'Subregion': 'Northern America'},\n",
      "                    'CountryID': 230,\n",
      "                    'LatestRecordedPopulation': 13284753,\n",
      "                    'SalesTerritory': 'Mideast',\n",
      "                    'StateProvinceCode': 'PA',\n",
      "                    'StateProvinceID': 39,\n",
      "                    'StateProvinceName': 'Pennsylvania'},\n",
      "  'StateProvinceID': 39,\n",
      "  '_id': ObjectId('60a920874b95d601fc63d017')}]\n"
     ]
    }
   ],
   "source": [
    "linking_attribute_parent = 'StateProvinceID'\n",
    "linking_attribute_child = 'StateProvinceID'\n",
    "new_attribute = 'StateProvince'\n",
    "parent_collection = 'Application_Cities'\n",
    "child_collection = 'Application_StateProvinces'\n",
    "\n",
    "embed(linking_attribute_parent, linking_attribute_child, new_attribute, parent_collection, child_collection)\n",
    "\n",
    "pprint(list(db[parent_collection].find( {new_attribute: {\"$exists\": True} } ).limit(1)))"
   ]
  },
  {
   "cell_type": "markdown",
   "id": "1a2146ca",
   "metadata": {},
   "source": [
    "## Embed Application_Cities in Purchasing_Suppliers (both DeliveryCity and PostalCity)"
   ]
  },
  {
   "cell_type": "code",
   "execution_count": 6,
   "id": "35a5319d",
   "metadata": {},
   "outputs": [
    {
     "data": {
      "application/vnd.jupyter.widget-view+json": {
       "model_id": "e8d59538920244919313b6156433376d",
       "version_major": 2,
       "version_minor": 0
      },
      "text/plain": [
       "  0%|          | 0/12 [00:00<?, ?it/s]"
      ]
     },
     "metadata": {},
     "output_type": "display_data"
    },
    {
     "data": {
      "application/vnd.jupyter.widget-view+json": {
       "model_id": "fa22bbcfac6e420687860172114a5d7c",
       "version_major": 2,
       "version_minor": 0
      },
      "text/plain": [
       "  0%|          | 0/12 [00:00<?, ?it/s]"
      ]
     },
     "metadata": {},
     "output_type": "display_data"
    },
    {
     "name": "stdout",
     "output_type": "stream",
     "text": [
      "[{'AlternateContactPersonID': 22,\n",
      "  'BankAccountBranch': 'Woodgrove Bank Zionsville',\n",
      "  'BankAccountCode': '356981',\n",
      "  'BankAccountName': 'A Datum Corporation',\n",
      "  'BankAccountNumber': '8575824136',\n",
      "  'BankInternationalCode': '25986',\n",
      "  'DeliveryAddressLine1': 'Suite 10',\n",
      "  'DeliveryAddressLine2': '183838 Southwest Boulevard',\n",
      "  'DeliveryCity': {'CityID': 38171,\n",
      "                   'CityName': 'Zionsville',\n",
      "                   'LatestRecordedPopulation': 14160,\n",
      "                   'Location': '0xE6100000010CDE115F37B6F9434031276893C39055C0',\n",
      "                   'StateProvince': {'Country': {'Continent': 'North America',\n",
      "                                                 'CountryID': 230,\n",
      "                                                 'CountryName': 'United States',\n",
      "                                                 'CountryType': 'UN Member '\n",
      "                                                                'State',\n",
      "                                                 'FormalName': 'United States '\n",
      "                                                               'of America',\n",
      "                                                 'IsoAlpha3Code': 'USA',\n",
      "                                                 'IsoNumericCode': 840,\n",
      "                                                 'LatestRecordedPopulation': 313973000,\n",
      "                                                 'Region': 'Americas',\n",
      "                                                 'Subregion': 'Northern '\n",
      "                                                              'America'},\n",
      "                                     'CountryID': 230,\n",
      "                                     'LatestRecordedPopulation': 6570902,\n",
      "                                     'SalesTerritory': 'Great Lakes',\n",
      "                                     'StateProvinceCode': 'IN',\n",
      "                                     'StateProvinceID': 15,\n",
      "                                     'StateProvinceName': 'Indiana'},\n",
      "                   'StateProvinceID': 15},\n",
      "  'DeliveryCityID': 38171,\n",
      "  'DeliveryLocationLat': 39.9509,\n",
      "  'DeliveryLocationLong': -86.2619,\n",
      "  'DeliveryMethodID': 7,\n",
      "  'DeliveryPostalCode': '46077',\n",
      "  'FaxNumber': '(847) 555-0101',\n",
      "  'PaymentDays': 14,\n",
      "  'PhoneNumber': '(847) 555-0100',\n",
      "  'PostalAddressLine1': 'PO Box 1039',\n",
      "  'PostalAddressLine2': 'Surrey',\n",
      "  'PostalCity': {'CityID': 38171,\n",
      "                 'CityName': 'Zionsville',\n",
      "                 'LatestRecordedPopulation': 14160,\n",
      "                 'Location': '0xE6100000010CDE115F37B6F9434031276893C39055C0',\n",
      "                 'StateProvince': {'Country': {'Continent': 'North America',\n",
      "                                               'CountryID': 230,\n",
      "                                               'CountryName': 'United States',\n",
      "                                               'CountryType': 'UN Member State',\n",
      "                                               'FormalName': 'United States of '\n",
      "                                                             'America',\n",
      "                                               'IsoAlpha3Code': 'USA',\n",
      "                                               'IsoNumericCode': 840,\n",
      "                                               'LatestRecordedPopulation': 313973000,\n",
      "                                               'Region': 'Americas',\n",
      "                                               'Subregion': 'Northern America'},\n",
      "                                   'CountryID': 230,\n",
      "                                   'LatestRecordedPopulation': 6570902,\n",
      "                                   'SalesTerritory': 'Great Lakes',\n",
      "                                   'StateProvinceCode': 'IN',\n",
      "                                   'StateProvinceID': 15,\n",
      "                                   'StateProvinceName': 'Indiana'},\n",
      "                 'StateProvinceID': 15},\n",
      "  'PostalCityID': 38171,\n",
      "  'PostalPostalCode': '46077',\n",
      "  'PrimaryContactPersonID': 21,\n",
      "  'SupplierCategoryID': 2,\n",
      "  'SupplierID': 1,\n",
      "  'SupplierName': 'A Datum Corporation',\n",
      "  'SupplierReference': 'AA20384',\n",
      "  'WebsiteURL': 'http://www.adatum.com',\n",
      "  '_id': 1}]\n"
     ]
    }
   ],
   "source": [
    "linking_attribute_parent = 'DeliveryCityID'\n",
    "linking_attribute_child = 'CityID'\n",
    "new_attribute = 'DeliveryCity'\n",
    "parent_collection = 'Purchasing_Suppliers'\n",
    "child_collection = 'Application_Cities'\n",
    "\n",
    "embed(linking_attribute_parent, linking_attribute_child, new_attribute, parent_collection, child_collection)\n",
    "\n",
    "linking_attribute_parent = 'PostalCityID'\n",
    "linking_attribute_child = 'CityID'\n",
    "new_attribute = 'PostalCity'\n",
    "parent_collection = 'Purchasing_Suppliers'\n",
    "child_collection = 'Application_Cities'\n",
    "\n",
    "embed(linking_attribute_parent, linking_attribute_child, new_attribute, parent_collection, child_collection)\n",
    "\n",
    "pprint(list(db[parent_collection].find( {new_attribute: {\"$exists\": True} } ).limit(1)))"
   ]
  },
  {
   "cell_type": "markdown",
   "id": "deedce37",
   "metadata": {},
   "source": [
    "## Embed Application_Cities in Sales_Customers (both DeliveryCity and PostalCity)"
   ]
  },
  {
   "cell_type": "code",
   "execution_count": 7,
   "id": "2075b827",
   "metadata": {},
   "outputs": [
    {
     "data": {
      "application/vnd.jupyter.widget-view+json": {
       "model_id": "c0a610c5da33424fbc43bf1bfdaef244",
       "version_major": 2,
       "version_minor": 0
      },
      "text/plain": [
       "  0%|          | 0/655 [00:00<?, ?it/s]"
      ]
     },
     "metadata": {},
     "output_type": "display_data"
    },
    {
     "data": {
      "application/vnd.jupyter.widget-view+json": {
       "model_id": "7f89fde5946044ab945e5752035c5c22",
       "version_major": 2,
       "version_minor": 0
      },
      "text/plain": [
       "  0%|          | 0/655 [00:00<?, ?it/s]"
      ]
     },
     "metadata": {},
     "output_type": "display_data"
    },
    {
     "name": "stdout",
     "output_type": "stream",
     "text": [
      "[{'AccountOpenedDate': '2013-01-01',\n",
      "  'AlternateContactPersonID': 1002,\n",
      "  'BillToCustomerID': 1,\n",
      "  'CustomerCategoryID': 3,\n",
      "  'CustomerID': 1,\n",
      "  'CustomerName': 'Tailspin Toys (Head Office)',\n",
      "  'DeliveryAddressLine1': 'Shop 38',\n",
      "  'DeliveryAddressLine2': '1877 Mittal Road',\n",
      "  'DeliveryCity': {'CityID': 19586,\n",
      "                   'CityName': 'Lisco',\n",
      "                   'LatestRecordedPopulation': None,\n",
      "                   'Location': '0xE6100000010CE73F5A52A4BF444010638852B1A759C0',\n",
      "                   'StateProvince': {'Country': {'Continent': 'North America',\n",
      "                                                 'CountryID': 230,\n",
      "                                                 'CountryName': 'United States',\n",
      "                                                 'CountryType': 'UN Member '\n",
      "                                                                'State',\n",
      "                                                 'FormalName': 'United States '\n",
      "                                                               'of America',\n",
      "                                                 'IsoAlpha3Code': 'USA',\n",
      "                                                 'IsoNumericCode': 840,\n",
      "                                                 'LatestRecordedPopulation': 313973000,\n",
      "                                                 'Region': 'Americas',\n",
      "                                                 'Subregion': 'Northern '\n",
      "                                                              'America'},\n",
      "                                     'CountryID': 230,\n",
      "                                     'LatestRecordedPopulation': 1943256,\n",
      "                                     'SalesTerritory': 'Plains',\n",
      "                                     'StateProvinceCode': 'NE',\n",
      "                                     'StateProvinceID': 28,\n",
      "                                     'StateProvinceName': 'Nebraska'},\n",
      "                   'StateProvinceID': 28},\n",
      "  'DeliveryCityID': 19586,\n",
      "  'DeliveryLocationLat': 41.4972,\n",
      "  'DeliveryLocationLong': -102.62,\n",
      "  'DeliveryMethodID': 3,\n",
      "  'DeliveryPostalCode': '90410',\n",
      "  'DeliveryRun': '',\n",
      "  'FaxNumber': '(308) 555-0101',\n",
      "  'IsOnCreditHold': 0,\n",
      "  'IsStatementSent': 0,\n",
      "  'PaymentDays': 7,\n",
      "  'PhoneNumber': '(308) 555-0100',\n",
      "  'PostalAddressLine1': 'PO Box 8975',\n",
      "  'PostalAddressLine2': 'Ribeiroville',\n",
      "  'PostalCity': {'CityID': 19586,\n",
      "                 'CityName': 'Lisco',\n",
      "                 'LatestRecordedPopulation': None,\n",
      "                 'Location': '0xE6100000010CE73F5A52A4BF444010638852B1A759C0',\n",
      "                 'StateProvince': {'Country': {'Continent': 'North America',\n",
      "                                               'CountryID': 230,\n",
      "                                               'CountryName': 'United States',\n",
      "                                               'CountryType': 'UN Member State',\n",
      "                                               'FormalName': 'United States of '\n",
      "                                                             'America',\n",
      "                                               'IsoAlpha3Code': 'USA',\n",
      "                                               'IsoNumericCode': 840,\n",
      "                                               'LatestRecordedPopulation': 313973000,\n",
      "                                               'Region': 'Americas',\n",
      "                                               'Subregion': 'Northern America'},\n",
      "                                   'CountryID': 230,\n",
      "                                   'LatestRecordedPopulation': 1943256,\n",
      "                                   'SalesTerritory': 'Plains',\n",
      "                                   'StateProvinceCode': 'NE',\n",
      "                                   'StateProvinceID': 28,\n",
      "                                   'StateProvinceName': 'Nebraska'},\n",
      "                 'StateProvinceID': 28},\n",
      "  'PostalCityID': 19586,\n",
      "  'PostalPostalCode': '90410',\n",
      "  'PrimaryContactPersonID': 1001,\n",
      "  'RunPosition': '',\n",
      "  'StandardDiscountPercentage': 0.0,\n",
      "  'WebsiteURL': 'http://www.tailspintoys.com',\n",
      "  '_id': 1}]\n"
     ]
    }
   ],
   "source": [
    "linking_attribute_parent = 'DeliveryCityID'\n",
    "linking_attribute_child = 'CityID'\n",
    "new_attribute = 'DeliveryCity'\n",
    "parent_collection = 'Sales_Customers'\n",
    "child_collection = 'Application_Cities'\n",
    "\n",
    "embed(linking_attribute_parent, linking_attribute_child, new_attribute, parent_collection, child_collection)\n",
    "\n",
    "linking_attribute_parent = 'PostalCityID'\n",
    "linking_attribute_child = 'CityID'\n",
    "new_attribute = 'PostalCity'\n",
    "parent_collection = 'Sales_Customers'\n",
    "child_collection = 'Application_Cities'\n",
    "\n",
    "embed(linking_attribute_parent, linking_attribute_child, new_attribute, parent_collection, child_collection)\n",
    "\n",
    "pprint(list(db[parent_collection].find( {new_attribute: {\"$exists\": True} } ).limit(1)))"
   ]
  },
  {
   "cell_type": "markdown",
   "id": "c5deb077",
   "metadata": {},
   "source": [
    "## Embed Application_DeliveryMethods in Purchasing_PurchaseOrders"
   ]
  },
  {
   "cell_type": "code",
   "execution_count": 8,
   "id": "13da415a",
   "metadata": {},
   "outputs": [
    {
     "data": {
      "application/vnd.jupyter.widget-view+json": {
       "model_id": "b37285cb2b024614982cdca30c67bf56",
       "version_major": 2,
       "version_minor": 0
      },
      "text/plain": [
       "  0%|          | 0/5 [00:00<?, ?it/s]"
      ]
     },
     "metadata": {},
     "output_type": "display_data"
    },
    {
     "name": "stdout",
     "output_type": "stream",
     "text": [
      "[{'ContactPersonID': 2,\n",
      "  'DeliveryMethod': {'DeliveryMethodID': 2, 'DeliveryMethodName': 'Courier'},\n",
      "  'DeliveryMethodID': 2,\n",
      "  'ExpectedDeliveryDate': '2014-09-18',\n",
      "  'IsOrderFinalized': 1,\n",
      "  'OrderDate': '2014-08-29',\n",
      "  'PurchaseOrderID': 1001,\n",
      "  'SupplierID': 7,\n",
      "  'SupplierReference': 'BC0280982',\n",
      "  '_id': 1001}]\n"
     ]
    }
   ],
   "source": [
    "linking_attribute_parent = 'DeliveryMethodID'\n",
    "linking_attribute_child = 'DeliveryMethodID'\n",
    "new_attribute = 'DeliveryMethod'\n",
    "parent_collection = 'Purchasing_PurchaseOrders'\n",
    "child_collection = 'Application_DeliveryMethods'\n",
    "\n",
    "embed(linking_attribute_parent, linking_attribute_child, new_attribute, parent_collection, child_collection)\n",
    "\n",
    "pprint(list(db[parent_collection].find( {new_attribute: {\"$exists\": True} } ).limit(1)))"
   ]
  },
  {
   "cell_type": "markdown",
   "id": "a1831e0c",
   "metadata": {},
   "source": [
    "## Embed Application_DeliveryMethods in Sales_Invoices"
   ]
  },
  {
   "cell_type": "code",
   "execution_count": 9,
   "id": "5acbcf13",
   "metadata": {},
   "outputs": [
    {
     "data": {
      "application/vnd.jupyter.widget-view+json": {
       "model_id": "5ec1c1a74a8547cc83605b83cc00a02b",
       "version_major": 2,
       "version_minor": 0
      },
      "text/plain": [
       "  0%|          | 0/1 [00:00<?, ?it/s]"
      ]
     },
     "metadata": {},
     "output_type": "display_data"
    },
    {
     "name": "stdout",
     "output_type": "stream",
     "text": [
      "[{'AccountsPersonID': 2001,\n",
      "  'BillToCustomerID': 401,\n",
      "  'ConfirmedDeliveryTime': '2013-02-10 08:40:00',\n",
      "  'ConfirmedReceivedBy': 'Klara Rakus',\n",
      "  'ContactPersonID': 2165,\n",
      "  'CustomerID': 483,\n",
      "  'CustomerPurchaseOrderNumber': '18172',\n",
      "  'DeliveryInstructions': 'Suite 275, 593 Huq Avenue',\n",
      "  'DeliveryMethod': {'DeliveryMethodID': 3,\n",
      "                     'DeliveryMethodName': 'Delivery Van'},\n",
      "  'DeliveryMethodID': 3,\n",
      "  'DeliveryRun': '',\n",
      "  'InvoiceDate': '2013-02-09',\n",
      "  'InvoiceID': 1989,\n",
      "  'IsCreditNote': 0,\n",
      "  'OrderID': 2041,\n",
      "  'PackedByPersonID': 7,\n",
      "  'ReturnedDeliveryData': '{\"Events\": [{ \"Event\":\"Ready for '\n",
      "                          'collection\",\"EventTime\":\"2013-02-09T12:00:00\",\"ConNote\":\"EAN-125-3039\"},{ '\n",
      "                          '\"Event\":\"DeliveryAttempt\",\"EventTime\":\"2013-02-10T08:40:00\",\"ConNote\":\"EAN-125-3039\",\"DriverID\":11,\"Latitude\":33.8487376,\"Longitude\":-82.2598460,\"Status\":\"Delivered\"}],\"DeliveredWhen\":\"2013-02-10T08:40:00\",\"ReceivedBy\":\"Klara '\n",
      "                          'Rakus\"}',\n",
      "  'RunPosition': '',\n",
      "  'SalespersonPersonID': 2,\n",
      "  'TotalChillerItems': 0,\n",
      "  'TotalDryItems': 3,\n",
      "  '_id': 2001}]\n"
     ]
    }
   ],
   "source": [
    "linking_attribute_parent = 'DeliveryMethodID'\n",
    "linking_attribute_child = 'DeliveryMethodID'\n",
    "new_attribute = 'DeliveryMethod'\n",
    "parent_collection = 'Sales_Invoices'\n",
    "child_collection = 'Application_DeliveryMethods'\n",
    "\n",
    "embed(linking_attribute_parent, linking_attribute_child, new_attribute, parent_collection, child_collection)\n",
    "\n",
    "pprint(list(db[parent_collection].find( {new_attribute: {\"$exists\": True} } ).limit(1)))"
   ]
  },
  {
   "cell_type": "markdown",
   "id": "e6427c69",
   "metadata": {},
   "source": [
    "## Embed Application_DeliveryMethods in Purchasing_Suppliers"
   ]
  },
  {
   "cell_type": "code",
   "execution_count": 10,
   "id": "dabcdb63",
   "metadata": {},
   "outputs": [
    {
     "data": {
      "application/vnd.jupyter.widget-view+json": {
       "model_id": "a751500bb83e4267a83bf1ed32f11896",
       "version_major": 2,
       "version_minor": 0
      },
      "text/plain": [
       "  0%|          | 0/5 [00:00<?, ?it/s]"
      ]
     },
     "metadata": {},
     "output_type": "display_data"
    },
    {
     "name": "stdout",
     "output_type": "stream",
     "text": [
      "[{'AlternateContactPersonID': 22,\n",
      "  'BankAccountBranch': 'Woodgrove Bank Zionsville',\n",
      "  'BankAccountCode': '356981',\n",
      "  'BankAccountName': 'A Datum Corporation',\n",
      "  'BankAccountNumber': '8575824136',\n",
      "  'BankInternationalCode': '25986',\n",
      "  'DeliveryAddressLine1': 'Suite 10',\n",
      "  'DeliveryAddressLine2': '183838 Southwest Boulevard',\n",
      "  'DeliveryCity': {'CityID': 38171,\n",
      "                   'CityName': 'Zionsville',\n",
      "                   'LatestRecordedPopulation': 14160,\n",
      "                   'Location': '0xE6100000010CDE115F37B6F9434031276893C39055C0',\n",
      "                   'StateProvince': {'Country': {'Continent': 'North America',\n",
      "                                                 'CountryID': 230,\n",
      "                                                 'CountryName': 'United States',\n",
      "                                                 'CountryType': 'UN Member '\n",
      "                                                                'State',\n",
      "                                                 'FormalName': 'United States '\n",
      "                                                               'of America',\n",
      "                                                 'IsoAlpha3Code': 'USA',\n",
      "                                                 'IsoNumericCode': 840,\n",
      "                                                 'LatestRecordedPopulation': 313973000,\n",
      "                                                 'Region': 'Americas',\n",
      "                                                 'Subregion': 'Northern '\n",
      "                                                              'America'},\n",
      "                                     'CountryID': 230,\n",
      "                                     'LatestRecordedPopulation': 6570902,\n",
      "                                     'SalesTerritory': 'Great Lakes',\n",
      "                                     'StateProvinceCode': 'IN',\n",
      "                                     'StateProvinceID': 15,\n",
      "                                     'StateProvinceName': 'Indiana'},\n",
      "                   'StateProvinceID': 15},\n",
      "  'DeliveryCityID': 38171,\n",
      "  'DeliveryLocationLat': 39.9509,\n",
      "  'DeliveryLocationLong': -86.2619,\n",
      "  'DeliveryMethod': {'DeliveryMethodID': 7,\n",
      "                     'DeliveryMethodName': 'Road Freight'},\n",
      "  'DeliveryMethodID': 7,\n",
      "  'DeliveryPostalCode': '46077',\n",
      "  'FaxNumber': '(847) 555-0101',\n",
      "  'PaymentDays': 14,\n",
      "  'PhoneNumber': '(847) 555-0100',\n",
      "  'PostalAddressLine1': 'PO Box 1039',\n",
      "  'PostalAddressLine2': 'Surrey',\n",
      "  'PostalCity': {'CityID': 38171,\n",
      "                 'CityName': 'Zionsville',\n",
      "                 'LatestRecordedPopulation': 14160,\n",
      "                 'Location': '0xE6100000010CDE115F37B6F9434031276893C39055C0',\n",
      "                 'StateProvince': {'Country': {'Continent': 'North America',\n",
      "                                               'CountryID': 230,\n",
      "                                               'CountryName': 'United States',\n",
      "                                               'CountryType': 'UN Member State',\n",
      "                                               'FormalName': 'United States of '\n",
      "                                                             'America',\n",
      "                                               'IsoAlpha3Code': 'USA',\n",
      "                                               'IsoNumericCode': 840,\n",
      "                                               'LatestRecordedPopulation': 313973000,\n",
      "                                               'Region': 'Americas',\n",
      "                                               'Subregion': 'Northern America'},\n",
      "                                   'CountryID': 230,\n",
      "                                   'LatestRecordedPopulation': 6570902,\n",
      "                                   'SalesTerritory': 'Great Lakes',\n",
      "                                   'StateProvinceCode': 'IN',\n",
      "                                   'StateProvinceID': 15,\n",
      "                                   'StateProvinceName': 'Indiana'},\n",
      "                 'StateProvinceID': 15},\n",
      "  'PostalCityID': 38171,\n",
      "  'PostalPostalCode': '46077',\n",
      "  'PrimaryContactPersonID': 21,\n",
      "  'SupplierCategoryID': 2,\n",
      "  'SupplierID': 1,\n",
      "  'SupplierName': 'A Datum Corporation',\n",
      "  'SupplierReference': 'AA20384',\n",
      "  'WebsiteURL': 'http://www.adatum.com',\n",
      "  '_id': 1}]\n"
     ]
    }
   ],
   "source": [
    "linking_attribute_parent = 'DeliveryMethodID'\n",
    "linking_attribute_child = 'DeliveryMethodID'\n",
    "new_attribute = 'DeliveryMethod'\n",
    "parent_collection = 'Purchasing_Suppliers'\n",
    "child_collection = 'Application_DeliveryMethods'\n",
    "\n",
    "embed(linking_attribute_parent, linking_attribute_child, new_attribute, parent_collection, child_collection)\n",
    "\n",
    "pprint(list(db[parent_collection].find( {new_attribute: {\"$exists\": True} } ).limit(1)))"
   ]
  },
  {
   "cell_type": "markdown",
   "id": "b51ad523",
   "metadata": {},
   "source": [
    "## Embed Application_DeliveryMethods in Sales_Customers"
   ]
  },
  {
   "cell_type": "code",
   "execution_count": 11,
   "id": "bcdcd6a7",
   "metadata": {},
   "outputs": [
    {
     "data": {
      "application/vnd.jupyter.widget-view+json": {
       "model_id": "321cc4abf4b343e7bcee60f109498b18",
       "version_major": 2,
       "version_minor": 0
      },
      "text/plain": [
       "  0%|          | 0/1 [00:00<?, ?it/s]"
      ]
     },
     "metadata": {},
     "output_type": "display_data"
    },
    {
     "name": "stdout",
     "output_type": "stream",
     "text": [
      "[{'AccountOpenedDate': '2013-01-01',\n",
      "  'AlternateContactPersonID': 1002,\n",
      "  'BillToCustomerID': 1,\n",
      "  'CustomerCategoryID': 3,\n",
      "  'CustomerID': 1,\n",
      "  'CustomerName': 'Tailspin Toys (Head Office)',\n",
      "  'DeliveryAddressLine1': 'Shop 38',\n",
      "  'DeliveryAddressLine2': '1877 Mittal Road',\n",
      "  'DeliveryCity': {'CityID': 19586,\n",
      "                   'CityName': 'Lisco',\n",
      "                   'LatestRecordedPopulation': None,\n",
      "                   'Location': '0xE6100000010CE73F5A52A4BF444010638852B1A759C0',\n",
      "                   'StateProvince': {'Country': {'Continent': 'North America',\n",
      "                                                 'CountryID': 230,\n",
      "                                                 'CountryName': 'United States',\n",
      "                                                 'CountryType': 'UN Member '\n",
      "                                                                'State',\n",
      "                                                 'FormalName': 'United States '\n",
      "                                                               'of America',\n",
      "                                                 'IsoAlpha3Code': 'USA',\n",
      "                                                 'IsoNumericCode': 840,\n",
      "                                                 'LatestRecordedPopulation': 313973000,\n",
      "                                                 'Region': 'Americas',\n",
      "                                                 'Subregion': 'Northern '\n",
      "                                                              'America'},\n",
      "                                     'CountryID': 230,\n",
      "                                     'LatestRecordedPopulation': 1943256,\n",
      "                                     'SalesTerritory': 'Plains',\n",
      "                                     'StateProvinceCode': 'NE',\n",
      "                                     'StateProvinceID': 28,\n",
      "                                     'StateProvinceName': 'Nebraska'},\n",
      "                   'StateProvinceID': 28},\n",
      "  'DeliveryCityID': 19586,\n",
      "  'DeliveryLocationLat': 41.4972,\n",
      "  'DeliveryLocationLong': -102.62,\n",
      "  'DeliveryMethod': {'DeliveryMethodID': 3,\n",
      "                     'DeliveryMethodName': 'Delivery Van'},\n",
      "  'DeliveryMethodID': 3,\n",
      "  'DeliveryPostalCode': '90410',\n",
      "  'DeliveryRun': '',\n",
      "  'FaxNumber': '(308) 555-0101',\n",
      "  'IsOnCreditHold': 0,\n",
      "  'IsStatementSent': 0,\n",
      "  'PaymentDays': 7,\n",
      "  'PhoneNumber': '(308) 555-0100',\n",
      "  'PostalAddressLine1': 'PO Box 8975',\n",
      "  'PostalAddressLine2': 'Ribeiroville',\n",
      "  'PostalCity': {'CityID': 19586,\n",
      "                 'CityName': 'Lisco',\n",
      "                 'LatestRecordedPopulation': None,\n",
      "                 'Location': '0xE6100000010CE73F5A52A4BF444010638852B1A759C0',\n",
      "                 'StateProvince': {'Country': {'Continent': 'North America',\n",
      "                                               'CountryID': 230,\n",
      "                                               'CountryName': 'United States',\n",
      "                                               'CountryType': 'UN Member State',\n",
      "                                               'FormalName': 'United States of '\n",
      "                                                             'America',\n",
      "                                               'IsoAlpha3Code': 'USA',\n",
      "                                               'IsoNumericCode': 840,\n",
      "                                               'LatestRecordedPopulation': 313973000,\n",
      "                                               'Region': 'Americas',\n",
      "                                               'Subregion': 'Northern America'},\n",
      "                                   'CountryID': 230,\n",
      "                                   'LatestRecordedPopulation': 1943256,\n",
      "                                   'SalesTerritory': 'Plains',\n",
      "                                   'StateProvinceCode': 'NE',\n",
      "                                   'StateProvinceID': 28,\n",
      "                                   'StateProvinceName': 'Nebraska'},\n",
      "                 'StateProvinceID': 28},\n",
      "  'PostalCityID': 19586,\n",
      "  'PostalPostalCode': '90410',\n",
      "  'PrimaryContactPersonID': 1001,\n",
      "  'RunPosition': '',\n",
      "  'StandardDiscountPercentage': 0.0,\n",
      "  'WebsiteURL': 'http://www.tailspintoys.com',\n",
      "  '_id': 1}]\n"
     ]
    }
   ],
   "source": [
    "linking_attribute_parent = 'DeliveryMethodID'\n",
    "linking_attribute_child = 'DeliveryMethodID'\n",
    "new_attribute = 'DeliveryMethod'\n",
    "parent_collection = 'Sales_Customers'\n",
    "child_collection = 'Application_DeliveryMethods'\n",
    "\n",
    "embed(linking_attribute_parent, linking_attribute_child, new_attribute, parent_collection, child_collection)\n",
    "\n",
    "pprint(list(db[parent_collection].find( {new_attribute: {\"$exists\": True} } ).limit(1)))"
   ]
  },
  {
   "cell_type": "markdown",
   "id": "d08bc1fe",
   "metadata": {},
   "source": [
    "## Embed Sales_CustomerCategories in Sales_Customers"
   ]
  },
  {
   "cell_type": "code",
   "execution_count": 12,
   "id": "b8265c75",
   "metadata": {},
   "outputs": [
    {
     "data": {
      "application/vnd.jupyter.widget-view+json": {
       "model_id": "29b82618d4074ce88ff93841bca80975",
       "version_major": 2,
       "version_minor": 0
      },
      "text/plain": [
       "  0%|          | 0/5 [00:00<?, ?it/s]"
      ]
     },
     "metadata": {},
     "output_type": "display_data"
    },
    {
     "name": "stdout",
     "output_type": "stream",
     "text": [
      "[{'AccountOpenedDate': '2013-01-01',\n",
      "  'AlternateContactPersonID': 1002,\n",
      "  'BillToCustomerID': 1,\n",
      "  'CustomerCategory': {'CustomerCategoryID': 3,\n",
      "                       'CustomerCategoryName': 'Novelty Shop'},\n",
      "  'CustomerCategoryID': 3,\n",
      "  'CustomerID': 1,\n",
      "  'CustomerName': 'Tailspin Toys (Head Office)',\n",
      "  'DeliveryAddressLine1': 'Shop 38',\n",
      "  'DeliveryAddressLine2': '1877 Mittal Road',\n",
      "  'DeliveryCity': {'CityID': 19586,\n",
      "                   'CityName': 'Lisco',\n",
      "                   'LatestRecordedPopulation': None,\n",
      "                   'Location': '0xE6100000010CE73F5A52A4BF444010638852B1A759C0',\n",
      "                   'StateProvince': {'Country': {'Continent': 'North America',\n",
      "                                                 'CountryID': 230,\n",
      "                                                 'CountryName': 'United States',\n",
      "                                                 'CountryType': 'UN Member '\n",
      "                                                                'State',\n",
      "                                                 'FormalName': 'United States '\n",
      "                                                               'of America',\n",
      "                                                 'IsoAlpha3Code': 'USA',\n",
      "                                                 'IsoNumericCode': 840,\n",
      "                                                 'LatestRecordedPopulation': 313973000,\n",
      "                                                 'Region': 'Americas',\n",
      "                                                 'Subregion': 'Northern '\n",
      "                                                              'America'},\n",
      "                                     'CountryID': 230,\n",
      "                                     'LatestRecordedPopulation': 1943256,\n",
      "                                     'SalesTerritory': 'Plains',\n",
      "                                     'StateProvinceCode': 'NE',\n",
      "                                     'StateProvinceID': 28,\n",
      "                                     'StateProvinceName': 'Nebraska'},\n",
      "                   'StateProvinceID': 28},\n",
      "  'DeliveryCityID': 19586,\n",
      "  'DeliveryLocationLat': 41.4972,\n",
      "  'DeliveryLocationLong': -102.62,\n",
      "  'DeliveryMethod': {'DeliveryMethodID': 3,\n",
      "                     'DeliveryMethodName': 'Delivery Van'},\n",
      "  'DeliveryMethodID': 3,\n",
      "  'DeliveryPostalCode': '90410',\n",
      "  'DeliveryRun': '',\n",
      "  'FaxNumber': '(308) 555-0101',\n",
      "  'IsOnCreditHold': 0,\n",
      "  'IsStatementSent': 0,\n",
      "  'PaymentDays': 7,\n",
      "  'PhoneNumber': '(308) 555-0100',\n",
      "  'PostalAddressLine1': 'PO Box 8975',\n",
      "  'PostalAddressLine2': 'Ribeiroville',\n",
      "  'PostalCity': {'CityID': 19586,\n",
      "                 'CityName': 'Lisco',\n",
      "                 'LatestRecordedPopulation': None,\n",
      "                 'Location': '0xE6100000010CE73F5A52A4BF444010638852B1A759C0',\n",
      "                 'StateProvince': {'Country': {'Continent': 'North America',\n",
      "                                               'CountryID': 230,\n",
      "                                               'CountryName': 'United States',\n",
      "                                               'CountryType': 'UN Member State',\n",
      "                                               'FormalName': 'United States of '\n",
      "                                                             'America',\n",
      "                                               'IsoAlpha3Code': 'USA',\n",
      "                                               'IsoNumericCode': 840,\n",
      "                                               'LatestRecordedPopulation': 313973000,\n",
      "                                               'Region': 'Americas',\n",
      "                                               'Subregion': 'Northern America'},\n",
      "                                   'CountryID': 230,\n",
      "                                   'LatestRecordedPopulation': 1943256,\n",
      "                                   'SalesTerritory': 'Plains',\n",
      "                                   'StateProvinceCode': 'NE',\n",
      "                                   'StateProvinceID': 28,\n",
      "                                   'StateProvinceName': 'Nebraska'},\n",
      "                 'StateProvinceID': 28},\n",
      "  'PostalCityID': 19586,\n",
      "  'PostalPostalCode': '90410',\n",
      "  'PrimaryContactPersonID': 1001,\n",
      "  'RunPosition': '',\n",
      "  'StandardDiscountPercentage': 0.0,\n",
      "  'WebsiteURL': 'http://www.tailspintoys.com',\n",
      "  '_id': 1}]\n"
     ]
    }
   ],
   "source": [
    "linking_attribute_parent = 'CustomerCategoryID'\n",
    "linking_attribute_child = 'CustomerCategoryID'\n",
    "new_attribute = 'CustomerCategory'\n",
    "parent_collection = 'Sales_Customers'\n",
    "child_collection = 'Sales_CustomerCategories'\n",
    "\n",
    "embed(linking_attribute_parent, linking_attribute_child, new_attribute, parent_collection, child_collection)\n",
    "\n",
    "pprint(list(db[parent_collection].find( {new_attribute: {\"$exists\": True} } ).limit(1)))"
   ]
  },
  {
   "cell_type": "markdown",
   "id": "c9a7fce6",
   "metadata": {},
   "source": [
    "## Embed Purchasing_SupplierCategories in Purchasing_Suppliers"
   ]
  },
  {
   "cell_type": "code",
   "execution_count": 13,
   "id": "609c7fd0",
   "metadata": {},
   "outputs": [
    {
     "data": {
      "application/vnd.jupyter.widget-view+json": {
       "model_id": "86e6d77bf8f14e3b8c506dd4a1089b4d",
       "version_major": 2,
       "version_minor": 0
      },
      "text/plain": [
       "  0%|          | 0/8 [00:00<?, ?it/s]"
      ]
     },
     "metadata": {},
     "output_type": "display_data"
    },
    {
     "name": "stdout",
     "output_type": "stream",
     "text": [
      "[{'AlternateContactPersonID': 22,\n",
      "  'BankAccountBranch': 'Woodgrove Bank Zionsville',\n",
      "  'BankAccountCode': '356981',\n",
      "  'BankAccountName': 'A Datum Corporation',\n",
      "  'BankAccountNumber': '8575824136',\n",
      "  'BankInternationalCode': '25986',\n",
      "  'DeliveryAddressLine1': 'Suite 10',\n",
      "  'DeliveryAddressLine2': '183838 Southwest Boulevard',\n",
      "  'DeliveryCity': {'CityID': 38171,\n",
      "                   'CityName': 'Zionsville',\n",
      "                   'LatestRecordedPopulation': 14160,\n",
      "                   'Location': '0xE6100000010CDE115F37B6F9434031276893C39055C0',\n",
      "                   'StateProvince': {'Country': {'Continent': 'North America',\n",
      "                                                 'CountryID': 230,\n",
      "                                                 'CountryName': 'United States',\n",
      "                                                 'CountryType': 'UN Member '\n",
      "                                                                'State',\n",
      "                                                 'FormalName': 'United States '\n",
      "                                                               'of America',\n",
      "                                                 'IsoAlpha3Code': 'USA',\n",
      "                                                 'IsoNumericCode': 840,\n",
      "                                                 'LatestRecordedPopulation': 313973000,\n",
      "                                                 'Region': 'Americas',\n",
      "                                                 'Subregion': 'Northern '\n",
      "                                                              'America'},\n",
      "                                     'CountryID': 230,\n",
      "                                     'LatestRecordedPopulation': 6570902,\n",
      "                                     'SalesTerritory': 'Great Lakes',\n",
      "                                     'StateProvinceCode': 'IN',\n",
      "                                     'StateProvinceID': 15,\n",
      "                                     'StateProvinceName': 'Indiana'},\n",
      "                   'StateProvinceID': 15},\n",
      "  'DeliveryCityID': 38171,\n",
      "  'DeliveryLocationLat': 39.9509,\n",
      "  'DeliveryLocationLong': -86.2619,\n",
      "  'DeliveryMethod': {'DeliveryMethodID': 7,\n",
      "                     'DeliveryMethodName': 'Road Freight'},\n",
      "  'DeliveryMethodID': 7,\n",
      "  'DeliveryPostalCode': '46077',\n",
      "  'FaxNumber': '(847) 555-0101',\n",
      "  'PaymentDays': 14,\n",
      "  'PhoneNumber': '(847) 555-0100',\n",
      "  'PostalAddressLine1': 'PO Box 1039',\n",
      "  'PostalAddressLine2': 'Surrey',\n",
      "  'PostalCity': {'CityID': 38171,\n",
      "                 'CityName': 'Zionsville',\n",
      "                 'LatestRecordedPopulation': 14160,\n",
      "                 'Location': '0xE6100000010CDE115F37B6F9434031276893C39055C0',\n",
      "                 'StateProvince': {'Country': {'Continent': 'North America',\n",
      "                                               'CountryID': 230,\n",
      "                                               'CountryName': 'United States',\n",
      "                                               'CountryType': 'UN Member State',\n",
      "                                               'FormalName': 'United States of '\n",
      "                                                             'America',\n",
      "                                               'IsoAlpha3Code': 'USA',\n",
      "                                               'IsoNumericCode': 840,\n",
      "                                               'LatestRecordedPopulation': 313973000,\n",
      "                                               'Region': 'Americas',\n",
      "                                               'Subregion': 'Northern America'},\n",
      "                                   'CountryID': 230,\n",
      "                                   'LatestRecordedPopulation': 6570902,\n",
      "                                   'SalesTerritory': 'Great Lakes',\n",
      "                                   'StateProvinceCode': 'IN',\n",
      "                                   'StateProvinceID': 15,\n",
      "                                   'StateProvinceName': 'Indiana'},\n",
      "                 'StateProvinceID': 15},\n",
      "  'PostalCityID': 38171,\n",
      "  'PostalPostalCode': '46077',\n",
      "  'PrimaryContactPersonID': 21,\n",
      "  'SupplierCategory': {'SupplierCategoryID': 2,\n",
      "                       'SupplierCategoryName': 'Novelty Goods Supplier'},\n",
      "  'SupplierCategoryID': 2,\n",
      "  'SupplierID': 1,\n",
      "  'SupplierName': 'A Datum Corporation',\n",
      "  'SupplierReference': 'AA20384',\n",
      "  'WebsiteURL': 'http://www.adatum.com',\n",
      "  '_id': 1}]\n"
     ]
    }
   ],
   "source": [
    "linking_attribute_parent = 'SupplierCategoryID'\n",
    "linking_attribute_child = 'SupplierCategoryID'\n",
    "new_attribute = 'SupplierCategory'\n",
    "parent_collection = 'Purchasing_Suppliers'\n",
    "child_collection = 'Purchasing_SupplierCategories'\n",
    "\n",
    "embed(linking_attribute_parent, linking_attribute_child, new_attribute, parent_collection, child_collection)\n",
    "\n",
    "pprint(list(db[parent_collection].find( {new_attribute: {\"$exists\": True} } ).limit(1)))"
   ]
  },
  {
   "cell_type": "markdown",
   "id": "586ef8bb",
   "metadata": {},
   "source": [
    "## Embed Warehouse_StockGroups in Warehouse_StockItemStockGroups"
   ]
  },
  {
   "cell_type": "code",
   "execution_count": 14,
   "id": "e29156b7",
   "metadata": {},
   "outputs": [
    {
     "data": {
      "application/vnd.jupyter.widget-view+json": {
       "model_id": "07cee5e4f5e64a2a89ba1a7a457dd481",
       "version_major": 2,
       "version_minor": 0
      },
      "text/plain": [
       "  0%|          | 0/9 [00:00<?, ?it/s]"
      ]
     },
     "metadata": {},
     "output_type": "display_data"
    },
    {
     "name": "stdout",
     "output_type": "stream",
     "text": [
      "[{'StockGroupID': 6,\n",
      "  'StockItemID': 1,\n",
      "  'StockItemStockGroup': {'StockGroupID': 6,\n",
      "                          'StockGroupName': 'Computing Novelties'},\n",
      "  'StockItemStockGroupID': 1,\n",
      "  '_id': 1}]\n"
     ]
    }
   ],
   "source": [
    "linking_attribute_parent = 'StockGroupID'\n",
    "linking_attribute_child = 'StockGroupID'\n",
    "new_attribute = 'StockItemStockGroup'\n",
    "parent_collection = 'Warehouse_StockItemStockGroups'\n",
    "child_collection = 'Warehouse_StockGroups'\n",
    "\n",
    "embed(linking_attribute_parent, linking_attribute_child, new_attribute, parent_collection, child_collection)\n",
    "\n",
    "pprint(list(db[parent_collection].find( {new_attribute: {\"$exists\": True} } ).limit(1)))"
   ]
  },
  {
   "cell_type": "markdown",
   "id": "4dd4103b",
   "metadata": {},
   "source": [
    "## Embed Warehouse_StockItemStockGroups in Warehouse_StockItems"
   ]
  },
  {
   "cell_type": "code",
   "execution_count": 15,
   "id": "d5ad4063",
   "metadata": {},
   "outputs": [
    {
     "data": {
      "application/vnd.jupyter.widget-view+json": {
       "model_id": "142578fbc0eb48258e45da4bdc46a5aa",
       "version_major": 2,
       "version_minor": 0
      },
      "text/plain": [
       "  0%|          | 0/227 [00:00<?, ?it/s]"
      ]
     },
     "metadata": {},
     "output_type": "display_data"
    },
    {
     "name": "stdout",
     "output_type": "stream",
     "text": [
      "{'Barcode': nan,\n",
      " 'Brand': nan,\n",
      " 'ColorID': nan,\n",
      " 'InternalComments': nan,\n",
      " 'IsChillerStock': False,\n",
      " 'LeadTimeDays': 14,\n",
      " 'MarketingComments': 'Complete with 12 projectiles',\n",
      " 'OuterPackageID': 7,\n",
      " 'Photo': nan,\n",
      " 'QuantityPerOuter': 1,\n",
      " 'RecommendedRetailPrice': 37.38,\n",
      " 'SearchDetails': 'USB missile launcher (Green) Complete with 12 projectiles',\n",
      " 'Size': nan,\n",
      " 'StockGroup': [{'StockGroupID': 6,\n",
      "                 'StockItemID': 1,\n",
      "                 'StockItemStockGroup': {'StockGroupID': 6,\n",
      "                                         'StockGroupName': 'Computing '\n",
      "                                                           'Novelties'},\n",
      "                 'StockItemStockGroupID': 1},\n",
      "                {'StockGroupID': 1,\n",
      "                 'StockItemID': 1,\n",
      "                 'StockItemStockGroup': {'StockGroupID': 1,\n",
      "                                         'StockGroupName': 'Novelty Items'},\n",
      "                 'StockItemStockGroupID': 2},\n",
      "                {'StockGroupID': 7,\n",
      "                 'StockItemID': 1,\n",
      "                 'StockItemStockGroup': {'StockGroupID': 7,\n",
      "                                         'StockGroupName': 'USB Novelties'},\n",
      "                 'StockItemStockGroupID': 3}],\n",
      " 'StockItemID': 1,\n",
      " 'StockItemName': 'USB missile launcher (Green)',\n",
      " 'SupplierID': 12,\n",
      " 'TaxRate': 15.0,\n",
      " 'TypicalWeightPerUnit': 0.3,\n",
      " 'UnitPackageID': 7,\n",
      " 'UnitPrice': 25.0,\n",
      " '_id': 1}\n"
     ]
    }
   ],
   "source": [
    "linking_attribute_parent = 'StockItemID'\n",
    "linking_attribute_child = 'StockItemID'\n",
    "new_attribute = 'StockGroup'\n",
    "parent_collection = 'Warehouse_StockItems'\n",
    "child_collection = 'Warehouse_StockItemStockGroups'\n",
    "\n",
    "embed(linking_attribute_parent, linking_attribute_child, new_attribute, parent_collection, child_collection)\n",
    "\n",
    "pprint(db[parent_collection].find_one())"
   ]
  },
  {
   "cell_type": "markdown",
   "id": "66d0d69b",
   "metadata": {},
   "source": [
    "## Embed Application_PaymentMethods in Purchasing_SupplierTransactions"
   ]
  },
  {
   "cell_type": "code",
   "execution_count": 16,
   "id": "a7efb645",
   "metadata": {},
   "outputs": [
    {
     "data": {
      "application/vnd.jupyter.widget-view+json": {
       "model_id": "35eb7718775e4d4f921992ef1afe4c0d",
       "version_major": 2,
       "version_minor": 0
      },
      "text/plain": [
       "  0%|          | 0/1 [00:00<?, ?it/s]"
      ]
     },
     "metadata": {},
     "output_type": "display_data"
    },
    {
     "name": "stdout",
     "output_type": "stream",
     "text": [
      "[{'AmountExcludingTax': 194225.7,\n",
      "  'FinalizationDate': '2014-06-02',\n",
      "  'IsFinalized': 1,\n",
      "  'OutstandingBalance': 0.0,\n",
      "  'PaymentMethod': {'PaymentMethodID': 4, 'PaymentMethodName': 'EFT'},\n",
      "  'PaymentMethodID': 4,\n",
      "  'PurchaseOrderID': 847,\n",
      "  'SupplierID': 7,\n",
      "  'SupplierInvoiceNumber': '3687',\n",
      "  'SupplierTransactionID': 127482,\n",
      "  'TaxAmount': 29133.86,\n",
      "  'TransactionAmount': 223359.56,\n",
      "  'TransactionDate': '2014-05-28',\n",
      "  'TransactionTypeID': 5,\n",
      "  '_id': 1001}]\n"
     ]
    }
   ],
   "source": [
    "linking_attribute_parent = 'PaymentMethodID'\n",
    "linking_attribute_child = 'PaymentMethodID'\n",
    "new_attribute = 'PaymentMethod'\n",
    "parent_collection = 'Purchasing_SupplierTransactions'\n",
    "child_collection = 'Application_PaymentMethods'\n",
    "\n",
    "embed(linking_attribute_parent, linking_attribute_child, new_attribute, parent_collection, child_collection)\n",
    "\n",
    "pprint(list(db[parent_collection].find( {new_attribute: {\"$exists\": True} } ).limit(1)))"
   ]
  },
  {
   "cell_type": "markdown",
   "id": "7eb4aa17",
   "metadata": {},
   "source": [
    "## Embed Application_PaymentMethods in Sales_CustomerTransactions"
   ]
  },
  {
   "cell_type": "code",
   "execution_count": 17,
   "id": "21b50713",
   "metadata": {},
   "outputs": [
    {
     "data": {
      "application/vnd.jupyter.widget-view+json": {
       "model_id": "9b03eaa6a0134f2ea466d2997a8e8b50",
       "version_major": 2,
       "version_minor": 0
      },
      "text/plain": [
       "  0%|          | 0/1 [00:00<?, ?it/s]"
      ]
     },
     "metadata": {},
     "output_type": "display_data"
    },
    {
     "name": "stdout",
     "output_type": "stream",
     "text": [
      "[{'AmountExcludingTax': 0.0,\n",
      "  'CustomerID': 1,\n",
      "  'CustomerTransactionID': 231,\n",
      "  'FinalizationDate': '2013-01-02',\n",
      "  'InvoiceID': 41,\n",
      "  'IsFinalized': 1,\n",
      "  'OutstandingBalance': 0.0,\n",
      "  'PaymentMethod': {'PaymentMethodID': 4, 'PaymentMethodName': 'EFT'},\n",
      "  'PaymentMethodID': 4,\n",
      "  'TaxAmount': 0.0,\n",
      "  'TransactionAmount': -9513.49,\n",
      "  'TransactionDate': '2013-01-02',\n",
      "  'TransactionTypeID': 3,\n",
      "  '_id': 42}]\n"
     ]
    }
   ],
   "source": [
    "linking_attribute_parent = 'PaymentMethodID'\n",
    "linking_attribute_child = 'PaymentMethodID'\n",
    "new_attribute = 'PaymentMethod'\n",
    "parent_collection = 'Sales_CustomerTransactions'\n",
    "child_collection = 'Application_PaymentMethods'\n",
    "\n",
    "embed(linking_attribute_parent, linking_attribute_child, new_attribute, parent_collection, child_collection)\n",
    "\n",
    "pprint(list(db[parent_collection].find( {new_attribute: {\"$exists\": True} } ).limit(1)))"
   ]
  },
  {
   "cell_type": "markdown",
   "id": "ea4935e3",
   "metadata": {},
   "source": [
    "## Embed Application_TransactionTypes in Purchasing_SupplierTransactions"
   ]
  },
  {
   "cell_type": "code",
   "execution_count": 18,
   "id": "e14f0594",
   "metadata": {},
   "outputs": [
    {
     "data": {
      "application/vnd.jupyter.widget-view+json": {
       "model_id": "76e8ec16653a403198a95bcc892f4f38",
       "version_major": 2,
       "version_minor": 0
      },
      "text/plain": [
       "  0%|          | 0/2 [00:00<?, ?it/s]"
      ]
     },
     "metadata": {},
     "output_type": "display_data"
    },
    {
     "name": "stdout",
     "output_type": "stream",
     "text": [
      "[{'AmountExcludingTax': 194225.7,\n",
      "  'FinalizationDate': '2014-06-02',\n",
      "  'IsFinalized': 1,\n",
      "  'OutstandingBalance': 0.0,\n",
      "  'PaymentMethod': {'PaymentMethodID': 4, 'PaymentMethodName': 'EFT'},\n",
      "  'PaymentMethodID': 4,\n",
      "  'PurchaseOrderID': 847,\n",
      "  'SupplierID': 7,\n",
      "  'SupplierInvoiceNumber': '3687',\n",
      "  'SupplierTransactionID': 127482,\n",
      "  'TaxAmount': 29133.86,\n",
      "  'TransactionAmount': 223359.56,\n",
      "  'TransactionDate': '2014-05-28',\n",
      "  'TransactionType': {'TransactionTypeID': 5,\n",
      "                      'TransactionTypeName': 'Supplier Invoice'},\n",
      "  'TransactionTypeID': 5,\n",
      "  '_id': 1001}]\n"
     ]
    }
   ],
   "source": [
    "linking_attribute_parent = 'TransactionTypeID'\n",
    "linking_attribute_child = 'TransactionTypeID'\n",
    "new_attribute = 'TransactionType'\n",
    "parent_collection = 'Purchasing_SupplierTransactions'\n",
    "child_collection = 'Application_TransactionTypes'\n",
    "\n",
    "embed(linking_attribute_parent, linking_attribute_child, new_attribute, parent_collection, child_collection)\n",
    "\n",
    "pprint(list(db[parent_collection].find( {new_attribute: {\"$exists\": True} } ).limit(1)))"
   ]
  },
  {
   "cell_type": "markdown",
   "id": "e4b72c4d",
   "metadata": {},
   "source": [
    "## Embed Application_TransactionTypes in Sales_CustomerTransactions"
   ]
  },
  {
   "cell_type": "code",
   "execution_count": 19,
   "id": "54318c3d",
   "metadata": {},
   "outputs": [
    {
     "data": {
      "application/vnd.jupyter.widget-view+json": {
       "model_id": "f00a859828d6498f867f0f75a074d4bd",
       "version_major": 2,
       "version_minor": 0
      },
      "text/plain": [
       "  0%|          | 0/2 [00:00<?, ?it/s]"
      ]
     },
     "metadata": {},
     "output_type": "display_data"
    },
    {
     "name": "stdout",
     "output_type": "stream",
     "text": [
      "[{'AmountExcludingTax': 2300.0,\n",
      "  'CustomerID': 832,\n",
      "  'CustomerTransactionID': 2,\n",
      "  'FinalizationDate': '2013-01-02',\n",
      "  'InvoiceID': 1,\n",
      "  'IsFinalized': 1,\n",
      "  'OutstandingBalance': 0.0,\n",
      "  'TaxAmount': 345.0,\n",
      "  'TransactionAmount': 2645.0,\n",
      "  'TransactionDate': '2013-01-01',\n",
      "  'TransactionType': {'TransactionTypeID': 1,\n",
      "                      'TransactionTypeName': 'Customer Invoice'},\n",
      "  'TransactionTypeID': 1,\n",
      "  '_id': 1}]\n"
     ]
    }
   ],
   "source": [
    "linking_attribute_parent = 'TransactionTypeID'\n",
    "linking_attribute_child = 'TransactionTypeID'\n",
    "new_attribute = 'TransactionType'\n",
    "parent_collection = 'Sales_CustomerTransactions'\n",
    "child_collection = 'Application_TransactionTypes'\n",
    "\n",
    "embed(linking_attribute_parent, linking_attribute_child, new_attribute, parent_collection, child_collection)\n",
    "\n",
    "pprint(list(db[parent_collection].find( {new_attribute: {\"$exists\": True} } ).limit(1)))"
   ]
  },
  {
   "cell_type": "markdown",
   "id": "888f129e",
   "metadata": {},
   "source": [
    "## Embed Application_TransactionTypes in Warehouse_StockItemTransactions"
   ]
  },
  {
   "cell_type": "code",
   "execution_count": 20,
   "id": "59a4abdf",
   "metadata": {},
   "outputs": [
    {
     "data": {
      "application/vnd.jupyter.widget-view+json": {
       "model_id": "17dd0ce0c3bb472d9bec67cc9bfbb28a",
       "version_major": 2,
       "version_minor": 0
      },
      "text/plain": [
       "  0%|          | 0/3 [00:00<?, ?it/s]"
      ]
     },
     "metadata": {},
     "output_type": "display_data"
    },
    {
     "name": "stdout",
     "output_type": "stream",
     "text": [
      "[{'CustomerID': 832.0,\n",
      "  'InvoiceID': 1.0,\n",
      "  'PurchaseOrderID': nan,\n",
      "  'Quantity': -10.0,\n",
      "  'StockItemID': 67,\n",
      "  'StockItemTransactionID': 1,\n",
      "  'SupplierID': nan,\n",
      "  'TransactionOccurredWhen': '2013-01-01 12:00:00.0000000',\n",
      "  'TransactionType': {'TransactionTypeID': 10,\n",
      "                      'TransactionTypeName': 'Stock Issue'},\n",
      "  'TransactionTypeID': 10,\n",
      "  '_id': 1}]\n"
     ]
    }
   ],
   "source": [
    "linking_attribute_parent = 'TransactionTypeID'\n",
    "linking_attribute_child = 'TransactionTypeID'\n",
    "new_attribute = 'TransactionType'\n",
    "parent_collection = 'Warehouse_StockItemTransactions'\n",
    "child_collection = 'Application_TransactionTypes'\n",
    "\n",
    "embed(linking_attribute_parent, linking_attribute_child, new_attribute, parent_collection, child_collection)\n",
    "\n",
    "pprint(list(db[parent_collection].find( {new_attribute: {\"$exists\": True} } ).limit(1)))"
   ]
  },
  {
   "cell_type": "markdown",
   "id": "7de1cfc8",
   "metadata": {},
   "source": [
    "## Embed Warehouse_Colors in Warehouse_StockItems"
   ]
  },
  {
   "cell_type": "code",
   "execution_count": 21,
   "id": "b4d8d574",
   "metadata": {},
   "outputs": [
    {
     "data": {
      "application/vnd.jupyter.widget-view+json": {
       "model_id": "abe2faaa3056417cac01b9498dbfbfa0",
       "version_major": 2,
       "version_minor": 0
      },
      "text/plain": [
       "  0%|          | 0/8 [00:00<?, ?it/s]"
      ]
     },
     "metadata": {},
     "output_type": "display_data"
    },
    {
     "name": "stdout",
     "output_type": "stream",
     "text": [
      "[{'Barcode': nan,\n",
      "  'Brand': nan,\n",
      "  'Color': {'ColorID': 12, 'ColorName': 'Steel Gray'},\n",
      "  'ColorID': 12.0,\n",
      "  'InternalComments': nan,\n",
      "  'IsChillerStock': False,\n",
      "  'LeadTimeDays': 14,\n",
      "  'MarketingComments': 'Complete with 12 projectiles',\n",
      "  'OuterPackageID': 7,\n",
      "  'Photo': nan,\n",
      "  'QuantityPerOuter': 1,\n",
      "  'RecommendedRetailPrice': 37.38,\n",
      "  'SearchDetails': 'USB rocket launcher (Gray) Complete with 12 projectiles',\n",
      "  'Size': nan,\n",
      "  'StockGroup': [{'StockGroupID': 6,\n",
      "                  'StockItemID': 2,\n",
      "                  'StockItemStockGroup': {'StockGroupID': 6,\n",
      "                                          'StockGroupName': 'Computing '\n",
      "                                                            'Novelties'},\n",
      "                  'StockItemStockGroupID': 4},\n",
      "                 {'StockGroupID': 1,\n",
      "                  'StockItemID': 2,\n",
      "                  'StockItemStockGroup': {'StockGroupID': 1,\n",
      "                                          'StockGroupName': 'Novelty Items'},\n",
      "                  'StockItemStockGroupID': 5},\n",
      "                 {'StockGroupID': 7,\n",
      "                  'StockItemID': 2,\n",
      "                  'StockItemStockGroup': {'StockGroupID': 7,\n",
      "                                          'StockGroupName': 'USB Novelties'},\n",
      "                  'StockItemStockGroupID': 6}],\n",
      "  'StockItemID': 2,\n",
      "  'StockItemName': 'USB rocket launcher (Gray)',\n",
      "  'SupplierID': 12,\n",
      "  'TaxRate': 15.0,\n",
      "  'TypicalWeightPerUnit': 0.3,\n",
      "  'UnitPackageID': 7,\n",
      "  'UnitPrice': 25.0,\n",
      "  '_id': 2}]\n"
     ]
    }
   ],
   "source": [
    "linking_attribute_parent = 'ColorID'\n",
    "linking_attribute_child = 'ColorID'\n",
    "new_attribute = 'Color'\n",
    "parent_collection = 'Warehouse_StockItems'\n",
    "child_collection = 'Warehouse_Colors'\n",
    "\n",
    "embed(linking_attribute_parent, linking_attribute_child, new_attribute, parent_collection, child_collection)\n",
    "\n",
    "pprint(list(db[parent_collection].find( {new_attribute: {\"$exists\": True} } ).limit(1)))"
   ]
  },
  {
   "cell_type": "markdown",
   "id": "f6262414",
   "metadata": {},
   "source": [
    "## Embed Warehouse_PackageTypes in Warehouse_StockItems (both UnitPackage and OuterPackage)"
   ]
  },
  {
   "cell_type": "code",
   "execution_count": 22,
   "id": "6adc6b37",
   "metadata": {},
   "outputs": [
    {
     "data": {
      "application/vnd.jupyter.widget-view+json": {
       "model_id": "af7b125b645c496a98ec061c753c5368",
       "version_major": 2,
       "version_minor": 0
      },
      "text/plain": [
       "  0%|          | 0/4 [00:00<?, ?it/s]"
      ]
     },
     "metadata": {},
     "output_type": "display_data"
    },
    {
     "data": {
      "application/vnd.jupyter.widget-view+json": {
       "model_id": "ff610c795e774709bcd1aad17854b9ae",
       "version_major": 2,
       "version_minor": 0
      },
      "text/plain": [
       "  0%|          | 0/3 [00:00<?, ?it/s]"
      ]
     },
     "metadata": {},
     "output_type": "display_data"
    },
    {
     "name": "stdout",
     "output_type": "stream",
     "text": [
      "[{'Barcode': nan,\n",
      "  'Brand': nan,\n",
      "  'ColorID': nan,\n",
      "  'InternalComments': nan,\n",
      "  'IsChillerStock': False,\n",
      "  'LeadTimeDays': 14,\n",
      "  'MarketingComments': 'Complete with 12 projectiles',\n",
      "  'OuterPackageID': 7,\n",
      "  'OuterPackageType': {'PackageTypeID': 7, 'PackageTypeName': 'Each'},\n",
      "  'Photo': nan,\n",
      "  'QuantityPerOuter': 1,\n",
      "  'RecommendedRetailPrice': 37.38,\n",
      "  'SearchDetails': 'USB missile launcher (Green) Complete with 12 projectiles',\n",
      "  'Size': nan,\n",
      "  'StockGroup': [{'StockGroupID': 6,\n",
      "                  'StockItemID': 1,\n",
      "                  'StockItemStockGroup': {'StockGroupID': 6,\n",
      "                                          'StockGroupName': 'Computing '\n",
      "                                                            'Novelties'},\n",
      "                  'StockItemStockGroupID': 1},\n",
      "                 {'StockGroupID': 1,\n",
      "                  'StockItemID': 1,\n",
      "                  'StockItemStockGroup': {'StockGroupID': 1,\n",
      "                                          'StockGroupName': 'Novelty Items'},\n",
      "                  'StockItemStockGroupID': 2},\n",
      "                 {'StockGroupID': 7,\n",
      "                  'StockItemID': 1,\n",
      "                  'StockItemStockGroup': {'StockGroupID': 7,\n",
      "                                          'StockGroupName': 'USB Novelties'},\n",
      "                  'StockItemStockGroupID': 3}],\n",
      "  'StockItemID': 1,\n",
      "  'StockItemName': 'USB missile launcher (Green)',\n",
      "  'SupplierID': 12,\n",
      "  'TaxRate': 15.0,\n",
      "  'TypicalWeightPerUnit': 0.3,\n",
      "  'UnitPackageID': 7,\n",
      "  'UnitPackageType': {'PackageTypeID': 7, 'PackageTypeName': 'Each'},\n",
      "  'UnitPrice': 25.0,\n",
      "  '_id': 1}]\n"
     ]
    }
   ],
   "source": [
    "linking_attribute_parent = 'UnitPackageID'\n",
    "linking_attribute_child = 'PackageTypeID'\n",
    "new_attribute = 'UnitPackageType'\n",
    "parent_collection = 'Warehouse_StockItems'\n",
    "child_collection = 'Warehouse_PackageTypes'\n",
    "\n",
    "embed(linking_attribute_parent, linking_attribute_child, new_attribute, parent_collection, child_collection)\n",
    "\n",
    "linking_attribute_parent = 'OuterPackageID'\n",
    "linking_attribute_child = 'PackageTypeID'\n",
    "new_attribute = 'OuterPackageType'\n",
    "parent_collection = 'Warehouse_StockItems'\n",
    "child_collection = 'Warehouse_PackageTypes'\n",
    "\n",
    "embed(linking_attribute_parent, linking_attribute_child, new_attribute, parent_collection, child_collection)\n",
    "\n",
    "pprint(list(db[parent_collection].find( {new_attribute: {\"$exists\": True} } ).limit(1)))"
   ]
  },
  {
   "cell_type": "markdown",
   "id": "16c34342",
   "metadata": {},
   "source": [
    "## Embed Warehouse_PackageTypes in Purchasing_PurchaseOrderLines"
   ]
  },
  {
   "cell_type": "code",
   "execution_count": 23,
   "id": "80756beb",
   "metadata": {},
   "outputs": [
    {
     "data": {
      "application/vnd.jupyter.widget-view+json": {
       "model_id": "97537819af304665bfa23c8d1e48f566",
       "version_major": 2,
       "version_minor": 0
      },
      "text/plain": [
       "  0%|          | 0/3 [00:00<?, ?it/s]"
      ]
     },
     "metadata": {},
     "output_type": "display_data"
    },
    {
     "name": "stdout",
     "output_type": "stream",
     "text": [
      "[{'Description': '\"The Gu\" red shirt XML tag t-shirt (White) XXS',\n",
      "  'ExpectedUnitPricePerOuter': 84.0,\n",
      "  'IsOrderLineFinalized': 1,\n",
      "  'OrderedOuters': 1073,\n",
      "  'PackageType': {'PackageTypeID': 6, 'PackageTypeName': 'Carton'},\n",
      "  'PackageTypeID': 6,\n",
      "  'PurchaseOrderID': 784,\n",
      "  'PurchaseOrderLineID': 3001,\n",
      "  'ReceivedOuters': 1073,\n",
      "  'StockItemID': 77,\n",
      "  '_id': 3001}]\n"
     ]
    }
   ],
   "source": [
    "linking_attribute_parent = 'PackageTypeID'\n",
    "linking_attribute_child = 'PackageTypeID'\n",
    "new_attribute = 'PackageType'\n",
    "parent_collection = 'Purchasing_PurchaseOrderLines'\n",
    "child_collection = 'Warehouse_PackageTypes'\n",
    "\n",
    "embed(linking_attribute_parent, linking_attribute_child, new_attribute, parent_collection, child_collection)\n",
    "\n",
    "pprint(list(db[parent_collection].find( {new_attribute: {\"$exists\": True} } ).limit(1)))"
   ]
  },
  {
   "cell_type": "markdown",
   "id": "11302e37",
   "metadata": {},
   "source": [
    "## Embed Warehouse_PackageTypes in Sales_InvoiceLines"
   ]
  },
  {
   "cell_type": "code",
   "execution_count": 24,
   "id": "afddd5a0",
   "metadata": {},
   "outputs": [
    {
     "data": {
      "application/vnd.jupyter.widget-view+json": {
       "model_id": "ab847c15d2a042599dd10d861a1d4d70",
       "version_major": 2,
       "version_minor": 0
      },
      "text/plain": [
       "  0%|          | 0/3 [00:00<?, ?it/s]"
      ]
     },
     "metadata": {},
     "output_type": "display_data"
    },
    {
     "name": "stdout",
     "output_type": "stream",
     "text": [
      "[{'Description': '32 mm Double sided bubble wrap 50m',\n",
      "  'ExtendedPrice': 3864.0,\n",
      "  'InvoiceID': 978,\n",
      "  'InvoiceLineID': 3001,\n",
      "  'LineProfit': 1590.0,\n",
      "  'PackageType': {'PackageTypeID': 7, 'PackageTypeName': 'Each'},\n",
      "  'PackageTypeID': 7,\n",
      "  'Quantity': 30,\n",
      "  'StockItemID': 164,\n",
      "  'TaxAmount': 504.0,\n",
      "  'TaxRate': 15.0,\n",
      "  'UnitPrice': 112.0,\n",
      "  '_id': 3001}]\n"
     ]
    }
   ],
   "source": [
    "linking_attribute_parent = 'PackageTypeID'\n",
    "linking_attribute_child = 'PackageTypeID'\n",
    "new_attribute = 'PackageType'\n",
    "parent_collection = 'Sales_InvoiceLines'\n",
    "child_collection = 'Warehouse_PackageTypes'\n",
    "\n",
    "embed(linking_attribute_parent, linking_attribute_child, new_attribute, parent_collection, child_collection)\n",
    "\n",
    "pprint(list(db[parent_collection].find( {new_attribute: {\"$exists\": True} } ).limit(1)))"
   ]
  },
  {
   "cell_type": "markdown",
   "id": "ab891c64",
   "metadata": {},
   "source": [
    "## Embed Warehouse_PackageTypes in Sales_OrderLines"
   ]
  },
  {
   "cell_type": "code",
   "execution_count": 25,
   "id": "7b74e655",
   "metadata": {},
   "outputs": [
    {
     "data": {
      "application/vnd.jupyter.widget-view+json": {
       "model_id": "476ec0116bef49a69a98b8380bd26136",
       "version_major": 2,
       "version_minor": 0
      },
      "text/plain": [
       "  0%|          | 0/3 [00:00<?, ?it/s]"
      ]
     },
     "metadata": {},
     "output_type": "display_data"
    },
    {
     "name": "stdout",
     "output_type": "stream",
     "text": [
      "[{'Description': '10 mm Double sided bubble wrap 50m',\n",
      "  'OrderID': 682,\n",
      "  'OrderLineID': 2001,\n",
      "  'PackageType': {'PackageTypeID': 7, 'PackageTypeName': 'Each'},\n",
      "  'PackageTypeID': 7,\n",
      "  'PickedQuantity': 20,\n",
      "  'PickingCompletedWhen': '2013-01-12 11:00:00',\n",
      "  'Quantity': 20,\n",
      "  'StockItemID': 158,\n",
      "  'TaxRate': 15.0,\n",
      "  'UnitPrice': 105.0,\n",
      "  '_id': 2001}]\n"
     ]
    }
   ],
   "source": [
    "linking_attribute_parent = 'PackageTypeID'\n",
    "linking_attribute_child = 'PackageTypeID'\n",
    "new_attribute = 'PackageType'\n",
    "parent_collection = 'Sales_OrderLines'\n",
    "child_collection = 'Warehouse_PackageTypes'\n",
    "\n",
    "embed(linking_attribute_parent, linking_attribute_child, new_attribute, parent_collection, child_collection)\n",
    "\n",
    "pprint(list(db[parent_collection].find( {new_attribute: {\"$exists\": True} } ).limit(1)))"
   ]
  },
  {
   "cell_type": "markdown",
   "id": "8d87f290",
   "metadata": {},
   "source": [
    "## Embed Purchasing_PurchaseOrderLines in Purchasing_PurchaseOrders"
   ]
  },
  {
   "cell_type": "code",
   "execution_count": 26,
   "id": "b88146fe",
   "metadata": {},
   "outputs": [
    {
     "data": {
      "application/vnd.jupyter.widget-view+json": {
       "model_id": "0a528b26ac9b43c18ada836525c11491",
       "version_major": 2,
       "version_minor": 0
      },
      "text/plain": [
       "  0%|          | 0/2074 [00:00<?, ?it/s]"
      ]
     },
     "metadata": {},
     "output_type": "display_data"
    },
    {
     "name": "stdout",
     "output_type": "stream",
     "text": [
      "[{'ContactPersonID': 2,\n",
      "  'DeliveryMethod': {'DeliveryMethodID': 2, 'DeliveryMethodName': 'Courier'},\n",
      "  'DeliveryMethodID': 2,\n",
      "  'ExpectedDeliveryDate': '2014-09-18',\n",
      "  'IsOrderFinalized': 1,\n",
      "  'OrderDate': '2014-08-29',\n",
      "  'PurchaseOrderID': 1001,\n",
      "  'PurchaseOrderLines': [{'Description': 'Shipping carton (Brown) '\n",
      "                                         '305x305x305mm',\n",
      "                          'ExpectedUnitPricePerOuter': 47.5,\n",
      "                          'IsOrderLineFinalized': 1,\n",
      "                          'OrderedOuters': 239,\n",
      "                          'PackageType': {'PackageTypeID': 7,\n",
      "                                          'PackageTypeName': 'Each'},\n",
      "                          'PackageTypeID': 7,\n",
      "                          'PurchaseOrderID': 1001,\n",
      "                          'PurchaseOrderLineID': 3901,\n",
      "                          'ReceivedOuters': 239,\n",
      "                          'StockItemID': 184},\n",
      "                         {'Description': 'Black and orange glass with care '\n",
      "                                         'despatch tape 48mmx75m',\n",
      "                          'ExpectedUnitPricePerOuter': 38.4,\n",
      "                          'IsOrderLineFinalized': 1,\n",
      "                          'OrderedOuters': 1072,\n",
      "                          'PackageType': {'PackageTypeID': 7,\n",
      "                                          'PackageTypeName': 'Each'},\n",
      "                          'PackageTypeID': 7,\n",
      "                          'PurchaseOrderID': 1001,\n",
      "                          'PurchaseOrderLineID': 3902,\n",
      "                          'ReceivedOuters': 1072,\n",
      "                          'StockItemID': 193},\n",
      "                         {'Description': 'Tape dispenser (Red)',\n",
      "                          'ExpectedUnitPricePerOuter': 170.0,\n",
      "                          'IsOrderLineFinalized': 1,\n",
      "                          'OrderedOuters': 1206,\n",
      "                          'PackageType': {'PackageTypeID': 7,\n",
      "                                          'PackageTypeName': 'Each'},\n",
      "                          'PackageTypeID': 7,\n",
      "                          'PurchaseOrderID': 1001,\n",
      "                          'PurchaseOrderLineID': 3903,\n",
      "                          'ReceivedOuters': 1206,\n",
      "                          'StockItemID': 204}],\n",
      "  'SupplierID': 7,\n",
      "  'SupplierReference': 'BC0280982',\n",
      "  '_id': 1001}]\n"
     ]
    }
   ],
   "source": [
    "linking_attribute_parent = 'PurchaseOrderID'\n",
    "linking_attribute_child = 'PurchaseOrderID'\n",
    "new_attribute = 'PurchaseOrderLines'\n",
    "parent_collection = 'Purchasing_PurchaseOrders'\n",
    "child_collection = 'Purchasing_PurchaseOrderLines'\n",
    "\n",
    "embed(linking_attribute_parent, linking_attribute_child, new_attribute, parent_collection, child_collection)\n",
    "\n",
    "pprint(list(db[parent_collection].find( {new_attribute: {\"$exists\": True} } ).limit(1)))"
   ]
  },
  {
   "cell_type": "markdown",
   "id": "ed9e2ac6",
   "metadata": {},
   "source": [
    "## Embed Sales_InvoiceLines in Sales_Invoices"
   ]
  },
  {
   "cell_type": "code",
   "execution_count": 27,
   "id": "f50106d8",
   "metadata": {},
   "outputs": [
    {
     "data": {
      "application/vnd.jupyter.widget-view+json": {
       "model_id": "4605da35562643eca7d76c9ffb739946",
       "version_major": 2,
       "version_minor": 0
      },
      "text/plain": [
       "  0%|          | 0/70510 [00:00<?, ?it/s]"
      ]
     },
     "metadata": {},
     "output_type": "display_data"
    },
    {
     "name": "stdout",
     "output_type": "stream",
     "text": [
      "[{'AccountsPersonID': 2001,\n",
      "  'BillToCustomerID': 401,\n",
      "  'ConfirmedDeliveryTime': '2013-02-10 08:40:00',\n",
      "  'ConfirmedReceivedBy': 'Klara Rakus',\n",
      "  'ContactPersonID': 2165,\n",
      "  'CustomerID': 483,\n",
      "  'CustomerPurchaseOrderNumber': '18172',\n",
      "  'DeliveryInstructions': 'Suite 275, 593 Huq Avenue',\n",
      "  'DeliveryMethod': {'DeliveryMethodID': 3,\n",
      "                     'DeliveryMethodName': 'Delivery Van'},\n",
      "  'DeliveryMethodID': 3,\n",
      "  'DeliveryRun': '',\n",
      "  'InvoiceDate': '2013-02-09',\n",
      "  'InvoiceID': 1989,\n",
      "  'InvoiceLines': [{'Description': 'Developer joke mug - Oct 31 = Dec 25 '\n",
      "                                   '(White)',\n",
      "                    'ExtendedPrice': 119.6,\n",
      "                    'InvoiceID': 1989,\n",
      "                    'InvoiceLineID': 6441,\n",
      "                    'LineProfit': 68.0,\n",
      "                    'PackageType': {'PackageTypeID': 7,\n",
      "                                    'PackageTypeName': 'Each'},\n",
      "                    'PackageTypeID': 7,\n",
      "                    'Quantity': 8,\n",
      "                    'StockItemID': 30,\n",
      "                    'TaxAmount': 15.6,\n",
      "                    'TaxRate': 15.0,\n",
      "                    'UnitPrice': 13.0},\n",
      "                   {'Description': '\"The Gu\" red shirt XML tag t-shirt (Black) '\n",
      "                                   'XXS',\n",
      "                    'ExtendedPrice': 248.4,\n",
      "                    'InvoiceID': 1989,\n",
      "                    'InvoiceLineID': 6442,\n",
      "                    'LineProfit': 132.0,\n",
      "                    'PackageType': {'PackageTypeID': 7,\n",
      "                                    'PackageTypeName': 'Each'},\n",
      "                    'PackageTypeID': 7,\n",
      "                    'Quantity': 12,\n",
      "                    'StockItemID': 90,\n",
      "                    'TaxAmount': 32.4,\n",
      "                    'TaxRate': 15.0,\n",
      "                    'UnitPrice': 18.0},\n",
      "                   {'Description': 'Furry gorilla with big eyes slippers '\n",
      "                                   '(Black) XL',\n",
      "                    'ExtendedPrice': 368.0,\n",
      "                    'InvoiceID': 1989,\n",
      "                    'InvoiceLineID': 6443,\n",
      "                    'LineProfit': 235.0,\n",
      "                    'PackageType': {'PackageTypeID': 7,\n",
      "                                    'PackageTypeName': 'Each'},\n",
      "                    'PackageTypeID': 7,\n",
      "                    'Quantity': 10,\n",
      "                    'StockItemID': 133,\n",
      "                    'TaxAmount': 48.0,\n",
      "                    'TaxRate': 15.0,\n",
      "                    'UnitPrice': 32.0}],\n",
      "  'IsCreditNote': 0,\n",
      "  'OrderID': 2041,\n",
      "  'PackedByPersonID': 7,\n",
      "  'ReturnedDeliveryData': '{\"Events\": [{ \"Event\":\"Ready for '\n",
      "                          'collection\",\"EventTime\":\"2013-02-09T12:00:00\",\"ConNote\":\"EAN-125-3039\"},{ '\n",
      "                          '\"Event\":\"DeliveryAttempt\",\"EventTime\":\"2013-02-10T08:40:00\",\"ConNote\":\"EAN-125-3039\",\"DriverID\":11,\"Latitude\":33.8487376,\"Longitude\":-82.2598460,\"Status\":\"Delivered\"}],\"DeliveredWhen\":\"2013-02-10T08:40:00\",\"ReceivedBy\":\"Klara '\n",
      "                          'Rakus\"}',\n",
      "  'RunPosition': '',\n",
      "  'SalespersonPersonID': 2,\n",
      "  'TotalChillerItems': 0,\n",
      "  'TotalDryItems': 3,\n",
      "  '_id': 2001}]\n"
     ]
    }
   ],
   "source": [
    "linking_attribute_parent = 'InvoiceID'\n",
    "linking_attribute_child = 'InvoiceID'\n",
    "new_attribute = 'InvoiceLines'\n",
    "parent_collection = 'Sales_Invoices'\n",
    "child_collection = 'Sales_InvoiceLines'\n",
    "\n",
    "embed(linking_attribute_parent, linking_attribute_child, new_attribute, parent_collection, child_collection)\n",
    "\n",
    "pprint(list(db[parent_collection].find( {new_attribute: {\"$exists\": True} } ).limit(1)))"
   ]
  },
  {
   "cell_type": "markdown",
   "id": "56e0a69d",
   "metadata": {},
   "source": [
    "## Embed Sales_OrderLines in SalesOrders"
   ]
  },
  {
   "cell_type": "code",
   "execution_count": 28,
   "id": "49e7b54b",
   "metadata": {},
   "outputs": [
    {
     "data": {
      "application/vnd.jupyter.widget-view+json": {
       "model_id": "cf841d873a894056aad457d379db0205",
       "version_major": 2,
       "version_minor": 0
      },
      "text/plain": [
       "  0%|          | 0/73595 [00:00<?, ?it/s]"
      ]
     },
     "metadata": {},
     "output_type": "display_data"
    },
    {
     "name": "stdout",
     "output_type": "stream",
     "text": [
      "[{'BackorderOrderID': 1037,\n",
      "  'ContactPersonID': 3012,\n",
      "  'CustomerID': 812,\n",
      "  'CustomerPurchaseOrderNumber': '16322',\n",
      "  'ExpectedDeliveryDate': '2013-01-21',\n",
      "  'IsUndersupplyBackordered': 1,\n",
      "  'OrderDate': '2013-01-18',\n",
      "  'OrderID': 1001,\n",
      "  'OrderLines': [{'Description': 'USB food flash drive - fortune cookie',\n",
      "                  'OrderID': 1001,\n",
      "                  'OrderLineID': 3053,\n",
      "                  'PackageType': {'PackageTypeID': 7,\n",
      "                                  'PackageTypeName': 'Each'},\n",
      "                  'PackageTypeID': 7,\n",
      "                  'PickedQuantity': 7,\n",
      "                  'PickingCompletedWhen': '2013-01-18 11:00:00',\n",
      "                  'Quantity': 7,\n",
      "                  'StockItemID': 14,\n",
      "                  'TaxRate': 15.0,\n",
      "                  'UnitPrice': 32.0},\n",
      "                 {'Description': 'IT joke mug - that behavior is by design '\n",
      "                                 '(White)',\n",
      "                  'OrderID': 1001,\n",
      "                  'OrderLineID': 3054,\n",
      "                  'PackageType': {'PackageTypeID': 7,\n",
      "                                  'PackageTypeName': 'Each'},\n",
      "                  'PackageTypeID': 7,\n",
      "                  'PickedQuantity': 5,\n",
      "                  'PickingCompletedWhen': '2013-01-18 11:00:00',\n",
      "                  'Quantity': 5,\n",
      "                  'StockItemID': 54,\n",
      "                  'TaxRate': 15.0,\n",
      "                  'UnitPrice': 13.0},\n",
      "                 {'Description': 'RC toy sedan car with remote control '\n",
      "                                 '(Yellow) 1/50 scale',\n",
      "                  'OrderID': 1001,\n",
      "                  'OrderLineID': 3055,\n",
      "                  'PackageType': {'PackageTypeID': 7,\n",
      "                                  'PackageTypeName': 'Each'},\n",
      "                  'PackageTypeID': 7,\n",
      "                  'PickedQuantity': 8,\n",
      "                  'PickingCompletedWhen': '2013-01-18 11:00:00',\n",
      "                  'Quantity': 8,\n",
      "                  'StockItemID': 62,\n",
      "                  'TaxRate': 15.0,\n",
      "                  'UnitPrice': 25.0},\n",
      "                 {'Description': 'Small sized bubblewrap roll 10m',\n",
      "                  'OrderID': 1001,\n",
      "                  'OrderLineID': 3056,\n",
      "                  'PackageType': {'PackageTypeID': 7,\n",
      "                                  'PackageTypeName': 'Each'},\n",
      "                  'PackageTypeID': 7,\n",
      "                  'PickedQuantity': 80,\n",
      "                  'PickingCompletedWhen': '2013-01-18 11:00:00',\n",
      "                  'Quantity': 80,\n",
      "                  'StockItemID': 153,\n",
      "                  'TaxRate': 15.0,\n",
      "                  'UnitPrice': 4.5},\n",
      "                 {'Description': 'Packing knife with metal insert blade '\n",
      "                                 '(Yellow) 18mm',\n",
      "                  'OrderID': 1001,\n",
      "                  'OrderLineID': 3057,\n",
      "                  'PackageType': {'PackageTypeID': 7,\n",
      "                                  'PackageTypeName': 'Each'},\n",
      "                  'PackageTypeID': 7,\n",
      "                  'PickedQuantity': 35,\n",
      "                  'PickingCompletedWhen': '2013-01-18 11:00:00',\n",
      "                  'Quantity': 35,\n",
      "                  'StockItemID': 210,\n",
      "                  'TaxRate': 15.0,\n",
      "                  'UnitPrice': 2.4}],\n",
      "  'PickedByPersonID': 4,\n",
      "  'PickingCompletedWhen': '2013-01-18 11:00:00',\n",
      "  'SalespersonPersonID': 7,\n",
      "  '_id': 1001}]\n"
     ]
    }
   ],
   "source": [
    "linking_attribute_parent = 'OrderID'\n",
    "linking_attribute_child = 'OrderID'\n",
    "new_attribute = 'OrderLines'\n",
    "parent_collection = 'Sales_Orders'\n",
    "child_collection = 'Sales_OrderLines'\n",
    "\n",
    "embed(linking_attribute_parent, linking_attribute_child, new_attribute, parent_collection, child_collection)\n",
    "\n",
    "pprint(list(db[parent_collection].find( {new_attribute: {\"$exists\": True} } ).limit(1)))"
   ]
  },
  {
   "cell_type": "code",
   "execution_count": null,
   "id": "0d260d0d",
   "metadata": {},
   "outputs": [],
   "source": []
  },
  {
   "cell_type": "code",
   "execution_count": null,
   "id": "264cc664",
   "metadata": {},
   "outputs": [],
   "source": []
  },
  {
   "cell_type": "code",
   "execution_count": null,
   "id": "af709ba8",
   "metadata": {},
   "outputs": [],
   "source": []
  }
 ],
 "metadata": {
  "kernelspec": {
   "display_name": "Python 3",
   "language": "python",
   "name": "python3"
  },
  "language_info": {
   "codemirror_mode": {
    "name": "ipython",
    "version": 3
   },
   "file_extension": ".py",
   "mimetype": "text/x-python",
   "name": "python",
   "nbconvert_exporter": "python",
   "pygments_lexer": "ipython3",
   "version": "3.8.8"
  }
 },
 "nbformat": 4,
 "nbformat_minor": 5
}
