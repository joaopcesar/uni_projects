{
 "cells": [
  {
   "cell_type": "markdown",
   "id": "bc596dfe",
   "metadata": {},
   "source": [
    "## Imports"
   ]
  },
  {
   "cell_type": "code",
   "execution_count": 20,
   "id": "0bf36f28",
   "metadata": {},
   "outputs": [],
   "source": [
    "import json\n",
    "from tqdm.notebook import tqdm"
   ]
  },
  {
   "cell_type": "markdown",
   "id": "b5ce56c2",
   "metadata": {},
   "source": [
    "## Connect to mongo database"
   ]
  },
  {
   "cell_type": "code",
   "execution_count": 7,
   "id": "d4b6fd60",
   "metadata": {},
   "outputs": [],
   "source": [
    "# Connect to Mongo server\n",
    "\n",
    "from pymongo import MongoClient\n",
    "\n",
    "host=\"rhea.isegi.unl.pt\"\n",
    "port=\"27049\"\n",
    "user=\"GROUP_32\"\n",
    "password=\"bRG2XjRZhrRA9IfpmENyXxMlWQDUJdzL\"\n",
    "protocol=\"mongodb\"\n",
    "client = MongoClient(f\"{protocol}://{user}:{password}@{host}:{port}\")"
   ]
  },
  {
   "cell_type": "code",
   "execution_count": 8,
   "id": "466927aa",
   "metadata": {},
   "outputs": [],
   "source": [
    "# Connect to mongo db\n",
    "db = client.#database name here"
   ]
  },
  {
   "cell_type": "markdown",
   "id": "fade58f0",
   "metadata": {},
   "source": [
    "## Add json data to mongo database"
   ]
  },
  {
   "cell_type": "code",
   "execution_count": 9,
   "id": "66e9d14a",
   "metadata": {},
   "outputs": [],
   "source": [
    "json_dir_first_part = '/Users/philippmetzger/Documents/GitHub/BDMM/Homework 3/BDMM - 3rd Homework-20210520/json/Project_WWI_'\n",
    "json_names = ['Application_Cities', 'Application_Countries', 'Application_DeliveryMethods', \n",
    "              'Application_PaymentMethods', 'Application_People', 'Application_StateProvinces',\n",
    "              'Application_TransactionTypes']\n",
    "application_data = []"
   ]
  },
  {
   "cell_type": "code",
   "execution_count": 21,
   "id": "03374796",
   "metadata": {},
   "outputs": [],
   "source": [
    "# Adapted from:\n",
    "# https://www.geeksforgeeks.org/how-to-import-json-file-in-mongodb-using-python/\n",
    "\n",
    "def add_json(file_index):\n",
    "    \n",
    "    path = json_dir_first_part + json_names[file_index] + '.json'\n",
    "    \n",
    "    collection = db[json_names[file_index]]\n",
    "    \n",
    "    with open(path) as file:\n",
    "        file_data = json.load(file)\n",
    "        \n",
    "    if isinstance(file_data, list):\n",
    "        collection.insert_many(file_data)  \n",
    "    else:\n",
    "        collection.insert_one(file_data)"
   ]
  },
  {
   "cell_type": "code",
   "execution_count": 22,
   "id": "50d2a319",
   "metadata": {},
   "outputs": [
    {
     "data": {
      "application/vnd.jupyter.widget-view+json": {
       "model_id": "e13b462c5f8a4e338b3f3356bbb5985e",
       "version_major": 2,
       "version_minor": 0
      },
      "text/plain": [
       "  0%|          | 0/7 [00:00<?, ?it/s]"
      ]
     },
     "metadata": {},
     "output_type": "display_data"
    }
   ],
   "source": [
    "for i in tqdm(range(7)):\n",
    "    add_json(i)"
   ]
  },
  {
   "cell_type": "code",
   "execution_count": null,
   "id": "ec9920ca",
   "metadata": {},
   "outputs": [],
   "source": []
  }
 ],
 "metadata": {
  "kernelspec": {
   "display_name": "Python 3",
   "language": "python",
   "name": "python3"
  },
  "language_info": {
   "codemirror_mode": {
    "name": "ipython",
    "version": 3
   },
   "file_extension": ".py",
   "mimetype": "text/x-python",
   "name": "python",
   "nbconvert_exporter": "python",
   "pygments_lexer": "ipython3",
   "version": "3.8.8"
  }
 },
 "nbformat": 4,
 "nbformat_minor": 5
}
